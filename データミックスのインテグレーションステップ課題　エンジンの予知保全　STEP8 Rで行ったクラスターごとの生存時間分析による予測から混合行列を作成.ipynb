{
 "cells": [
  {
   "cell_type": "markdown",
   "metadata": {},
   "source": [
    "#  R(データミックスのインテグレーションステップ課題　エンジンの予知保全　クラスターごとの生存時間分析による予測.R)において生存時間分析で予測を行ったデータを読み込み、混合行列を作成する"
   ]
  },
  {
   "cell_type": "code",
   "execution_count": 1,
   "metadata": {},
   "outputs": [],
   "source": [
    "%matplotlib inline\n",
    "import matplotlib\n",
    "import matplotlib.pyplot as plt\n",
    "import numpy as np\n",
    "import pandas as pd\n",
    "from sklearn.linear_model import LinearRegression\n",
    "from sklearn.tree import DecisionTreeRegressor\n",
    "from sklearn.ensemble import RandomForestRegressor\n",
    "from sklearn.model_selection import GridSearchCV\n",
    "from sklearn.model_selection import train_test_split\n",
    "from sklearn.metrics import mean_squared_error\n",
    "\n",
    "from sklearn.metrics import confusion_matrix, accuracy_score,precision_score,recall_score, f1_score,classification_report\n",
    "from random import randint, shuffle\n",
    "import os\n",
    "import seaborn as sns\n",
    "\n",
    "\n",
    "\n"
   ]
  },
  {
   "cell_type": "code",
   "execution_count": 2,
   "metadata": {},
   "outputs": [],
   "source": [
    "test_data = pd.read_csv('Downloads/インテグ課題/NASA/prehackathonsup/test_data/test_data.csv')"
   ]
  },
  {
   "cell_type": "markdown",
   "metadata": {},
   "source": [
    "# testデータのRUL（答え）をクラスターごとに分けて、他必要な処理を行ったファイルを読み込む"
   ]
  },
  {
   "cell_type": "code",
   "execution_count": 3,
   "metadata": {},
   "outputs": [],
   "source": [
    "# clusterごとのtestcsvを読み込み\n",
    "# testデータのRUL（答え）をクラスターごとに分けて、他必要な処理を行ったファイルを読み込む\n",
    "test_data_RUL_cluster0 = pd.read_csv('Desktop/インテグ課題/NASA/test_data/test_data_RUL_cluster0.csv')\n",
    "test_data_RUL_cluster1 = pd.read_csv('Desktop/インテグ課題/NASA/test_data/test_data_RUL_cluster1.csv')"
   ]
  },
  {
   "cell_type": "markdown",
   "metadata": {},
   "source": [
    "# 閾値0.5"
   ]
  },
  {
   "cell_type": "markdown",
   "metadata": {},
   "source": [
    "# Rで作成した予測付きのtestデータを読み込む"
   ]
  },
  {
   "cell_type": "code",
   "execution_count": 4,
   "metadata": {},
   "outputs": [],
   "source": [
    "test_data_R_cluster0_0_5 = pd.read_csv('Desktop/インテグ課題/NASA/test_data/test_data_R_time_cluster0_0.5.csv')\n",
    "test_data_R_cluster1_0_5 = pd.read_csv('Desktop/インテグ課題/NASA/test_data/test_data_R_time_cluster1_0.5.csv')"
   ]
  },
  {
   "cell_type": "code",
   "execution_count": 5,
   "metadata": {},
   "outputs": [
    {
     "data": {
      "text/html": [
       "<div>\n",
       "<style scoped>\n",
       "    .dataframe tbody tr th:only-of-type {\n",
       "        vertical-align: middle;\n",
       "    }\n",
       "\n",
       "    .dataframe tbody tr th {\n",
       "        vertical-align: top;\n",
       "    }\n",
       "\n",
       "    .dataframe thead th {\n",
       "        text-align: right;\n",
       "    }\n",
       "</style>\n",
       "<table border=\"1\" class=\"dataframe\">\n",
       "  <thead>\n",
       "    <tr style=\"text-align: right;\">\n",
       "      <th></th>\n",
       "      <th>Unnamed: 0</th>\n",
       "      <th>engine_no</th>\n",
       "      <th>time_in_cycles</th>\n",
       "      <th>op_setting_1</th>\n",
       "      <th>op_setting_2</th>\n",
       "      <th>op_setting_3</th>\n",
       "      <th>sensor_1</th>\n",
       "      <th>sensor_2</th>\n",
       "      <th>sensor_3</th>\n",
       "      <th>sensor_4</th>\n",
       "      <th>...</th>\n",
       "      <th>sensor_16</th>\n",
       "      <th>sensor_17</th>\n",
       "      <th>sensor_18</th>\n",
       "      <th>sensor_19</th>\n",
       "      <th>sensor_20</th>\n",
       "      <th>sensor_21</th>\n",
       "      <th>stop</th>\n",
       "      <th>pred_test_time_step</th>\n",
       "      <th>pred_test2_time_step</th>\n",
       "      <th>pred_test2_time_flag_step</th>\n",
       "    </tr>\n",
       "  </thead>\n",
       "  <tbody>\n",
       "    <tr>\n",
       "      <th>0</th>\n",
       "      <td>1</td>\n",
       "      <td>0</td>\n",
       "      <td>1</td>\n",
       "      <td>42.0034</td>\n",
       "      <td>0.8400</td>\n",
       "      <td>100</td>\n",
       "      <td>445.00</td>\n",
       "      <td>549.36</td>\n",
       "      <td>1342.05</td>\n",
       "      <td>1124.56</td>\n",
       "      <td>...</td>\n",
       "      <td>0.02</td>\n",
       "      <td>329</td>\n",
       "      <td>2212</td>\n",
       "      <td>100.0</td>\n",
       "      <td>10.69</td>\n",
       "      <td>6.3956</td>\n",
       "      <td>2</td>\n",
       "      <td>-0.553710</td>\n",
       "      <td>0.365004</td>\n",
       "      <td>0</td>\n",
       "    </tr>\n",
       "    <tr>\n",
       "      <th>1</th>\n",
       "      <td>2</td>\n",
       "      <td>0</td>\n",
       "      <td>2</td>\n",
       "      <td>42.0017</td>\n",
       "      <td>0.8400</td>\n",
       "      <td>100</td>\n",
       "      <td>445.00</td>\n",
       "      <td>548.83</td>\n",
       "      <td>1351.93</td>\n",
       "      <td>1116.28</td>\n",
       "      <td>...</td>\n",
       "      <td>0.02</td>\n",
       "      <td>331</td>\n",
       "      <td>2212</td>\n",
       "      <td>100.0</td>\n",
       "      <td>10.55</td>\n",
       "      <td>6.3775</td>\n",
       "      <td>3</td>\n",
       "      <td>-0.555234</td>\n",
       "      <td>0.364651</td>\n",
       "      <td>0</td>\n",
       "    </tr>\n",
       "    <tr>\n",
       "      <th>2</th>\n",
       "      <td>3</td>\n",
       "      <td>0</td>\n",
       "      <td>3</td>\n",
       "      <td>0.0028</td>\n",
       "      <td>0.0019</td>\n",
       "      <td>100</td>\n",
       "      <td>518.67</td>\n",
       "      <td>642.35</td>\n",
       "      <td>1583.74</td>\n",
       "      <td>1400.44</td>\n",
       "      <td>...</td>\n",
       "      <td>0.03</td>\n",
       "      <td>392</td>\n",
       "      <td>2388</td>\n",
       "      <td>100.0</td>\n",
       "      <td>38.85</td>\n",
       "      <td>23.3483</td>\n",
       "      <td>4</td>\n",
       "      <td>-0.410151</td>\n",
       "      <td>0.398876</td>\n",
       "      <td>0</td>\n",
       "    </tr>\n",
       "    <tr>\n",
       "      <th>3</th>\n",
       "      <td>4</td>\n",
       "      <td>0</td>\n",
       "      <td>4</td>\n",
       "      <td>42.0047</td>\n",
       "      <td>0.8400</td>\n",
       "      <td>100</td>\n",
       "      <td>445.00</td>\n",
       "      <td>549.69</td>\n",
       "      <td>1354.36</td>\n",
       "      <td>1125.55</td>\n",
       "      <td>...</td>\n",
       "      <td>0.02</td>\n",
       "      <td>330</td>\n",
       "      <td>2212</td>\n",
       "      <td>100.0</td>\n",
       "      <td>10.56</td>\n",
       "      <td>6.4871</td>\n",
       "      <td>5</td>\n",
       "      <td>-0.360648</td>\n",
       "      <td>0.410803</td>\n",
       "      <td>0</td>\n",
       "    </tr>\n",
       "    <tr>\n",
       "      <th>4</th>\n",
       "      <td>5</td>\n",
       "      <td>0</td>\n",
       "      <td>5</td>\n",
       "      <td>10.0058</td>\n",
       "      <td>0.2506</td>\n",
       "      <td>100</td>\n",
       "      <td>489.05</td>\n",
       "      <td>604.72</td>\n",
       "      <td>1496.65</td>\n",
       "      <td>1310.52</td>\n",
       "      <td>...</td>\n",
       "      <td>0.03</td>\n",
       "      <td>370</td>\n",
       "      <td>2319</td>\n",
       "      <td>100.0</td>\n",
       "      <td>28.78</td>\n",
       "      <td>17.1987</td>\n",
       "      <td>6</td>\n",
       "      <td>-0.358974</td>\n",
       "      <td>0.411208</td>\n",
       "      <td>0</td>\n",
       "    </tr>\n",
       "  </tbody>\n",
       "</table>\n",
       "<p>5 rows × 31 columns</p>\n",
       "</div>"
      ],
      "text/plain": [
       "   Unnamed: 0  engine_no  time_in_cycles  op_setting_1  op_setting_2  \\\n",
       "0           1          0               1       42.0034        0.8400   \n",
       "1           2          0               2       42.0017        0.8400   \n",
       "2           3          0               3        0.0028        0.0019   \n",
       "3           4          0               4       42.0047        0.8400   \n",
       "4           5          0               5       10.0058        0.2506   \n",
       "\n",
       "   op_setting_3  sensor_1  sensor_2  sensor_3  sensor_4  ...  sensor_16  \\\n",
       "0           100    445.00    549.36   1342.05   1124.56  ...       0.02   \n",
       "1           100    445.00    548.83   1351.93   1116.28  ...       0.02   \n",
       "2           100    518.67    642.35   1583.74   1400.44  ...       0.03   \n",
       "3           100    445.00    549.69   1354.36   1125.55  ...       0.02   \n",
       "4           100    489.05    604.72   1496.65   1310.52  ...       0.03   \n",
       "\n",
       "   sensor_17  sensor_18  sensor_19  sensor_20  sensor_21  stop  \\\n",
       "0        329       2212      100.0      10.69     6.3956     2   \n",
       "1        331       2212      100.0      10.55     6.3775     3   \n",
       "2        392       2388      100.0      38.85    23.3483     4   \n",
       "3        330       2212      100.0      10.56     6.4871     5   \n",
       "4        370       2319      100.0      28.78    17.1987     6   \n",
       "\n",
       "   pred_test_time_step  pred_test2_time_step  pred_test2_time_flag_step  \n",
       "0            -0.553710              0.365004                          0  \n",
       "1            -0.555234              0.364651                          0  \n",
       "2            -0.410151              0.398876                          0  \n",
       "3            -0.360648              0.410803                          0  \n",
       "4            -0.358974              0.411208                          0  \n",
       "\n",
       "[5 rows x 31 columns]"
      ]
     },
     "execution_count": 5,
     "metadata": {},
     "output_type": "execute_result"
    }
   ],
   "source": [
    "test_data_R_cluster0_0_5.head()"
   ]
  },
  {
   "cell_type": "code",
   "execution_count": 6,
   "metadata": {
    "scrolled": true
   },
   "outputs": [
    {
     "data": {
      "text/html": [
       "<div>\n",
       "<style scoped>\n",
       "    .dataframe tbody tr th:only-of-type {\n",
       "        vertical-align: middle;\n",
       "    }\n",
       "\n",
       "    .dataframe tbody tr th {\n",
       "        vertical-align: top;\n",
       "    }\n",
       "\n",
       "    .dataframe thead th {\n",
       "        text-align: right;\n",
       "    }\n",
       "</style>\n",
       "<table border=\"1\" class=\"dataframe\">\n",
       "  <thead>\n",
       "    <tr style=\"text-align: right;\">\n",
       "      <th></th>\n",
       "      <th>Unnamed: 0</th>\n",
       "      <th>engine_no</th>\n",
       "      <th>time_in_cycles</th>\n",
       "      <th>op_setting_1</th>\n",
       "      <th>op_setting_2</th>\n",
       "      <th>op_setting_3</th>\n",
       "      <th>sensor_1</th>\n",
       "      <th>sensor_2</th>\n",
       "      <th>sensor_3</th>\n",
       "      <th>sensor_4</th>\n",
       "      <th>...</th>\n",
       "      <th>sensor_16</th>\n",
       "      <th>sensor_17</th>\n",
       "      <th>sensor_18</th>\n",
       "      <th>sensor_19</th>\n",
       "      <th>sensor_20</th>\n",
       "      <th>sensor_21</th>\n",
       "      <th>stop</th>\n",
       "      <th>pred_test_time_step</th>\n",
       "      <th>pred_test2_time_step</th>\n",
       "      <th>pred_test2_time_flag_step</th>\n",
       "    </tr>\n",
       "  </thead>\n",
       "  <tbody>\n",
       "    <tr>\n",
       "      <th>0</th>\n",
       "      <td>1</td>\n",
       "      <td>9</td>\n",
       "      <td>1</td>\n",
       "      <td>-0.0009</td>\n",
       "      <td>-0.0001</td>\n",
       "      <td>100</td>\n",
       "      <td>518.67</td>\n",
       "      <td>642.06</td>\n",
       "      <td>1590.15</td>\n",
       "      <td>1408.02</td>\n",
       "      <td>...</td>\n",
       "      <td>0.03</td>\n",
       "      <td>393</td>\n",
       "      <td>2388</td>\n",
       "      <td>100</td>\n",
       "      <td>38.90</td>\n",
       "      <td>23.3147</td>\n",
       "      <td>2</td>\n",
       "      <td>-0.119871</td>\n",
       "      <td>0.470068</td>\n",
       "      <td>0</td>\n",
       "    </tr>\n",
       "    <tr>\n",
       "      <th>1</th>\n",
       "      <td>2</td>\n",
       "      <td>9</td>\n",
       "      <td>2</td>\n",
       "      <td>0.0031</td>\n",
       "      <td>-0.0002</td>\n",
       "      <td>100</td>\n",
       "      <td>518.67</td>\n",
       "      <td>642.74</td>\n",
       "      <td>1584.08</td>\n",
       "      <td>1413.33</td>\n",
       "      <td>...</td>\n",
       "      <td>0.03</td>\n",
       "      <td>392</td>\n",
       "      <td>2388</td>\n",
       "      <td>100</td>\n",
       "      <td>38.70</td>\n",
       "      <td>23.3071</td>\n",
       "      <td>3</td>\n",
       "      <td>0.035570</td>\n",
       "      <td>0.508891</td>\n",
       "      <td>1</td>\n",
       "    </tr>\n",
       "    <tr>\n",
       "      <th>2</th>\n",
       "      <td>3</td>\n",
       "      <td>9</td>\n",
       "      <td>3</td>\n",
       "      <td>0.0023</td>\n",
       "      <td>-0.0001</td>\n",
       "      <td>100</td>\n",
       "      <td>518.67</td>\n",
       "      <td>642.48</td>\n",
       "      <td>1591.55</td>\n",
       "      <td>1407.27</td>\n",
       "      <td>...</td>\n",
       "      <td>0.03</td>\n",
       "      <td>394</td>\n",
       "      <td>2388</td>\n",
       "      <td>100</td>\n",
       "      <td>38.92</td>\n",
       "      <td>23.3058</td>\n",
       "      <td>4</td>\n",
       "      <td>-0.019998</td>\n",
       "      <td>0.495001</td>\n",
       "      <td>0</td>\n",
       "    </tr>\n",
       "    <tr>\n",
       "      <th>3</th>\n",
       "      <td>4</td>\n",
       "      <td>9</td>\n",
       "      <td>4</td>\n",
       "      <td>0.0033</td>\n",
       "      <td>-0.0004</td>\n",
       "      <td>100</td>\n",
       "      <td>518.67</td>\n",
       "      <td>642.15</td>\n",
       "      <td>1587.86</td>\n",
       "      <td>1406.12</td>\n",
       "      <td>...</td>\n",
       "      <td>0.03</td>\n",
       "      <td>394</td>\n",
       "      <td>2388</td>\n",
       "      <td>100</td>\n",
       "      <td>38.88</td>\n",
       "      <td>23.3084</td>\n",
       "      <td>5</td>\n",
       "      <td>-0.089382</td>\n",
       "      <td>0.477669</td>\n",
       "      <td>0</td>\n",
       "    </tr>\n",
       "    <tr>\n",
       "      <th>4</th>\n",
       "      <td>5</td>\n",
       "      <td>9</td>\n",
       "      <td>5</td>\n",
       "      <td>0.0005</td>\n",
       "      <td>-0.0003</td>\n",
       "      <td>100</td>\n",
       "      <td>518.67</td>\n",
       "      <td>642.47</td>\n",
       "      <td>1591.80</td>\n",
       "      <td>1407.10</td>\n",
       "      <td>...</td>\n",
       "      <td>0.03</td>\n",
       "      <td>389</td>\n",
       "      <td>2388</td>\n",
       "      <td>100</td>\n",
       "      <td>38.85</td>\n",
       "      <td>23.3685</td>\n",
       "      <td>6</td>\n",
       "      <td>-0.185455</td>\n",
       "      <td>0.453769</td>\n",
       "      <td>0</td>\n",
       "    </tr>\n",
       "  </tbody>\n",
       "</table>\n",
       "<p>5 rows × 31 columns</p>\n",
       "</div>"
      ],
      "text/plain": [
       "   Unnamed: 0  engine_no  time_in_cycles  op_setting_1  op_setting_2  \\\n",
       "0           1          9               1       -0.0009       -0.0001   \n",
       "1           2          9               2        0.0031       -0.0002   \n",
       "2           3          9               3        0.0023       -0.0001   \n",
       "3           4          9               4        0.0033       -0.0004   \n",
       "4           5          9               5        0.0005       -0.0003   \n",
       "\n",
       "   op_setting_3  sensor_1  sensor_2  sensor_3  sensor_4  ...  sensor_16  \\\n",
       "0           100    518.67    642.06   1590.15   1408.02  ...       0.03   \n",
       "1           100    518.67    642.74   1584.08   1413.33  ...       0.03   \n",
       "2           100    518.67    642.48   1591.55   1407.27  ...       0.03   \n",
       "3           100    518.67    642.15   1587.86   1406.12  ...       0.03   \n",
       "4           100    518.67    642.47   1591.80   1407.10  ...       0.03   \n",
       "\n",
       "   sensor_17  sensor_18  sensor_19  sensor_20  sensor_21  stop  \\\n",
       "0        393       2388        100      38.90    23.3147     2   \n",
       "1        392       2388        100      38.70    23.3071     3   \n",
       "2        394       2388        100      38.92    23.3058     4   \n",
       "3        394       2388        100      38.88    23.3084     5   \n",
       "4        389       2388        100      38.85    23.3685     6   \n",
       "\n",
       "   pred_test_time_step  pred_test2_time_step  pred_test2_time_flag_step  \n",
       "0            -0.119871              0.470068                          0  \n",
       "1             0.035570              0.508891                          1  \n",
       "2            -0.019998              0.495001                          0  \n",
       "3            -0.089382              0.477669                          0  \n",
       "4            -0.185455              0.453769                          0  \n",
       "\n",
       "[5 rows x 31 columns]"
      ]
     },
     "execution_count": 6,
     "metadata": {},
     "output_type": "execute_result"
    }
   ],
   "source": [
    "test_data_R_cluster1_0_5.head()"
   ]
  },
  {
   "cell_type": "markdown",
   "metadata": {},
   "source": [
    "# cluster0"
   ]
  },
  {
   "cell_type": "code",
   "execution_count": 7,
   "metadata": {},
   "outputs": [],
   "source": [
    "#結果表の作成 \n",
    "test_data_R_cluster0_0_5_pred = test_data_R_cluster0_0_5.sort_values(['engine_no', 'time_in_cycles'])\n",
    "\n",
    "#test_data_Rの各engineの最後のサイクルの行のみを表示　列は'engine_no', 'pred_test2_time_flag_step'のみ\n",
    "test_data_R_cluster0_0_5_pred = test_data_R_cluster0_0_5_pred.groupby('engine_no').last().reset_index()[['engine_no', 'pred_test2_time_flag_step']]\n",
    "\n"
   ]
  },
  {
   "cell_type": "code",
   "execution_count": 8,
   "metadata": {},
   "outputs": [
    {
     "data": {
      "text/html": [
       "<div>\n",
       "<style scoped>\n",
       "    .dataframe tbody tr th:only-of-type {\n",
       "        vertical-align: middle;\n",
       "    }\n",
       "\n",
       "    .dataframe tbody tr th {\n",
       "        vertical-align: top;\n",
       "    }\n",
       "\n",
       "    .dataframe thead th {\n",
       "        text-align: right;\n",
       "    }\n",
       "</style>\n",
       "<table border=\"1\" class=\"dataframe\">\n",
       "  <thead>\n",
       "    <tr style=\"text-align: right;\">\n",
       "      <th></th>\n",
       "      <th>engine_no</th>\n",
       "      <th>pred_test2_time_flag_step</th>\n",
       "    </tr>\n",
       "  </thead>\n",
       "  <tbody>\n",
       "    <tr>\n",
       "      <th>0</th>\n",
       "      <td>0</td>\n",
       "      <td>1</td>\n",
       "    </tr>\n",
       "    <tr>\n",
       "      <th>1</th>\n",
       "      <td>1</td>\n",
       "      <td>1</td>\n",
       "    </tr>\n",
       "    <tr>\n",
       "      <th>2</th>\n",
       "      <td>2</td>\n",
       "      <td>0</td>\n",
       "    </tr>\n",
       "    <tr>\n",
       "      <th>3</th>\n",
       "      <td>3</td>\n",
       "      <td>0</td>\n",
       "    </tr>\n",
       "    <tr>\n",
       "      <th>4</th>\n",
       "      <td>4</td>\n",
       "      <td>1</td>\n",
       "    </tr>\n",
       "  </tbody>\n",
       "</table>\n",
       "</div>"
      ],
      "text/plain": [
       "   engine_no  pred_test2_time_flag_step\n",
       "0          0                          1\n",
       "1          1                          1\n",
       "2          2                          0\n",
       "3          3                          0\n",
       "4          4                          1"
      ]
     },
     "execution_count": 8,
     "metadata": {},
     "output_type": "execute_result"
    }
   ],
   "source": [
    "test_data_R_cluster0_0_5_pred.head()"
   ]
  },
  {
   "cell_type": "markdown",
   "metadata": {},
   "source": [
    "# 上記で読み込んだtest_data_RUL_cluster0を使っていく"
   ]
  },
  {
   "cell_type": "code",
   "execution_count": 9,
   "metadata": {},
   "outputs": [
    {
     "data": {
      "text/html": [
       "<div>\n",
       "<style scoped>\n",
       "    .dataframe tbody tr th:only-of-type {\n",
       "        vertical-align: middle;\n",
       "    }\n",
       "\n",
       "    .dataframe tbody tr th {\n",
       "        vertical-align: top;\n",
       "    }\n",
       "\n",
       "    .dataframe thead th {\n",
       "        text-align: right;\n",
       "    }\n",
       "</style>\n",
       "<table border=\"1\" class=\"dataframe\">\n",
       "  <thead>\n",
       "    <tr style=\"text-align: right;\">\n",
       "      <th></th>\n",
       "      <th>engine_no</th>\n",
       "      <th>RUL</th>\n",
       "      <th>result</th>\n",
       "    </tr>\n",
       "  </thead>\n",
       "  <tbody>\n",
       "    <tr>\n",
       "      <th>0</th>\n",
       "      <td>0</td>\n",
       "      <td>22</td>\n",
       "      <td>1</td>\n",
       "    </tr>\n",
       "    <tr>\n",
       "      <th>1</th>\n",
       "      <td>1</td>\n",
       "      <td>12</td>\n",
       "      <td>1</td>\n",
       "    </tr>\n",
       "    <tr>\n",
       "      <th>2</th>\n",
       "      <td>2</td>\n",
       "      <td>108</td>\n",
       "      <td>0</td>\n",
       "    </tr>\n",
       "    <tr>\n",
       "      <th>3</th>\n",
       "      <td>3</td>\n",
       "      <td>88</td>\n",
       "      <td>1</td>\n",
       "    </tr>\n",
       "    <tr>\n",
       "      <th>4</th>\n",
       "      <td>4</td>\n",
       "      <td>10</td>\n",
       "      <td>1</td>\n",
       "    </tr>\n",
       "  </tbody>\n",
       "</table>\n",
       "</div>"
      ],
      "text/plain": [
       "   engine_no  RUL  result\n",
       "0          0   22       1\n",
       "1          1   12       1\n",
       "2          2  108       0\n",
       "3          3   88       1\n",
       "4          4   10       1"
      ]
     },
     "execution_count": 9,
     "metadata": {},
     "output_type": "execute_result"
    }
   ],
   "source": [
    "test_data_RUL_cluster0.head()"
   ]
  },
  {
   "cell_type": "markdown",
   "metadata": {},
   "source": [
    "# 100以内に故障するを1,しないを0としている 故障することを当てたいから、故障する1をpositiveと定義する。"
   ]
  },
  {
   "cell_type": "code",
   "execution_count": 10,
   "metadata": {},
   "outputs": [],
   "source": [
    "#混合行列\n",
    "#1 = Positive,0 = Negativeとする　なぜならば、再現率などがpositiveで計算されるので、故障するをpositiveにする\n",
    "#labels指定をしないと、左から0,1表記になるので、TPが右下になってしまう。\n",
    "cm = confusion_matrix(test_data_RUL_cluster0['result'],test_data_R_cluster0_0_5_pred['pred_test2_time_flag_step'],labels=[1, 0] )"
   ]
  },
  {
   "cell_type": "code",
   "execution_count": 11,
   "metadata": {},
   "outputs": [
    {
     "data": {
      "text/plain": [
       "array([[244,  71],\n",
       "       [ 59, 133]], dtype=int64)"
      ]
     },
     "execution_count": 11,
     "metadata": {},
     "output_type": "execute_result"
    }
   ],
   "source": [
    "cm"
   ]
  },
  {
   "cell_type": "markdown",
   "metadata": {},
   "source": [
    "# 列が予測の1と0行が実際の1と0つまり、真陽性 : TP (True-Positive)332、真陰性: TN (True-Negative)239、偽陽性: FP (False-Positive)18(故障していないのにしていると予測)、偽陰性: FN (False-Negative)118(実際は故障しているのに故障していないと予測)\n",
    "#https://pythondatascience.plavox.info/scikit-learn/%E5%88%86%E9%A1%9E%E7%B5%90%E6%9E%9C%E3%81%AE%E3%83%A2%E3%83%87%E3%83%AB%E8%A9%95%E4%BE%A1\n",
    "#FN (False-Negative)118を少なくしたい　つまり実際は故障だが、故障しないと判断してしまっているものを"
   ]
  },
  {
   "cell_type": "code",
   "execution_count": 12,
   "metadata": {
    "scrolled": true
   },
   "outputs": [
    {
     "name": "stdout",
     "output_type": "stream",
     "text": [
      "              precision    recall  f1-score   support\n",
      "\n",
      "           1       0.81      0.77      0.79       315\n",
      "           0       0.65      0.69      0.67       192\n",
      "\n",
      "    accuracy                           0.74       507\n",
      "   macro avg       0.73      0.73      0.73       507\n",
      "weighted avg       0.75      0.74      0.74       507\n",
      "\n"
     ]
    }
   ],
   "source": [
    "#混合行列まとめて表示\n",
    "cr = classification_report(test_data_RUL_cluster0['result'],test_data_R_cluster0_0_5_pred['pred_test2_time_flag_step'],labels=[1, 0] )\n",
    "print(cr)"
   ]
  },
  {
   "cell_type": "markdown",
   "metadata": {},
   "source": [
    "# labelsを付けた時の計算が上記のまとめて表示の1の方　labelsをつけなかったときの計算が下の方"
   ]
  },
  {
   "cell_type": "markdown",
   "metadata": {},
   "source": [
    "# cluster1"
   ]
  },
  {
   "cell_type": "code",
   "execution_count": 13,
   "metadata": {},
   "outputs": [],
   "source": [
    "#結果表の作成 \n",
    "test_data_R_cluster1_0_5_pred = test_data_R_cluster1_0_5.sort_values(['engine_no', 'time_in_cycles'])\n",
    "\n",
    "#test_data_Rの各engineの最後のサイクルの行のみを表示　列は'engine_no', 'pred_test2_flag'のみ\n",
    "test_data_R_cluster1_0_5_pred = test_data_R_cluster1_0_5_pred.groupby('engine_no').last().reset_index()[['engine_no', 'pred_test2_time_flag_step']]\n",
    "\n"
   ]
  },
  {
   "cell_type": "code",
   "execution_count": 14,
   "metadata": {},
   "outputs": [
    {
     "data": {
      "text/html": [
       "<div>\n",
       "<style scoped>\n",
       "    .dataframe tbody tr th:only-of-type {\n",
       "        vertical-align: middle;\n",
       "    }\n",
       "\n",
       "    .dataframe tbody tr th {\n",
       "        vertical-align: top;\n",
       "    }\n",
       "\n",
       "    .dataframe thead th {\n",
       "        text-align: right;\n",
       "    }\n",
       "</style>\n",
       "<table border=\"1\" class=\"dataframe\">\n",
       "  <thead>\n",
       "    <tr style=\"text-align: right;\">\n",
       "      <th></th>\n",
       "      <th>engine_no</th>\n",
       "      <th>pred_test2_time_flag_step</th>\n",
       "    </tr>\n",
       "  </thead>\n",
       "  <tbody>\n",
       "    <tr>\n",
       "      <th>0</th>\n",
       "      <td>9</td>\n",
       "      <td>1</td>\n",
       "    </tr>\n",
       "    <tr>\n",
       "      <th>1</th>\n",
       "      <td>10</td>\n",
       "      <td>0</td>\n",
       "    </tr>\n",
       "    <tr>\n",
       "      <th>2</th>\n",
       "      <td>15</td>\n",
       "      <td>1</td>\n",
       "    </tr>\n",
       "    <tr>\n",
       "      <th>3</th>\n",
       "      <td>18</td>\n",
       "      <td>0</td>\n",
       "    </tr>\n",
       "    <tr>\n",
       "      <th>4</th>\n",
       "      <td>26</td>\n",
       "      <td>1</td>\n",
       "    </tr>\n",
       "  </tbody>\n",
       "</table>\n",
       "</div>"
      ],
      "text/plain": [
       "   engine_no  pred_test2_time_flag_step\n",
       "0          9                          1\n",
       "1         10                          0\n",
       "2         15                          1\n",
       "3         18                          0\n",
       "4         26                          1"
      ]
     },
     "execution_count": 14,
     "metadata": {},
     "output_type": "execute_result"
    }
   ],
   "source": [
    "test_data_R_cluster1_0_5_pred.head()"
   ]
  },
  {
   "cell_type": "markdown",
   "metadata": {},
   "source": [
    "# 上記で読み込んだtest_data_RUL_cluster1を使っていく"
   ]
  },
  {
   "cell_type": "code",
   "execution_count": 15,
   "metadata": {},
   "outputs": [
    {
     "data": {
      "text/html": [
       "<div>\n",
       "<style scoped>\n",
       "    .dataframe tbody tr th:only-of-type {\n",
       "        vertical-align: middle;\n",
       "    }\n",
       "\n",
       "    .dataframe tbody tr th {\n",
       "        vertical-align: top;\n",
       "    }\n",
       "\n",
       "    .dataframe thead th {\n",
       "        text-align: right;\n",
       "    }\n",
       "</style>\n",
       "<table border=\"1\" class=\"dataframe\">\n",
       "  <thead>\n",
       "    <tr style=\"text-align: right;\">\n",
       "      <th></th>\n",
       "      <th>engine_no</th>\n",
       "      <th>RUL</th>\n",
       "      <th>result</th>\n",
       "    </tr>\n",
       "  </thead>\n",
       "  <tbody>\n",
       "    <tr>\n",
       "      <th>0</th>\n",
       "      <td>9</td>\n",
       "      <td>93</td>\n",
       "      <td>1</td>\n",
       "    </tr>\n",
       "    <tr>\n",
       "      <th>1</th>\n",
       "      <td>10</td>\n",
       "      <td>120</td>\n",
       "      <td>0</td>\n",
       "    </tr>\n",
       "    <tr>\n",
       "      <th>2</th>\n",
       "      <td>15</td>\n",
       "      <td>55</td>\n",
       "      <td>1</td>\n",
       "    </tr>\n",
       "    <tr>\n",
       "      <th>3</th>\n",
       "      <td>18</td>\n",
       "      <td>99</td>\n",
       "      <td>1</td>\n",
       "    </tr>\n",
       "    <tr>\n",
       "      <th>4</th>\n",
       "      <td>26</td>\n",
       "      <td>93</td>\n",
       "      <td>1</td>\n",
       "    </tr>\n",
       "  </tbody>\n",
       "</table>\n",
       "</div>"
      ],
      "text/plain": [
       "   engine_no  RUL  result\n",
       "0          9   93       1\n",
       "1         10  120       0\n",
       "2         15   55       1\n",
       "3         18   99       1\n",
       "4         26   93       1"
      ]
     },
     "execution_count": 15,
     "metadata": {},
     "output_type": "execute_result"
    }
   ],
   "source": [
    "test_data_RUL_cluster1.head()"
   ]
  },
  {
   "cell_type": "markdown",
   "metadata": {},
   "source": [
    "# 100以内に故障するを1,しないを0としている 故障することを当てたいから、故障する1をpositiveと定義する。"
   ]
  },
  {
   "cell_type": "code",
   "execution_count": 16,
   "metadata": {},
   "outputs": [],
   "source": [
    "#混合行列\n",
    "#1 = Positive,0 = Negativeとする　なぜならば、再現率などがpositiveで計算されるので、故障するをpositiveにする\n",
    "#labels指定をしないと、左から0,1表記になるので、TPが右下になってしまう。\n",
    "cm = confusion_matrix(test_data_RUL_cluster1['result'],test_data_R_cluster1_0_5_pred['pred_test2_time_flag_step'],labels=[1, 0] )"
   ]
  },
  {
   "cell_type": "code",
   "execution_count": 17,
   "metadata": {},
   "outputs": [
    {
     "data": {
      "text/plain": [
       "array([[105,  30],\n",
       "       [ 18,  47]], dtype=int64)"
      ]
     },
     "execution_count": 17,
     "metadata": {},
     "output_type": "execute_result"
    }
   ],
   "source": [
    "cm"
   ]
  },
  {
   "cell_type": "markdown",
   "metadata": {},
   "source": [
    "# 列が予測の1と0行が実際の1と0つまり、真陽性 : TP (True-Positive)332、真陰性: TN (True-Negative)239、偽陽性: FP (False-Positive)18(故障していないのにしていると予測)、偽陰性: FN (False-Negative)118(実際は故障しているのに故障していないと予測)\n",
    "#https://pythondatascience.plavox.info/scikit-learn/%E5%88%86%E9%A1%9E%E7%B5%90%E6%9E%9C%E3%81%AE%E3%83%A2%E3%83%87%E3%83%AB%E8%A9%95%E4%BE%A1\n",
    "#FN (False-Negative)118を少なくしたい　つまり実際は故障だが、故障しないと判断してしまっているものを"
   ]
  },
  {
   "cell_type": "markdown",
   "metadata": {},
   "source": [
    "# labelsを付けた時の計算が上記のまとめて表示の1の方　labelsをつけなかったときの計算が下の方"
   ]
  },
  {
   "cell_type": "code",
   "execution_count": 18,
   "metadata": {},
   "outputs": [
    {
     "name": "stdout",
     "output_type": "stream",
     "text": [
      "              precision    recall  f1-score   support\n",
      "\n",
      "           1       0.85      0.78      0.81       135\n",
      "           0       0.61      0.72      0.66        65\n",
      "\n",
      "    accuracy                           0.76       200\n",
      "   macro avg       0.73      0.75      0.74       200\n",
      "weighted avg       0.77      0.76      0.76       200\n",
      "\n"
     ]
    }
   ],
   "source": [
    "#混合行列まとめて表示\n",
    "cr = classification_report(test_data_RUL_cluster1['result'],test_data_R_cluster1_0_5_pred['pred_test2_time_flag_step'],labels=[1, 0] )\n",
    "print(cr)"
   ]
  },
  {
   "cell_type": "markdown",
   "metadata": {},
   "source": [
    "# 結果はそれぞれcsv出力する。一応train_data_cluster0、test_data_cluster0も出力しておく。同じ名前のファイルが既にあるので、名前を変える"
   ]
  },
  {
   "cell_type": "code",
   "execution_count": 19,
   "metadata": {},
   "outputs": [],
   "source": [
    "# clusterごとに分けたデータの予測結果追加を出力\n",
    "test_data_R_cluster0_0_5_pred.to_csv('Desktop/インテグ課題/NASA/test_data/test_data_R_cluster0_0_5_pred.csv', index=False)\n",
    "test_data_R_cluster1_0_5_pred.to_csv('Desktop/インテグ課題/NASA/test_data/test_data_R_cluster1_0_5_pred.csv', index=False)"
   ]
  },
  {
   "cell_type": "code",
   "execution_count": 20,
   "metadata": {},
   "outputs": [],
   "source": [
    "# clusterごとに分けたデータの予測結果追加を読み込む\n",
    "test_data_R_cluster0_0_5_pred = pd.read_csv('Desktop/インテグ課題/NASA/test_data/test_data_R_cluster0_0_5_pred.csv')\n",
    "test_data_R_cluster1_0_5_pred = pd.read_csv('Desktop/インテグ課題/NASA/test_data/test_data_R_cluster1_0_5_pred.csv')"
   ]
  },
  {
   "cell_type": "markdown",
   "metadata": {},
   "source": [
    "# cluster0と1を結合して、test_dataの結果と比較する"
   ]
  },
  {
   "cell_type": "code",
   "execution_count": 21,
   "metadata": {},
   "outputs": [],
   "source": [
    "#2つのdataを結合する\n",
    "test_data_R_0_5_all = test_data_R_cluster0_0_5.append(test_data_R_cluster1_0_5)"
   ]
  },
  {
   "cell_type": "code",
   "execution_count": 22,
   "metadata": {},
   "outputs": [
    {
     "data": {
      "text/html": [
       "<div>\n",
       "<style scoped>\n",
       "    .dataframe tbody tr th:only-of-type {\n",
       "        vertical-align: middle;\n",
       "    }\n",
       "\n",
       "    .dataframe tbody tr th {\n",
       "        vertical-align: top;\n",
       "    }\n",
       "\n",
       "    .dataframe thead th {\n",
       "        text-align: right;\n",
       "    }\n",
       "</style>\n",
       "<table border=\"1\" class=\"dataframe\">\n",
       "  <thead>\n",
       "    <tr style=\"text-align: right;\">\n",
       "      <th></th>\n",
       "      <th>Unnamed: 0</th>\n",
       "      <th>engine_no</th>\n",
       "      <th>time_in_cycles</th>\n",
       "      <th>op_setting_1</th>\n",
       "      <th>op_setting_2</th>\n",
       "      <th>op_setting_3</th>\n",
       "      <th>sensor_1</th>\n",
       "      <th>sensor_2</th>\n",
       "      <th>sensor_3</th>\n",
       "      <th>sensor_4</th>\n",
       "      <th>...</th>\n",
       "      <th>sensor_16</th>\n",
       "      <th>sensor_17</th>\n",
       "      <th>sensor_18</th>\n",
       "      <th>sensor_19</th>\n",
       "      <th>sensor_20</th>\n",
       "      <th>sensor_21</th>\n",
       "      <th>stop</th>\n",
       "      <th>pred_test_time_step</th>\n",
       "      <th>pred_test2_time_step</th>\n",
       "      <th>pred_test2_time_flag_step</th>\n",
       "    </tr>\n",
       "  </thead>\n",
       "  <tbody>\n",
       "    <tr>\n",
       "      <th>0</th>\n",
       "      <td>1</td>\n",
       "      <td>0</td>\n",
       "      <td>1</td>\n",
       "      <td>42.0034</td>\n",
       "      <td>0.8400</td>\n",
       "      <td>100</td>\n",
       "      <td>445.00</td>\n",
       "      <td>549.36</td>\n",
       "      <td>1342.05</td>\n",
       "      <td>1124.56</td>\n",
       "      <td>...</td>\n",
       "      <td>0.02</td>\n",
       "      <td>329</td>\n",
       "      <td>2212</td>\n",
       "      <td>100.0</td>\n",
       "      <td>10.69</td>\n",
       "      <td>6.3956</td>\n",
       "      <td>2</td>\n",
       "      <td>-0.553710</td>\n",
       "      <td>0.365004</td>\n",
       "      <td>0</td>\n",
       "    </tr>\n",
       "    <tr>\n",
       "      <th>1</th>\n",
       "      <td>2</td>\n",
       "      <td>0</td>\n",
       "      <td>2</td>\n",
       "      <td>42.0017</td>\n",
       "      <td>0.8400</td>\n",
       "      <td>100</td>\n",
       "      <td>445.00</td>\n",
       "      <td>548.83</td>\n",
       "      <td>1351.93</td>\n",
       "      <td>1116.28</td>\n",
       "      <td>...</td>\n",
       "      <td>0.02</td>\n",
       "      <td>331</td>\n",
       "      <td>2212</td>\n",
       "      <td>100.0</td>\n",
       "      <td>10.55</td>\n",
       "      <td>6.3775</td>\n",
       "      <td>3</td>\n",
       "      <td>-0.555234</td>\n",
       "      <td>0.364651</td>\n",
       "      <td>0</td>\n",
       "    </tr>\n",
       "    <tr>\n",
       "      <th>2</th>\n",
       "      <td>3</td>\n",
       "      <td>0</td>\n",
       "      <td>3</td>\n",
       "      <td>0.0028</td>\n",
       "      <td>0.0019</td>\n",
       "      <td>100</td>\n",
       "      <td>518.67</td>\n",
       "      <td>642.35</td>\n",
       "      <td>1583.74</td>\n",
       "      <td>1400.44</td>\n",
       "      <td>...</td>\n",
       "      <td>0.03</td>\n",
       "      <td>392</td>\n",
       "      <td>2388</td>\n",
       "      <td>100.0</td>\n",
       "      <td>38.85</td>\n",
       "      <td>23.3483</td>\n",
       "      <td>4</td>\n",
       "      <td>-0.410151</td>\n",
       "      <td>0.398876</td>\n",
       "      <td>0</td>\n",
       "    </tr>\n",
       "    <tr>\n",
       "      <th>3</th>\n",
       "      <td>4</td>\n",
       "      <td>0</td>\n",
       "      <td>4</td>\n",
       "      <td>42.0047</td>\n",
       "      <td>0.8400</td>\n",
       "      <td>100</td>\n",
       "      <td>445.00</td>\n",
       "      <td>549.69</td>\n",
       "      <td>1354.36</td>\n",
       "      <td>1125.55</td>\n",
       "      <td>...</td>\n",
       "      <td>0.02</td>\n",
       "      <td>330</td>\n",
       "      <td>2212</td>\n",
       "      <td>100.0</td>\n",
       "      <td>10.56</td>\n",
       "      <td>6.4871</td>\n",
       "      <td>5</td>\n",
       "      <td>-0.360648</td>\n",
       "      <td>0.410803</td>\n",
       "      <td>0</td>\n",
       "    </tr>\n",
       "    <tr>\n",
       "      <th>4</th>\n",
       "      <td>5</td>\n",
       "      <td>0</td>\n",
       "      <td>5</td>\n",
       "      <td>10.0058</td>\n",
       "      <td>0.2506</td>\n",
       "      <td>100</td>\n",
       "      <td>489.05</td>\n",
       "      <td>604.72</td>\n",
       "      <td>1496.65</td>\n",
       "      <td>1310.52</td>\n",
       "      <td>...</td>\n",
       "      <td>0.03</td>\n",
       "      <td>370</td>\n",
       "      <td>2319</td>\n",
       "      <td>100.0</td>\n",
       "      <td>28.78</td>\n",
       "      <td>17.1987</td>\n",
       "      <td>6</td>\n",
       "      <td>-0.358974</td>\n",
       "      <td>0.411208</td>\n",
       "      <td>0</td>\n",
       "    </tr>\n",
       "  </tbody>\n",
       "</table>\n",
       "<p>5 rows × 31 columns</p>\n",
       "</div>"
      ],
      "text/plain": [
       "   Unnamed: 0  engine_no  time_in_cycles  op_setting_1  op_setting_2  \\\n",
       "0           1          0               1       42.0034        0.8400   \n",
       "1           2          0               2       42.0017        0.8400   \n",
       "2           3          0               3        0.0028        0.0019   \n",
       "3           4          0               4       42.0047        0.8400   \n",
       "4           5          0               5       10.0058        0.2506   \n",
       "\n",
       "   op_setting_3  sensor_1  sensor_2  sensor_3  sensor_4  ...  sensor_16  \\\n",
       "0           100    445.00    549.36   1342.05   1124.56  ...       0.02   \n",
       "1           100    445.00    548.83   1351.93   1116.28  ...       0.02   \n",
       "2           100    518.67    642.35   1583.74   1400.44  ...       0.03   \n",
       "3           100    445.00    549.69   1354.36   1125.55  ...       0.02   \n",
       "4           100    489.05    604.72   1496.65   1310.52  ...       0.03   \n",
       "\n",
       "   sensor_17  sensor_18  sensor_19  sensor_20  sensor_21  stop  \\\n",
       "0        329       2212      100.0      10.69     6.3956     2   \n",
       "1        331       2212      100.0      10.55     6.3775     3   \n",
       "2        392       2388      100.0      38.85    23.3483     4   \n",
       "3        330       2212      100.0      10.56     6.4871     5   \n",
       "4        370       2319      100.0      28.78    17.1987     6   \n",
       "\n",
       "   pred_test_time_step  pred_test2_time_step  pred_test2_time_flag_step  \n",
       "0            -0.553710              0.365004                          0  \n",
       "1            -0.555234              0.364651                          0  \n",
       "2            -0.410151              0.398876                          0  \n",
       "3            -0.360648              0.410803                          0  \n",
       "4            -0.358974              0.411208                          0  \n",
       "\n",
       "[5 rows x 31 columns]"
      ]
     },
     "execution_count": 22,
     "metadata": {},
     "output_type": "execute_result"
    }
   ],
   "source": [
    "test_data_R_0_5_all.head()"
   ]
  },
  {
   "cell_type": "code",
   "execution_count": 23,
   "metadata": {},
   "outputs": [
    {
     "name": "stdout",
     "output_type": "stream",
     "text": [
      "(104897, 31)\n",
      "(104897, 32)\n"
     ]
    }
   ],
   "source": [
    "print(test_data_R_0_5_all.shape)\n",
    "print(test_data.shape)"
   ]
  },
  {
   "cell_type": "code",
   "execution_count": 24,
   "metadata": {},
   "outputs": [],
   "source": [
    "# いらない列削除\n",
    "test_data_R_0_5_all = test_data_R_0_5_all.drop('Unnamed: 0', axis=1)"
   ]
  },
  {
   "cell_type": "code",
   "execution_count": 25,
   "metadata": {},
   "outputs": [],
   "source": [
    "# 2つのdataを最初の形に並べ替える\n",
    "test_data_R_0_5_all = test_data_R_0_5_all.sort_values(['engine_no', 'time_in_cycles'])"
   ]
  },
  {
   "cell_type": "code",
   "execution_count": 26,
   "metadata": {},
   "outputs": [],
   "source": [
    "# 2つのtdataを結合したデータの予測結果追加を出力\n",
    "test_data_R_0_5_all.to_csv('Desktop/インテグ課題/NASA/test_data/test_data_R_0.5_all.csv', index=False)"
   ]
  },
  {
   "cell_type": "markdown",
   "metadata": {},
   "source": [
    "# test_dataのRULを読み込んで処理"
   ]
  },
  {
   "cell_type": "code",
   "execution_count": 27,
   "metadata": {},
   "outputs": [],
   "source": [
    "#testデータのRULを読み込む\n",
    "test_data_RUL = pd.read_csv('Downloads/インテグ課題/NASA/prehackathonsup/RUL_test.csv')"
   ]
  },
  {
   "cell_type": "code",
   "execution_count": 28,
   "metadata": {},
   "outputs": [
    {
     "data": {
      "text/html": [
       "<div>\n",
       "<style scoped>\n",
       "    .dataframe tbody tr th:only-of-type {\n",
       "        vertical-align: middle;\n",
       "    }\n",
       "\n",
       "    .dataframe tbody tr th {\n",
       "        vertical-align: top;\n",
       "    }\n",
       "\n",
       "    .dataframe thead th {\n",
       "        text-align: right;\n",
       "    }\n",
       "</style>\n",
       "<table border=\"1\" class=\"dataframe\">\n",
       "  <thead>\n",
       "    <tr style=\"text-align: right;\">\n",
       "      <th></th>\n",
       "      <th>Unnamed: 0</th>\n",
       "      <th>RUL</th>\n",
       "      <th>engine_no</th>\n",
       "    </tr>\n",
       "  </thead>\n",
       "  <tbody>\n",
       "    <tr>\n",
       "      <th>0</th>\n",
       "      <td>0</td>\n",
       "      <td>22</td>\n",
       "      <td>0</td>\n",
       "    </tr>\n",
       "    <tr>\n",
       "      <th>1</th>\n",
       "      <td>1</td>\n",
       "      <td>12</td>\n",
       "      <td>1</td>\n",
       "    </tr>\n",
       "    <tr>\n",
       "      <th>2</th>\n",
       "      <td>2</td>\n",
       "      <td>108</td>\n",
       "      <td>2</td>\n",
       "    </tr>\n",
       "    <tr>\n",
       "      <th>3</th>\n",
       "      <td>3</td>\n",
       "      <td>88</td>\n",
       "      <td>3</td>\n",
       "    </tr>\n",
       "    <tr>\n",
       "      <th>4</th>\n",
       "      <td>4</td>\n",
       "      <td>10</td>\n",
       "      <td>4</td>\n",
       "    </tr>\n",
       "  </tbody>\n",
       "</table>\n",
       "</div>"
      ],
      "text/plain": [
       "   Unnamed: 0  RUL  engine_no\n",
       "0           0   22          0\n",
       "1           1   12          1\n",
       "2           2  108          2\n",
       "3           3   88          3\n",
       "4           4   10          4"
      ]
     },
     "execution_count": 28,
     "metadata": {},
     "output_type": "execute_result"
    }
   ],
   "source": [
    "test_data_RUL.head()"
   ]
  },
  {
   "cell_type": "code",
   "execution_count": 29,
   "metadata": {},
   "outputs": [
    {
     "data": {
      "text/html": [
       "<div>\n",
       "<style scoped>\n",
       "    .dataframe tbody tr th:only-of-type {\n",
       "        vertical-align: middle;\n",
       "    }\n",
       "\n",
       "    .dataframe tbody tr th {\n",
       "        vertical-align: top;\n",
       "    }\n",
       "\n",
       "    .dataframe thead th {\n",
       "        text-align: right;\n",
       "    }\n",
       "</style>\n",
       "<table border=\"1\" class=\"dataframe\">\n",
       "  <thead>\n",
       "    <tr style=\"text-align: right;\">\n",
       "      <th></th>\n",
       "      <th>engine_no</th>\n",
       "      <th>RUL</th>\n",
       "    </tr>\n",
       "  </thead>\n",
       "  <tbody>\n",
       "    <tr>\n",
       "      <th>0</th>\n",
       "      <td>0</td>\n",
       "      <td>22</td>\n",
       "    </tr>\n",
       "    <tr>\n",
       "      <th>1</th>\n",
       "      <td>1</td>\n",
       "      <td>12</td>\n",
       "    </tr>\n",
       "    <tr>\n",
       "      <th>2</th>\n",
       "      <td>2</td>\n",
       "      <td>108</td>\n",
       "    </tr>\n",
       "    <tr>\n",
       "      <th>3</th>\n",
       "      <td>3</td>\n",
       "      <td>88</td>\n",
       "    </tr>\n",
       "    <tr>\n",
       "      <th>4</th>\n",
       "      <td>4</td>\n",
       "      <td>10</td>\n",
       "    </tr>\n",
       "  </tbody>\n",
       "</table>\n",
       "</div>"
      ],
      "text/plain": [
       "   engine_no  RUL\n",
       "0          0   22\n",
       "1          1   12\n",
       "2          2  108\n",
       "3          3   88\n",
       "4          4   10"
      ]
     },
     "execution_count": 29,
     "metadata": {},
     "output_type": "execute_result"
    }
   ],
   "source": [
    "#列の順番を入れ替えと削除\n",
    "test_data_RUL.drop('Unnamed: 0', axis=1)\n",
    "test_data_RUL = test_data_RUL.loc[:,['engine_no','RUL']]\n",
    "test_data_RUL.head()"
   ]
  },
  {
   "cell_type": "code",
   "execution_count": 30,
   "metadata": {},
   "outputs": [],
   "source": [
    "# RUL<100の時、つまり予測した残りの寿命サイクルが100より小さければ1 それ以外で0とする\n",
    "test_data_RUL['result'] = test_data_RUL['RUL'].map(lambda x: 0 if x > 100 else 1)"
   ]
  },
  {
   "cell_type": "code",
   "execution_count": 31,
   "metadata": {},
   "outputs": [
    {
     "data": {
      "text/html": [
       "<div>\n",
       "<style scoped>\n",
       "    .dataframe tbody tr th:only-of-type {\n",
       "        vertical-align: middle;\n",
       "    }\n",
       "\n",
       "    .dataframe tbody tr th {\n",
       "        vertical-align: top;\n",
       "    }\n",
       "\n",
       "    .dataframe thead th {\n",
       "        text-align: right;\n",
       "    }\n",
       "</style>\n",
       "<table border=\"1\" class=\"dataframe\">\n",
       "  <thead>\n",
       "    <tr style=\"text-align: right;\">\n",
       "      <th></th>\n",
       "      <th>engine_no</th>\n",
       "      <th>RUL</th>\n",
       "      <th>result</th>\n",
       "    </tr>\n",
       "  </thead>\n",
       "  <tbody>\n",
       "    <tr>\n",
       "      <th>0</th>\n",
       "      <td>0</td>\n",
       "      <td>22</td>\n",
       "      <td>1</td>\n",
       "    </tr>\n",
       "    <tr>\n",
       "      <th>1</th>\n",
       "      <td>1</td>\n",
       "      <td>12</td>\n",
       "      <td>1</td>\n",
       "    </tr>\n",
       "    <tr>\n",
       "      <th>2</th>\n",
       "      <td>2</td>\n",
       "      <td>108</td>\n",
       "      <td>0</td>\n",
       "    </tr>\n",
       "    <tr>\n",
       "      <th>3</th>\n",
       "      <td>3</td>\n",
       "      <td>88</td>\n",
       "      <td>1</td>\n",
       "    </tr>\n",
       "    <tr>\n",
       "      <th>4</th>\n",
       "      <td>4</td>\n",
       "      <td>10</td>\n",
       "      <td>1</td>\n",
       "    </tr>\n",
       "  </tbody>\n",
       "</table>\n",
       "</div>"
      ],
      "text/plain": [
       "   engine_no  RUL  result\n",
       "0          0   22       1\n",
       "1          1   12       1\n",
       "2          2  108       0\n",
       "3          3   88       1\n",
       "4          4   10       1"
      ]
     },
     "execution_count": 31,
     "metadata": {},
     "output_type": "execute_result"
    }
   ],
   "source": [
    "test_data_RUL.head()"
   ]
  },
  {
   "cell_type": "code",
   "execution_count": 32,
   "metadata": {},
   "outputs": [
    {
     "name": "stdout",
     "output_type": "stream",
     "text": [
      "450\n",
      "257\n"
     ]
    }
   ],
   "source": [
    "print((test_data_RUL['result'] == 1).sum())\n",
    "print((test_data_RUL['result'] == 0).sum())"
   ]
  },
  {
   "cell_type": "markdown",
   "metadata": {},
   "source": [
    "# Rで作成し、上記で結合したDataを使う。列名はresultではないので、ランダムフォレストと少し形が違う"
   ]
  },
  {
   "cell_type": "code",
   "execution_count": 33,
   "metadata": {},
   "outputs": [],
   "source": [
    "#結果表の作成 \n",
    "test_data_R_0_5_all_result = test_data_R_0_5_all.sort_values(['engine_no', 'time_in_cycles'])\n",
    "\n",
    "#test_data_Rの各engineの最後のサイクルの行のみを表示　列は'engine_no', 'pred_test2_flag'のみ\n",
    "test_data_R_0_5_all_result = test_data_R_0_5_all.groupby('engine_no').last().reset_index()[['engine_no', 'pred_test2_time_flag_step']]\n",
    "\n"
   ]
  },
  {
   "cell_type": "code",
   "execution_count": 34,
   "metadata": {},
   "outputs": [
    {
     "name": "stdout",
     "output_type": "stream",
     "text": [
      "426\n",
      "281\n"
     ]
    }
   ],
   "source": [
    "print((test_data_R_0_5_all_result['pred_test2_time_flag_step'] == 1).sum())\n",
    "print((test_data_R_0_5_all_result['pred_test2_time_flag_step'] == 0).sum())"
   ]
  },
  {
   "cell_type": "markdown",
   "metadata": {},
   "source": [
    "# 100以内に故障するを1,しないを0としている 故障することを当てたいから、故障する1をpositiveと定義する。"
   ]
  },
  {
   "cell_type": "code",
   "execution_count": 35,
   "metadata": {},
   "outputs": [],
   "source": [
    "#混合行列\n",
    "#1 = Positive,0 = Negativeとする　なぜならば、再現率などがpositiveで計算されるので、故障するをpositiveにする\n",
    "#labels指定をしないと、左から0,1表記になるので、TPが右下になってしまう。\n",
    "cm = confusion_matrix(test_data_RUL['result'],test_data_R_0_5_all_result['pred_test2_time_flag_step'],labels=[1, 0] )"
   ]
  },
  {
   "cell_type": "code",
   "execution_count": 36,
   "metadata": {},
   "outputs": [
    {
     "data": {
      "text/plain": [
       "array([[349, 101],\n",
       "       [ 77, 180]], dtype=int64)"
      ]
     },
     "execution_count": 36,
     "metadata": {},
     "output_type": "execute_result"
    }
   ],
   "source": [
    "cm"
   ]
  },
  {
   "cell_type": "markdown",
   "metadata": {},
   "source": [
    "# 列が予測の1と0行が実際の1と0つまり、真陽性 : TP (True-Positive)332、真陰性: TN (True-Negative)239、偽陽性: FP (False-Positive)18(故障していないのにしていると予測)、偽陰性: FN (False-Negative)118(実際は故障しているのに故障していないと予測)\n",
    "#https://pythondatascience.plavox.info/scikit-learn/%E5%88%86%E9%A1%9E%E7%B5%90%E6%9E%9C%E3%81%AE%E3%83%A2%E3%83%87%E3%83%AB%E8%A9%95%E4%BE%A1\n",
    "#FN (False-Negative)118を少なくしたい　つまり実際は故障だが、故障しないと判断してしまっているものを"
   ]
  },
  {
   "cell_type": "code",
   "execution_count": 37,
   "metadata": {},
   "outputs": [
    {
     "name": "stdout",
     "output_type": "stream",
     "text": [
      "              precision    recall  f1-score   support\n",
      "\n",
      "           1       0.82      0.78      0.80       450\n",
      "           0       0.64      0.70      0.67       257\n",
      "\n",
      "    accuracy                           0.75       707\n",
      "   macro avg       0.73      0.74      0.73       707\n",
      "weighted avg       0.75      0.75      0.75       707\n",
      "\n"
     ]
    }
   ],
   "source": [
    "#混合行列まとめて表示\n",
    "cr = classification_report(test_data_RUL['result'],test_data_R_0_5_all_result['pred_test2_time_flag_step'],labels=[1, 0] )\n",
    "print(cr)"
   ]
  },
  {
   "cell_type": "markdown",
   "metadata": {},
   "source": [
    "# labelsを付けた時の計算が上記のまとめて表示の1の方　labelsをつけなかったときの計算が下の方"
   ]
  },
  {
   "cell_type": "markdown",
   "metadata": {},
   "source": [
    "# 閾値0.4"
   ]
  },
  {
   "cell_type": "markdown",
   "metadata": {},
   "source": [
    "# Rで作成した予測付きのtestデータを読み込む"
   ]
  },
  {
   "cell_type": "code",
   "execution_count": 38,
   "metadata": {},
   "outputs": [],
   "source": [
    "# clusterごとのRを読み込み\n",
    "test_data_R_cluster0_0_4 = pd.read_csv('Desktop/インテグ課題/NASA/test_data/test_data_R_time_cluster0_0.4.csv')\n",
    "test_data_R_cluster1_0_4 = pd.read_csv('Desktop/インテグ課題/NASA/test_data/test_data_R_time_cluster1_0.4.csv')"
   ]
  },
  {
   "cell_type": "code",
   "execution_count": 39,
   "metadata": {},
   "outputs": [
    {
     "data": {
      "text/html": [
       "<div>\n",
       "<style scoped>\n",
       "    .dataframe tbody tr th:only-of-type {\n",
       "        vertical-align: middle;\n",
       "    }\n",
       "\n",
       "    .dataframe tbody tr th {\n",
       "        vertical-align: top;\n",
       "    }\n",
       "\n",
       "    .dataframe thead th {\n",
       "        text-align: right;\n",
       "    }\n",
       "</style>\n",
       "<table border=\"1\" class=\"dataframe\">\n",
       "  <thead>\n",
       "    <tr style=\"text-align: right;\">\n",
       "      <th></th>\n",
       "      <th>Unnamed: 0</th>\n",
       "      <th>engine_no</th>\n",
       "      <th>time_in_cycles</th>\n",
       "      <th>op_setting_1</th>\n",
       "      <th>op_setting_2</th>\n",
       "      <th>op_setting_3</th>\n",
       "      <th>sensor_1</th>\n",
       "      <th>sensor_2</th>\n",
       "      <th>sensor_3</th>\n",
       "      <th>sensor_4</th>\n",
       "      <th>...</th>\n",
       "      <th>sensor_16</th>\n",
       "      <th>sensor_17</th>\n",
       "      <th>sensor_18</th>\n",
       "      <th>sensor_19</th>\n",
       "      <th>sensor_20</th>\n",
       "      <th>sensor_21</th>\n",
       "      <th>stop</th>\n",
       "      <th>pred_test_time_step</th>\n",
       "      <th>pred_test2_time_step</th>\n",
       "      <th>pred_test2_time_flag_step</th>\n",
       "    </tr>\n",
       "  </thead>\n",
       "  <tbody>\n",
       "    <tr>\n",
       "      <th>0</th>\n",
       "      <td>1</td>\n",
       "      <td>0</td>\n",
       "      <td>1</td>\n",
       "      <td>42.0034</td>\n",
       "      <td>0.8400</td>\n",
       "      <td>100</td>\n",
       "      <td>445.00</td>\n",
       "      <td>549.36</td>\n",
       "      <td>1342.05</td>\n",
       "      <td>1124.56</td>\n",
       "      <td>...</td>\n",
       "      <td>0.02</td>\n",
       "      <td>329</td>\n",
       "      <td>2212</td>\n",
       "      <td>100.0</td>\n",
       "      <td>10.69</td>\n",
       "      <td>6.3956</td>\n",
       "      <td>2</td>\n",
       "      <td>-0.553710</td>\n",
       "      <td>0.365004</td>\n",
       "      <td>0</td>\n",
       "    </tr>\n",
       "    <tr>\n",
       "      <th>1</th>\n",
       "      <td>2</td>\n",
       "      <td>0</td>\n",
       "      <td>2</td>\n",
       "      <td>42.0017</td>\n",
       "      <td>0.8400</td>\n",
       "      <td>100</td>\n",
       "      <td>445.00</td>\n",
       "      <td>548.83</td>\n",
       "      <td>1351.93</td>\n",
       "      <td>1116.28</td>\n",
       "      <td>...</td>\n",
       "      <td>0.02</td>\n",
       "      <td>331</td>\n",
       "      <td>2212</td>\n",
       "      <td>100.0</td>\n",
       "      <td>10.55</td>\n",
       "      <td>6.3775</td>\n",
       "      <td>3</td>\n",
       "      <td>-0.555234</td>\n",
       "      <td>0.364651</td>\n",
       "      <td>0</td>\n",
       "    </tr>\n",
       "    <tr>\n",
       "      <th>2</th>\n",
       "      <td>3</td>\n",
       "      <td>0</td>\n",
       "      <td>3</td>\n",
       "      <td>0.0028</td>\n",
       "      <td>0.0019</td>\n",
       "      <td>100</td>\n",
       "      <td>518.67</td>\n",
       "      <td>642.35</td>\n",
       "      <td>1583.74</td>\n",
       "      <td>1400.44</td>\n",
       "      <td>...</td>\n",
       "      <td>0.03</td>\n",
       "      <td>392</td>\n",
       "      <td>2388</td>\n",
       "      <td>100.0</td>\n",
       "      <td>38.85</td>\n",
       "      <td>23.3483</td>\n",
       "      <td>4</td>\n",
       "      <td>-0.410151</td>\n",
       "      <td>0.398876</td>\n",
       "      <td>0</td>\n",
       "    </tr>\n",
       "    <tr>\n",
       "      <th>3</th>\n",
       "      <td>4</td>\n",
       "      <td>0</td>\n",
       "      <td>4</td>\n",
       "      <td>42.0047</td>\n",
       "      <td>0.8400</td>\n",
       "      <td>100</td>\n",
       "      <td>445.00</td>\n",
       "      <td>549.69</td>\n",
       "      <td>1354.36</td>\n",
       "      <td>1125.55</td>\n",
       "      <td>...</td>\n",
       "      <td>0.02</td>\n",
       "      <td>330</td>\n",
       "      <td>2212</td>\n",
       "      <td>100.0</td>\n",
       "      <td>10.56</td>\n",
       "      <td>6.4871</td>\n",
       "      <td>5</td>\n",
       "      <td>-0.360648</td>\n",
       "      <td>0.410803</td>\n",
       "      <td>1</td>\n",
       "    </tr>\n",
       "    <tr>\n",
       "      <th>4</th>\n",
       "      <td>5</td>\n",
       "      <td>0</td>\n",
       "      <td>5</td>\n",
       "      <td>10.0058</td>\n",
       "      <td>0.2506</td>\n",
       "      <td>100</td>\n",
       "      <td>489.05</td>\n",
       "      <td>604.72</td>\n",
       "      <td>1496.65</td>\n",
       "      <td>1310.52</td>\n",
       "      <td>...</td>\n",
       "      <td>0.03</td>\n",
       "      <td>370</td>\n",
       "      <td>2319</td>\n",
       "      <td>100.0</td>\n",
       "      <td>28.78</td>\n",
       "      <td>17.1987</td>\n",
       "      <td>6</td>\n",
       "      <td>-0.358974</td>\n",
       "      <td>0.411208</td>\n",
       "      <td>1</td>\n",
       "    </tr>\n",
       "  </tbody>\n",
       "</table>\n",
       "<p>5 rows × 31 columns</p>\n",
       "</div>"
      ],
      "text/plain": [
       "   Unnamed: 0  engine_no  time_in_cycles  op_setting_1  op_setting_2  \\\n",
       "0           1          0               1       42.0034        0.8400   \n",
       "1           2          0               2       42.0017        0.8400   \n",
       "2           3          0               3        0.0028        0.0019   \n",
       "3           4          0               4       42.0047        0.8400   \n",
       "4           5          0               5       10.0058        0.2506   \n",
       "\n",
       "   op_setting_3  sensor_1  sensor_2  sensor_3  sensor_4  ...  sensor_16  \\\n",
       "0           100    445.00    549.36   1342.05   1124.56  ...       0.02   \n",
       "1           100    445.00    548.83   1351.93   1116.28  ...       0.02   \n",
       "2           100    518.67    642.35   1583.74   1400.44  ...       0.03   \n",
       "3           100    445.00    549.69   1354.36   1125.55  ...       0.02   \n",
       "4           100    489.05    604.72   1496.65   1310.52  ...       0.03   \n",
       "\n",
       "   sensor_17  sensor_18  sensor_19  sensor_20  sensor_21  stop  \\\n",
       "0        329       2212      100.0      10.69     6.3956     2   \n",
       "1        331       2212      100.0      10.55     6.3775     3   \n",
       "2        392       2388      100.0      38.85    23.3483     4   \n",
       "3        330       2212      100.0      10.56     6.4871     5   \n",
       "4        370       2319      100.0      28.78    17.1987     6   \n",
       "\n",
       "   pred_test_time_step  pred_test2_time_step  pred_test2_time_flag_step  \n",
       "0            -0.553710              0.365004                          0  \n",
       "1            -0.555234              0.364651                          0  \n",
       "2            -0.410151              0.398876                          0  \n",
       "3            -0.360648              0.410803                          1  \n",
       "4            -0.358974              0.411208                          1  \n",
       "\n",
       "[5 rows x 31 columns]"
      ]
     },
     "execution_count": 39,
     "metadata": {},
     "output_type": "execute_result"
    }
   ],
   "source": [
    "test_data_R_cluster0_0_4.head()"
   ]
  },
  {
   "cell_type": "code",
   "execution_count": 40,
   "metadata": {
    "scrolled": true
   },
   "outputs": [
    {
     "data": {
      "text/html": [
       "<div>\n",
       "<style scoped>\n",
       "    .dataframe tbody tr th:only-of-type {\n",
       "        vertical-align: middle;\n",
       "    }\n",
       "\n",
       "    .dataframe tbody tr th {\n",
       "        vertical-align: top;\n",
       "    }\n",
       "\n",
       "    .dataframe thead th {\n",
       "        text-align: right;\n",
       "    }\n",
       "</style>\n",
       "<table border=\"1\" class=\"dataframe\">\n",
       "  <thead>\n",
       "    <tr style=\"text-align: right;\">\n",
       "      <th></th>\n",
       "      <th>Unnamed: 0</th>\n",
       "      <th>engine_no</th>\n",
       "      <th>time_in_cycles</th>\n",
       "      <th>op_setting_1</th>\n",
       "      <th>op_setting_2</th>\n",
       "      <th>op_setting_3</th>\n",
       "      <th>sensor_1</th>\n",
       "      <th>sensor_2</th>\n",
       "      <th>sensor_3</th>\n",
       "      <th>sensor_4</th>\n",
       "      <th>...</th>\n",
       "      <th>sensor_16</th>\n",
       "      <th>sensor_17</th>\n",
       "      <th>sensor_18</th>\n",
       "      <th>sensor_19</th>\n",
       "      <th>sensor_20</th>\n",
       "      <th>sensor_21</th>\n",
       "      <th>stop</th>\n",
       "      <th>pred_test_time_step</th>\n",
       "      <th>pred_test2_time_step</th>\n",
       "      <th>pred_test2_time_flag_step</th>\n",
       "    </tr>\n",
       "  </thead>\n",
       "  <tbody>\n",
       "    <tr>\n",
       "      <th>0</th>\n",
       "      <td>1</td>\n",
       "      <td>9</td>\n",
       "      <td>1</td>\n",
       "      <td>-0.0009</td>\n",
       "      <td>-0.0001</td>\n",
       "      <td>100</td>\n",
       "      <td>518.67</td>\n",
       "      <td>642.06</td>\n",
       "      <td>1590.15</td>\n",
       "      <td>1408.02</td>\n",
       "      <td>...</td>\n",
       "      <td>0.03</td>\n",
       "      <td>393</td>\n",
       "      <td>2388</td>\n",
       "      <td>100</td>\n",
       "      <td>38.90</td>\n",
       "      <td>23.3147</td>\n",
       "      <td>2</td>\n",
       "      <td>-0.119871</td>\n",
       "      <td>0.470068</td>\n",
       "      <td>1</td>\n",
       "    </tr>\n",
       "    <tr>\n",
       "      <th>1</th>\n",
       "      <td>2</td>\n",
       "      <td>9</td>\n",
       "      <td>2</td>\n",
       "      <td>0.0031</td>\n",
       "      <td>-0.0002</td>\n",
       "      <td>100</td>\n",
       "      <td>518.67</td>\n",
       "      <td>642.74</td>\n",
       "      <td>1584.08</td>\n",
       "      <td>1413.33</td>\n",
       "      <td>...</td>\n",
       "      <td>0.03</td>\n",
       "      <td>392</td>\n",
       "      <td>2388</td>\n",
       "      <td>100</td>\n",
       "      <td>38.70</td>\n",
       "      <td>23.3071</td>\n",
       "      <td>3</td>\n",
       "      <td>0.035570</td>\n",
       "      <td>0.508891</td>\n",
       "      <td>1</td>\n",
       "    </tr>\n",
       "    <tr>\n",
       "      <th>2</th>\n",
       "      <td>3</td>\n",
       "      <td>9</td>\n",
       "      <td>3</td>\n",
       "      <td>0.0023</td>\n",
       "      <td>-0.0001</td>\n",
       "      <td>100</td>\n",
       "      <td>518.67</td>\n",
       "      <td>642.48</td>\n",
       "      <td>1591.55</td>\n",
       "      <td>1407.27</td>\n",
       "      <td>...</td>\n",
       "      <td>0.03</td>\n",
       "      <td>394</td>\n",
       "      <td>2388</td>\n",
       "      <td>100</td>\n",
       "      <td>38.92</td>\n",
       "      <td>23.3058</td>\n",
       "      <td>4</td>\n",
       "      <td>-0.019998</td>\n",
       "      <td>0.495001</td>\n",
       "      <td>1</td>\n",
       "    </tr>\n",
       "    <tr>\n",
       "      <th>3</th>\n",
       "      <td>4</td>\n",
       "      <td>9</td>\n",
       "      <td>4</td>\n",
       "      <td>0.0033</td>\n",
       "      <td>-0.0004</td>\n",
       "      <td>100</td>\n",
       "      <td>518.67</td>\n",
       "      <td>642.15</td>\n",
       "      <td>1587.86</td>\n",
       "      <td>1406.12</td>\n",
       "      <td>...</td>\n",
       "      <td>0.03</td>\n",
       "      <td>394</td>\n",
       "      <td>2388</td>\n",
       "      <td>100</td>\n",
       "      <td>38.88</td>\n",
       "      <td>23.3084</td>\n",
       "      <td>5</td>\n",
       "      <td>-0.089382</td>\n",
       "      <td>0.477669</td>\n",
       "      <td>1</td>\n",
       "    </tr>\n",
       "    <tr>\n",
       "      <th>4</th>\n",
       "      <td>5</td>\n",
       "      <td>9</td>\n",
       "      <td>5</td>\n",
       "      <td>0.0005</td>\n",
       "      <td>-0.0003</td>\n",
       "      <td>100</td>\n",
       "      <td>518.67</td>\n",
       "      <td>642.47</td>\n",
       "      <td>1591.80</td>\n",
       "      <td>1407.10</td>\n",
       "      <td>...</td>\n",
       "      <td>0.03</td>\n",
       "      <td>389</td>\n",
       "      <td>2388</td>\n",
       "      <td>100</td>\n",
       "      <td>38.85</td>\n",
       "      <td>23.3685</td>\n",
       "      <td>6</td>\n",
       "      <td>-0.185455</td>\n",
       "      <td>0.453769</td>\n",
       "      <td>1</td>\n",
       "    </tr>\n",
       "  </tbody>\n",
       "</table>\n",
       "<p>5 rows × 31 columns</p>\n",
       "</div>"
      ],
      "text/plain": [
       "   Unnamed: 0  engine_no  time_in_cycles  op_setting_1  op_setting_2  \\\n",
       "0           1          9               1       -0.0009       -0.0001   \n",
       "1           2          9               2        0.0031       -0.0002   \n",
       "2           3          9               3        0.0023       -0.0001   \n",
       "3           4          9               4        0.0033       -0.0004   \n",
       "4           5          9               5        0.0005       -0.0003   \n",
       "\n",
       "   op_setting_3  sensor_1  sensor_2  sensor_3  sensor_4  ...  sensor_16  \\\n",
       "0           100    518.67    642.06   1590.15   1408.02  ...       0.03   \n",
       "1           100    518.67    642.74   1584.08   1413.33  ...       0.03   \n",
       "2           100    518.67    642.48   1591.55   1407.27  ...       0.03   \n",
       "3           100    518.67    642.15   1587.86   1406.12  ...       0.03   \n",
       "4           100    518.67    642.47   1591.80   1407.10  ...       0.03   \n",
       "\n",
       "   sensor_17  sensor_18  sensor_19  sensor_20  sensor_21  stop  \\\n",
       "0        393       2388        100      38.90    23.3147     2   \n",
       "1        392       2388        100      38.70    23.3071     3   \n",
       "2        394       2388        100      38.92    23.3058     4   \n",
       "3        394       2388        100      38.88    23.3084     5   \n",
       "4        389       2388        100      38.85    23.3685     6   \n",
       "\n",
       "   pred_test_time_step  pred_test2_time_step  pred_test2_time_flag_step  \n",
       "0            -0.119871              0.470068                          1  \n",
       "1             0.035570              0.508891                          1  \n",
       "2            -0.019998              0.495001                          1  \n",
       "3            -0.089382              0.477669                          1  \n",
       "4            -0.185455              0.453769                          1  \n",
       "\n",
       "[5 rows x 31 columns]"
      ]
     },
     "execution_count": 40,
     "metadata": {},
     "output_type": "execute_result"
    }
   ],
   "source": [
    "test_data_R_cluster1_0_4.head()"
   ]
  },
  {
   "cell_type": "markdown",
   "metadata": {},
   "source": [
    "# cluster0"
   ]
  },
  {
   "cell_type": "code",
   "execution_count": 41,
   "metadata": {},
   "outputs": [],
   "source": [
    "#結果表の作成 \n",
    "test_data_R_cluster0_0_4_pred = test_data_R_cluster0_0_4.sort_values(['engine_no', 'time_in_cycles'])\n",
    "\n",
    "#test_data_Rの各engineの最後のサイクルの行のみを表示　列は'engine_no', 'pred_test2_flag'のみ\n",
    "test_data_R_cluster0_0_4_pred = test_data_R_cluster0_0_4_pred.groupby('engine_no').last().reset_index()[['engine_no', 'pred_test2_time_flag_step']]\n",
    "\n"
   ]
  },
  {
   "cell_type": "code",
   "execution_count": 42,
   "metadata": {},
   "outputs": [
    {
     "data": {
      "text/html": [
       "<div>\n",
       "<style scoped>\n",
       "    .dataframe tbody tr th:only-of-type {\n",
       "        vertical-align: middle;\n",
       "    }\n",
       "\n",
       "    .dataframe tbody tr th {\n",
       "        vertical-align: top;\n",
       "    }\n",
       "\n",
       "    .dataframe thead th {\n",
       "        text-align: right;\n",
       "    }\n",
       "</style>\n",
       "<table border=\"1\" class=\"dataframe\">\n",
       "  <thead>\n",
       "    <tr style=\"text-align: right;\">\n",
       "      <th></th>\n",
       "      <th>engine_no</th>\n",
       "      <th>pred_test2_time_flag_step</th>\n",
       "    </tr>\n",
       "  </thead>\n",
       "  <tbody>\n",
       "    <tr>\n",
       "      <th>0</th>\n",
       "      <td>0</td>\n",
       "      <td>1</td>\n",
       "    </tr>\n",
       "    <tr>\n",
       "      <th>1</th>\n",
       "      <td>1</td>\n",
       "      <td>1</td>\n",
       "    </tr>\n",
       "    <tr>\n",
       "      <th>2</th>\n",
       "      <td>2</td>\n",
       "      <td>0</td>\n",
       "    </tr>\n",
       "    <tr>\n",
       "      <th>3</th>\n",
       "      <td>3</td>\n",
       "      <td>1</td>\n",
       "    </tr>\n",
       "    <tr>\n",
       "      <th>4</th>\n",
       "      <td>4</td>\n",
       "      <td>1</td>\n",
       "    </tr>\n",
       "  </tbody>\n",
       "</table>\n",
       "</div>"
      ],
      "text/plain": [
       "   engine_no  pred_test2_time_flag_step\n",
       "0          0                          1\n",
       "1          1                          1\n",
       "2          2                          0\n",
       "3          3                          1\n",
       "4          4                          1"
      ]
     },
     "execution_count": 42,
     "metadata": {},
     "output_type": "execute_result"
    }
   ],
   "source": [
    "test_data_R_cluster0_0_4_pred.head()"
   ]
  },
  {
   "cell_type": "markdown",
   "metadata": {},
   "source": [
    "# 上記で読み込んだtest_data_RUL_cluster0を使っていく"
   ]
  },
  {
   "cell_type": "code",
   "execution_count": 43,
   "metadata": {},
   "outputs": [
    {
     "data": {
      "text/html": [
       "<div>\n",
       "<style scoped>\n",
       "    .dataframe tbody tr th:only-of-type {\n",
       "        vertical-align: middle;\n",
       "    }\n",
       "\n",
       "    .dataframe tbody tr th {\n",
       "        vertical-align: top;\n",
       "    }\n",
       "\n",
       "    .dataframe thead th {\n",
       "        text-align: right;\n",
       "    }\n",
       "</style>\n",
       "<table border=\"1\" class=\"dataframe\">\n",
       "  <thead>\n",
       "    <tr style=\"text-align: right;\">\n",
       "      <th></th>\n",
       "      <th>engine_no</th>\n",
       "      <th>RUL</th>\n",
       "      <th>result</th>\n",
       "    </tr>\n",
       "  </thead>\n",
       "  <tbody>\n",
       "    <tr>\n",
       "      <th>0</th>\n",
       "      <td>0</td>\n",
       "      <td>22</td>\n",
       "      <td>1</td>\n",
       "    </tr>\n",
       "    <tr>\n",
       "      <th>1</th>\n",
       "      <td>1</td>\n",
       "      <td>12</td>\n",
       "      <td>1</td>\n",
       "    </tr>\n",
       "    <tr>\n",
       "      <th>2</th>\n",
       "      <td>2</td>\n",
       "      <td>108</td>\n",
       "      <td>0</td>\n",
       "    </tr>\n",
       "    <tr>\n",
       "      <th>3</th>\n",
       "      <td>3</td>\n",
       "      <td>88</td>\n",
       "      <td>1</td>\n",
       "    </tr>\n",
       "    <tr>\n",
       "      <th>4</th>\n",
       "      <td>4</td>\n",
       "      <td>10</td>\n",
       "      <td>1</td>\n",
       "    </tr>\n",
       "  </tbody>\n",
       "</table>\n",
       "</div>"
      ],
      "text/plain": [
       "   engine_no  RUL  result\n",
       "0          0   22       1\n",
       "1          1   12       1\n",
       "2          2  108       0\n",
       "3          3   88       1\n",
       "4          4   10       1"
      ]
     },
     "execution_count": 43,
     "metadata": {},
     "output_type": "execute_result"
    }
   ],
   "source": [
    "test_data_RUL_cluster0.head()"
   ]
  },
  {
   "cell_type": "markdown",
   "metadata": {},
   "source": [
    "# 100以内に故障するを1,しないを0としている 故障することを当てたいから、故障する1をpositiveと定義する。"
   ]
  },
  {
   "cell_type": "code",
   "execution_count": 44,
   "metadata": {},
   "outputs": [],
   "source": [
    "#混合行列\n",
    "#1 = Positive,0 = Negativeとする　なぜならば、再現率などがpositiveで計算されるので、故障するをpositiveにする\n",
    "#labels指定をしないと、左から0,1表記になるので、TPが右下になってしまう。\n",
    "cm = confusion_matrix(test_data_RUL_cluster0['result'],test_data_R_cluster0_0_4_pred['pred_test2_time_flag_step'],labels=[1, 0] )"
   ]
  },
  {
   "cell_type": "code",
   "execution_count": 45,
   "metadata": {},
   "outputs": [
    {
     "data": {
      "text/plain": [
       "array([[289,  26],\n",
       "       [126,  66]], dtype=int64)"
      ]
     },
     "execution_count": 45,
     "metadata": {},
     "output_type": "execute_result"
    }
   ],
   "source": [
    "cm"
   ]
  },
  {
   "cell_type": "markdown",
   "metadata": {},
   "source": [
    "# 列が予測の1と0行が実際の1と0つまり、真陽性 : TP (True-Positive)332、真陰性: TN (True-Negative)239、偽陽性: FP (False-Positive)18(故障していないのにしていると予測)、偽陰性: FN (False-Negative)118(実際は故障しているのに故障していないと予測)\n",
    "#https://pythondatascience.plavox.info/scikit-learn/%E5%88%86%E9%A1%9E%E7%B5%90%E6%9E%9C%E3%81%AE%E3%83%A2%E3%83%87%E3%83%AB%E8%A9%95%E4%BE%A1\n",
    "#FN (False-Negative)118を少なくしたい　つまり実際は故障だが、故障しないと判断してしまっているものを"
   ]
  },
  {
   "cell_type": "code",
   "execution_count": 46,
   "metadata": {
    "scrolled": true
   },
   "outputs": [
    {
     "name": "stdout",
     "output_type": "stream",
     "text": [
      "              precision    recall  f1-score   support\n",
      "\n",
      "           1       0.70      0.92      0.79       315\n",
      "           0       0.72      0.34      0.46       192\n",
      "\n",
      "    accuracy                           0.70       507\n",
      "   macro avg       0.71      0.63      0.63       507\n",
      "weighted avg       0.70      0.70      0.67       507\n",
      "\n"
     ]
    }
   ],
   "source": [
    "#混合行列まとめて表示\n",
    "cr = classification_report(test_data_RUL_cluster0['result'],test_data_R_cluster0_0_4_pred['pred_test2_time_flag_step'],labels=[1, 0] )\n",
    "print(cr)"
   ]
  },
  {
   "cell_type": "markdown",
   "metadata": {},
   "source": [
    "# labelsを付けた時の計算が上記のまとめて表示の1の方　labelsをつけなかったときの計算が下の方"
   ]
  },
  {
   "cell_type": "markdown",
   "metadata": {},
   "source": [
    "# cluster1"
   ]
  },
  {
   "cell_type": "code",
   "execution_count": 47,
   "metadata": {},
   "outputs": [],
   "source": [
    "#結果表の作成 \n",
    "test_data_R_cluster1_0_4_pred = test_data_R_cluster1_0_4.sort_values(['engine_no', 'time_in_cycles'])\n",
    "\n",
    "#test_data_Rの各engineの最後のサイクルの行のみを表示　列は'engine_no', 'pred_test2_flag'のみ\n",
    "test_data_R_cluster1_0_4_pred = test_data_R_cluster1_0_4_pred.groupby('engine_no').last().reset_index()[['engine_no', 'pred_test2_time_flag_step']]\n",
    "\n"
   ]
  },
  {
   "cell_type": "code",
   "execution_count": 48,
   "metadata": {},
   "outputs": [
    {
     "data": {
      "text/html": [
       "<div>\n",
       "<style scoped>\n",
       "    .dataframe tbody tr th:only-of-type {\n",
       "        vertical-align: middle;\n",
       "    }\n",
       "\n",
       "    .dataframe tbody tr th {\n",
       "        vertical-align: top;\n",
       "    }\n",
       "\n",
       "    .dataframe thead th {\n",
       "        text-align: right;\n",
       "    }\n",
       "</style>\n",
       "<table border=\"1\" class=\"dataframe\">\n",
       "  <thead>\n",
       "    <tr style=\"text-align: right;\">\n",
       "      <th></th>\n",
       "      <th>engine_no</th>\n",
       "      <th>pred_test2_time_flag_step</th>\n",
       "    </tr>\n",
       "  </thead>\n",
       "  <tbody>\n",
       "    <tr>\n",
       "      <th>0</th>\n",
       "      <td>9</td>\n",
       "      <td>1</td>\n",
       "    </tr>\n",
       "    <tr>\n",
       "      <th>1</th>\n",
       "      <td>10</td>\n",
       "      <td>0</td>\n",
       "    </tr>\n",
       "    <tr>\n",
       "      <th>2</th>\n",
       "      <td>15</td>\n",
       "      <td>1</td>\n",
       "    </tr>\n",
       "    <tr>\n",
       "      <th>3</th>\n",
       "      <td>18</td>\n",
       "      <td>1</td>\n",
       "    </tr>\n",
       "    <tr>\n",
       "      <th>4</th>\n",
       "      <td>26</td>\n",
       "      <td>1</td>\n",
       "    </tr>\n",
       "  </tbody>\n",
       "</table>\n",
       "</div>"
      ],
      "text/plain": [
       "   engine_no  pred_test2_time_flag_step\n",
       "0          9                          1\n",
       "1         10                          0\n",
       "2         15                          1\n",
       "3         18                          1\n",
       "4         26                          1"
      ]
     },
     "execution_count": 48,
     "metadata": {},
     "output_type": "execute_result"
    }
   ],
   "source": [
    "test_data_R_cluster1_0_4_pred.head()"
   ]
  },
  {
   "cell_type": "markdown",
   "metadata": {},
   "source": [
    "# 上記で読み込んだtest_data_RUL_cluster1を使っていく"
   ]
  },
  {
   "cell_type": "code",
   "execution_count": 49,
   "metadata": {},
   "outputs": [
    {
     "data": {
      "text/html": [
       "<div>\n",
       "<style scoped>\n",
       "    .dataframe tbody tr th:only-of-type {\n",
       "        vertical-align: middle;\n",
       "    }\n",
       "\n",
       "    .dataframe tbody tr th {\n",
       "        vertical-align: top;\n",
       "    }\n",
       "\n",
       "    .dataframe thead th {\n",
       "        text-align: right;\n",
       "    }\n",
       "</style>\n",
       "<table border=\"1\" class=\"dataframe\">\n",
       "  <thead>\n",
       "    <tr style=\"text-align: right;\">\n",
       "      <th></th>\n",
       "      <th>engine_no</th>\n",
       "      <th>RUL</th>\n",
       "      <th>result</th>\n",
       "    </tr>\n",
       "  </thead>\n",
       "  <tbody>\n",
       "    <tr>\n",
       "      <th>0</th>\n",
       "      <td>9</td>\n",
       "      <td>93</td>\n",
       "      <td>1</td>\n",
       "    </tr>\n",
       "    <tr>\n",
       "      <th>1</th>\n",
       "      <td>10</td>\n",
       "      <td>120</td>\n",
       "      <td>0</td>\n",
       "    </tr>\n",
       "    <tr>\n",
       "      <th>2</th>\n",
       "      <td>15</td>\n",
       "      <td>55</td>\n",
       "      <td>1</td>\n",
       "    </tr>\n",
       "    <tr>\n",
       "      <th>3</th>\n",
       "      <td>18</td>\n",
       "      <td>99</td>\n",
       "      <td>1</td>\n",
       "    </tr>\n",
       "    <tr>\n",
       "      <th>4</th>\n",
       "      <td>26</td>\n",
       "      <td>93</td>\n",
       "      <td>1</td>\n",
       "    </tr>\n",
       "  </tbody>\n",
       "</table>\n",
       "</div>"
      ],
      "text/plain": [
       "   engine_no  RUL  result\n",
       "0          9   93       1\n",
       "1         10  120       0\n",
       "2         15   55       1\n",
       "3         18   99       1\n",
       "4         26   93       1"
      ]
     },
     "execution_count": 49,
     "metadata": {},
     "output_type": "execute_result"
    }
   ],
   "source": [
    "test_data_RUL_cluster1.head()"
   ]
  },
  {
   "cell_type": "markdown",
   "metadata": {},
   "source": [
    "# 100以内に故障するを1,しないを0としている 故障することを当てたいから、故障する1をpositiveと定義する。"
   ]
  },
  {
   "cell_type": "code",
   "execution_count": 50,
   "metadata": {},
   "outputs": [],
   "source": [
    "#混合行列\n",
    "#1 = Positive,0 = Negativeとする　なぜならば、再現率などがpositiveで計算されるので、故障するをpositiveにする\n",
    "#labels指定をしないと、左から0,1表記になるので、TPが右下になってしまう。\n",
    "cm = confusion_matrix(test_data_RUL_cluster1['result'],test_data_R_cluster1_0_4_pred['pred_test2_time_flag_step'],labels=[1, 0] )"
   ]
  },
  {
   "cell_type": "code",
   "execution_count": 51,
   "metadata": {},
   "outputs": [
    {
     "data": {
      "text/plain": [
       "array([[130,   5],\n",
       "       [ 39,  26]], dtype=int64)"
      ]
     },
     "execution_count": 51,
     "metadata": {},
     "output_type": "execute_result"
    }
   ],
   "source": [
    "cm"
   ]
  },
  {
   "cell_type": "markdown",
   "metadata": {},
   "source": [
    "# 列が予測の1と0行が実際の1と0つまり、真陽性 : TP (True-Positive)332、真陰性: TN (True-Negative)239、偽陽性: FP (False-Positive)18(故障していないのにしていると予測)、偽陰性: FN (False-Negative)118(実際は故障しているのに故障していないと予測)\n",
    "#https://pythondatascience.plavox.info/scikit-learn/%E5%88%86%E9%A1%9E%E7%B5%90%E6%9E%9C%E3%81%AE%E3%83%A2%E3%83%87%E3%83%AB%E8%A9%95%E4%BE%A1\n",
    "#FN (False-Negative)118を少なくしたい　つまり実際は故障だが、故障しないと判断してしまっているものを"
   ]
  },
  {
   "cell_type": "markdown",
   "metadata": {},
   "source": [
    "# labelsを付けた時の計算が上記のまとめて表示の1の方　labelsをつけなかったときの計算が下の方"
   ]
  },
  {
   "cell_type": "code",
   "execution_count": 52,
   "metadata": {},
   "outputs": [
    {
     "name": "stdout",
     "output_type": "stream",
     "text": [
      "              precision    recall  f1-score   support\n",
      "\n",
      "           1       0.77      0.96      0.86       135\n",
      "           0       0.84      0.40      0.54        65\n",
      "\n",
      "    accuracy                           0.78       200\n",
      "   macro avg       0.80      0.68      0.70       200\n",
      "weighted avg       0.79      0.78      0.75       200\n",
      "\n"
     ]
    }
   ],
   "source": [
    "#混合行列まとめて表示\n",
    "cr = classification_report(test_data_RUL_cluster1['result'],test_data_R_cluster1_0_4_pred['pred_test2_time_flag_step'],labels=[1, 0] )\n",
    "print(cr)"
   ]
  },
  {
   "cell_type": "markdown",
   "metadata": {},
   "source": [
    "# 結果はそれぞれcsv出力している。一応train_data_cluster0、test_data_cluster0も出力しておく。同じ名前のファイルが既にあるので、名前を変える"
   ]
  },
  {
   "cell_type": "code",
   "execution_count": 53,
   "metadata": {},
   "outputs": [],
   "source": [
    "# clusterごとに分けたデータの予測結果追加を出力\n",
    "test_data_R_cluster0_0_4_pred.to_csv('Desktop/インテグ課題/NASA/test_data/test_data_R_cluster0_0_4_pred.csv', index=False)\n",
    "test_data_R_cluster1_0_4_pred.to_csv('Desktop/インテグ課題/NASA/test_data/test_data_R_cluster1_0_4_pred.csv', index=False)"
   ]
  },
  {
   "cell_type": "code",
   "execution_count": 54,
   "metadata": {},
   "outputs": [],
   "source": [
    "# clusterごとに分けたデータの予測結果追加を読み込む\n",
    "test_data_R_cluster0_0_4_pred = pd.read_csv('Desktop/インテグ課題/NASA/test_data/test_data_R_cluster0_0_4_pred.csv')\n",
    "test_data_R_cluster1_0_4_pred = pd.read_csv('Desktop/インテグ課題/NASA/test_data/test_data_R_cluster1_0_4_pred.csv')"
   ]
  },
  {
   "cell_type": "markdown",
   "metadata": {},
   "source": [
    "# cluster0と1を結合して、test_dataの結果と比較する"
   ]
  },
  {
   "cell_type": "code",
   "execution_count": 55,
   "metadata": {},
   "outputs": [],
   "source": [
    "#2つのdataを結合する\n",
    "test_data_R_0_4_all = test_data_R_cluster0_0_4.append(test_data_R_cluster1_0_4)"
   ]
  },
  {
   "cell_type": "code",
   "execution_count": 56,
   "metadata": {},
   "outputs": [
    {
     "data": {
      "text/html": [
       "<div>\n",
       "<style scoped>\n",
       "    .dataframe tbody tr th:only-of-type {\n",
       "        vertical-align: middle;\n",
       "    }\n",
       "\n",
       "    .dataframe tbody tr th {\n",
       "        vertical-align: top;\n",
       "    }\n",
       "\n",
       "    .dataframe thead th {\n",
       "        text-align: right;\n",
       "    }\n",
       "</style>\n",
       "<table border=\"1\" class=\"dataframe\">\n",
       "  <thead>\n",
       "    <tr style=\"text-align: right;\">\n",
       "      <th></th>\n",
       "      <th>Unnamed: 0</th>\n",
       "      <th>engine_no</th>\n",
       "      <th>time_in_cycles</th>\n",
       "      <th>op_setting_1</th>\n",
       "      <th>op_setting_2</th>\n",
       "      <th>op_setting_3</th>\n",
       "      <th>sensor_1</th>\n",
       "      <th>sensor_2</th>\n",
       "      <th>sensor_3</th>\n",
       "      <th>sensor_4</th>\n",
       "      <th>...</th>\n",
       "      <th>sensor_16</th>\n",
       "      <th>sensor_17</th>\n",
       "      <th>sensor_18</th>\n",
       "      <th>sensor_19</th>\n",
       "      <th>sensor_20</th>\n",
       "      <th>sensor_21</th>\n",
       "      <th>stop</th>\n",
       "      <th>pred_test_time_step</th>\n",
       "      <th>pred_test2_time_step</th>\n",
       "      <th>pred_test2_time_flag_step</th>\n",
       "    </tr>\n",
       "  </thead>\n",
       "  <tbody>\n",
       "    <tr>\n",
       "      <th>0</th>\n",
       "      <td>1</td>\n",
       "      <td>0</td>\n",
       "      <td>1</td>\n",
       "      <td>42.0034</td>\n",
       "      <td>0.8400</td>\n",
       "      <td>100</td>\n",
       "      <td>445.00</td>\n",
       "      <td>549.36</td>\n",
       "      <td>1342.05</td>\n",
       "      <td>1124.56</td>\n",
       "      <td>...</td>\n",
       "      <td>0.02</td>\n",
       "      <td>329</td>\n",
       "      <td>2212</td>\n",
       "      <td>100.0</td>\n",
       "      <td>10.69</td>\n",
       "      <td>6.3956</td>\n",
       "      <td>2</td>\n",
       "      <td>-0.553710</td>\n",
       "      <td>0.365004</td>\n",
       "      <td>0</td>\n",
       "    </tr>\n",
       "    <tr>\n",
       "      <th>1</th>\n",
       "      <td>2</td>\n",
       "      <td>0</td>\n",
       "      <td>2</td>\n",
       "      <td>42.0017</td>\n",
       "      <td>0.8400</td>\n",
       "      <td>100</td>\n",
       "      <td>445.00</td>\n",
       "      <td>548.83</td>\n",
       "      <td>1351.93</td>\n",
       "      <td>1116.28</td>\n",
       "      <td>...</td>\n",
       "      <td>0.02</td>\n",
       "      <td>331</td>\n",
       "      <td>2212</td>\n",
       "      <td>100.0</td>\n",
       "      <td>10.55</td>\n",
       "      <td>6.3775</td>\n",
       "      <td>3</td>\n",
       "      <td>-0.555234</td>\n",
       "      <td>0.364651</td>\n",
       "      <td>0</td>\n",
       "    </tr>\n",
       "    <tr>\n",
       "      <th>2</th>\n",
       "      <td>3</td>\n",
       "      <td>0</td>\n",
       "      <td>3</td>\n",
       "      <td>0.0028</td>\n",
       "      <td>0.0019</td>\n",
       "      <td>100</td>\n",
       "      <td>518.67</td>\n",
       "      <td>642.35</td>\n",
       "      <td>1583.74</td>\n",
       "      <td>1400.44</td>\n",
       "      <td>...</td>\n",
       "      <td>0.03</td>\n",
       "      <td>392</td>\n",
       "      <td>2388</td>\n",
       "      <td>100.0</td>\n",
       "      <td>38.85</td>\n",
       "      <td>23.3483</td>\n",
       "      <td>4</td>\n",
       "      <td>-0.410151</td>\n",
       "      <td>0.398876</td>\n",
       "      <td>0</td>\n",
       "    </tr>\n",
       "    <tr>\n",
       "      <th>3</th>\n",
       "      <td>4</td>\n",
       "      <td>0</td>\n",
       "      <td>4</td>\n",
       "      <td>42.0047</td>\n",
       "      <td>0.8400</td>\n",
       "      <td>100</td>\n",
       "      <td>445.00</td>\n",
       "      <td>549.69</td>\n",
       "      <td>1354.36</td>\n",
       "      <td>1125.55</td>\n",
       "      <td>...</td>\n",
       "      <td>0.02</td>\n",
       "      <td>330</td>\n",
       "      <td>2212</td>\n",
       "      <td>100.0</td>\n",
       "      <td>10.56</td>\n",
       "      <td>6.4871</td>\n",
       "      <td>5</td>\n",
       "      <td>-0.360648</td>\n",
       "      <td>0.410803</td>\n",
       "      <td>1</td>\n",
       "    </tr>\n",
       "    <tr>\n",
       "      <th>4</th>\n",
       "      <td>5</td>\n",
       "      <td>0</td>\n",
       "      <td>5</td>\n",
       "      <td>10.0058</td>\n",
       "      <td>0.2506</td>\n",
       "      <td>100</td>\n",
       "      <td>489.05</td>\n",
       "      <td>604.72</td>\n",
       "      <td>1496.65</td>\n",
       "      <td>1310.52</td>\n",
       "      <td>...</td>\n",
       "      <td>0.03</td>\n",
       "      <td>370</td>\n",
       "      <td>2319</td>\n",
       "      <td>100.0</td>\n",
       "      <td>28.78</td>\n",
       "      <td>17.1987</td>\n",
       "      <td>6</td>\n",
       "      <td>-0.358974</td>\n",
       "      <td>0.411208</td>\n",
       "      <td>1</td>\n",
       "    </tr>\n",
       "  </tbody>\n",
       "</table>\n",
       "<p>5 rows × 31 columns</p>\n",
       "</div>"
      ],
      "text/plain": [
       "   Unnamed: 0  engine_no  time_in_cycles  op_setting_1  op_setting_2  \\\n",
       "0           1          0               1       42.0034        0.8400   \n",
       "1           2          0               2       42.0017        0.8400   \n",
       "2           3          0               3        0.0028        0.0019   \n",
       "3           4          0               4       42.0047        0.8400   \n",
       "4           5          0               5       10.0058        0.2506   \n",
       "\n",
       "   op_setting_3  sensor_1  sensor_2  sensor_3  sensor_4  ...  sensor_16  \\\n",
       "0           100    445.00    549.36   1342.05   1124.56  ...       0.02   \n",
       "1           100    445.00    548.83   1351.93   1116.28  ...       0.02   \n",
       "2           100    518.67    642.35   1583.74   1400.44  ...       0.03   \n",
       "3           100    445.00    549.69   1354.36   1125.55  ...       0.02   \n",
       "4           100    489.05    604.72   1496.65   1310.52  ...       0.03   \n",
       "\n",
       "   sensor_17  sensor_18  sensor_19  sensor_20  sensor_21  stop  \\\n",
       "0        329       2212      100.0      10.69     6.3956     2   \n",
       "1        331       2212      100.0      10.55     6.3775     3   \n",
       "2        392       2388      100.0      38.85    23.3483     4   \n",
       "3        330       2212      100.0      10.56     6.4871     5   \n",
       "4        370       2319      100.0      28.78    17.1987     6   \n",
       "\n",
       "   pred_test_time_step  pred_test2_time_step  pred_test2_time_flag_step  \n",
       "0            -0.553710              0.365004                          0  \n",
       "1            -0.555234              0.364651                          0  \n",
       "2            -0.410151              0.398876                          0  \n",
       "3            -0.360648              0.410803                          1  \n",
       "4            -0.358974              0.411208                          1  \n",
       "\n",
       "[5 rows x 31 columns]"
      ]
     },
     "execution_count": 56,
     "metadata": {},
     "output_type": "execute_result"
    }
   ],
   "source": [
    "test_data_R_0_4_all.head()"
   ]
  },
  {
   "cell_type": "code",
   "execution_count": 91,
   "metadata": {},
   "outputs": [
    {
     "name": "stdout",
     "output_type": "stream",
     "text": [
      "(104897, 30)\n",
      "(104897, 32)\n"
     ]
    }
   ],
   "source": [
    "print(test_data_R_0_4_all.shape)\n",
    "print(test_data.shape)"
   ]
  },
  {
   "cell_type": "code",
   "execution_count": 58,
   "metadata": {},
   "outputs": [],
   "source": [
    "# いらない列削除\n",
    "test_data_R_0_4_all = test_data_R_0_4_all.drop('Unnamed: 0', axis=1)"
   ]
  },
  {
   "cell_type": "code",
   "execution_count": 59,
   "metadata": {},
   "outputs": [],
   "source": [
    "# 2つのdataを最初の形に並べ替える\n",
    "test_data_R_0_4_all = test_data_R_0_4_all.sort_values(['engine_no', 'time_in_cycles'])\n"
   ]
  },
  {
   "cell_type": "code",
   "execution_count": 60,
   "metadata": {},
   "outputs": [],
   "source": [
    "#2つのtdataを結合したデータの予測結果追加を出力\n",
    "test_data_R_0_4_all.to_csv('Desktop/インテグ課題/NASA/test_data/test_data_R_0.4_all.csv', index=False)\n"
   ]
  },
  {
   "cell_type": "code",
   "execution_count": 61,
   "metadata": {},
   "outputs": [
    {
     "name": "stdout",
     "output_type": "stream",
     "text": [
      "450\n",
      "257\n"
     ]
    }
   ],
   "source": [
    "print((test_data_RUL['result'] == 1).sum())\n",
    "print((test_data_RUL['result'] == 0).sum())"
   ]
  },
  {
   "cell_type": "markdown",
   "metadata": {},
   "source": [
    "# Rで作成し、上記で結合したDataを使う。　列名はresultではないので、ランダムフォレストと少し形が違う"
   ]
  },
  {
   "cell_type": "code",
   "execution_count": 62,
   "metadata": {},
   "outputs": [],
   "source": [
    "#結果表の作成 \n",
    "test_data_R_0_4_all_result = test_data_R_0_4_all.sort_values(['engine_no', 'time_in_cycles'])\n",
    "\n",
    "#test_data_Rの各engineの最後のサイクルの行のみを表示　列は'engine_no', 'pred_test2_flag'のみ\n",
    "test_data_R_0_4_all_result = test_data_R_0_4_all.groupby('engine_no').last().reset_index()[['engine_no', 'pred_test2_time_flag_step']]\n",
    "\n"
   ]
  },
  {
   "cell_type": "code",
   "execution_count": 63,
   "metadata": {},
   "outputs": [
    {
     "name": "stdout",
     "output_type": "stream",
     "text": [
      "584\n",
      "123\n"
     ]
    }
   ],
   "source": [
    "print((test_data_R_0_4_all_result['pred_test2_time_flag_step'] == 1).sum())\n",
    "print((test_data_R_0_4_all_result['pred_test2_time_flag_step'] == 0).sum())"
   ]
  },
  {
   "cell_type": "markdown",
   "metadata": {},
   "source": [
    "# 100以内に故障するを1,しないを0としている 故障することを当てたいから、故障する1をpositiveと定義する。"
   ]
  },
  {
   "cell_type": "code",
   "execution_count": 64,
   "metadata": {},
   "outputs": [],
   "source": [
    "#混合行列\n",
    "#1 = Positive,0 = Negativeとする　なぜならば、再現率などがpositiveで計算されるので、故障するをpositiveにする\n",
    "#labels指定をしないと、左から0,1表記になるので、TPが右下になってしまう。\n",
    "cm = confusion_matrix(test_data_RUL['result'],test_data_R_0_4_all_result['pred_test2_time_flag_step'],labels=[1, 0] )"
   ]
  },
  {
   "cell_type": "code",
   "execution_count": 65,
   "metadata": {},
   "outputs": [
    {
     "data": {
      "text/plain": [
       "array([[419,  31],\n",
       "       [165,  92]], dtype=int64)"
      ]
     },
     "execution_count": 65,
     "metadata": {},
     "output_type": "execute_result"
    }
   ],
   "source": [
    "cm"
   ]
  },
  {
   "cell_type": "markdown",
   "metadata": {},
   "source": [
    "# 列が予測の1と0行が実際の1と0つまり、真陽性 : TP (True-Positive)332、真陰性: TN (True-Negative)239、偽陽性: FP (False-Positive)18(故障していないのにしていると予測)、偽陰性: FN (False-Negative)118(実際は故障しているのに故障していないと予測)\n",
    "#https://pythondatascience.plavox.info/scikit-learn/%E5%88%86%E9%A1%9E%E7%B5%90%E6%9E%9C%E3%81%AE%E3%83%A2%E3%83%87%E3%83%AB%E8%A9%95%E4%BE%A1\n",
    "#FN (False-Negative)118を少なくしたい　つまり実際は故障だが、故障しないと判断してしまっているものを"
   ]
  },
  {
   "cell_type": "code",
   "execution_count": 67,
   "metadata": {},
   "outputs": [
    {
     "name": "stdout",
     "output_type": "stream",
     "text": [
      "              precision    recall  f1-score   support\n",
      "\n",
      "           1       0.72      0.93      0.81       450\n",
      "           0       0.75      0.36      0.48       257\n",
      "\n",
      "    accuracy                           0.72       707\n",
      "   macro avg       0.73      0.64      0.65       707\n",
      "weighted avg       0.73      0.72      0.69       707\n",
      "\n"
     ]
    }
   ],
   "source": [
    "#混合行列まとめて表示\n",
    "cr = classification_report(test_data_RUL['result'],test_data_R_0_4_all_result['pred_test2_time_flag_step'],labels=[1, 0] )\n",
    "print(cr)"
   ]
  },
  {
   "cell_type": "markdown",
   "metadata": {},
   "source": [
    "# labelsを付けた時の計算が上記のまとめて表示の1の方　labelsをつけなかったときの計算が下の方"
   ]
  },
  {
   "cell_type": "markdown",
   "metadata": {},
   "source": [
    "# 閾値0.6"
   ]
  },
  {
   "cell_type": "markdown",
   "metadata": {},
   "source": [
    "# Rで作成した予測付きのtestデータを読み込む"
   ]
  },
  {
   "cell_type": "code",
   "execution_count": 68,
   "metadata": {},
   "outputs": [],
   "source": [
    "# clusterごとのtRを読み込み\n",
    "test_data_R_cluster0_0_6 = pd.read_csv('Desktop/インテグ課題/NASA/test_data/test_data_R_time_cluster0_0.6.csv')\n",
    "test_data_R_cluster1_0_6 = pd.read_csv('Desktop/インテグ課題/NASA/test_data/test_data_R_time_cluster1_0.6.csv')"
   ]
  },
  {
   "cell_type": "code",
   "execution_count": 69,
   "metadata": {},
   "outputs": [
    {
     "data": {
      "text/html": [
       "<div>\n",
       "<style scoped>\n",
       "    .dataframe tbody tr th:only-of-type {\n",
       "        vertical-align: middle;\n",
       "    }\n",
       "\n",
       "    .dataframe tbody tr th {\n",
       "        vertical-align: top;\n",
       "    }\n",
       "\n",
       "    .dataframe thead th {\n",
       "        text-align: right;\n",
       "    }\n",
       "</style>\n",
       "<table border=\"1\" class=\"dataframe\">\n",
       "  <thead>\n",
       "    <tr style=\"text-align: right;\">\n",
       "      <th></th>\n",
       "      <th>Unnamed: 0</th>\n",
       "      <th>engine_no</th>\n",
       "      <th>time_in_cycles</th>\n",
       "      <th>op_setting_1</th>\n",
       "      <th>op_setting_2</th>\n",
       "      <th>op_setting_3</th>\n",
       "      <th>sensor_1</th>\n",
       "      <th>sensor_2</th>\n",
       "      <th>sensor_3</th>\n",
       "      <th>sensor_4</th>\n",
       "      <th>...</th>\n",
       "      <th>sensor_16</th>\n",
       "      <th>sensor_17</th>\n",
       "      <th>sensor_18</th>\n",
       "      <th>sensor_19</th>\n",
       "      <th>sensor_20</th>\n",
       "      <th>sensor_21</th>\n",
       "      <th>stop</th>\n",
       "      <th>pred_test_time_step</th>\n",
       "      <th>pred_test2_time_step</th>\n",
       "      <th>pred_test2_time_flag_step</th>\n",
       "    </tr>\n",
       "  </thead>\n",
       "  <tbody>\n",
       "    <tr>\n",
       "      <th>0</th>\n",
       "      <td>1</td>\n",
       "      <td>0</td>\n",
       "      <td>1</td>\n",
       "      <td>42.0034</td>\n",
       "      <td>0.8400</td>\n",
       "      <td>100</td>\n",
       "      <td>445.00</td>\n",
       "      <td>549.36</td>\n",
       "      <td>1342.05</td>\n",
       "      <td>1124.56</td>\n",
       "      <td>...</td>\n",
       "      <td>0.02</td>\n",
       "      <td>329</td>\n",
       "      <td>2212</td>\n",
       "      <td>100.0</td>\n",
       "      <td>10.69</td>\n",
       "      <td>6.3956</td>\n",
       "      <td>2</td>\n",
       "      <td>-0.553710</td>\n",
       "      <td>0.365004</td>\n",
       "      <td>0</td>\n",
       "    </tr>\n",
       "    <tr>\n",
       "      <th>1</th>\n",
       "      <td>2</td>\n",
       "      <td>0</td>\n",
       "      <td>2</td>\n",
       "      <td>42.0017</td>\n",
       "      <td>0.8400</td>\n",
       "      <td>100</td>\n",
       "      <td>445.00</td>\n",
       "      <td>548.83</td>\n",
       "      <td>1351.93</td>\n",
       "      <td>1116.28</td>\n",
       "      <td>...</td>\n",
       "      <td>0.02</td>\n",
       "      <td>331</td>\n",
       "      <td>2212</td>\n",
       "      <td>100.0</td>\n",
       "      <td>10.55</td>\n",
       "      <td>6.3775</td>\n",
       "      <td>3</td>\n",
       "      <td>-0.555234</td>\n",
       "      <td>0.364651</td>\n",
       "      <td>0</td>\n",
       "    </tr>\n",
       "    <tr>\n",
       "      <th>2</th>\n",
       "      <td>3</td>\n",
       "      <td>0</td>\n",
       "      <td>3</td>\n",
       "      <td>0.0028</td>\n",
       "      <td>0.0019</td>\n",
       "      <td>100</td>\n",
       "      <td>518.67</td>\n",
       "      <td>642.35</td>\n",
       "      <td>1583.74</td>\n",
       "      <td>1400.44</td>\n",
       "      <td>...</td>\n",
       "      <td>0.03</td>\n",
       "      <td>392</td>\n",
       "      <td>2388</td>\n",
       "      <td>100.0</td>\n",
       "      <td>38.85</td>\n",
       "      <td>23.3483</td>\n",
       "      <td>4</td>\n",
       "      <td>-0.410151</td>\n",
       "      <td>0.398876</td>\n",
       "      <td>0</td>\n",
       "    </tr>\n",
       "    <tr>\n",
       "      <th>3</th>\n",
       "      <td>4</td>\n",
       "      <td>0</td>\n",
       "      <td>4</td>\n",
       "      <td>42.0047</td>\n",
       "      <td>0.8400</td>\n",
       "      <td>100</td>\n",
       "      <td>445.00</td>\n",
       "      <td>549.69</td>\n",
       "      <td>1354.36</td>\n",
       "      <td>1125.55</td>\n",
       "      <td>...</td>\n",
       "      <td>0.02</td>\n",
       "      <td>330</td>\n",
       "      <td>2212</td>\n",
       "      <td>100.0</td>\n",
       "      <td>10.56</td>\n",
       "      <td>6.4871</td>\n",
       "      <td>5</td>\n",
       "      <td>-0.360648</td>\n",
       "      <td>0.410803</td>\n",
       "      <td>0</td>\n",
       "    </tr>\n",
       "    <tr>\n",
       "      <th>4</th>\n",
       "      <td>5</td>\n",
       "      <td>0</td>\n",
       "      <td>5</td>\n",
       "      <td>10.0058</td>\n",
       "      <td>0.2506</td>\n",
       "      <td>100</td>\n",
       "      <td>489.05</td>\n",
       "      <td>604.72</td>\n",
       "      <td>1496.65</td>\n",
       "      <td>1310.52</td>\n",
       "      <td>...</td>\n",
       "      <td>0.03</td>\n",
       "      <td>370</td>\n",
       "      <td>2319</td>\n",
       "      <td>100.0</td>\n",
       "      <td>28.78</td>\n",
       "      <td>17.1987</td>\n",
       "      <td>6</td>\n",
       "      <td>-0.358974</td>\n",
       "      <td>0.411208</td>\n",
       "      <td>0</td>\n",
       "    </tr>\n",
       "  </tbody>\n",
       "</table>\n",
       "<p>5 rows × 31 columns</p>\n",
       "</div>"
      ],
      "text/plain": [
       "   Unnamed: 0  engine_no  time_in_cycles  op_setting_1  op_setting_2  \\\n",
       "0           1          0               1       42.0034        0.8400   \n",
       "1           2          0               2       42.0017        0.8400   \n",
       "2           3          0               3        0.0028        0.0019   \n",
       "3           4          0               4       42.0047        0.8400   \n",
       "4           5          0               5       10.0058        0.2506   \n",
       "\n",
       "   op_setting_3  sensor_1  sensor_2  sensor_3  sensor_4  ...  sensor_16  \\\n",
       "0           100    445.00    549.36   1342.05   1124.56  ...       0.02   \n",
       "1           100    445.00    548.83   1351.93   1116.28  ...       0.02   \n",
       "2           100    518.67    642.35   1583.74   1400.44  ...       0.03   \n",
       "3           100    445.00    549.69   1354.36   1125.55  ...       0.02   \n",
       "4           100    489.05    604.72   1496.65   1310.52  ...       0.03   \n",
       "\n",
       "   sensor_17  sensor_18  sensor_19  sensor_20  sensor_21  stop  \\\n",
       "0        329       2212      100.0      10.69     6.3956     2   \n",
       "1        331       2212      100.0      10.55     6.3775     3   \n",
       "2        392       2388      100.0      38.85    23.3483     4   \n",
       "3        330       2212      100.0      10.56     6.4871     5   \n",
       "4        370       2319      100.0      28.78    17.1987     6   \n",
       "\n",
       "   pred_test_time_step  pred_test2_time_step  pred_test2_time_flag_step  \n",
       "0            -0.553710              0.365004                          0  \n",
       "1            -0.555234              0.364651                          0  \n",
       "2            -0.410151              0.398876                          0  \n",
       "3            -0.360648              0.410803                          0  \n",
       "4            -0.358974              0.411208                          0  \n",
       "\n",
       "[5 rows x 31 columns]"
      ]
     },
     "execution_count": 69,
     "metadata": {},
     "output_type": "execute_result"
    }
   ],
   "source": [
    "test_data_R_cluster0_0_6.head()"
   ]
  },
  {
   "cell_type": "code",
   "execution_count": 70,
   "metadata": {
    "scrolled": true
   },
   "outputs": [
    {
     "data": {
      "text/html": [
       "<div>\n",
       "<style scoped>\n",
       "    .dataframe tbody tr th:only-of-type {\n",
       "        vertical-align: middle;\n",
       "    }\n",
       "\n",
       "    .dataframe tbody tr th {\n",
       "        vertical-align: top;\n",
       "    }\n",
       "\n",
       "    .dataframe thead th {\n",
       "        text-align: right;\n",
       "    }\n",
       "</style>\n",
       "<table border=\"1\" class=\"dataframe\">\n",
       "  <thead>\n",
       "    <tr style=\"text-align: right;\">\n",
       "      <th></th>\n",
       "      <th>Unnamed: 0</th>\n",
       "      <th>engine_no</th>\n",
       "      <th>time_in_cycles</th>\n",
       "      <th>op_setting_1</th>\n",
       "      <th>op_setting_2</th>\n",
       "      <th>op_setting_3</th>\n",
       "      <th>sensor_1</th>\n",
       "      <th>sensor_2</th>\n",
       "      <th>sensor_3</th>\n",
       "      <th>sensor_4</th>\n",
       "      <th>...</th>\n",
       "      <th>sensor_16</th>\n",
       "      <th>sensor_17</th>\n",
       "      <th>sensor_18</th>\n",
       "      <th>sensor_19</th>\n",
       "      <th>sensor_20</th>\n",
       "      <th>sensor_21</th>\n",
       "      <th>stop</th>\n",
       "      <th>pred_test_time_step</th>\n",
       "      <th>pred_test2_time_step</th>\n",
       "      <th>pred_test2_time_flag_step</th>\n",
       "    </tr>\n",
       "  </thead>\n",
       "  <tbody>\n",
       "    <tr>\n",
       "      <th>0</th>\n",
       "      <td>1</td>\n",
       "      <td>9</td>\n",
       "      <td>1</td>\n",
       "      <td>-0.0009</td>\n",
       "      <td>-0.0001</td>\n",
       "      <td>100</td>\n",
       "      <td>518.67</td>\n",
       "      <td>642.06</td>\n",
       "      <td>1590.15</td>\n",
       "      <td>1408.02</td>\n",
       "      <td>...</td>\n",
       "      <td>0.03</td>\n",
       "      <td>393</td>\n",
       "      <td>2388</td>\n",
       "      <td>100</td>\n",
       "      <td>38.90</td>\n",
       "      <td>23.3147</td>\n",
       "      <td>2</td>\n",
       "      <td>-0.119871</td>\n",
       "      <td>0.470068</td>\n",
       "      <td>0</td>\n",
       "    </tr>\n",
       "    <tr>\n",
       "      <th>1</th>\n",
       "      <td>2</td>\n",
       "      <td>9</td>\n",
       "      <td>2</td>\n",
       "      <td>0.0031</td>\n",
       "      <td>-0.0002</td>\n",
       "      <td>100</td>\n",
       "      <td>518.67</td>\n",
       "      <td>642.74</td>\n",
       "      <td>1584.08</td>\n",
       "      <td>1413.33</td>\n",
       "      <td>...</td>\n",
       "      <td>0.03</td>\n",
       "      <td>392</td>\n",
       "      <td>2388</td>\n",
       "      <td>100</td>\n",
       "      <td>38.70</td>\n",
       "      <td>23.3071</td>\n",
       "      <td>3</td>\n",
       "      <td>0.035570</td>\n",
       "      <td>0.508891</td>\n",
       "      <td>0</td>\n",
       "    </tr>\n",
       "    <tr>\n",
       "      <th>2</th>\n",
       "      <td>3</td>\n",
       "      <td>9</td>\n",
       "      <td>3</td>\n",
       "      <td>0.0023</td>\n",
       "      <td>-0.0001</td>\n",
       "      <td>100</td>\n",
       "      <td>518.67</td>\n",
       "      <td>642.48</td>\n",
       "      <td>1591.55</td>\n",
       "      <td>1407.27</td>\n",
       "      <td>...</td>\n",
       "      <td>0.03</td>\n",
       "      <td>394</td>\n",
       "      <td>2388</td>\n",
       "      <td>100</td>\n",
       "      <td>38.92</td>\n",
       "      <td>23.3058</td>\n",
       "      <td>4</td>\n",
       "      <td>-0.019998</td>\n",
       "      <td>0.495001</td>\n",
       "      <td>0</td>\n",
       "    </tr>\n",
       "    <tr>\n",
       "      <th>3</th>\n",
       "      <td>4</td>\n",
       "      <td>9</td>\n",
       "      <td>4</td>\n",
       "      <td>0.0033</td>\n",
       "      <td>-0.0004</td>\n",
       "      <td>100</td>\n",
       "      <td>518.67</td>\n",
       "      <td>642.15</td>\n",
       "      <td>1587.86</td>\n",
       "      <td>1406.12</td>\n",
       "      <td>...</td>\n",
       "      <td>0.03</td>\n",
       "      <td>394</td>\n",
       "      <td>2388</td>\n",
       "      <td>100</td>\n",
       "      <td>38.88</td>\n",
       "      <td>23.3084</td>\n",
       "      <td>5</td>\n",
       "      <td>-0.089382</td>\n",
       "      <td>0.477669</td>\n",
       "      <td>0</td>\n",
       "    </tr>\n",
       "    <tr>\n",
       "      <th>4</th>\n",
       "      <td>5</td>\n",
       "      <td>9</td>\n",
       "      <td>5</td>\n",
       "      <td>0.0005</td>\n",
       "      <td>-0.0003</td>\n",
       "      <td>100</td>\n",
       "      <td>518.67</td>\n",
       "      <td>642.47</td>\n",
       "      <td>1591.80</td>\n",
       "      <td>1407.10</td>\n",
       "      <td>...</td>\n",
       "      <td>0.03</td>\n",
       "      <td>389</td>\n",
       "      <td>2388</td>\n",
       "      <td>100</td>\n",
       "      <td>38.85</td>\n",
       "      <td>23.3685</td>\n",
       "      <td>6</td>\n",
       "      <td>-0.185455</td>\n",
       "      <td>0.453769</td>\n",
       "      <td>0</td>\n",
       "    </tr>\n",
       "  </tbody>\n",
       "</table>\n",
       "<p>5 rows × 31 columns</p>\n",
       "</div>"
      ],
      "text/plain": [
       "   Unnamed: 0  engine_no  time_in_cycles  op_setting_1  op_setting_2  \\\n",
       "0           1          9               1       -0.0009       -0.0001   \n",
       "1           2          9               2        0.0031       -0.0002   \n",
       "2           3          9               3        0.0023       -0.0001   \n",
       "3           4          9               4        0.0033       -0.0004   \n",
       "4           5          9               5        0.0005       -0.0003   \n",
       "\n",
       "   op_setting_3  sensor_1  sensor_2  sensor_3  sensor_4  ...  sensor_16  \\\n",
       "0           100    518.67    642.06   1590.15   1408.02  ...       0.03   \n",
       "1           100    518.67    642.74   1584.08   1413.33  ...       0.03   \n",
       "2           100    518.67    642.48   1591.55   1407.27  ...       0.03   \n",
       "3           100    518.67    642.15   1587.86   1406.12  ...       0.03   \n",
       "4           100    518.67    642.47   1591.80   1407.10  ...       0.03   \n",
       "\n",
       "   sensor_17  sensor_18  sensor_19  sensor_20  sensor_21  stop  \\\n",
       "0        393       2388        100      38.90    23.3147     2   \n",
       "1        392       2388        100      38.70    23.3071     3   \n",
       "2        394       2388        100      38.92    23.3058     4   \n",
       "3        394       2388        100      38.88    23.3084     5   \n",
       "4        389       2388        100      38.85    23.3685     6   \n",
       "\n",
       "   pred_test_time_step  pred_test2_time_step  pred_test2_time_flag_step  \n",
       "0            -0.119871              0.470068                          0  \n",
       "1             0.035570              0.508891                          0  \n",
       "2            -0.019998              0.495001                          0  \n",
       "3            -0.089382              0.477669                          0  \n",
       "4            -0.185455              0.453769                          0  \n",
       "\n",
       "[5 rows x 31 columns]"
      ]
     },
     "execution_count": 70,
     "metadata": {},
     "output_type": "execute_result"
    }
   ],
   "source": [
    "test_data_R_cluster1_0_6.head()"
   ]
  },
  {
   "cell_type": "markdown",
   "metadata": {},
   "source": [
    "# cluster0"
   ]
  },
  {
   "cell_type": "code",
   "execution_count": 71,
   "metadata": {},
   "outputs": [],
   "source": [
    "#結果表の作成 \n",
    "test_data_R_cluster0_0_6_pred = test_data_R_cluster0_0_6.sort_values(['engine_no', 'time_in_cycles'])\n",
    "\n",
    "#test_data_Rの各engineの最後のサイクルの行のみを表示　列は'engine_no', 'pred_test2_flag'のみ\n",
    "test_data_R_cluster0_0_6_pred = test_data_R_cluster0_0_6_pred.groupby('engine_no').last().reset_index()[['engine_no', 'pred_test2_time_flag_step']]\n",
    "\n"
   ]
  },
  {
   "cell_type": "code",
   "execution_count": 72,
   "metadata": {},
   "outputs": [
    {
     "data": {
      "text/html": [
       "<div>\n",
       "<style scoped>\n",
       "    .dataframe tbody tr th:only-of-type {\n",
       "        vertical-align: middle;\n",
       "    }\n",
       "\n",
       "    .dataframe tbody tr th {\n",
       "        vertical-align: top;\n",
       "    }\n",
       "\n",
       "    .dataframe thead th {\n",
       "        text-align: right;\n",
       "    }\n",
       "</style>\n",
       "<table border=\"1\" class=\"dataframe\">\n",
       "  <thead>\n",
       "    <tr style=\"text-align: right;\">\n",
       "      <th></th>\n",
       "      <th>engine_no</th>\n",
       "      <th>pred_test2_time_flag_step</th>\n",
       "    </tr>\n",
       "  </thead>\n",
       "  <tbody>\n",
       "    <tr>\n",
       "      <th>0</th>\n",
       "      <td>0</td>\n",
       "      <td>1</td>\n",
       "    </tr>\n",
       "    <tr>\n",
       "      <th>1</th>\n",
       "      <td>1</td>\n",
       "      <td>1</td>\n",
       "    </tr>\n",
       "    <tr>\n",
       "      <th>2</th>\n",
       "      <td>2</td>\n",
       "      <td>0</td>\n",
       "    </tr>\n",
       "    <tr>\n",
       "      <th>3</th>\n",
       "      <td>3</td>\n",
       "      <td>0</td>\n",
       "    </tr>\n",
       "    <tr>\n",
       "      <th>4</th>\n",
       "      <td>4</td>\n",
       "      <td>1</td>\n",
       "    </tr>\n",
       "  </tbody>\n",
       "</table>\n",
       "</div>"
      ],
      "text/plain": [
       "   engine_no  pred_test2_time_flag_step\n",
       "0          0                          1\n",
       "1          1                          1\n",
       "2          2                          0\n",
       "3          3                          0\n",
       "4          4                          1"
      ]
     },
     "execution_count": 72,
     "metadata": {},
     "output_type": "execute_result"
    }
   ],
   "source": [
    "test_data_R_cluster0_0_6_pred.head()"
   ]
  },
  {
   "cell_type": "markdown",
   "metadata": {},
   "source": [
    "# 上記で読み込んだtest_data_RUL_cluster0を使っていく"
   ]
  },
  {
   "cell_type": "code",
   "execution_count": 73,
   "metadata": {},
   "outputs": [
    {
     "data": {
      "text/html": [
       "<div>\n",
       "<style scoped>\n",
       "    .dataframe tbody tr th:only-of-type {\n",
       "        vertical-align: middle;\n",
       "    }\n",
       "\n",
       "    .dataframe tbody tr th {\n",
       "        vertical-align: top;\n",
       "    }\n",
       "\n",
       "    .dataframe thead th {\n",
       "        text-align: right;\n",
       "    }\n",
       "</style>\n",
       "<table border=\"1\" class=\"dataframe\">\n",
       "  <thead>\n",
       "    <tr style=\"text-align: right;\">\n",
       "      <th></th>\n",
       "      <th>engine_no</th>\n",
       "      <th>RUL</th>\n",
       "      <th>result</th>\n",
       "    </tr>\n",
       "  </thead>\n",
       "  <tbody>\n",
       "    <tr>\n",
       "      <th>0</th>\n",
       "      <td>0</td>\n",
       "      <td>22</td>\n",
       "      <td>1</td>\n",
       "    </tr>\n",
       "    <tr>\n",
       "      <th>1</th>\n",
       "      <td>1</td>\n",
       "      <td>12</td>\n",
       "      <td>1</td>\n",
       "    </tr>\n",
       "    <tr>\n",
       "      <th>2</th>\n",
       "      <td>2</td>\n",
       "      <td>108</td>\n",
       "      <td>0</td>\n",
       "    </tr>\n",
       "    <tr>\n",
       "      <th>3</th>\n",
       "      <td>3</td>\n",
       "      <td>88</td>\n",
       "      <td>1</td>\n",
       "    </tr>\n",
       "    <tr>\n",
       "      <th>4</th>\n",
       "      <td>4</td>\n",
       "      <td>10</td>\n",
       "      <td>1</td>\n",
       "    </tr>\n",
       "  </tbody>\n",
       "</table>\n",
       "</div>"
      ],
      "text/plain": [
       "   engine_no  RUL  result\n",
       "0          0   22       1\n",
       "1          1   12       1\n",
       "2          2  108       0\n",
       "3          3   88       1\n",
       "4          4   10       1"
      ]
     },
     "execution_count": 73,
     "metadata": {},
     "output_type": "execute_result"
    }
   ],
   "source": [
    "test_data_RUL_cluster0.head()"
   ]
  },
  {
   "cell_type": "markdown",
   "metadata": {},
   "source": [
    "# 100以内に故障するを1,しないを0としている 故障することを当てたいから、故障する1をpositiveと定義する。"
   ]
  },
  {
   "cell_type": "code",
   "execution_count": 74,
   "metadata": {},
   "outputs": [],
   "source": [
    "#混合行列\n",
    "#1 = Positive,0 = Negativeとする　なぜならば、再現率などがpositiveで計算されるので、故障するをpositiveにする\n",
    "#labels指定をしないと、左から0,1表記になるので、TPが右下になってしまう。\n",
    "cm = confusion_matrix(test_data_RUL_cluster0['result'],test_data_R_cluster0_0_6_pred['pred_test2_time_flag_step'],labels=[1, 0] )"
   ]
  },
  {
   "cell_type": "code",
   "execution_count": 75,
   "metadata": {},
   "outputs": [
    {
     "data": {
      "text/plain": [
       "array([[172, 143],\n",
       "       [  8, 184]], dtype=int64)"
      ]
     },
     "execution_count": 75,
     "metadata": {},
     "output_type": "execute_result"
    }
   ],
   "source": [
    "cm"
   ]
  },
  {
   "cell_type": "markdown",
   "metadata": {},
   "source": [
    "# 列が予測の1と0行が実際の1と0つまり、真陽性 : TP (True-Positive)332、真陰性: TN (True-Negative)239、偽陽性: FP (False-Positive)18(故障していないのにしていると予測)、偽陰性: FN (False-Negative)118(実際は故障しているのに故障していないと予測)\n",
    "#https://pythondatascience.plavox.info/scikit-learn/%E5%88%86%E9%A1%9E%E7%B5%90%E6%9E%9C%E3%81%AE%E3%83%A2%E3%83%87%E3%83%AB%E8%A9%95%E4%BE%A1\n",
    "#FN (False-Negative)118を少なくしたい　つまり実際は故障だが、故障しないと判断してしまっているものを"
   ]
  },
  {
   "cell_type": "code",
   "execution_count": 76,
   "metadata": {
    "scrolled": true
   },
   "outputs": [
    {
     "name": "stdout",
     "output_type": "stream",
     "text": [
      "              precision    recall  f1-score   support\n",
      "\n",
      "           1       0.96      0.55      0.69       315\n",
      "           0       0.56      0.96      0.71       192\n",
      "\n",
      "    accuracy                           0.70       507\n",
      "   macro avg       0.76      0.75      0.70       507\n",
      "weighted avg       0.81      0.70      0.70       507\n",
      "\n"
     ]
    }
   ],
   "source": [
    "#混合行列まとめて表示\n",
    "cr = classification_report(test_data_RUL_cluster0['result'],test_data_R_cluster0_0_6_pred['pred_test2_time_flag_step'],labels=[1, 0] )\n",
    "print(cr)"
   ]
  },
  {
   "cell_type": "markdown",
   "metadata": {},
   "source": [
    "# labelsを付けた時の計算が上記のまとめて表示の1の方　labelsをつけなかったときの計算が下の方"
   ]
  },
  {
   "cell_type": "markdown",
   "metadata": {},
   "source": [
    "# cluster1"
   ]
  },
  {
   "cell_type": "code",
   "execution_count": 77,
   "metadata": {},
   "outputs": [],
   "source": [
    "#結果表の作成 \n",
    "test_data_R_cluster1_0_6_pred = test_data_R_cluster1_0_6.sort_values(['engine_no', 'time_in_cycles'])\n",
    "\n",
    "#test_data_Rの各engineの最後のサイクルの行のみを表示　列は'engine_no', 'pred_test2_flag'のみ\n",
    "test_data_R_cluster1_0_6_pred = test_data_R_cluster1_0_6_pred.groupby('engine_no').last().reset_index()[['engine_no', 'pred_test2_time_flag_step']]\n",
    "\n"
   ]
  },
  {
   "cell_type": "code",
   "execution_count": 78,
   "metadata": {},
   "outputs": [
    {
     "data": {
      "text/html": [
       "<div>\n",
       "<style scoped>\n",
       "    .dataframe tbody tr th:only-of-type {\n",
       "        vertical-align: middle;\n",
       "    }\n",
       "\n",
       "    .dataframe tbody tr th {\n",
       "        vertical-align: top;\n",
       "    }\n",
       "\n",
       "    .dataframe thead th {\n",
       "        text-align: right;\n",
       "    }\n",
       "</style>\n",
       "<table border=\"1\" class=\"dataframe\">\n",
       "  <thead>\n",
       "    <tr style=\"text-align: right;\">\n",
       "      <th></th>\n",
       "      <th>engine_no</th>\n",
       "      <th>pred_test2_time_flag_step</th>\n",
       "    </tr>\n",
       "  </thead>\n",
       "  <tbody>\n",
       "    <tr>\n",
       "      <th>0</th>\n",
       "      <td>9</td>\n",
       "      <td>0</td>\n",
       "    </tr>\n",
       "    <tr>\n",
       "      <th>1</th>\n",
       "      <td>10</td>\n",
       "      <td>0</td>\n",
       "    </tr>\n",
       "    <tr>\n",
       "      <th>2</th>\n",
       "      <td>15</td>\n",
       "      <td>1</td>\n",
       "    </tr>\n",
       "    <tr>\n",
       "      <th>3</th>\n",
       "      <td>18</td>\n",
       "      <td>0</td>\n",
       "    </tr>\n",
       "    <tr>\n",
       "      <th>4</th>\n",
       "      <td>26</td>\n",
       "      <td>0</td>\n",
       "    </tr>\n",
       "  </tbody>\n",
       "</table>\n",
       "</div>"
      ],
      "text/plain": [
       "   engine_no  pred_test2_time_flag_step\n",
       "0          9                          0\n",
       "1         10                          0\n",
       "2         15                          1\n",
       "3         18                          0\n",
       "4         26                          0"
      ]
     },
     "execution_count": 78,
     "metadata": {},
     "output_type": "execute_result"
    }
   ],
   "source": [
    "test_data_R_cluster1_0_6_pred.head()"
   ]
  },
  {
   "cell_type": "markdown",
   "metadata": {},
   "source": [
    "# 上記で読み込んだtest_data_RUL_cluster1を使っていく"
   ]
  },
  {
   "cell_type": "code",
   "execution_count": 79,
   "metadata": {},
   "outputs": [
    {
     "data": {
      "text/html": [
       "<div>\n",
       "<style scoped>\n",
       "    .dataframe tbody tr th:only-of-type {\n",
       "        vertical-align: middle;\n",
       "    }\n",
       "\n",
       "    .dataframe tbody tr th {\n",
       "        vertical-align: top;\n",
       "    }\n",
       "\n",
       "    .dataframe thead th {\n",
       "        text-align: right;\n",
       "    }\n",
       "</style>\n",
       "<table border=\"1\" class=\"dataframe\">\n",
       "  <thead>\n",
       "    <tr style=\"text-align: right;\">\n",
       "      <th></th>\n",
       "      <th>engine_no</th>\n",
       "      <th>RUL</th>\n",
       "      <th>result</th>\n",
       "    </tr>\n",
       "  </thead>\n",
       "  <tbody>\n",
       "    <tr>\n",
       "      <th>0</th>\n",
       "      <td>9</td>\n",
       "      <td>93</td>\n",
       "      <td>1</td>\n",
       "    </tr>\n",
       "    <tr>\n",
       "      <th>1</th>\n",
       "      <td>10</td>\n",
       "      <td>120</td>\n",
       "      <td>0</td>\n",
       "    </tr>\n",
       "    <tr>\n",
       "      <th>2</th>\n",
       "      <td>15</td>\n",
       "      <td>55</td>\n",
       "      <td>1</td>\n",
       "    </tr>\n",
       "    <tr>\n",
       "      <th>3</th>\n",
       "      <td>18</td>\n",
       "      <td>99</td>\n",
       "      <td>1</td>\n",
       "    </tr>\n",
       "    <tr>\n",
       "      <th>4</th>\n",
       "      <td>26</td>\n",
       "      <td>93</td>\n",
       "      <td>1</td>\n",
       "    </tr>\n",
       "  </tbody>\n",
       "</table>\n",
       "</div>"
      ],
      "text/plain": [
       "   engine_no  RUL  result\n",
       "0          9   93       1\n",
       "1         10  120       0\n",
       "2         15   55       1\n",
       "3         18   99       1\n",
       "4         26   93       1"
      ]
     },
     "execution_count": 79,
     "metadata": {},
     "output_type": "execute_result"
    }
   ],
   "source": [
    "test_data_RUL_cluster1.head()"
   ]
  },
  {
   "cell_type": "markdown",
   "metadata": {},
   "source": [
    "# 100以内に故障するを1,しないを0としている 故障することを当てたいから、故障する1をpositiveと定義する。"
   ]
  },
  {
   "cell_type": "code",
   "execution_count": 82,
   "metadata": {},
   "outputs": [],
   "source": [
    "#混合行列\n",
    "#1 = Positive,0 = Negativeとする　なぜならば、再現率などがpositiveで計算されるので、故障するをpositiveにする\n",
    "#labels指定をしないと、左から0,1表記になるので、TPが右下になってしまう。\n",
    "cm = confusion_matrix(test_data_RUL_cluster1['result'],test_data_R_cluster1_0_6_pred['pred_test2_time_flag_step'],labels=[1, 0] )"
   ]
  },
  {
   "cell_type": "code",
   "execution_count": 83,
   "metadata": {},
   "outputs": [
    {
     "data": {
      "text/plain": [
       "array([[72, 63],\n",
       "       [ 2, 63]], dtype=int64)"
      ]
     },
     "execution_count": 83,
     "metadata": {},
     "output_type": "execute_result"
    }
   ],
   "source": [
    "cm"
   ]
  },
  {
   "cell_type": "markdown",
   "metadata": {},
   "source": [
    "# 列が予測の1と0行が実際の1と0つまり、真陽性 : TP (True-Positive)332、真陰性: TN (True-Negative)239、偽陽性: FP (False-Positive)18(故障していないのにしていると予測)、偽陰性: FN (False-Negative)118(実際は故障しているのに故障していないと予測)\n",
    "#https://pythondatascience.plavox.info/scikit-learn/%E5%88%86%E9%A1%9E%E7%B5%90%E6%9E%9C%E3%81%AE%E3%83%A2%E3%83%87%E3%83%AB%E8%A9%95%E4%BE%A1\n",
    "#FN (False-Negative)118を少なくしたい　つまり実際は故障だが、故障しないと判断してしまっているものを"
   ]
  },
  {
   "cell_type": "code",
   "execution_count": 85,
   "metadata": {},
   "outputs": [
    {
     "name": "stdout",
     "output_type": "stream",
     "text": [
      "              precision    recall  f1-score   support\n",
      "\n",
      "           1       0.97      0.53      0.69       135\n",
      "           0       0.50      0.97      0.66        65\n",
      "\n",
      "    accuracy                           0.68       200\n",
      "   macro avg       0.74      0.75      0.67       200\n",
      "weighted avg       0.82      0.68      0.68       200\n",
      "\n"
     ]
    }
   ],
   "source": [
    "#混合行列まとめて表示\n",
    "cr = classification_report(test_data_RUL_cluster1['result'],test_data_R_cluster1_0_6_pred['pred_test2_time_flag_step'],labels=[1, 0] )\n",
    "print(cr)"
   ]
  },
  {
   "cell_type": "markdown",
   "metadata": {},
   "source": [
    "# 結果はそれぞれcsv出力している。一応train_data_cluster0、test_data_cluster0も出力しておく。同じ名前のファイルが既にあるので、名前を変える"
   ]
  },
  {
   "cell_type": "code",
   "execution_count": 86,
   "metadata": {},
   "outputs": [],
   "source": [
    "#clusterごとに分けたデータの予測結果追加をを出力\n",
    "test_data_R_cluster0_0_6_pred.to_csv('Desktop/インテグ課題/NASA/test_data/test_data_R_cluster0_0_6_pred.csv', index=False)\n",
    "test_data_R_cluster1_0_6_pred.to_csv('Desktop/インテグ課題/NASA/test_data/test_data_R_cluster1_0_6_pred.csv', index=False)"
   ]
  },
  {
   "cell_type": "code",
   "execution_count": 87,
   "metadata": {},
   "outputs": [],
   "source": [
    "#clusterごとに分けたデータの予測結果追加を読み込む\n",
    "test_data_R_cluster0_0_6_pred = pd.read_csv('Desktop/インテグ課題/NASA/test_data/test_data_R_cluster0_0_6_pred.csv')\n",
    "test_data_R_cluster1_0_6_pred = pd.read_csv('Desktop/インテグ課題/NASA/test_data/test_data_R_cluster1_0_6_pred.csv')"
   ]
  },
  {
   "cell_type": "markdown",
   "metadata": {},
   "source": [
    "# cluster0と1を結合して、test_dataの結果と比較する"
   ]
  },
  {
   "cell_type": "code",
   "execution_count": 88,
   "metadata": {},
   "outputs": [],
   "source": [
    "#2つのdataを結合する\n",
    "test_data_R_0_6_all = test_data_R_cluster0_0_6.append(test_data_R_cluster1_0_6)"
   ]
  },
  {
   "cell_type": "code",
   "execution_count": 89,
   "metadata": {},
   "outputs": [
    {
     "data": {
      "text/html": [
       "<div>\n",
       "<style scoped>\n",
       "    .dataframe tbody tr th:only-of-type {\n",
       "        vertical-align: middle;\n",
       "    }\n",
       "\n",
       "    .dataframe tbody tr th {\n",
       "        vertical-align: top;\n",
       "    }\n",
       "\n",
       "    .dataframe thead th {\n",
       "        text-align: right;\n",
       "    }\n",
       "</style>\n",
       "<table border=\"1\" class=\"dataframe\">\n",
       "  <thead>\n",
       "    <tr style=\"text-align: right;\">\n",
       "      <th></th>\n",
       "      <th>Unnamed: 0</th>\n",
       "      <th>engine_no</th>\n",
       "      <th>time_in_cycles</th>\n",
       "      <th>op_setting_1</th>\n",
       "      <th>op_setting_2</th>\n",
       "      <th>op_setting_3</th>\n",
       "      <th>sensor_1</th>\n",
       "      <th>sensor_2</th>\n",
       "      <th>sensor_3</th>\n",
       "      <th>sensor_4</th>\n",
       "      <th>...</th>\n",
       "      <th>sensor_16</th>\n",
       "      <th>sensor_17</th>\n",
       "      <th>sensor_18</th>\n",
       "      <th>sensor_19</th>\n",
       "      <th>sensor_20</th>\n",
       "      <th>sensor_21</th>\n",
       "      <th>stop</th>\n",
       "      <th>pred_test_time_step</th>\n",
       "      <th>pred_test2_time_step</th>\n",
       "      <th>pred_test2_time_flag_step</th>\n",
       "    </tr>\n",
       "  </thead>\n",
       "  <tbody>\n",
       "    <tr>\n",
       "      <th>0</th>\n",
       "      <td>1</td>\n",
       "      <td>0</td>\n",
       "      <td>1</td>\n",
       "      <td>42.0034</td>\n",
       "      <td>0.8400</td>\n",
       "      <td>100</td>\n",
       "      <td>445.00</td>\n",
       "      <td>549.36</td>\n",
       "      <td>1342.05</td>\n",
       "      <td>1124.56</td>\n",
       "      <td>...</td>\n",
       "      <td>0.02</td>\n",
       "      <td>329</td>\n",
       "      <td>2212</td>\n",
       "      <td>100.0</td>\n",
       "      <td>10.69</td>\n",
       "      <td>6.3956</td>\n",
       "      <td>2</td>\n",
       "      <td>-0.553710</td>\n",
       "      <td>0.365004</td>\n",
       "      <td>0</td>\n",
       "    </tr>\n",
       "    <tr>\n",
       "      <th>1</th>\n",
       "      <td>2</td>\n",
       "      <td>0</td>\n",
       "      <td>2</td>\n",
       "      <td>42.0017</td>\n",
       "      <td>0.8400</td>\n",
       "      <td>100</td>\n",
       "      <td>445.00</td>\n",
       "      <td>548.83</td>\n",
       "      <td>1351.93</td>\n",
       "      <td>1116.28</td>\n",
       "      <td>...</td>\n",
       "      <td>0.02</td>\n",
       "      <td>331</td>\n",
       "      <td>2212</td>\n",
       "      <td>100.0</td>\n",
       "      <td>10.55</td>\n",
       "      <td>6.3775</td>\n",
       "      <td>3</td>\n",
       "      <td>-0.555234</td>\n",
       "      <td>0.364651</td>\n",
       "      <td>0</td>\n",
       "    </tr>\n",
       "    <tr>\n",
       "      <th>2</th>\n",
       "      <td>3</td>\n",
       "      <td>0</td>\n",
       "      <td>3</td>\n",
       "      <td>0.0028</td>\n",
       "      <td>0.0019</td>\n",
       "      <td>100</td>\n",
       "      <td>518.67</td>\n",
       "      <td>642.35</td>\n",
       "      <td>1583.74</td>\n",
       "      <td>1400.44</td>\n",
       "      <td>...</td>\n",
       "      <td>0.03</td>\n",
       "      <td>392</td>\n",
       "      <td>2388</td>\n",
       "      <td>100.0</td>\n",
       "      <td>38.85</td>\n",
       "      <td>23.3483</td>\n",
       "      <td>4</td>\n",
       "      <td>-0.410151</td>\n",
       "      <td>0.398876</td>\n",
       "      <td>0</td>\n",
       "    </tr>\n",
       "    <tr>\n",
       "      <th>3</th>\n",
       "      <td>4</td>\n",
       "      <td>0</td>\n",
       "      <td>4</td>\n",
       "      <td>42.0047</td>\n",
       "      <td>0.8400</td>\n",
       "      <td>100</td>\n",
       "      <td>445.00</td>\n",
       "      <td>549.69</td>\n",
       "      <td>1354.36</td>\n",
       "      <td>1125.55</td>\n",
       "      <td>...</td>\n",
       "      <td>0.02</td>\n",
       "      <td>330</td>\n",
       "      <td>2212</td>\n",
       "      <td>100.0</td>\n",
       "      <td>10.56</td>\n",
       "      <td>6.4871</td>\n",
       "      <td>5</td>\n",
       "      <td>-0.360648</td>\n",
       "      <td>0.410803</td>\n",
       "      <td>0</td>\n",
       "    </tr>\n",
       "    <tr>\n",
       "      <th>4</th>\n",
       "      <td>5</td>\n",
       "      <td>0</td>\n",
       "      <td>5</td>\n",
       "      <td>10.0058</td>\n",
       "      <td>0.2506</td>\n",
       "      <td>100</td>\n",
       "      <td>489.05</td>\n",
       "      <td>604.72</td>\n",
       "      <td>1496.65</td>\n",
       "      <td>1310.52</td>\n",
       "      <td>...</td>\n",
       "      <td>0.03</td>\n",
       "      <td>370</td>\n",
       "      <td>2319</td>\n",
       "      <td>100.0</td>\n",
       "      <td>28.78</td>\n",
       "      <td>17.1987</td>\n",
       "      <td>6</td>\n",
       "      <td>-0.358974</td>\n",
       "      <td>0.411208</td>\n",
       "      <td>0</td>\n",
       "    </tr>\n",
       "  </tbody>\n",
       "</table>\n",
       "<p>5 rows × 31 columns</p>\n",
       "</div>"
      ],
      "text/plain": [
       "   Unnamed: 0  engine_no  time_in_cycles  op_setting_1  op_setting_2  \\\n",
       "0           1          0               1       42.0034        0.8400   \n",
       "1           2          0               2       42.0017        0.8400   \n",
       "2           3          0               3        0.0028        0.0019   \n",
       "3           4          0               4       42.0047        0.8400   \n",
       "4           5          0               5       10.0058        0.2506   \n",
       "\n",
       "   op_setting_3  sensor_1  sensor_2  sensor_3  sensor_4  ...  sensor_16  \\\n",
       "0           100    445.00    549.36   1342.05   1124.56  ...       0.02   \n",
       "1           100    445.00    548.83   1351.93   1116.28  ...       0.02   \n",
       "2           100    518.67    642.35   1583.74   1400.44  ...       0.03   \n",
       "3           100    445.00    549.69   1354.36   1125.55  ...       0.02   \n",
       "4           100    489.05    604.72   1496.65   1310.52  ...       0.03   \n",
       "\n",
       "   sensor_17  sensor_18  sensor_19  sensor_20  sensor_21  stop  \\\n",
       "0        329       2212      100.0      10.69     6.3956     2   \n",
       "1        331       2212      100.0      10.55     6.3775     3   \n",
       "2        392       2388      100.0      38.85    23.3483     4   \n",
       "3        330       2212      100.0      10.56     6.4871     5   \n",
       "4        370       2319      100.0      28.78    17.1987     6   \n",
       "\n",
       "   pred_test_time_step  pred_test2_time_step  pred_test2_time_flag_step  \n",
       "0            -0.553710              0.365004                          0  \n",
       "1            -0.555234              0.364651                          0  \n",
       "2            -0.410151              0.398876                          0  \n",
       "3            -0.360648              0.410803                          0  \n",
       "4            -0.358974              0.411208                          0  \n",
       "\n",
       "[5 rows x 31 columns]"
      ]
     },
     "execution_count": 89,
     "metadata": {},
     "output_type": "execute_result"
    }
   ],
   "source": [
    "test_data_R_0_6_all.head()"
   ]
  },
  {
   "cell_type": "code",
   "execution_count": 92,
   "metadata": {},
   "outputs": [
    {
     "name": "stdout",
     "output_type": "stream",
     "text": [
      "(104897, 31)\n",
      "(104897, 32)\n"
     ]
    }
   ],
   "source": [
    "print(test_data_R_0_6_all.shape)\n",
    "print(test_data.shape)"
   ]
  },
  {
   "cell_type": "code",
   "execution_count": 93,
   "metadata": {},
   "outputs": [],
   "source": [
    "#いらない列削除\n",
    "test_data_R_0_6_all = test_data_R_0_6_all.drop('Unnamed: 0', axis=1)"
   ]
  },
  {
   "cell_type": "code",
   "execution_count": 94,
   "metadata": {},
   "outputs": [],
   "source": [
    "# 2つのdataを最初の形に並べ替える\n",
    "test_data_R_0_6_all = test_data_R_0_6_all.sort_values(['engine_no', 'time_in_cycles'])\n"
   ]
  },
  {
   "cell_type": "code",
   "execution_count": 95,
   "metadata": {},
   "outputs": [],
   "source": [
    "#2つのtdataを結合したデータの予測結果追加を出力\n",
    "test_data_R_0_6_all.to_csv('Desktop/インテグ課題/NASA/test_data/test_data_R_0.6_all.csv', index=False)\n"
   ]
  },
  {
   "cell_type": "code",
   "execution_count": 96,
   "metadata": {},
   "outputs": [
    {
     "name": "stdout",
     "output_type": "stream",
     "text": [
      "450\n",
      "257\n"
     ]
    }
   ],
   "source": [
    "print((test_data_RUL['result'] == 1).sum())\n",
    "print((test_data_RUL['result'] == 0).sum())"
   ]
  },
  {
   "cell_type": "markdown",
   "metadata": {},
   "source": [
    "# Rで作成し、上記で結合したDataを使う。　列名はresultではないので、ランダムフォレストと少し形が違う"
   ]
  },
  {
   "cell_type": "code",
   "execution_count": 97,
   "metadata": {},
   "outputs": [],
   "source": [
    "#結果表の作成 \n",
    "test_data_R_0_6_all_result = test_data_R_0_6_all.sort_values(['engine_no', 'time_in_cycles'])\n",
    "\n",
    "#test_data_Rの各engineの最後のサイクルの行のみを表示　列は'engine_no', 'pred_test2_flag'のみ\n",
    "test_data_R_0_6_all_result = test_data_R_0_6_all.groupby('engine_no').last().reset_index()[['engine_no', 'pred_test2_time_flag_step']]\n",
    "\n"
   ]
  },
  {
   "cell_type": "code",
   "execution_count": 98,
   "metadata": {},
   "outputs": [
    {
     "name": "stdout",
     "output_type": "stream",
     "text": [
      "254\n",
      "453\n"
     ]
    }
   ],
   "source": [
    "print((test_data_R_0_6_all_result['pred_test2_time_flag_step'] == 1).sum())\n",
    "print((test_data_R_0_6_all_result['pred_test2_time_flag_step'] == 0).sum())"
   ]
  },
  {
   "cell_type": "markdown",
   "metadata": {},
   "source": [
    "# 100以内に故障するを1,しないを0としている 故障することを当てたいから、故障する1をpositiveと定義する。"
   ]
  },
  {
   "cell_type": "code",
   "execution_count": 99,
   "metadata": {},
   "outputs": [],
   "source": [
    "#混合行列\n",
    "#1 = Positive,0 = Negativeとする　なぜならば、再現率などがpositiveで計算されるので、故障するをpositiveにする\n",
    "#labels指定をしないと、左から0,1表記になるので、TPが右下になってしまう。\n",
    "cm = confusion_matrix(test_data_RUL['result'],test_data_R_0_6_all_result['pred_test2_time_flag_step'],labels=[1, 0] )"
   ]
  },
  {
   "cell_type": "code",
   "execution_count": 100,
   "metadata": {},
   "outputs": [
    {
     "data": {
      "text/plain": [
       "array([[244, 206],\n",
       "       [ 10, 247]], dtype=int64)"
      ]
     },
     "execution_count": 100,
     "metadata": {},
     "output_type": "execute_result"
    }
   ],
   "source": [
    "cm"
   ]
  },
  {
   "cell_type": "markdown",
   "metadata": {},
   "source": [
    "# 列が予測の1と0行が実際の1と0つまり、真陽性 : TP (True-Positive)332、真陰性: TN (True-Negative)239、偽陽性: FP (False-Positive)18(故障していないのにしていると予測)、偽陰性: FN (False-Negative)118(実際は故障しているのに故障していないと予測)\n",
    "#https://pythondatascience.plavox.info/scikit-learn/%E5%88%86%E9%A1%9E%E7%B5%90%E6%9E%9C%E3%81%AE%E3%83%A2%E3%83%87%E3%83%AB%E8%A9%95%E4%BE%A1\n",
    "#FN (False-Negative)118を少なくしたい　つまり実際は故障だが、故障しないと判断してしまっているものを"
   ]
  },
  {
   "cell_type": "code",
   "execution_count": 101,
   "metadata": {},
   "outputs": [
    {
     "name": "stdout",
     "output_type": "stream",
     "text": [
      "              precision    recall  f1-score   support\n",
      "\n",
      "           1       0.96      0.54      0.69       450\n",
      "           0       0.55      0.96      0.70       257\n",
      "\n",
      "    accuracy                           0.69       707\n",
      "   macro avg       0.75      0.75      0.69       707\n",
      "weighted avg       0.81      0.69      0.69       707\n",
      "\n"
     ]
    }
   ],
   "source": [
    "#混合行列まとめて表示\n",
    "cr = classification_report(test_data_RUL['result'],test_data_R_0_6_all_result['pred_test2_time_flag_step'],labels=[1, 0] )\n",
    "print(cr)"
   ]
  },
  {
   "cell_type": "markdown",
   "metadata": {},
   "source": [
    "# labelsを付けた時の計算が上記のまとめて表示の1の方　labelsをつけなかったときの計算が下の方"
   ]
  }
 ],
 "metadata": {
  "kernelspec": {
   "display_name": "Python 3",
   "language": "python",
   "name": "python3"
  },
  "language_info": {
   "codemirror_mode": {
    "name": "ipython",
    "version": 3
   },
   "file_extension": ".py",
   "mimetype": "text/x-python",
   "name": "python",
   "nbconvert_exporter": "python",
   "pygments_lexer": "ipython3",
   "version": "3.7.3"
  }
 },
 "nbformat": 4,
 "nbformat_minor": 2
}

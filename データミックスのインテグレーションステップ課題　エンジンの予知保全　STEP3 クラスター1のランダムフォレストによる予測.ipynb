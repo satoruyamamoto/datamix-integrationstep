{
 "cells": [
  {
   "cell_type": "code",
   "execution_count": 1,
   "metadata": {},
   "outputs": [],
   "source": [
    "%matplotlib inline\n",
    "import matplotlib\n",
    "import matplotlib.pyplot as plt\n",
    "import numpy as np\n",
    "import pandas as pd\n",
    "from sklearn.linear_model import LinearRegression\n",
    "from sklearn.tree import DecisionTreeRegressor\n",
    "from sklearn.ensemble import RandomForestRegressor\n",
    "from sklearn.model_selection import GridSearchCV\n",
    "from sklearn.model_selection import train_test_split\n",
    "from sklearn.metrics import mean_squared_error\n",
    "\n",
    "from sklearn.metrics import confusion_matrix, accuracy_score,precision_score,recall_score, f1_score,classification_report\n",
    "from random import randint, shuffle\n",
    "import os\n",
    "import seaborn as sns\n",
    "\n",
    "\n"
   ]
  },
  {
   "cell_type": "code",
   "execution_count": 2,
   "metadata": {},
   "outputs": [],
   "source": [
    "# cluster0のtrain_dataとtest_dataを読み込み\n",
    "train_data_cluster1 = pd.read_csv('Desktop/インテグ課題/NASA/train_data/train_data_cluster1.csv')\n",
    "test_data_cluster1 = pd.read_csv('Desktop/インテグ課題/NASA/test_data/test_data_cluster1.csv')"
   ]
  },
  {
   "cell_type": "markdown",
   "metadata": {},
   "source": [
    "# test_dataのRUL（答え）をclusterごとに分けて、他必要な処理を行ったファイルを読み込む"
   ]
  },
  {
   "cell_type": "code",
   "execution_count": 3,
   "metadata": {},
   "outputs": [],
   "source": [
    "test_data_RUL_cluster1 = pd.read_csv('Desktop/インテグ課題/NASA/test_data/test_data_RUL_cluster1.csv')"
   ]
  },
  {
   "cell_type": "markdown",
   "metadata": {},
   "source": [
    "# cluster1"
   ]
  },
  {
   "cell_type": "code",
   "execution_count": 4,
   "metadata": {},
   "outputs": [],
   "source": [
    "#重複した行を削除\n",
    "list_engine_no_train_data_cluster1 = list(train_data_cluster1['engine_no'].drop_duplicates())"
   ]
  },
  {
   "cell_type": "code",
   "execution_count": 5,
   "metadata": {},
   "outputs": [
    {
     "data": {
      "text/plain": [
       "[5,\n",
       " 7,\n",
       " 9,\n",
       " 13,\n",
       " 16,\n",
       " 19,\n",
       " 21,\n",
       " 22,\n",
       " 25,\n",
       " 30,\n",
       " 34,\n",
       " 53,\n",
       " 54,\n",
       " 56,\n",
       " 57,\n",
       " 59,\n",
       " 69,\n",
       " 70,\n",
       " 71,\n",
       " 72,\n",
       " 74,\n",
       " 78,\n",
       " 82,\n",
       " 84,\n",
       " 86,\n",
       " 87,\n",
       " 90,\n",
       " 91,\n",
       " 93,\n",
       " 101,\n",
       " 106,\n",
       " 118,\n",
       " 122,\n",
       " 124,\n",
       " 130,\n",
       " 135,\n",
       " 138,\n",
       " 139,\n",
       " 141,\n",
       " 146,\n",
       " 149,\n",
       " 150,\n",
       " 154,\n",
       " 156,\n",
       " 158,\n",
       " 160,\n",
       " 167,\n",
       " 178,\n",
       " 183,\n",
       " 185,\n",
       " 193,\n",
       " 196,\n",
       " 198,\n",
       " 201,\n",
       " 205,\n",
       " 207,\n",
       " 214,\n",
       " 215,\n",
       " 216,\n",
       " 230,\n",
       " 231,\n",
       " 233,\n",
       " 234,\n",
       " 236,\n",
       " 238,\n",
       " 244,\n",
       " 247,\n",
       " 248,\n",
       " 252,\n",
       " 254,\n",
       " 259,\n",
       " 262,\n",
       " 263,\n",
       " 264,\n",
       " 274,\n",
       " 282,\n",
       " 288,\n",
       " 293,\n",
       " 295,\n",
       " 302,\n",
       " 303,\n",
       " 304,\n",
       " 310,\n",
       " 311,\n",
       " 314,\n",
       " 320,\n",
       " 323,\n",
       " 326,\n",
       " 327,\n",
       " 332,\n",
       " 334,\n",
       " 336,\n",
       " 338,\n",
       " 347,\n",
       " 352,\n",
       " 353,\n",
       " 357,\n",
       " 358,\n",
       " 360,\n",
       " 363,\n",
       " 365,\n",
       " 371,\n",
       " 373,\n",
       " 375,\n",
       " 376,\n",
       " 378,\n",
       " 382,\n",
       " 385,\n",
       " 389,\n",
       " 390,\n",
       " 393,\n",
       " 394,\n",
       " 395,\n",
       " 397,\n",
       " 398,\n",
       " 404,\n",
       " 405,\n",
       " 410,\n",
       " 415,\n",
       " 416,\n",
       " 418,\n",
       " 421,\n",
       " 423,\n",
       " 425,\n",
       " 426,\n",
       " 429,\n",
       " 438,\n",
       " 444,\n",
       " 445,\n",
       " 453,\n",
       " 457,\n",
       " 459,\n",
       " 460,\n",
       " 463,\n",
       " 468,\n",
       " 473,\n",
       " 475,\n",
       " 477,\n",
       " 478,\n",
       " 481,\n",
       " 482,\n",
       " 484,\n",
       " 489,\n",
       " 496,\n",
       " 502,\n",
       " 507,\n",
       " 513,\n",
       " 519,\n",
       " 521,\n",
       " 528,\n",
       " 529,\n",
       " 533,\n",
       " 536,\n",
       " 539,\n",
       " 541,\n",
       " 545,\n",
       " 557,\n",
       " 573,\n",
       " 575,\n",
       " 577,\n",
       " 581,\n",
       " 586,\n",
       " 588,\n",
       " 598,\n",
       " 600,\n",
       " 601,\n",
       " 606,\n",
       " 611,\n",
       " 613,\n",
       " 617,\n",
       " 621,\n",
       " 623,\n",
       " 624,\n",
       " 625,\n",
       " 626,\n",
       " 633,\n",
       " 634,\n",
       " 635,\n",
       " 639,\n",
       " 643,\n",
       " 644,\n",
       " 645,\n",
       " 647,\n",
       " 654,\n",
       " 656,\n",
       " 661,\n",
       " 664,\n",
       " 665,\n",
       " 671,\n",
       " 672,\n",
       " 673,\n",
       " 674,\n",
       " 679,\n",
       " 680,\n",
       " 683,\n",
       " 688,\n",
       " 697,\n",
       " 703,\n",
       " 705,\n",
       " 706]"
      ]
     },
     "execution_count": 5,
     "metadata": {},
     "output_type": "execute_result"
    }
   ],
   "source": [
    "list_engine_no_train_data_cluster1"
   ]
  },
  {
   "cell_type": "code",
   "execution_count": 6,
   "metadata": {},
   "outputs": [],
   "source": [
    "# 特徴量を抽出　上記の欠損値以外を抽出\n",
    "metadata_columns = ['engine_no', 'time_in_cycles']\n",
    "selected_features = [x for x in test_data_cluster1.columns if x not in metadata_columns]"
   ]
  },
  {
   "cell_type": "markdown",
   "metadata": {},
   "source": [
    "#  特徴量選択をやり直す際はここから行う"
   ]
  },
  {
   "cell_type": "code",
   "execution_count": 7,
   "metadata": {},
   "outputs": [
    {
     "data": {
      "text/plain": [
       "['op_setting_1',\n",
       " 'op_setting_2',\n",
       " 'op_setting_3',\n",
       " 'sensor_1',\n",
       " 'sensor_2',\n",
       " 'sensor_3',\n",
       " 'sensor_4',\n",
       " 'sensor_5',\n",
       " 'sensor_6',\n",
       " 'sensor_7',\n",
       " 'sensor_8',\n",
       " 'sensor_9',\n",
       " 'sensor_10',\n",
       " 'sensor_11',\n",
       " 'sensor_12',\n",
       " 'sensor_13',\n",
       " 'sensor_14',\n",
       " 'sensor_15',\n",
       " 'sensor_16',\n",
       " 'sensor_17',\n",
       " 'sensor_18',\n",
       " 'sensor_19',\n",
       " 'sensor_20',\n",
       " 'sensor_21']"
      ]
     },
     "execution_count": 7,
     "metadata": {},
     "output_type": "execute_result"
    }
   ],
   "source": [
    "selected_features"
   ]
  },
  {
   "cell_type": "markdown",
   "metadata": {},
   "source": [
    "#  ここで特徴量を入れていくので、特徴量選択をし直した後はここからやり直す"
   ]
  },
  {
   "cell_type": "code",
   "execution_count": 8,
   "metadata": {},
   "outputs": [],
   "source": [
    "#大元のtrainをx(selected_features)とy(RUL)に分ける\n",
    "X_train_all_cluster1, y_train_all_cluster1 = train_data_cluster1[selected_features], train_data_cluster1['RUL']"
   ]
  },
  {
   "cell_type": "code",
   "execution_count": 9,
   "metadata": {},
   "outputs": [],
   "source": [
    "#大元のtestの特徴量からselected_featuresだけのX_testにする\n",
    "X_test_cluster1 = test_data_cluster1[selected_features]"
   ]
  },
  {
   "cell_type": "markdown",
   "metadata": {},
   "source": [
    "## ランダムフォレスト　欠損値の列のみ除く"
   ]
  },
  {
   "cell_type": "code",
   "execution_count": 10,
   "metadata": {},
   "outputs": [
    {
     "name": "stderr",
     "output_type": "stream",
     "text": [
      "C:\\Users\\81907\\Anaconda3\\lib\\site-packages\\sklearn\\ensemble\\forest.py:245: FutureWarning: The default value of n_estimators will change from 10 in version 0.20 to 100 in 0.22.\n",
      "  \"10 in version 0.20 to 100 in 0.22.\", FutureWarning)\n"
     ]
    },
    {
     "data": {
      "text/plain": [
       "RandomForestRegressor(bootstrap=True, criterion='mse', max_depth=None,\n",
       "                      max_features='auto', max_leaf_nodes=None,\n",
       "                      min_impurity_decrease=0.0, min_impurity_split=None,\n",
       "                      min_samples_leaf=1, min_samples_split=2,\n",
       "                      min_weight_fraction_leaf=0.0, n_estimators=10,\n",
       "                      n_jobs=None, oob_score=False, random_state=1234,\n",
       "                      verbose=0, warm_start=False)"
      ]
     },
     "execution_count": 10,
     "metadata": {},
     "output_type": "execute_result"
    }
   ],
   "source": [
    "#ランダムフォレスト\n",
    "rf_cluster1 = RandomForestRegressor(random_state=1234)\n",
    "rf_cluster1.fit(X_train_all_cluster1, y_train_all_cluster1)\n",
    "\n",
    "\n",
    "# FutureWarningは問題ありません"
   ]
  },
  {
   "cell_type": "markdown",
   "metadata": {},
   "source": [
    "# 注意　最後は結合するので、列名はpred_rfで統一する"
   ]
  },
  {
   "cell_type": "code",
   "execution_count": 11,
   "metadata": {},
   "outputs": [],
   "source": [
    "#予測する\n",
    "test_data_cluster1['pred_rf'] = rf_cluster1.predict(X_test_cluster1)"
   ]
  },
  {
   "cell_type": "code",
   "execution_count": 12,
   "metadata": {
    "scrolled": true
   },
   "outputs": [
    {
     "data": {
      "text/html": [
       "<div>\n",
       "<style scoped>\n",
       "    .dataframe tbody tr th:only-of-type {\n",
       "        vertical-align: middle;\n",
       "    }\n",
       "\n",
       "    .dataframe tbody tr th {\n",
       "        vertical-align: top;\n",
       "    }\n",
       "\n",
       "    .dataframe thead th {\n",
       "        text-align: right;\n",
       "    }\n",
       "</style>\n",
       "<table border=\"1\" class=\"dataframe\">\n",
       "  <thead>\n",
       "    <tr style=\"text-align: right;\">\n",
       "      <th></th>\n",
       "      <th>engine_no</th>\n",
       "      <th>time_in_cycles</th>\n",
       "      <th>op_setting_1</th>\n",
       "      <th>op_setting_2</th>\n",
       "      <th>op_setting_3</th>\n",
       "      <th>sensor_1</th>\n",
       "      <th>sensor_2</th>\n",
       "      <th>sensor_3</th>\n",
       "      <th>sensor_4</th>\n",
       "      <th>sensor_5</th>\n",
       "      <th>...</th>\n",
       "      <th>sensor_13</th>\n",
       "      <th>sensor_14</th>\n",
       "      <th>sensor_15</th>\n",
       "      <th>sensor_16</th>\n",
       "      <th>sensor_17</th>\n",
       "      <th>sensor_18</th>\n",
       "      <th>sensor_19</th>\n",
       "      <th>sensor_20</th>\n",
       "      <th>sensor_21</th>\n",
       "      <th>pred_rf</th>\n",
       "    </tr>\n",
       "  </thead>\n",
       "  <tbody>\n",
       "    <tr>\n",
       "      <th>0</th>\n",
       "      <td>9</td>\n",
       "      <td>1</td>\n",
       "      <td>-0.0009</td>\n",
       "      <td>-0.0001</td>\n",
       "      <td>100.0</td>\n",
       "      <td>518.67</td>\n",
       "      <td>642.06</td>\n",
       "      <td>1590.15</td>\n",
       "      <td>1408.02</td>\n",
       "      <td>14.62</td>\n",
       "      <td>...</td>\n",
       "      <td>2388.08</td>\n",
       "      <td>8126.75</td>\n",
       "      <td>8.4314</td>\n",
       "      <td>0.03</td>\n",
       "      <td>393</td>\n",
       "      <td>2388</td>\n",
       "      <td>100.0</td>\n",
       "      <td>38.90</td>\n",
       "      <td>23.3147</td>\n",
       "      <td>132.7</td>\n",
       "    </tr>\n",
       "    <tr>\n",
       "      <th>1</th>\n",
       "      <td>9</td>\n",
       "      <td>2</td>\n",
       "      <td>0.0031</td>\n",
       "      <td>-0.0002</td>\n",
       "      <td>100.0</td>\n",
       "      <td>518.67</td>\n",
       "      <td>642.74</td>\n",
       "      <td>1584.08</td>\n",
       "      <td>1413.33</td>\n",
       "      <td>14.62</td>\n",
       "      <td>...</td>\n",
       "      <td>2388.08</td>\n",
       "      <td>8131.25</td>\n",
       "      <td>8.4829</td>\n",
       "      <td>0.03</td>\n",
       "      <td>392</td>\n",
       "      <td>2388</td>\n",
       "      <td>100.0</td>\n",
       "      <td>38.70</td>\n",
       "      <td>23.3071</td>\n",
       "      <td>149.9</td>\n",
       "    </tr>\n",
       "    <tr>\n",
       "      <th>2</th>\n",
       "      <td>9</td>\n",
       "      <td>3</td>\n",
       "      <td>0.0023</td>\n",
       "      <td>-0.0001</td>\n",
       "      <td>100.0</td>\n",
       "      <td>518.67</td>\n",
       "      <td>642.48</td>\n",
       "      <td>1591.55</td>\n",
       "      <td>1407.27</td>\n",
       "      <td>14.62</td>\n",
       "      <td>...</td>\n",
       "      <td>2388.10</td>\n",
       "      <td>8129.61</td>\n",
       "      <td>8.4557</td>\n",
       "      <td>0.03</td>\n",
       "      <td>394</td>\n",
       "      <td>2388</td>\n",
       "      <td>100.0</td>\n",
       "      <td>38.92</td>\n",
       "      <td>23.3058</td>\n",
       "      <td>123.7</td>\n",
       "    </tr>\n",
       "    <tr>\n",
       "      <th>3</th>\n",
       "      <td>9</td>\n",
       "      <td>4</td>\n",
       "      <td>0.0033</td>\n",
       "      <td>-0.0004</td>\n",
       "      <td>100.0</td>\n",
       "      <td>518.67</td>\n",
       "      <td>642.15</td>\n",
       "      <td>1587.86</td>\n",
       "      <td>1406.12</td>\n",
       "      <td>14.62</td>\n",
       "      <td>...</td>\n",
       "      <td>2388.06</td>\n",
       "      <td>8137.89</td>\n",
       "      <td>8.4270</td>\n",
       "      <td>0.03</td>\n",
       "      <td>394</td>\n",
       "      <td>2388</td>\n",
       "      <td>100.0</td>\n",
       "      <td>38.88</td>\n",
       "      <td>23.3084</td>\n",
       "      <td>126.3</td>\n",
       "    </tr>\n",
       "    <tr>\n",
       "      <th>4</th>\n",
       "      <td>9</td>\n",
       "      <td>5</td>\n",
       "      <td>0.0005</td>\n",
       "      <td>-0.0003</td>\n",
       "      <td>100.0</td>\n",
       "      <td>518.67</td>\n",
       "      <td>642.47</td>\n",
       "      <td>1591.80</td>\n",
       "      <td>1407.10</td>\n",
       "      <td>14.62</td>\n",
       "      <td>...</td>\n",
       "      <td>2388.11</td>\n",
       "      <td>8132.09</td>\n",
       "      <td>8.3875</td>\n",
       "      <td>0.03</td>\n",
       "      <td>389</td>\n",
       "      <td>2388</td>\n",
       "      <td>100.0</td>\n",
       "      <td>38.85</td>\n",
       "      <td>23.3685</td>\n",
       "      <td>155.0</td>\n",
       "    </tr>\n",
       "  </tbody>\n",
       "</table>\n",
       "<p>5 rows × 27 columns</p>\n",
       "</div>"
      ],
      "text/plain": [
       "   engine_no  time_in_cycles  op_setting_1  op_setting_2  op_setting_3  \\\n",
       "0          9               1       -0.0009       -0.0001         100.0   \n",
       "1          9               2        0.0031       -0.0002         100.0   \n",
       "2          9               3        0.0023       -0.0001         100.0   \n",
       "3          9               4        0.0033       -0.0004         100.0   \n",
       "4          9               5        0.0005       -0.0003         100.0   \n",
       "\n",
       "   sensor_1  sensor_2  sensor_3  sensor_4  sensor_5  ...  sensor_13  \\\n",
       "0    518.67    642.06   1590.15   1408.02     14.62  ...    2388.08   \n",
       "1    518.67    642.74   1584.08   1413.33     14.62  ...    2388.08   \n",
       "2    518.67    642.48   1591.55   1407.27     14.62  ...    2388.10   \n",
       "3    518.67    642.15   1587.86   1406.12     14.62  ...    2388.06   \n",
       "4    518.67    642.47   1591.80   1407.10     14.62  ...    2388.11   \n",
       "\n",
       "   sensor_14  sensor_15  sensor_16  sensor_17  sensor_18  sensor_19  \\\n",
       "0    8126.75     8.4314       0.03        393       2388      100.0   \n",
       "1    8131.25     8.4829       0.03        392       2388      100.0   \n",
       "2    8129.61     8.4557       0.03        394       2388      100.0   \n",
       "3    8137.89     8.4270       0.03        394       2388      100.0   \n",
       "4    8132.09     8.3875       0.03        389       2388      100.0   \n",
       "\n",
       "   sensor_20  sensor_21  pred_rf  \n",
       "0      38.90    23.3147    132.7  \n",
       "1      38.70    23.3071    149.9  \n",
       "2      38.92    23.3058    123.7  \n",
       "3      38.88    23.3084    126.3  \n",
       "4      38.85    23.3685    155.0  \n",
       "\n",
       "[5 rows x 27 columns]"
      ]
     },
     "execution_count": 12,
     "metadata": {},
     "output_type": "execute_result"
    }
   ],
   "source": [
    "test_data_cluster1.head()"
   ]
  },
  {
   "cell_type": "markdown",
   "metadata": {},
   "source": [
    "# 注意　最後は結合するので、列名はpred_rfで統一する"
   ]
  },
  {
   "cell_type": "code",
   "execution_count": 13,
   "metadata": {},
   "outputs": [],
   "source": [
    "#結果表の作成 \n",
    "train_data_cluster1 = train_data_cluster1.sort_values(['engine_no', 'time_in_cycles'])\n",
    "test_data_cluster1 = test_data_cluster1.sort_values(['engine_no', 'time_in_cycles'])\n",
    "\n",
    "#test_dataの各engineの最後のサイクルの行のみを表示　列は'engine_no', 'pred_rf'のみ\n",
    "result_cluster1 = test_data_cluster1.groupby('engine_no').last().reset_index()[['engine_no', 'pred_rf']]\n",
    "\n"
   ]
  },
  {
   "cell_type": "code",
   "execution_count": 14,
   "metadata": {},
   "outputs": [
    {
     "data": {
      "text/html": [
       "<div>\n",
       "<style scoped>\n",
       "    .dataframe tbody tr th:only-of-type {\n",
       "        vertical-align: middle;\n",
       "    }\n",
       "\n",
       "    .dataframe tbody tr th {\n",
       "        vertical-align: top;\n",
       "    }\n",
       "\n",
       "    .dataframe thead th {\n",
       "        text-align: right;\n",
       "    }\n",
       "</style>\n",
       "<table border=\"1\" class=\"dataframe\">\n",
       "  <thead>\n",
       "    <tr style=\"text-align: right;\">\n",
       "      <th></th>\n",
       "      <th>engine_no</th>\n",
       "      <th>pred_rf</th>\n",
       "    </tr>\n",
       "  </thead>\n",
       "  <tbody>\n",
       "    <tr>\n",
       "      <th>0</th>\n",
       "      <td>9</td>\n",
       "      <td>134.1</td>\n",
       "    </tr>\n",
       "    <tr>\n",
       "      <th>1</th>\n",
       "      <td>10</td>\n",
       "      <td>186.2</td>\n",
       "    </tr>\n",
       "    <tr>\n",
       "      <th>2</th>\n",
       "      <td>15</td>\n",
       "      <td>42.5</td>\n",
       "    </tr>\n",
       "    <tr>\n",
       "      <th>3</th>\n",
       "      <td>18</td>\n",
       "      <td>144.8</td>\n",
       "    </tr>\n",
       "    <tr>\n",
       "      <th>4</th>\n",
       "      <td>26</td>\n",
       "      <td>97.4</td>\n",
       "    </tr>\n",
       "  </tbody>\n",
       "</table>\n",
       "</div>"
      ],
      "text/plain": [
       "   engine_no  pred_rf\n",
       "0          9    134.1\n",
       "1         10    186.2\n",
       "2         15     42.5\n",
       "3         18    144.8\n",
       "4         26     97.4"
      ]
     },
     "execution_count": 14,
     "metadata": {},
     "output_type": "execute_result"
    }
   ],
   "source": [
    "result_cluster1.head()"
   ]
  },
  {
   "cell_type": "code",
   "execution_count": 15,
   "metadata": {},
   "outputs": [],
   "source": [
    "# pred_rf<100の時、つまり予測した残りの寿命サイクルが100より小さければ1 それ以外で0とする\n",
    "result_cluster1['result'] = result_cluster1['pred_rf'].map(lambda x: 0 if x > 100 else 1)\n",
    "\n",
    "#lambda:無名関数（匿名関数）は文字通り名前のない関数で、一度きりの使い捨ての関数として使います。無名関数を使うと処理を簡潔に書けたり、グローバル・スコープの関数（オブジェクト）を生成せずに済むといったメリットがあります。\n",
    "#組み込み関数map()と無名関数lambda（ラムダ式）とをあわせて使うと、リストの要素すべてを２倍する、（文字列要素を）一括置換する、といったようにリスト要素すべてに変更を加えたオブジェクトを取得することができます。"
   ]
  },
  {
   "cell_type": "code",
   "execution_count": 16,
   "metadata": {
    "scrolled": true
   },
   "outputs": [
    {
     "data": {
      "text/html": [
       "<div>\n",
       "<style scoped>\n",
       "    .dataframe tbody tr th:only-of-type {\n",
       "        vertical-align: middle;\n",
       "    }\n",
       "\n",
       "    .dataframe tbody tr th {\n",
       "        vertical-align: top;\n",
       "    }\n",
       "\n",
       "    .dataframe thead th {\n",
       "        text-align: right;\n",
       "    }\n",
       "</style>\n",
       "<table border=\"1\" class=\"dataframe\">\n",
       "  <thead>\n",
       "    <tr style=\"text-align: right;\">\n",
       "      <th></th>\n",
       "      <th>engine_no</th>\n",
       "      <th>pred_rf</th>\n",
       "      <th>result</th>\n",
       "    </tr>\n",
       "  </thead>\n",
       "  <tbody>\n",
       "    <tr>\n",
       "      <th>0</th>\n",
       "      <td>9</td>\n",
       "      <td>134.1</td>\n",
       "      <td>0</td>\n",
       "    </tr>\n",
       "    <tr>\n",
       "      <th>1</th>\n",
       "      <td>10</td>\n",
       "      <td>186.2</td>\n",
       "      <td>0</td>\n",
       "    </tr>\n",
       "    <tr>\n",
       "      <th>2</th>\n",
       "      <td>15</td>\n",
       "      <td>42.5</td>\n",
       "      <td>1</td>\n",
       "    </tr>\n",
       "    <tr>\n",
       "      <th>3</th>\n",
       "      <td>18</td>\n",
       "      <td>144.8</td>\n",
       "      <td>0</td>\n",
       "    </tr>\n",
       "    <tr>\n",
       "      <th>4</th>\n",
       "      <td>26</td>\n",
       "      <td>97.4</td>\n",
       "      <td>1</td>\n",
       "    </tr>\n",
       "  </tbody>\n",
       "</table>\n",
       "</div>"
      ],
      "text/plain": [
       "   engine_no  pred_rf  result\n",
       "0          9    134.1       0\n",
       "1         10    186.2       0\n",
       "2         15     42.5       1\n",
       "3         18    144.8       0\n",
       "4         26     97.4       1"
      ]
     },
     "execution_count": 16,
     "metadata": {},
     "output_type": "execute_result"
    }
   ],
   "source": [
    "result_cluster1.head()"
   ]
  },
  {
   "cell_type": "code",
   "execution_count": 17,
   "metadata": {},
   "outputs": [],
   "source": [
    "#csvで結果の保存\n",
    "result_cluster1[['engine_no', 'result']].to_csv('Desktop/インテグ課題/NASA/cluster1_submission1.csv', index=False)"
   ]
  },
  {
   "cell_type": "markdown",
   "metadata": {},
   "source": [
    "# 上記で読み込んだtest_data_RUL_cluster1を使っていく"
   ]
  },
  {
   "cell_type": "code",
   "execution_count": 18,
   "metadata": {},
   "outputs": [
    {
     "data": {
      "text/html": [
       "<div>\n",
       "<style scoped>\n",
       "    .dataframe tbody tr th:only-of-type {\n",
       "        vertical-align: middle;\n",
       "    }\n",
       "\n",
       "    .dataframe tbody tr th {\n",
       "        vertical-align: top;\n",
       "    }\n",
       "\n",
       "    .dataframe thead th {\n",
       "        text-align: right;\n",
       "    }\n",
       "</style>\n",
       "<table border=\"1\" class=\"dataframe\">\n",
       "  <thead>\n",
       "    <tr style=\"text-align: right;\">\n",
       "      <th></th>\n",
       "      <th>engine_no</th>\n",
       "      <th>RUL</th>\n",
       "      <th>result</th>\n",
       "    </tr>\n",
       "  </thead>\n",
       "  <tbody>\n",
       "    <tr>\n",
       "      <th>0</th>\n",
       "      <td>9</td>\n",
       "      <td>93</td>\n",
       "      <td>1</td>\n",
       "    </tr>\n",
       "    <tr>\n",
       "      <th>1</th>\n",
       "      <td>10</td>\n",
       "      <td>120</td>\n",
       "      <td>0</td>\n",
       "    </tr>\n",
       "    <tr>\n",
       "      <th>2</th>\n",
       "      <td>15</td>\n",
       "      <td>55</td>\n",
       "      <td>1</td>\n",
       "    </tr>\n",
       "    <tr>\n",
       "      <th>3</th>\n",
       "      <td>18</td>\n",
       "      <td>99</td>\n",
       "      <td>1</td>\n",
       "    </tr>\n",
       "    <tr>\n",
       "      <th>4</th>\n",
       "      <td>26</td>\n",
       "      <td>93</td>\n",
       "      <td>1</td>\n",
       "    </tr>\n",
       "  </tbody>\n",
       "</table>\n",
       "</div>"
      ],
      "text/plain": [
       "   engine_no  RUL  result\n",
       "0          9   93       1\n",
       "1         10  120       0\n",
       "2         15   55       1\n",
       "3         18   99       1\n",
       "4         26   93       1"
      ]
     },
     "execution_count": 18,
     "metadata": {},
     "output_type": "execute_result"
    }
   ],
   "source": [
    "test_data_RUL_cluster1.head()"
   ]
  },
  {
   "cell_type": "markdown",
   "metadata": {},
   "source": [
    "# train_allで学習しtestデータで出した予測値と、実際の答えで混合行列を作成"
   ]
  },
  {
   "cell_type": "code",
   "execution_count": 19,
   "metadata": {},
   "outputs": [
    {
     "name": "stdout",
     "output_type": "stream",
     "text": [
      "99\n",
      "101\n"
     ]
    }
   ],
   "source": [
    "print((result_cluster1['result'] == 1).sum())\n",
    "print((result_cluster1['result'] == 0).sum())"
   ]
  },
  {
   "cell_type": "code",
   "execution_count": 20,
   "metadata": {},
   "outputs": [
    {
     "name": "stdout",
     "output_type": "stream",
     "text": [
      "135\n",
      "65\n"
     ]
    }
   ],
   "source": [
    "print((test_data_RUL_cluster1['result'] == 1).sum())\n",
    "print((test_data_RUL_cluster1['result'] == 0).sum())"
   ]
  },
  {
   "cell_type": "markdown",
   "metadata": {},
   "source": [
    "# 100以内に故障するを1,しないを0としている 故障することを当てたいから、故障する1をpositiveと定義する。"
   ]
  },
  {
   "cell_type": "code",
   "execution_count": 21,
   "metadata": {},
   "outputs": [],
   "source": [
    "#混合行列\n",
    "#1 = Positive,0 = Negativeとする　なぜならば、再現率などがpositiveで計算されるので、故障するをpositiveにする\n",
    "#labels指定をしないと、左から0,1表記になるので、TPが右下になってしまう。\n",
    "cm = confusion_matrix(test_data_RUL_cluster1['result'],result_cluster1['result'],labels=[1, 0] )"
   ]
  },
  {
   "cell_type": "code",
   "execution_count": 22,
   "metadata": {},
   "outputs": [
    {
     "data": {
      "text/plain": [
       "array([[95, 40],\n",
       "       [ 4, 61]], dtype=int64)"
      ]
     },
     "execution_count": 22,
     "metadata": {},
     "output_type": "execute_result"
    }
   ],
   "source": [
    "cm"
   ]
  },
  {
   "cell_type": "markdown",
   "metadata": {},
   "source": [
    "# 列が予測の1と0行が実際の1と0つまり、真陽性 : TP (True-Positive)233、真陰性: TN (True-Negative)177、偽陽性: FP (False-Positive)15(故障していないのにしていると予測)、偽陰性: FN (False-Negative)82(実際は故障しているのに故障していないと予測)\n",
    "#https://pythondatascience.plavox.info/scikit-learn/%E5%88%86%E9%A1%9E%E7%B5%90%E6%9E%9C%E3%81%AE%E3%83%A2%E3%83%87%E3%83%AB%E8%A9%95%E4%BE%A1\n",
    "#FN (False-Negative)82を少なくしたい　つまり実際は故障だが、故障しないと判断してしまっているものを"
   ]
  },
  {
   "cell_type": "code",
   "execution_count": 23,
   "metadata": {},
   "outputs": [
    {
     "name": "stdout",
     "output_type": "stream",
     "text": [
      "              precision    recall  f1-score   support\n",
      "\n",
      "           1       0.96      0.70      0.81       135\n",
      "           0       0.60      0.94      0.73        65\n",
      "\n",
      "    accuracy                           0.78       200\n",
      "   macro avg       0.78      0.82      0.77       200\n",
      "weighted avg       0.84      0.78      0.79       200\n",
      "\n"
     ]
    }
   ],
   "source": [
    "#混合行列まとめて表示\n",
    "cr = classification_report(test_data_RUL_cluster1['result'],result_cluster1['result'],labels=[1, 0] )\n",
    "print(cr)"
   ]
  },
  {
   "cell_type": "markdown",
   "metadata": {},
   "source": [
    "# labelsを付けた時の計算が上記のまとめて表示の1の方　labelsをつけなかったときの計算が下の方"
   ]
  },
  {
   "cell_type": "markdown",
   "metadata": {},
   "source": [
    "# #再現率を上げたい　実際の故障のうち故障と予測できたもの"
   ]
  },
  {
   "cell_type": "code",
   "execution_count": 24,
   "metadata": {},
   "outputs": [
    {
     "data": {
      "text/html": [
       "<div>\n",
       "<style scoped>\n",
       "    .dataframe tbody tr th:only-of-type {\n",
       "        vertical-align: middle;\n",
       "    }\n",
       "\n",
       "    .dataframe tbody tr th {\n",
       "        vertical-align: top;\n",
       "    }\n",
       "\n",
       "    .dataframe thead th {\n",
       "        text-align: right;\n",
       "    }\n",
       "</style>\n",
       "<table border=\"1\" class=\"dataframe\">\n",
       "  <thead>\n",
       "    <tr style=\"text-align: right;\">\n",
       "      <th></th>\n",
       "      <th>importance</th>\n",
       "    </tr>\n",
       "  </thead>\n",
       "  <tbody>\n",
       "    <tr>\n",
       "      <th>sensor_11</th>\n",
       "      <td>0.457321</td>\n",
       "    </tr>\n",
       "    <tr>\n",
       "      <th>sensor_12</th>\n",
       "      <td>0.119188</td>\n",
       "    </tr>\n",
       "    <tr>\n",
       "      <th>sensor_9</th>\n",
       "      <td>0.081265</td>\n",
       "    </tr>\n",
       "    <tr>\n",
       "      <th>sensor_14</th>\n",
       "      <td>0.040751</td>\n",
       "    </tr>\n",
       "    <tr>\n",
       "      <th>sensor_4</th>\n",
       "      <td>0.040458</td>\n",
       "    </tr>\n",
       "    <tr>\n",
       "      <th>sensor_7</th>\n",
       "      <td>0.034064</td>\n",
       "    </tr>\n",
       "    <tr>\n",
       "      <th>sensor_6</th>\n",
       "      <td>0.026515</td>\n",
       "    </tr>\n",
       "    <tr>\n",
       "      <th>sensor_15</th>\n",
       "      <td>0.026315</td>\n",
       "    </tr>\n",
       "    <tr>\n",
       "      <th>sensor_21</th>\n",
       "      <td>0.026124</td>\n",
       "    </tr>\n",
       "    <tr>\n",
       "      <th>sensor_3</th>\n",
       "      <td>0.025835</td>\n",
       "    </tr>\n",
       "    <tr>\n",
       "      <th>sensor_2</th>\n",
       "      <td>0.023399</td>\n",
       "    </tr>\n",
       "    <tr>\n",
       "      <th>op_setting_1</th>\n",
       "      <td>0.020612</td>\n",
       "    </tr>\n",
       "    <tr>\n",
       "      <th>sensor_20</th>\n",
       "      <td>0.020606</td>\n",
       "    </tr>\n",
       "    <tr>\n",
       "      <th>sensor_13</th>\n",
       "      <td>0.019745</td>\n",
       "    </tr>\n",
       "    <tr>\n",
       "      <th>sensor_8</th>\n",
       "      <td>0.018442</td>\n",
       "    </tr>\n",
       "    <tr>\n",
       "      <th>op_setting_2</th>\n",
       "      <td>0.012269</td>\n",
       "    </tr>\n",
       "    <tr>\n",
       "      <th>sensor_17</th>\n",
       "      <td>0.006975</td>\n",
       "    </tr>\n",
       "    <tr>\n",
       "      <th>sensor_10</th>\n",
       "      <td>0.000116</td>\n",
       "    </tr>\n",
       "    <tr>\n",
       "      <th>sensor_5</th>\n",
       "      <td>0.000000</td>\n",
       "    </tr>\n",
       "    <tr>\n",
       "      <th>sensor_1</th>\n",
       "      <td>0.000000</td>\n",
       "    </tr>\n",
       "    <tr>\n",
       "      <th>op_setting_3</th>\n",
       "      <td>0.000000</td>\n",
       "    </tr>\n",
       "    <tr>\n",
       "      <th>sensor_16</th>\n",
       "      <td>0.000000</td>\n",
       "    </tr>\n",
       "    <tr>\n",
       "      <th>sensor_18</th>\n",
       "      <td>0.000000</td>\n",
       "    </tr>\n",
       "    <tr>\n",
       "      <th>sensor_19</th>\n",
       "      <td>0.000000</td>\n",
       "    </tr>\n",
       "  </tbody>\n",
       "</table>\n",
       "</div>"
      ],
      "text/plain": [
       "              importance\n",
       "sensor_11       0.457321\n",
       "sensor_12       0.119188\n",
       "sensor_9        0.081265\n",
       "sensor_14       0.040751\n",
       "sensor_4        0.040458\n",
       "sensor_7        0.034064\n",
       "sensor_6        0.026515\n",
       "sensor_15       0.026315\n",
       "sensor_21       0.026124\n",
       "sensor_3        0.025835\n",
       "sensor_2        0.023399\n",
       "op_setting_1    0.020612\n",
       "sensor_20       0.020606\n",
       "sensor_13       0.019745\n",
       "sensor_8        0.018442\n",
       "op_setting_2    0.012269\n",
       "sensor_17       0.006975\n",
       "sensor_10       0.000116\n",
       "sensor_5        0.000000\n",
       "sensor_1        0.000000\n",
       "op_setting_3    0.000000\n",
       "sensor_16       0.000000\n",
       "sensor_18       0.000000\n",
       "sensor_19       0.000000"
      ]
     },
     "execution_count": 24,
     "metadata": {},
     "output_type": "execute_result"
    }
   ],
   "source": [
    "#特徴量の重要度を算出\n",
    "feature_importances_cluster1 = rf_cluster1.feature_importances_\n",
    "\n",
    "\n",
    "feature_importance_cluster1 = \\\n",
    "    pd.DataFrame(rf_cluster1.feature_importances_, columns=[\"importance\"], index=selected_features)\n",
    "feature_importance_cluster1.sort_values(\"importance\", ascending=False)\n",
    "\n",
    "#全部足すと100% 縦軸で\n",
    "#これでは重要度はわかるが、回帰のように上がる下がるなど関係性はわからない"
   ]
  },
  {
   "cell_type": "code",
   "execution_count": 25,
   "metadata": {},
   "outputs": [
    {
     "data": {
      "text/plain": [
       "<matplotlib.axes._subplots.AxesSubplot at 0x171676b45f8>"
      ]
     },
     "execution_count": 25,
     "metadata": {},
     "output_type": "execute_result"
    },
    {
     "data": {
      "image/png": "[encoded data removed]",
      "text/plain": [
       "<Figure size 432x288 with 1 Axes>"
      ]
     },
     "metadata": {
      "needs_background": "light"
     },
     "output_type": "display_data"
    }
   ],
   "source": [
    "feature_importance_cluster1.sort_values(\"importance\", ascending=False).plot(kind=\"bar\")"
   ]
  },
  {
   "cell_type": "markdown",
   "metadata": {},
   "source": [
    "##特徴量は\\\n",
    "sensor_10\t0.000116\\\n",
    "sensor_5\t0.000000\\\n",
    "sensor_1\t0.000000\\\n",
    "op_setting_3\t0.000000\\\n",
    "sensor_16\t0.000000\\\n",
    "sensor_18\t0.000000\\\n",
    "sensor_19\t0.000000\\\n",
    "はほとんど意味がないと推測できる"
   ]
  },
  {
   "cell_type": "markdown",
   "metadata": {},
   "source": [
    "# ランダムフォレスト　最初の欠損値に加え、上記の特徴量を削る"
   ]
  },
  {
   "cell_type": "code",
   "execution_count": 26,
   "metadata": {},
   "outputs": [
    {
     "data": {
      "text/plain": [
       "['op_setting_1',\n",
       " 'op_setting_2',\n",
       " 'op_setting_3',\n",
       " 'sensor_1',\n",
       " 'sensor_2',\n",
       " 'sensor_3',\n",
       " 'sensor_4',\n",
       " 'sensor_5',\n",
       " 'sensor_6',\n",
       " 'sensor_7',\n",
       " 'sensor_8',\n",
       " 'sensor_9',\n",
       " 'sensor_10',\n",
       " 'sensor_11',\n",
       " 'sensor_12',\n",
       " 'sensor_13',\n",
       " 'sensor_14',\n",
       " 'sensor_15',\n",
       " 'sensor_16',\n",
       " 'sensor_17',\n",
       " 'sensor_18',\n",
       " 'sensor_19',\n",
       " 'sensor_20',\n",
       " 'sensor_21']"
      ]
     },
     "execution_count": 26,
     "metadata": {},
     "output_type": "execute_result"
    }
   ],
   "source": [
    "selected_features"
   ]
  },
  {
   "cell_type": "code",
   "execution_count": 27,
   "metadata": {},
   "outputs": [],
   "source": [
    "serected_features_importance_cluster1 = selected_features\n",
    "serected_features_importance_cluster1.remove('sensor_10')"
   ]
  },
  {
   "cell_type": "code",
   "execution_count": 28,
   "metadata": {},
   "outputs": [],
   "source": [
    "serected_features_importance_cluster1.remove('sensor_5')"
   ]
  },
  {
   "cell_type": "code",
   "execution_count": 29,
   "metadata": {},
   "outputs": [],
   "source": [
    "serected_features_importance_cluster1.remove('sensor_1')"
   ]
  },
  {
   "cell_type": "code",
   "execution_count": 30,
   "metadata": {},
   "outputs": [],
   "source": [
    "serected_features_importance_cluster1.remove('op_setting_3')"
   ]
  },
  {
   "cell_type": "code",
   "execution_count": 31,
   "metadata": {},
   "outputs": [],
   "source": [
    "serected_features_importance_cluster1.remove('sensor_16')"
   ]
  },
  {
   "cell_type": "code",
   "execution_count": 32,
   "metadata": {},
   "outputs": [],
   "source": [
    "serected_features_importance_cluster1.remove('sensor_18')"
   ]
  },
  {
   "cell_type": "code",
   "execution_count": 33,
   "metadata": {},
   "outputs": [],
   "source": [
    "serected_features_importance_cluster1.remove('sensor_19')"
   ]
  },
  {
   "cell_type": "code",
   "execution_count": 34,
   "metadata": {},
   "outputs": [
    {
     "data": {
      "text/plain": [
       "['op_setting_1',\n",
       " 'op_setting_2',\n",
       " 'sensor_2',\n",
       " 'sensor_3',\n",
       " 'sensor_4',\n",
       " 'sensor_6',\n",
       " 'sensor_7',\n",
       " 'sensor_8',\n",
       " 'sensor_9',\n",
       " 'sensor_11',\n",
       " 'sensor_12',\n",
       " 'sensor_13',\n",
       " 'sensor_14',\n",
       " 'sensor_15',\n",
       " 'sensor_17',\n",
       " 'sensor_20',\n",
       " 'sensor_21']"
      ]
     },
     "execution_count": 34,
     "metadata": {},
     "output_type": "execute_result"
    }
   ],
   "source": [
    "serected_features_importance_cluster1"
   ]
  },
  {
   "cell_type": "code",
   "execution_count": 35,
   "metadata": {},
   "outputs": [],
   "source": [
    "#大元のtrainをx(selected_features)とy(RUL)に分ける\n",
    "X_train_all_cluster1_rf_fe_im, y_train_all_cluster1_rf_fe_im = train_data_cluster1[serected_features_importance_cluster1], train_data_cluster1['RUL']"
   ]
  },
  {
   "cell_type": "code",
   "execution_count": 36,
   "metadata": {},
   "outputs": [],
   "source": [
    "#大元のtestの特徴量からselected_featuresだけのX_test_rf_fe_imにする\n",
    "X_test_cluster1_rf_fe_im = test_data_cluster1[serected_features_importance_cluster1]"
   ]
  },
  {
   "cell_type": "code",
   "execution_count": 37,
   "metadata": {},
   "outputs": [
    {
     "name": "stderr",
     "output_type": "stream",
     "text": [
      "C:\\Users\\81907\\Anaconda3\\lib\\site-packages\\sklearn\\ensemble\\forest.py:245: FutureWarning: The default value of n_estimators will change from 10 in version 0.20 to 100 in 0.22.\n",
      "  \"10 in version 0.20 to 100 in 0.22.\", FutureWarning)\n"
     ]
    },
    {
     "data": {
      "text/plain": [
       "RandomForestRegressor(bootstrap=True, criterion='mse', max_depth=None,\n",
       "                      max_features='auto', max_leaf_nodes=None,\n",
       "                      min_impurity_decrease=0.0, min_impurity_split=None,\n",
       "                      min_samples_leaf=1, min_samples_split=2,\n",
       "                      min_weight_fraction_leaf=0.0, n_estimators=10,\n",
       "                      n_jobs=None, oob_score=False, random_state=1234,\n",
       "                      verbose=0, warm_start=False)"
      ]
     },
     "execution_count": 37,
     "metadata": {},
     "output_type": "execute_result"
    }
   ],
   "source": [
    "#ランダムフォレスト\n",
    "rf_cluster1_fe_im = RandomForestRegressor(random_state=1234)\n",
    "rf_cluster1_fe_im.fit(X_train_all_cluster1_rf_fe_im, y_train_all_cluster1_rf_fe_im)\n",
    "\n",
    "\n",
    "# FutureWarningは問題ありません"
   ]
  },
  {
   "cell_type": "markdown",
   "metadata": {},
   "source": [
    "# 注意　最後は結合するので、列名はpred_rf_fe_imで統一する \n"
   ]
  },
  {
   "cell_type": "code",
   "execution_count": 38,
   "metadata": {},
   "outputs": [],
   "source": [
    "#予測する\n",
    "train_data_cluster1['pred_rf_fe_im'] = rf_cluster1_fe_im.predict(X_train_all_cluster1_rf_fe_im)\n",
    "test_data_cluster1['pred_rf_fe_im'] = rf_cluster1_fe_im.predict(X_test_cluster1_rf_fe_im)"
   ]
  },
  {
   "cell_type": "code",
   "execution_count": 39,
   "metadata": {},
   "outputs": [
    {
     "data": {
      "text/html": [
       "<div>\n",
       "<style scoped>\n",
       "    .dataframe tbody tr th:only-of-type {\n",
       "        vertical-align: middle;\n",
       "    }\n",
       "\n",
       "    .dataframe tbody tr th {\n",
       "        vertical-align: top;\n",
       "    }\n",
       "\n",
       "    .dataframe thead th {\n",
       "        text-align: right;\n",
       "    }\n",
       "</style>\n",
       "<table border=\"1\" class=\"dataframe\">\n",
       "  <thead>\n",
       "    <tr style=\"text-align: right;\">\n",
       "      <th></th>\n",
       "      <th>engine_no</th>\n",
       "      <th>time_in_cycles</th>\n",
       "      <th>op_setting_1</th>\n",
       "      <th>op_setting_2</th>\n",
       "      <th>op_setting_3</th>\n",
       "      <th>sensor_1</th>\n",
       "      <th>sensor_2</th>\n",
       "      <th>sensor_3</th>\n",
       "      <th>sensor_4</th>\n",
       "      <th>sensor_5</th>\n",
       "      <th>...</th>\n",
       "      <th>sensor_14</th>\n",
       "      <th>sensor_15</th>\n",
       "      <th>sensor_16</th>\n",
       "      <th>sensor_17</th>\n",
       "      <th>sensor_18</th>\n",
       "      <th>sensor_19</th>\n",
       "      <th>sensor_20</th>\n",
       "      <th>sensor_21</th>\n",
       "      <th>pred_rf</th>\n",
       "      <th>pred_rf_fe_im</th>\n",
       "    </tr>\n",
       "  </thead>\n",
       "  <tbody>\n",
       "    <tr>\n",
       "      <th>0</th>\n",
       "      <td>9</td>\n",
       "      <td>1</td>\n",
       "      <td>-0.0009</td>\n",
       "      <td>-0.0001</td>\n",
       "      <td>100.0</td>\n",
       "      <td>518.67</td>\n",
       "      <td>642.06</td>\n",
       "      <td>1590.15</td>\n",
       "      <td>1408.02</td>\n",
       "      <td>14.62</td>\n",
       "      <td>...</td>\n",
       "      <td>8126.75</td>\n",
       "      <td>8.4314</td>\n",
       "      <td>0.03</td>\n",
       "      <td>393</td>\n",
       "      <td>2388</td>\n",
       "      <td>100.0</td>\n",
       "      <td>38.90</td>\n",
       "      <td>23.3147</td>\n",
       "      <td>132.7</td>\n",
       "      <td>123.2</td>\n",
       "    </tr>\n",
       "    <tr>\n",
       "      <th>1</th>\n",
       "      <td>9</td>\n",
       "      <td>2</td>\n",
       "      <td>0.0031</td>\n",
       "      <td>-0.0002</td>\n",
       "      <td>100.0</td>\n",
       "      <td>518.67</td>\n",
       "      <td>642.74</td>\n",
       "      <td>1584.08</td>\n",
       "      <td>1413.33</td>\n",
       "      <td>14.62</td>\n",
       "      <td>...</td>\n",
       "      <td>8131.25</td>\n",
       "      <td>8.4829</td>\n",
       "      <td>0.03</td>\n",
       "      <td>392</td>\n",
       "      <td>2388</td>\n",
       "      <td>100.0</td>\n",
       "      <td>38.70</td>\n",
       "      <td>23.3071</td>\n",
       "      <td>149.9</td>\n",
       "      <td>144.2</td>\n",
       "    </tr>\n",
       "    <tr>\n",
       "      <th>2</th>\n",
       "      <td>9</td>\n",
       "      <td>3</td>\n",
       "      <td>0.0023</td>\n",
       "      <td>-0.0001</td>\n",
       "      <td>100.0</td>\n",
       "      <td>518.67</td>\n",
       "      <td>642.48</td>\n",
       "      <td>1591.55</td>\n",
       "      <td>1407.27</td>\n",
       "      <td>14.62</td>\n",
       "      <td>...</td>\n",
       "      <td>8129.61</td>\n",
       "      <td>8.4557</td>\n",
       "      <td>0.03</td>\n",
       "      <td>394</td>\n",
       "      <td>2388</td>\n",
       "      <td>100.0</td>\n",
       "      <td>38.92</td>\n",
       "      <td>23.3058</td>\n",
       "      <td>123.7</td>\n",
       "      <td>121.6</td>\n",
       "    </tr>\n",
       "    <tr>\n",
       "      <th>3</th>\n",
       "      <td>9</td>\n",
       "      <td>4</td>\n",
       "      <td>0.0033</td>\n",
       "      <td>-0.0004</td>\n",
       "      <td>100.0</td>\n",
       "      <td>518.67</td>\n",
       "      <td>642.15</td>\n",
       "      <td>1587.86</td>\n",
       "      <td>1406.12</td>\n",
       "      <td>14.62</td>\n",
       "      <td>...</td>\n",
       "      <td>8137.89</td>\n",
       "      <td>8.4270</td>\n",
       "      <td>0.03</td>\n",
       "      <td>394</td>\n",
       "      <td>2388</td>\n",
       "      <td>100.0</td>\n",
       "      <td>38.88</td>\n",
       "      <td>23.3084</td>\n",
       "      <td>126.3</td>\n",
       "      <td>131.9</td>\n",
       "    </tr>\n",
       "    <tr>\n",
       "      <th>4</th>\n",
       "      <td>9</td>\n",
       "      <td>5</td>\n",
       "      <td>0.0005</td>\n",
       "      <td>-0.0003</td>\n",
       "      <td>100.0</td>\n",
       "      <td>518.67</td>\n",
       "      <td>642.47</td>\n",
       "      <td>1591.80</td>\n",
       "      <td>1407.10</td>\n",
       "      <td>14.62</td>\n",
       "      <td>...</td>\n",
       "      <td>8132.09</td>\n",
       "      <td>8.3875</td>\n",
       "      <td>0.03</td>\n",
       "      <td>389</td>\n",
       "      <td>2388</td>\n",
       "      <td>100.0</td>\n",
       "      <td>38.85</td>\n",
       "      <td>23.3685</td>\n",
       "      <td>155.0</td>\n",
       "      <td>165.0</td>\n",
       "    </tr>\n",
       "  </tbody>\n",
       "</table>\n",
       "<p>5 rows × 28 columns</p>\n",
       "</div>"
      ],
      "text/plain": [
       "   engine_no  time_in_cycles  op_setting_1  op_setting_2  op_setting_3  \\\n",
       "0          9               1       -0.0009       -0.0001         100.0   \n",
       "1          9               2        0.0031       -0.0002         100.0   \n",
       "2          9               3        0.0023       -0.0001         100.0   \n",
       "3          9               4        0.0033       -0.0004         100.0   \n",
       "4          9               5        0.0005       -0.0003         100.0   \n",
       "\n",
       "   sensor_1  sensor_2  sensor_3  sensor_4  sensor_5  ...  sensor_14  \\\n",
       "0    518.67    642.06   1590.15   1408.02     14.62  ...    8126.75   \n",
       "1    518.67    642.74   1584.08   1413.33     14.62  ...    8131.25   \n",
       "2    518.67    642.48   1591.55   1407.27     14.62  ...    8129.61   \n",
       "3    518.67    642.15   1587.86   1406.12     14.62  ...    8137.89   \n",
       "4    518.67    642.47   1591.80   1407.10     14.62  ...    8132.09   \n",
       "\n",
       "   sensor_15  sensor_16  sensor_17  sensor_18  sensor_19  sensor_20  \\\n",
       "0     8.4314       0.03        393       2388      100.0      38.90   \n",
       "1     8.4829       0.03        392       2388      100.0      38.70   \n",
       "2     8.4557       0.03        394       2388      100.0      38.92   \n",
       "3     8.4270       0.03        394       2388      100.0      38.88   \n",
       "4     8.3875       0.03        389       2388      100.0      38.85   \n",
       "\n",
       "   sensor_21  pred_rf  pred_rf_fe_im  \n",
       "0    23.3147    132.7          123.2  \n",
       "1    23.3071    149.9          144.2  \n",
       "2    23.3058    123.7          121.6  \n",
       "3    23.3084    126.3          131.9  \n",
       "4    23.3685    155.0          165.0  \n",
       "\n",
       "[5 rows x 28 columns]"
      ]
     },
     "execution_count": 39,
     "metadata": {},
     "output_type": "execute_result"
    }
   ],
   "source": [
    "test_data_cluster1.head()"
   ]
  },
  {
   "cell_type": "code",
   "execution_count": 40,
   "metadata": {},
   "outputs": [],
   "source": [
    "#結果表の作成 \n",
    "train_data_cluster1 = train_data_cluster1.sort_values(['engine_no', 'time_in_cycles'])\n",
    "test_data_cluster1 = test_data_cluster1.sort_values(['engine_no', 'time_in_cycles'])\n",
    "\n",
    "#test_dataの各engineの最後のサイクルの行のみを表示　列は'engine_no', 'pred_rf'のみ\n",
    "result_cluster1_rf_fe_im = test_data_cluster1.groupby('engine_no').last().reset_index()[['engine_no', 'pred_rf_fe_im']]\n",
    "\n"
   ]
  },
  {
   "cell_type": "code",
   "execution_count": 41,
   "metadata": {},
   "outputs": [
    {
     "data": {
      "text/html": [
       "<div>\n",
       "<style scoped>\n",
       "    .dataframe tbody tr th:only-of-type {\n",
       "        vertical-align: middle;\n",
       "    }\n",
       "\n",
       "    .dataframe tbody tr th {\n",
       "        vertical-align: top;\n",
       "    }\n",
       "\n",
       "    .dataframe thead th {\n",
       "        text-align: right;\n",
       "    }\n",
       "</style>\n",
       "<table border=\"1\" class=\"dataframe\">\n",
       "  <thead>\n",
       "    <tr style=\"text-align: right;\">\n",
       "      <th></th>\n",
       "      <th>engine_no</th>\n",
       "      <th>pred_rf_fe_im</th>\n",
       "    </tr>\n",
       "  </thead>\n",
       "  <tbody>\n",
       "    <tr>\n",
       "      <th>0</th>\n",
       "      <td>9</td>\n",
       "      <td>129.3</td>\n",
       "    </tr>\n",
       "    <tr>\n",
       "      <th>1</th>\n",
       "      <td>10</td>\n",
       "      <td>188.0</td>\n",
       "    </tr>\n",
       "    <tr>\n",
       "      <th>2</th>\n",
       "      <td>15</td>\n",
       "      <td>48.0</td>\n",
       "    </tr>\n",
       "    <tr>\n",
       "      <th>3</th>\n",
       "      <td>18</td>\n",
       "      <td>158.3</td>\n",
       "    </tr>\n",
       "    <tr>\n",
       "      <th>4</th>\n",
       "      <td>26</td>\n",
       "      <td>104.8</td>\n",
       "    </tr>\n",
       "  </tbody>\n",
       "</table>\n",
       "</div>"
      ],
      "text/plain": [
       "   engine_no  pred_rf_fe_im\n",
       "0          9          129.3\n",
       "1         10          188.0\n",
       "2         15           48.0\n",
       "3         18          158.3\n",
       "4         26          104.8"
      ]
     },
     "execution_count": 41,
     "metadata": {},
     "output_type": "execute_result"
    }
   ],
   "source": [
    "result_cluster1_rf_fe_im.head()"
   ]
  },
  {
   "cell_type": "code",
   "execution_count": 42,
   "metadata": {},
   "outputs": [],
   "source": [
    "# pred_rf<100の時、つまり予測した残りの寿命サイクルが100より小さければ1 それ以外で0とする\n",
    "result_cluster1_rf_fe_im['result'] = result_cluster1_rf_fe_im['pred_rf_fe_im'].map(lambda x: 0 if x > 100 else 1)"
   ]
  },
  {
   "cell_type": "code",
   "execution_count": 43,
   "metadata": {
    "scrolled": true
   },
   "outputs": [
    {
     "data": {
      "text/html": [
       "<div>\n",
       "<style scoped>\n",
       "    .dataframe tbody tr th:only-of-type {\n",
       "        vertical-align: middle;\n",
       "    }\n",
       "\n",
       "    .dataframe tbody tr th {\n",
       "        vertical-align: top;\n",
       "    }\n",
       "\n",
       "    .dataframe thead th {\n",
       "        text-align: right;\n",
       "    }\n",
       "</style>\n",
       "<table border=\"1\" class=\"dataframe\">\n",
       "  <thead>\n",
       "    <tr style=\"text-align: right;\">\n",
       "      <th></th>\n",
       "      <th>engine_no</th>\n",
       "      <th>pred_rf_fe_im</th>\n",
       "      <th>result</th>\n",
       "    </tr>\n",
       "  </thead>\n",
       "  <tbody>\n",
       "    <tr>\n",
       "      <th>0</th>\n",
       "      <td>9</td>\n",
       "      <td>129.3</td>\n",
       "      <td>0</td>\n",
       "    </tr>\n",
       "    <tr>\n",
       "      <th>1</th>\n",
       "      <td>10</td>\n",
       "      <td>188.0</td>\n",
       "      <td>0</td>\n",
       "    </tr>\n",
       "    <tr>\n",
       "      <th>2</th>\n",
       "      <td>15</td>\n",
       "      <td>48.0</td>\n",
       "      <td>1</td>\n",
       "    </tr>\n",
       "    <tr>\n",
       "      <th>3</th>\n",
       "      <td>18</td>\n",
       "      <td>158.3</td>\n",
       "      <td>0</td>\n",
       "    </tr>\n",
       "    <tr>\n",
       "      <th>4</th>\n",
       "      <td>26</td>\n",
       "      <td>104.8</td>\n",
       "      <td>0</td>\n",
       "    </tr>\n",
       "  </tbody>\n",
       "</table>\n",
       "</div>"
      ],
      "text/plain": [
       "   engine_no  pred_rf_fe_im  result\n",
       "0          9          129.3       0\n",
       "1         10          188.0       0\n",
       "2         15           48.0       1\n",
       "3         18          158.3       0\n",
       "4         26          104.8       0"
      ]
     },
     "execution_count": 43,
     "metadata": {},
     "output_type": "execute_result"
    }
   ],
   "source": [
    "result_cluster1_rf_fe_im.head()\n",
    "# result_cluster1_rf_fe_im = result_cluster1_rf_fe_im.drop(\"resul_cluster1t\", axis=1)"
   ]
  },
  {
   "cell_type": "code",
   "execution_count": 44,
   "metadata": {},
   "outputs": [],
   "source": [
    "#csvで結果の保存\n",
    "result_cluster1[['engine_no', 'result']].to_csv('Desktop/インテグ課題/NASA/cluster1_submission2.csv', index=False)"
   ]
  },
  {
   "cell_type": "markdown",
   "metadata": {},
   "source": [
    "# 上記で読み込んだtest_data_RUL_cluster1を使っていく"
   ]
  },
  {
   "cell_type": "code",
   "execution_count": 45,
   "metadata": {},
   "outputs": [
    {
     "data": {
      "text/html": [
       "<div>\n",
       "<style scoped>\n",
       "    .dataframe tbody tr th:only-of-type {\n",
       "        vertical-align: middle;\n",
       "    }\n",
       "\n",
       "    .dataframe tbody tr th {\n",
       "        vertical-align: top;\n",
       "    }\n",
       "\n",
       "    .dataframe thead th {\n",
       "        text-align: right;\n",
       "    }\n",
       "</style>\n",
       "<table border=\"1\" class=\"dataframe\">\n",
       "  <thead>\n",
       "    <tr style=\"text-align: right;\">\n",
       "      <th></th>\n",
       "      <th>engine_no</th>\n",
       "      <th>RUL</th>\n",
       "      <th>result</th>\n",
       "    </tr>\n",
       "  </thead>\n",
       "  <tbody>\n",
       "    <tr>\n",
       "      <th>0</th>\n",
       "      <td>9</td>\n",
       "      <td>93</td>\n",
       "      <td>1</td>\n",
       "    </tr>\n",
       "    <tr>\n",
       "      <th>1</th>\n",
       "      <td>10</td>\n",
       "      <td>120</td>\n",
       "      <td>0</td>\n",
       "    </tr>\n",
       "    <tr>\n",
       "      <th>2</th>\n",
       "      <td>15</td>\n",
       "      <td>55</td>\n",
       "      <td>1</td>\n",
       "    </tr>\n",
       "    <tr>\n",
       "      <th>3</th>\n",
       "      <td>18</td>\n",
       "      <td>99</td>\n",
       "      <td>1</td>\n",
       "    </tr>\n",
       "    <tr>\n",
       "      <th>4</th>\n",
       "      <td>26</td>\n",
       "      <td>93</td>\n",
       "      <td>1</td>\n",
       "    </tr>\n",
       "  </tbody>\n",
       "</table>\n",
       "</div>"
      ],
      "text/plain": [
       "   engine_no  RUL  result\n",
       "0          9   93       1\n",
       "1         10  120       0\n",
       "2         15   55       1\n",
       "3         18   99       1\n",
       "4         26   93       1"
      ]
     },
     "execution_count": 45,
     "metadata": {},
     "output_type": "execute_result"
    }
   ],
   "source": [
    "test_data_RUL_cluster1.head()"
   ]
  },
  {
   "cell_type": "markdown",
   "metadata": {},
   "source": [
    "# train_allで学習しtestデータで出した予測値と、実際の答えで混合行列を作成"
   ]
  },
  {
   "cell_type": "code",
   "execution_count": 46,
   "metadata": {},
   "outputs": [
    {
     "name": "stdout",
     "output_type": "stream",
     "text": [
      "99\n",
      "101\n"
     ]
    }
   ],
   "source": [
    "print((result_cluster1_rf_fe_im['result'] == 1).sum())\n",
    "print((result_cluster1_rf_fe_im['result'] == 0).sum())"
   ]
  },
  {
   "cell_type": "code",
   "execution_count": 47,
   "metadata": {},
   "outputs": [
    {
     "name": "stdout",
     "output_type": "stream",
     "text": [
      "135\n",
      "65\n"
     ]
    }
   ],
   "source": [
    "print((test_data_RUL_cluster1['result'] == 1).sum())\n",
    "print((test_data_RUL_cluster1['result'] == 0).sum())"
   ]
  },
  {
   "cell_type": "markdown",
   "metadata": {},
   "source": [
    "# 100以内に故障するを1,しないを0としている 故障することを当てたいから、故障する1をpositiveと定義する。"
   ]
  },
  {
   "cell_type": "code",
   "execution_count": 48,
   "metadata": {},
   "outputs": [],
   "source": [
    "#混合行列\n",
    "#1 = Positive,0 = Negativeとする　なぜならば、再現率などがpositiveで計算されるので、故障するをpositiveにする\n",
    "#labels指定をしないと、左から0,1表記になるので、TPが右下になってしまう。\n",
    "cm = confusion_matrix(test_data_RUL_cluster1['result'],result_cluster1_rf_fe_im['result'],labels=[1, 0] )"
   ]
  },
  {
   "cell_type": "code",
   "execution_count": 49,
   "metadata": {},
   "outputs": [
    {
     "data": {
      "text/plain": [
       "array([[95, 40],\n",
       "       [ 4, 61]], dtype=int64)"
      ]
     },
     "execution_count": 49,
     "metadata": {},
     "output_type": "execute_result"
    }
   ],
   "source": [
    "cm"
   ]
  },
  {
   "cell_type": "markdown",
   "metadata": {},
   "source": [
    "# 列が予測の1と0行が実際の1と0つまり、真陽性 : TP (True-Positive)233、真陰性: TN (True-Negative)177、偽陽性: FP (False-Positive)15(故障していないのにしていると予測)、偽陰性: FN (False-Negative)82(実際は故障しているのに故障していないと予測)\n",
    "#https://pythondatascience.plavox.info/scikit-learn/%E5%88%86%E9%A1%9E%E7%B5%90%E6%9E%9C%E3%81%AE%E3%83%A2%E3%83%87%E3%83%AB%E8%A9%95%E4%BE%A1\n",
    "#FN (False-Negative)82を少なくしたい　つまり実際は故障だが、故障しないと判断してしまっているものを"
   ]
  },
  {
   "cell_type": "code",
   "execution_count": 50,
   "metadata": {},
   "outputs": [
    {
     "name": "stdout",
     "output_type": "stream",
     "text": [
      "              precision    recall  f1-score   support\n",
      "\n",
      "           1       0.96      0.70      0.81       135\n",
      "           0       0.60      0.94      0.73        65\n",
      "\n",
      "    accuracy                           0.78       200\n",
      "   macro avg       0.78      0.82      0.77       200\n",
      "weighted avg       0.84      0.78      0.79       200\n",
      "\n"
     ]
    }
   ],
   "source": [
    "#混合行列まとめて表示\n",
    "cr = classification_report(test_data_RUL_cluster1['result'],result_cluster1_rf_fe_im['result'],labels=[1, 0] )\n",
    "print(cr)"
   ]
  },
  {
   "cell_type": "markdown",
   "metadata": {},
   "source": [
    "# labelsを付けた時の計算が上記のまとめて表示の1の方　labelsをつけなかったときの計算が下の方"
   ]
  },
  {
   "cell_type": "markdown",
   "metadata": {},
   "source": [
    "# #再現率を上げたい　実際の故障のうち故障と予測できたもの"
   ]
  },
  {
   "cell_type": "code",
   "execution_count": 51,
   "metadata": {},
   "outputs": [
    {
     "data": {
      "text/html": [
       "<div>\n",
       "<style scoped>\n",
       "    .dataframe tbody tr th:only-of-type {\n",
       "        vertical-align: middle;\n",
       "    }\n",
       "\n",
       "    .dataframe tbody tr th {\n",
       "        vertical-align: top;\n",
       "    }\n",
       "\n",
       "    .dataframe thead th {\n",
       "        text-align: right;\n",
       "    }\n",
       "</style>\n",
       "<table border=\"1\" class=\"dataframe\">\n",
       "  <thead>\n",
       "    <tr style=\"text-align: right;\">\n",
       "      <th></th>\n",
       "      <th>importance</th>\n",
       "    </tr>\n",
       "  </thead>\n",
       "  <tbody>\n",
       "    <tr>\n",
       "      <th>sensor_11</th>\n",
       "      <td>0.457351</td>\n",
       "    </tr>\n",
       "    <tr>\n",
       "      <th>sensor_12</th>\n",
       "      <td>0.119265</td>\n",
       "    </tr>\n",
       "    <tr>\n",
       "      <th>sensor_9</th>\n",
       "      <td>0.081066</td>\n",
       "    </tr>\n",
       "    <tr>\n",
       "      <th>sensor_4</th>\n",
       "      <td>0.040528</td>\n",
       "    </tr>\n",
       "    <tr>\n",
       "      <th>sensor_14</th>\n",
       "      <td>0.040523</td>\n",
       "    </tr>\n",
       "    <tr>\n",
       "      <th>sensor_7</th>\n",
       "      <td>0.034208</td>\n",
       "    </tr>\n",
       "    <tr>\n",
       "      <th>sensor_6</th>\n",
       "      <td>0.026828</td>\n",
       "    </tr>\n",
       "    <tr>\n",
       "      <th>sensor_15</th>\n",
       "      <td>0.026231</td>\n",
       "    </tr>\n",
       "    <tr>\n",
       "      <th>sensor_21</th>\n",
       "      <td>0.026010</td>\n",
       "    </tr>\n",
       "    <tr>\n",
       "      <th>sensor_3</th>\n",
       "      <td>0.025698</td>\n",
       "    </tr>\n",
       "    <tr>\n",
       "      <th>sensor_2</th>\n",
       "      <td>0.023630</td>\n",
       "    </tr>\n",
       "    <tr>\n",
       "      <th>op_setting_1</th>\n",
       "      <td>0.020979</td>\n",
       "    </tr>\n",
       "    <tr>\n",
       "      <th>sensor_20</th>\n",
       "      <td>0.020347</td>\n",
       "    </tr>\n",
       "    <tr>\n",
       "      <th>sensor_13</th>\n",
       "      <td>0.019325</td>\n",
       "    </tr>\n",
       "    <tr>\n",
       "      <th>sensor_8</th>\n",
       "      <td>0.018830</td>\n",
       "    </tr>\n",
       "    <tr>\n",
       "      <th>op_setting_2</th>\n",
       "      <td>0.012090</td>\n",
       "    </tr>\n",
       "    <tr>\n",
       "      <th>sensor_17</th>\n",
       "      <td>0.007091</td>\n",
       "    </tr>\n",
       "  </tbody>\n",
       "</table>\n",
       "</div>"
      ],
      "text/plain": [
       "              importance\n",
       "sensor_11       0.457351\n",
       "sensor_12       0.119265\n",
       "sensor_9        0.081066\n",
       "sensor_4        0.040528\n",
       "sensor_14       0.040523\n",
       "sensor_7        0.034208\n",
       "sensor_6        0.026828\n",
       "sensor_15       0.026231\n",
       "sensor_21       0.026010\n",
       "sensor_3        0.025698\n",
       "sensor_2        0.023630\n",
       "op_setting_1    0.020979\n",
       "sensor_20       0.020347\n",
       "sensor_13       0.019325\n",
       "sensor_8        0.018830\n",
       "op_setting_2    0.012090\n",
       "sensor_17       0.007091"
      ]
     },
     "execution_count": 51,
     "metadata": {},
     "output_type": "execute_result"
    }
   ],
   "source": [
    "#特徴量の重要度を算出\n",
    "feature_importances_cluster1_rf_fe_im = rf_cluster1_fe_im.feature_importances_\n",
    "\n",
    "\n",
    "feature_importance_cluster1_rf_fe_im = \\\n",
    "    pd.DataFrame(rf_cluster1_fe_im.feature_importances_, columns=[\"importance\"], index=selected_features)\n",
    "feature_importance_cluster1_rf_fe_im.sort_values(\"importance\", ascending=False)\n",
    "\n",
    "#全部足すと100% 縦軸で\n",
    "#これでは重要度はわかるが、回帰のように上がる下がるなど関係性はわからない"
   ]
  },
  {
   "cell_type": "code",
   "execution_count": 52,
   "metadata": {},
   "outputs": [
    {
     "data": {
      "text/plain": [
       "<matplotlib.axes._subplots.AxesSubplot at 0x17167584d68>"
      ]
     },
     "execution_count": 52,
     "metadata": {},
     "output_type": "execute_result"
    },
    {
     "data": {
      "image/png": "[encoded data removed]",
      "text/plain": [
       "<Figure size 432x288 with 1 Axes>"
      ]
     },
     "metadata": {
      "needs_background": "light"
     },
     "output_type": "display_data"
    }
   ],
   "source": [
    "feature_importance_cluster1_rf_fe_im.sort_values(\"importance\", ascending=False).plot(kind=\"bar\")"
   ]
  },
  {
   "cell_type": "code",
   "execution_count": 53,
   "metadata": {},
   "outputs": [
    {
     "data": {
      "text/plain": [
       "20"
      ]
     },
     "execution_count": 53,
     "metadata": {},
     "output_type": "execute_result"
    }
   ],
   "source": [
    "#メモリを軽くする\n",
    "import gc\n",
    " \n",
    "del result_cluster1\n",
    "del rf_cluster1\n",
    "del rf_cluster1_fe_im\n",
    "gc.collect()"
   ]
  },
  {
   "cell_type": "markdown",
   "metadata": {},
   "source": [
    "# クロスバリデーションによるハイパーパラメータのチューニング 上記のfeature importanceで行う"
   ]
  },
  {
   "cell_type": "code",
   "execution_count": 54,
   "metadata": {},
   "outputs": [],
   "source": [
    "#クロスバリデーションによるハイパーパラメータのチューニング\n",
    "rf_cluster1_gscv_fe_im = RandomForestRegressor(random_state=1234)"
   ]
  },
  {
   "cell_type": "code",
   "execution_count": 55,
   "metadata": {},
   "outputs": [],
   "source": [
    "params = {'n_estimators': [100, 150, 200], 'max_depth': [50, 100, 150]}"
   ]
  },
  {
   "cell_type": "code",
   "execution_count": 56,
   "metadata": {},
   "outputs": [],
   "source": [
    "## 注意: scikit-learnのバージョンが、0.18以降の場合は、scoring='neg_mean_squared_error'とします\n",
    "rf_cluster1_gscv_fe_im = GridSearchCV(rf_cluster1_gscv_fe_im, param_grid=params, verbose=1,\n",
    "                    cv=3, scoring='neg_mean_squared_error')\n",
    "\n",
    "# #注意: scikit-learnのバージョンが、0.17の場合は、scoring='mean_squared_error'とします\n",
    "# import sklearn\n",
    "# sklearn.__version__\n",
    "# gscv = GridSearchCV(rf, param_grid=params, verbose=1,\n",
    "#                     cv=3, scoring='mean_squared_error')"
   ]
  },
  {
   "cell_type": "code",
   "execution_count": null,
   "metadata": {},
   "outputs": [
    {
     "name": "stdout",
     "output_type": "stream",
     "text": [
      "Fitting 3 folds for each of 9 candidates, totalling 27 fits\n"
     ]
    },
    {
     "name": "stderr",
     "output_type": "stream",
     "text": [
      "[Parallel(n_jobs=1)]: Using backend SequentialBackend with 1 concurrent workers.\n"
     ]
    }
   ],
   "source": [
    "rf_cluster1_gscv_fe_im.fit(X_train_all_cluster1_rf_fe_im, y_train_all_cluster1_rf_fe_im)"
   ]
  },
  {
   "cell_type": "code",
   "execution_count": null,
   "metadata": {},
   "outputs": [],
   "source": [
    "rf_cluster1_gscv_fe_im.best_params_"
   ]
  },
  {
   "cell_type": "code",
   "execution_count": null,
   "metadata": {},
   "outputs": [],
   "source": [
    "#ハイパーパラメータチューニング後学習を見てみましょう\n",
    "rf_cluster1_gscv_fe_im_tu = RandomForestRegressor(n_estimators=200, max_depth=50, random_state=1234)\n",
    "rf_cluster1_gscv_fe_im_tu.fit(X_train_all_cluster1_rf_fe_im, y_train_all_cluster1_rf_fe_im)\n"
   ]
  },
  {
   "cell_type": "code",
   "execution_count": null,
   "metadata": {},
   "outputs": [],
   "source": [
    "#上記のrf_gscv_fe_im_tu_allで学習したモデルでtest_fe_imデータを予測する\n",
    "train_data_cluster1['pred_rf_gscv_fe_im_tu_all'] = rf_cluster1_gscv_fe_im_tu.predict(X_train_all_cluster1_rf_fe_im)\n",
    "test_data_cluster1['pred_rf_gscv_fe_im_tu_all'] = rf_cluster1_gscv_fe_im_tu.predict(X_test_cluster1_rf_fe_im)"
   ]
  },
  {
   "cell_type": "code",
   "execution_count": null,
   "metadata": {},
   "outputs": [],
   "source": [
    "train_data_cluster1.head()"
   ]
  },
  {
   "cell_type": "code",
   "execution_count": null,
   "metadata": {},
   "outputs": [],
   "source": [
    "test_data_cluster1.head()"
   ]
  },
  {
   "cell_type": "code",
   "execution_count": null,
   "metadata": {},
   "outputs": [],
   "source": [
    "#結果表の作成 \n",
    "train_data_cluster1 = train_data_cluster1.sort_values(['engine_no', 'time_in_cycles'])\n",
    "test_data_cluster1 = test_data_cluster1.sort_values(['engine_no', 'time_in_cycles'])\n",
    "\n",
    "#test_dataの各engineの最後のサイクルの行のみを表示　列は'engine_no', 'pred_rf_gscv_all'のみ\n",
    "result_cluster1_rf_gscv_fe_im_tu = test_data_cluster1.groupby('engine_no').last().reset_index()[['engine_no', 'pred_rf_gscv_fe_im_tu_all']]\n",
    "\n"
   ]
  },
  {
   "cell_type": "code",
   "execution_count": null,
   "metadata": {},
   "outputs": [],
   "source": [
    "result_cluster1_rf_gscv_fe_im_tu.head()"
   ]
  },
  {
   "cell_type": "code",
   "execution_count": null,
   "metadata": {},
   "outputs": [],
   "source": [
    "# pred_rf_gscv_all<100の時、つまり予測した残りの寿命サイクルが100より小さければ1 それ以外で0とする\n",
    "result_cluster1_rf_gscv_fe_im_tu['result'] = result_cluster1_rf_gscv_fe_im_tu['pred_rf_gscv_fe_im_tu_all']\\\n",
    ".map(lambda x: 0 if x > 100 else 1)"
   ]
  },
  {
   "cell_type": "code",
   "execution_count": null,
   "metadata": {},
   "outputs": [],
   "source": [
    "result_cluster1_rf_gscv_fe_im_tu.head()"
   ]
  },
  {
   "cell_type": "code",
   "execution_count": null,
   "metadata": {},
   "outputs": [],
   "source": [
    "#csvで結果の保存\n",
    "result_cluster1_rf_gscv_fe_im_tu[['engine_no', 'result']].to_csv('Desktop/インテグ課題/NASA/cluster1_submission3.csv', index=False)"
   ]
  },
  {
   "cell_type": "markdown",
   "metadata": {},
   "source": [
    "# 上記で読み込んだtest_data_RUL_cluster1を使っていく"
   ]
  },
  {
   "cell_type": "code",
   "execution_count": null,
   "metadata": {},
   "outputs": [],
   "source": [
    "test_data_RUL_cluster1.head()"
   ]
  },
  {
   "cell_type": "markdown",
   "metadata": {},
   "source": [
    "# train_allで学習しtestデータで出した予測値と、実際の答えで混合行列を作成"
   ]
  },
  {
   "cell_type": "code",
   "execution_count": null,
   "metadata": {},
   "outputs": [],
   "source": [
    "print((result_cluster1_rf_gscv_fe_im_tu['result'] == 1).sum())\n",
    "print((result_cluster1_rf_gscv_fe_im_tu['result'] == 0).sum())"
   ]
  },
  {
   "cell_type": "code",
   "execution_count": null,
   "metadata": {},
   "outputs": [],
   "source": [
    "print((test_data_RUL_cluster1['result'] == 1).sum())\n",
    "print((test_data_RUL_cluster1['result'] == 0).sum())"
   ]
  },
  {
   "cell_type": "markdown",
   "metadata": {},
   "source": [
    "# 100以内に故障するを1,しないを0としている 故障することを当てたいから、故障する1をpositiveと定義する。"
   ]
  },
  {
   "cell_type": "code",
   "execution_count": null,
   "metadata": {},
   "outputs": [],
   "source": [
    "#混合行列\n",
    "#1 = Positive,0 = Negativeとする　なぜならば、再現率などがpositiveで計算されるので、故障するをpositiveにする\n",
    "#labels指定をしないと、左から0,1表記になるので、TPが右下になってしまう。\n",
    "cm = confusion_matrix(test_data_RUL_cluster1['result'],result_cluster1_rf_gscv_fe_im_tu['result'],labels=[1, 0] )"
   ]
  },
  {
   "cell_type": "code",
   "execution_count": null,
   "metadata": {},
   "outputs": [],
   "source": [
    "cm"
   ]
  },
  {
   "cell_type": "markdown",
   "metadata": {},
   "source": [
    "# 列が予測の1と0行が実際の1と0つまり、真陽性 : TP (True-Positive)233、真陰性: TN (True-Negative)177、偽陽性: FP (False-Positive)15(故障していないのにしていると予測)、偽陰性: FN (False-Negative)82(実際は故障しているのに故障していないと予測)\n",
    "#https://pythondatascience.plavox.info/scikit-learn/%E5%88%86%E9%A1%9E%E7%B5%90%E6%9E%9C%E3%81%AE%E3%83%A2%E3%83%87%E3%83%AB%E8%A9%95%E4%BE%A1\n",
    "#FN (False-Negative)82を少なくしたい　つまり実際は故障だが、故障しないと判断してしまっているものを"
   ]
  },
  {
   "cell_type": "code",
   "execution_count": null,
   "metadata": {},
   "outputs": [],
   "source": [
    "#混合行列まとめて表示\n",
    "cr = classification_report(test_data_RUL_cluster1['result'],result_cluster1_rf_gscv_fe_im_tu['result'],labels=[1, 0] )\n",
    "print(cr)"
   ]
  },
  {
   "cell_type": "markdown",
   "metadata": {},
   "source": [
    "# labelsを付けた時の計算が上記のまとめて表示の1の方　labelsをつけなかったときの計算が下の方"
   ]
  },
  {
   "cell_type": "markdown",
   "metadata": {},
   "source": [
    "# #再現率を上げたい　実際の故障のうち故障と予測できたもの"
   ]
  },
  {
   "cell_type": "code",
   "execution_count": null,
   "metadata": {},
   "outputs": [],
   "source": [
    "#特徴量の重要度を算出\n",
    "feature_importances_cluster1_rf_gscv_fe_im_tu = rf_cluster1_gscv_fe_im_tu_all.feature_importances_\n",
    "\n",
    "\n",
    "feature_importances_cluster1_rf_gscv_fe_im_tu = \\\n",
    "    pd.DataFrame(rf_cluster1_gscv_fe_im_tu_all.feature_importances_, columns=[\"importance\"], index=selected_features)\n",
    "feature_importances_cluster1_rf_gscv_fe_im_tu.sort_values(\"importance\", ascending=False)\n",
    "\n",
    "#全部足すと100% 縦軸で\n",
    "#これでは重要度はわかるが、回帰のように上がる下がるなど関係性はわからない"
   ]
  },
  {
   "cell_type": "code",
   "execution_count": null,
   "metadata": {},
   "outputs": [],
   "source": [
    "feature_importances_cluster1_rf_gscv_fe_im_tu.sort_values(\"importance\", ascending=False).plot(kind=\"bar\")"
   ]
  },
  {
   "cell_type": "markdown",
   "metadata": {},
   "source": [
    "# 結果をtrain_data_cluster0_pred、test_data_cluster0_predとして出力する"
   ]
  },
  {
   "cell_type": "code",
   "execution_count": 196,
   "metadata": {},
   "outputs": [],
   "source": [
    "#clusterごとに分けたデータの予測結果追加を出力\n",
    "train_data_cluster1.to_csv('Desktop/インテグ課題/NASA/train_data/train_data_cluster1_pred.csv', index=False)\n",
    "test_data_cluster1.to_csv('Desktop/インテグ課題/NASA/test_data/test_data_cluster1_pred.csv', index=False)"
   ]
  },
  {
   "cell_type": "code",
   "execution_count": 197,
   "metadata": {},
   "outputs": [],
   "source": [
    "#clusterごとに分けたデータの予測結果追加を読み込み\n",
    "train_data_cluster1_pred = pd.read_csv('Desktop/インテグ課題/NASA/train_data/train_data_cluster1_pred.csv')\n",
    "test_data_cluster1_pred = pd.read_csv('Desktop/インテグ課題/NASA/test_data/test_data_cluster1_pred.csv')"
   ]
  }
 ],
 "metadata": {
  "kernelspec": {
   "display_name": "Python 3",
   "language": "python",
   "name": "python3"
  },
  "language_info": {
   "codemirror_mode": {
    "name": "ipython",
    "version": 3
   },
   "file_extension": ".py",
   "mimetype": "text/x-python",
   "name": "python",
   "nbconvert_exporter": "python",
   "pygments_lexer": "ipython3",
   "version": "3.7.3"
  }
 },
 "nbformat": 4,
 "nbformat_minor": 2
}

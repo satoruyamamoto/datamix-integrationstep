{
 "cells": [
  {
   "cell_type": "markdown",
   "metadata": {},
   "source": [
    "#  R(データミックスのインテグレーションステップ課題　エンジンの予知保全　全データ一括での生存時間分析による予測.R)において生存時間分析で予測を行ったデータを読み込み、混合行列を作成する"
   ]
  },
  {
   "cell_type": "code",
   "execution_count": 1,
   "metadata": {},
   "outputs": [],
   "source": [
    "%matplotlib inline\n",
    "import matplotlib\n",
    "import matplotlib.pyplot as plt\n",
    "import numpy as np\n",
    "import pandas as pd\n",
    "from sklearn.linear_model import LinearRegression\n",
    "from sklearn.tree import DecisionTreeRegressor\n",
    "from sklearn.ensemble import RandomForestRegressor\n",
    "from sklearn.model_selection import GridSearchCV\n",
    "from sklearn.model_selection import train_test_split\n",
    "from sklearn.metrics import mean_squared_error\n",
    "\n",
    "from sklearn.metrics import confusion_matrix, accuracy_score,precision_score,recall_score, f1_score,classification_report\n",
    "from random import randint, shuffle\n",
    "import os\n",
    "import seaborn as sns\n",
    "\n",
    "\n"
   ]
  },
  {
   "cell_type": "markdown",
   "metadata": {},
   "source": [
    "# 閾値0.5"
   ]
  },
  {
   "cell_type": "markdown",
   "metadata": {},
   "source": [
    "# Rで作成した予測付きのtestデータを読み込む"
   ]
  },
  {
   "cell_type": "code",
   "execution_count": 2,
   "metadata": {},
   "outputs": [],
   "source": [
    "test_data_R_time_step_0_5 = pd.read_csv('Desktop/インテグ課題/NASA/test_data/test_data_R_time_step_0.5.csv')"
   ]
  },
  {
   "cell_type": "code",
   "execution_count": 3,
   "metadata": {},
   "outputs": [
    {
     "data": {
      "text/html": [
       "<div>\n",
       "<style scoped>\n",
       "    .dataframe tbody tr th:only-of-type {\n",
       "        vertical-align: middle;\n",
       "    }\n",
       "\n",
       "    .dataframe tbody tr th {\n",
       "        vertical-align: top;\n",
       "    }\n",
       "\n",
       "    .dataframe thead th {\n",
       "        text-align: right;\n",
       "    }\n",
       "</style>\n",
       "<table border=\"1\" class=\"dataframe\">\n",
       "  <thead>\n",
       "    <tr style=\"text-align: right;\">\n",
       "      <th></th>\n",
       "      <th>Unnamed: 0</th>\n",
       "      <th>engine_no</th>\n",
       "      <th>time_in_cycles</th>\n",
       "      <th>op_setting_1</th>\n",
       "      <th>op_setting_2</th>\n",
       "      <th>op_setting_3</th>\n",
       "      <th>sensor_1</th>\n",
       "      <th>sensor_2</th>\n",
       "      <th>sensor_3</th>\n",
       "      <th>sensor_4</th>\n",
       "      <th>...</th>\n",
       "      <th>sensor_16</th>\n",
       "      <th>sensor_17</th>\n",
       "      <th>sensor_18</th>\n",
       "      <th>sensor_19</th>\n",
       "      <th>sensor_20</th>\n",
       "      <th>sensor_21</th>\n",
       "      <th>stop</th>\n",
       "      <th>pred_test_time_step</th>\n",
       "      <th>pred_test2_time_step</th>\n",
       "      <th>pred_test2_time_step_flag</th>\n",
       "    </tr>\n",
       "  </thead>\n",
       "  <tbody>\n",
       "    <tr>\n",
       "      <th>0</th>\n",
       "      <td>1</td>\n",
       "      <td>0</td>\n",
       "      <td>1</td>\n",
       "      <td>42.0034</td>\n",
       "      <td>0.8400</td>\n",
       "      <td>100</td>\n",
       "      <td>445.00</td>\n",
       "      <td>549.36</td>\n",
       "      <td>1342.05</td>\n",
       "      <td>1124.56</td>\n",
       "      <td>...</td>\n",
       "      <td>0.02</td>\n",
       "      <td>329</td>\n",
       "      <td>2212</td>\n",
       "      <td>100.0</td>\n",
       "      <td>10.69</td>\n",
       "      <td>6.3956</td>\n",
       "      <td>2</td>\n",
       "      <td>-0.541003</td>\n",
       "      <td>0.367954</td>\n",
       "      <td>0</td>\n",
       "    </tr>\n",
       "    <tr>\n",
       "      <th>1</th>\n",
       "      <td>2</td>\n",
       "      <td>0</td>\n",
       "      <td>2</td>\n",
       "      <td>42.0017</td>\n",
       "      <td>0.8400</td>\n",
       "      <td>100</td>\n",
       "      <td>445.00</td>\n",
       "      <td>548.83</td>\n",
       "      <td>1351.93</td>\n",
       "      <td>1116.28</td>\n",
       "      <td>...</td>\n",
       "      <td>0.02</td>\n",
       "      <td>331</td>\n",
       "      <td>2212</td>\n",
       "      <td>100.0</td>\n",
       "      <td>10.55</td>\n",
       "      <td>6.3775</td>\n",
       "      <td>3</td>\n",
       "      <td>-0.534184</td>\n",
       "      <td>0.369542</td>\n",
       "      <td>0</td>\n",
       "    </tr>\n",
       "    <tr>\n",
       "      <th>2</th>\n",
       "      <td>3</td>\n",
       "      <td>0</td>\n",
       "      <td>3</td>\n",
       "      <td>0.0028</td>\n",
       "      <td>0.0019</td>\n",
       "      <td>100</td>\n",
       "      <td>518.67</td>\n",
       "      <td>642.35</td>\n",
       "      <td>1583.74</td>\n",
       "      <td>1400.44</td>\n",
       "      <td>...</td>\n",
       "      <td>0.03</td>\n",
       "      <td>392</td>\n",
       "      <td>2388</td>\n",
       "      <td>100.0</td>\n",
       "      <td>38.85</td>\n",
       "      <td>23.3483</td>\n",
       "      <td>4</td>\n",
       "      <td>-0.359101</td>\n",
       "      <td>0.411177</td>\n",
       "      <td>0</td>\n",
       "    </tr>\n",
       "    <tr>\n",
       "      <th>3</th>\n",
       "      <td>4</td>\n",
       "      <td>0</td>\n",
       "      <td>4</td>\n",
       "      <td>42.0047</td>\n",
       "      <td>0.8400</td>\n",
       "      <td>100</td>\n",
       "      <td>445.00</td>\n",
       "      <td>549.69</td>\n",
       "      <td>1354.36</td>\n",
       "      <td>1125.55</td>\n",
       "      <td>...</td>\n",
       "      <td>0.02</td>\n",
       "      <td>330</td>\n",
       "      <td>2212</td>\n",
       "      <td>100.0</td>\n",
       "      <td>10.56</td>\n",
       "      <td>6.4871</td>\n",
       "      <td>5</td>\n",
       "      <td>-0.314766</td>\n",
       "      <td>0.421952</td>\n",
       "      <td>0</td>\n",
       "    </tr>\n",
       "    <tr>\n",
       "      <th>4</th>\n",
       "      <td>5</td>\n",
       "      <td>0</td>\n",
       "      <td>5</td>\n",
       "      <td>10.0058</td>\n",
       "      <td>0.2506</td>\n",
       "      <td>100</td>\n",
       "      <td>489.05</td>\n",
       "      <td>604.72</td>\n",
       "      <td>1496.65</td>\n",
       "      <td>1310.52</td>\n",
       "      <td>...</td>\n",
       "      <td>0.03</td>\n",
       "      <td>370</td>\n",
       "      <td>2319</td>\n",
       "      <td>100.0</td>\n",
       "      <td>28.78</td>\n",
       "      <td>17.1987</td>\n",
       "      <td>6</td>\n",
       "      <td>-0.321387</td>\n",
       "      <td>0.420338</td>\n",
       "      <td>0</td>\n",
       "    </tr>\n",
       "  </tbody>\n",
       "</table>\n",
       "<p>5 rows × 31 columns</p>\n",
       "</div>"
      ],
      "text/plain": [
       "   Unnamed: 0  engine_no  time_in_cycles  op_setting_1  op_setting_2  \\\n",
       "0           1          0               1       42.0034        0.8400   \n",
       "1           2          0               2       42.0017        0.8400   \n",
       "2           3          0               3        0.0028        0.0019   \n",
       "3           4          0               4       42.0047        0.8400   \n",
       "4           5          0               5       10.0058        0.2506   \n",
       "\n",
       "   op_setting_3  sensor_1  sensor_2  sensor_3  sensor_4  ...  sensor_16  \\\n",
       "0           100    445.00    549.36   1342.05   1124.56  ...       0.02   \n",
       "1           100    445.00    548.83   1351.93   1116.28  ...       0.02   \n",
       "2           100    518.67    642.35   1583.74   1400.44  ...       0.03   \n",
       "3           100    445.00    549.69   1354.36   1125.55  ...       0.02   \n",
       "4           100    489.05    604.72   1496.65   1310.52  ...       0.03   \n",
       "\n",
       "   sensor_17  sensor_18  sensor_19  sensor_20  sensor_21  stop  \\\n",
       "0        329       2212      100.0      10.69     6.3956     2   \n",
       "1        331       2212      100.0      10.55     6.3775     3   \n",
       "2        392       2388      100.0      38.85    23.3483     4   \n",
       "3        330       2212      100.0      10.56     6.4871     5   \n",
       "4        370       2319      100.0      28.78    17.1987     6   \n",
       "\n",
       "   pred_test_time_step  pred_test2_time_step  pred_test2_time_step_flag  \n",
       "0            -0.541003              0.367954                          0  \n",
       "1            -0.534184              0.369542                          0  \n",
       "2            -0.359101              0.411177                          0  \n",
       "3            -0.314766              0.421952                          0  \n",
       "4            -0.321387              0.420338                          0  \n",
       "\n",
       "[5 rows x 31 columns]"
      ]
     },
     "execution_count": 3,
     "metadata": {},
     "output_type": "execute_result"
    }
   ],
   "source": [
    "test_data_R_time_step_0_5.head()"
   ]
  },
  {
   "cell_type": "code",
   "execution_count": 4,
   "metadata": {},
   "outputs": [],
   "source": [
    "#結果表の作成 \n",
    "test_data_R_time_step_0_5_pred = test_data_R_time_step_0_5.sort_values(['engine_no', 'time_in_cycles'])\n",
    "\n",
    "#test_data_Rの各engineの最後のサイクルの行のみを表示　列は'engine_no', 'pred_test2_flag'のみ\n",
    "test_data_R_time_step_0_5_pred = test_data_R_time_step_0_5_pred.groupby('engine_no').last().reset_index()[['engine_no', 'pred_test2_time_step_flag']]\n",
    "\n"
   ]
  },
  {
   "cell_type": "code",
   "execution_count": 5,
   "metadata": {},
   "outputs": [
    {
     "data": {
      "text/html": [
       "<div>\n",
       "<style scoped>\n",
       "    .dataframe tbody tr th:only-of-type {\n",
       "        vertical-align: middle;\n",
       "    }\n",
       "\n",
       "    .dataframe tbody tr th {\n",
       "        vertical-align: top;\n",
       "    }\n",
       "\n",
       "    .dataframe thead th {\n",
       "        text-align: right;\n",
       "    }\n",
       "</style>\n",
       "<table border=\"1\" class=\"dataframe\">\n",
       "  <thead>\n",
       "    <tr style=\"text-align: right;\">\n",
       "      <th></th>\n",
       "      <th>engine_no</th>\n",
       "      <th>pred_test2_time_step_flag</th>\n",
       "    </tr>\n",
       "  </thead>\n",
       "  <tbody>\n",
       "    <tr>\n",
       "      <th>0</th>\n",
       "      <td>0</td>\n",
       "      <td>1</td>\n",
       "    </tr>\n",
       "    <tr>\n",
       "      <th>1</th>\n",
       "      <td>1</td>\n",
       "      <td>1</td>\n",
       "    </tr>\n",
       "    <tr>\n",
       "      <th>2</th>\n",
       "      <td>2</td>\n",
       "      <td>0</td>\n",
       "    </tr>\n",
       "    <tr>\n",
       "      <th>3</th>\n",
       "      <td>3</td>\n",
       "      <td>0</td>\n",
       "    </tr>\n",
       "    <tr>\n",
       "      <th>4</th>\n",
       "      <td>4</td>\n",
       "      <td>1</td>\n",
       "    </tr>\n",
       "  </tbody>\n",
       "</table>\n",
       "</div>"
      ],
      "text/plain": [
       "   engine_no  pred_test2_time_step_flag\n",
       "0          0                          1\n",
       "1          1                          1\n",
       "2          2                          0\n",
       "3          3                          0\n",
       "4          4                          1"
      ]
     },
     "execution_count": 5,
     "metadata": {},
     "output_type": "execute_result"
    }
   ],
   "source": [
    "test_data_R_time_step_0_5_pred.head()"
   ]
  },
  {
   "cell_type": "code",
   "execution_count": 23,
   "metadata": {},
   "outputs": [],
   "source": [
    "#列名変換"
   ]
  },
  {
   "cell_type": "code",
   "execution_count": 24,
   "metadata": {},
   "outputs": [],
   "source": [
    "#csvで結果の保存\n",
    "# result_test_data_all_pred[['engine_no', 'result']].to_csv('Downloads/インテグ課題/NASA/prehackathonsup/result_test_data_all_pred.csv', index=False)"
   ]
  },
  {
   "cell_type": "markdown",
   "metadata": {},
   "source": [
    "# test_dataのRULを読み込んで処理"
   ]
  },
  {
   "cell_type": "code",
   "execution_count": 6,
   "metadata": {},
   "outputs": [],
   "source": [
    "#testデータのRULを読み込む\n",
    "test_data_RUL = pd.read_csv('Downloads/インテグ課題/NASA/prehackathonsup/RUL_test.csv')"
   ]
  },
  {
   "cell_type": "code",
   "execution_count": 7,
   "metadata": {},
   "outputs": [
    {
     "data": {
      "text/html": [
       "<div>\n",
       "<style scoped>\n",
       "    .dataframe tbody tr th:only-of-type {\n",
       "        vertical-align: middle;\n",
       "    }\n",
       "\n",
       "    .dataframe tbody tr th {\n",
       "        vertical-align: top;\n",
       "    }\n",
       "\n",
       "    .dataframe thead th {\n",
       "        text-align: right;\n",
       "    }\n",
       "</style>\n",
       "<table border=\"1\" class=\"dataframe\">\n",
       "  <thead>\n",
       "    <tr style=\"text-align: right;\">\n",
       "      <th></th>\n",
       "      <th>Unnamed: 0</th>\n",
       "      <th>RUL</th>\n",
       "      <th>engine_no</th>\n",
       "    </tr>\n",
       "  </thead>\n",
       "  <tbody>\n",
       "    <tr>\n",
       "      <th>0</th>\n",
       "      <td>0</td>\n",
       "      <td>22</td>\n",
       "      <td>0</td>\n",
       "    </tr>\n",
       "    <tr>\n",
       "      <th>1</th>\n",
       "      <td>1</td>\n",
       "      <td>12</td>\n",
       "      <td>1</td>\n",
       "    </tr>\n",
       "    <tr>\n",
       "      <th>2</th>\n",
       "      <td>2</td>\n",
       "      <td>108</td>\n",
       "      <td>2</td>\n",
       "    </tr>\n",
       "    <tr>\n",
       "      <th>3</th>\n",
       "      <td>3</td>\n",
       "      <td>88</td>\n",
       "      <td>3</td>\n",
       "    </tr>\n",
       "    <tr>\n",
       "      <th>4</th>\n",
       "      <td>4</td>\n",
       "      <td>10</td>\n",
       "      <td>4</td>\n",
       "    </tr>\n",
       "  </tbody>\n",
       "</table>\n",
       "</div>"
      ],
      "text/plain": [
       "   Unnamed: 0  RUL  engine_no\n",
       "0           0   22          0\n",
       "1           1   12          1\n",
       "2           2  108          2\n",
       "3           3   88          3\n",
       "4           4   10          4"
      ]
     },
     "execution_count": 7,
     "metadata": {},
     "output_type": "execute_result"
    }
   ],
   "source": [
    "test_data_RUL.head()"
   ]
  },
  {
   "cell_type": "code",
   "execution_count": 8,
   "metadata": {},
   "outputs": [
    {
     "data": {
      "text/html": [
       "<div>\n",
       "<style scoped>\n",
       "    .dataframe tbody tr th:only-of-type {\n",
       "        vertical-align: middle;\n",
       "    }\n",
       "\n",
       "    .dataframe tbody tr th {\n",
       "        vertical-align: top;\n",
       "    }\n",
       "\n",
       "    .dataframe thead th {\n",
       "        text-align: right;\n",
       "    }\n",
       "</style>\n",
       "<table border=\"1\" class=\"dataframe\">\n",
       "  <thead>\n",
       "    <tr style=\"text-align: right;\">\n",
       "      <th></th>\n",
       "      <th>engine_no</th>\n",
       "      <th>RUL</th>\n",
       "    </tr>\n",
       "  </thead>\n",
       "  <tbody>\n",
       "    <tr>\n",
       "      <th>0</th>\n",
       "      <td>0</td>\n",
       "      <td>22</td>\n",
       "    </tr>\n",
       "    <tr>\n",
       "      <th>1</th>\n",
       "      <td>1</td>\n",
       "      <td>12</td>\n",
       "    </tr>\n",
       "    <tr>\n",
       "      <th>2</th>\n",
       "      <td>2</td>\n",
       "      <td>108</td>\n",
       "    </tr>\n",
       "    <tr>\n",
       "      <th>3</th>\n",
       "      <td>3</td>\n",
       "      <td>88</td>\n",
       "    </tr>\n",
       "    <tr>\n",
       "      <th>4</th>\n",
       "      <td>4</td>\n",
       "      <td>10</td>\n",
       "    </tr>\n",
       "  </tbody>\n",
       "</table>\n",
       "</div>"
      ],
      "text/plain": [
       "   engine_no  RUL\n",
       "0          0   22\n",
       "1          1   12\n",
       "2          2  108\n",
       "3          3   88\n",
       "4          4   10"
      ]
     },
     "execution_count": 8,
     "metadata": {},
     "output_type": "execute_result"
    }
   ],
   "source": [
    "#列の順番を入れ替えと削除\n",
    "test_data_RUL.drop('Unnamed: 0', axis=1)\n",
    "test_data_RUL = test_data_RUL.loc[:,['engine_no','RUL']]\n",
    "test_data_RUL.head()"
   ]
  },
  {
   "cell_type": "code",
   "execution_count": 9,
   "metadata": {},
   "outputs": [],
   "source": [
    "# RUL<100の時、つまり予測した残りの寿命サイクルが100より小さければ1 それ以外で0とする\n",
    "test_data_RUL['result'] = test_data_RUL['RUL'].map(lambda x: 0 if x > 100 else 1)"
   ]
  },
  {
   "cell_type": "code",
   "execution_count": 10,
   "metadata": {},
   "outputs": [
    {
     "data": {
      "text/html": [
       "<div>\n",
       "<style scoped>\n",
       "    .dataframe tbody tr th:only-of-type {\n",
       "        vertical-align: middle;\n",
       "    }\n",
       "\n",
       "    .dataframe tbody tr th {\n",
       "        vertical-align: top;\n",
       "    }\n",
       "\n",
       "    .dataframe thead th {\n",
       "        text-align: right;\n",
       "    }\n",
       "</style>\n",
       "<table border=\"1\" class=\"dataframe\">\n",
       "  <thead>\n",
       "    <tr style=\"text-align: right;\">\n",
       "      <th></th>\n",
       "      <th>engine_no</th>\n",
       "      <th>RUL</th>\n",
       "      <th>result</th>\n",
       "    </tr>\n",
       "  </thead>\n",
       "  <tbody>\n",
       "    <tr>\n",
       "      <th>0</th>\n",
       "      <td>0</td>\n",
       "      <td>22</td>\n",
       "      <td>1</td>\n",
       "    </tr>\n",
       "    <tr>\n",
       "      <th>1</th>\n",
       "      <td>1</td>\n",
       "      <td>12</td>\n",
       "      <td>1</td>\n",
       "    </tr>\n",
       "    <tr>\n",
       "      <th>2</th>\n",
       "      <td>2</td>\n",
       "      <td>108</td>\n",
       "      <td>0</td>\n",
       "    </tr>\n",
       "    <tr>\n",
       "      <th>3</th>\n",
       "      <td>3</td>\n",
       "      <td>88</td>\n",
       "      <td>1</td>\n",
       "    </tr>\n",
       "    <tr>\n",
       "      <th>4</th>\n",
       "      <td>4</td>\n",
       "      <td>10</td>\n",
       "      <td>1</td>\n",
       "    </tr>\n",
       "  </tbody>\n",
       "</table>\n",
       "</div>"
      ],
      "text/plain": [
       "   engine_no  RUL  result\n",
       "0          0   22       1\n",
       "1          1   12       1\n",
       "2          2  108       0\n",
       "3          3   88       1\n",
       "4          4   10       1"
      ]
     },
     "execution_count": 10,
     "metadata": {},
     "output_type": "execute_result"
    }
   ],
   "source": [
    "test_data_RUL.head()"
   ]
  },
  {
   "cell_type": "markdown",
   "metadata": {},
   "source": [
    "# 100以内に故障するを1,しないを0としている 故障することを当てたいから、故障する1をpositiveと定義する。"
   ]
  },
  {
   "cell_type": "code",
   "execution_count": 11,
   "metadata": {},
   "outputs": [],
   "source": [
    "#混合行列\n",
    "#1 = Positive,0 = Negativeとする　なぜならば、再現率などがpositiveで計算されるので、故障するをpositiveにする\n",
    "#labels指定をしないと、左から0,1表記になるので、TPが右下になってしまう。\n",
    "cm = confusion_matrix(test_data_RUL['result'],test_data_R_time_step_0_5_pred['pred_test2_time_step_flag'],labels=[1, 0] )"
   ]
  },
  {
   "cell_type": "code",
   "execution_count": 12,
   "metadata": {},
   "outputs": [
    {
     "data": {
      "text/plain": [
       "array([[348, 102],\n",
       "       [ 80, 177]], dtype=int64)"
      ]
     },
     "execution_count": 12,
     "metadata": {},
     "output_type": "execute_result"
    }
   ],
   "source": [
    "cm"
   ]
  },
  {
   "cell_type": "markdown",
   "metadata": {},
   "source": [
    "# 列が予測の1と0行が実際の1と0つまり、真陽性 : TP (True-Positive)332、真陰性: TN (True-Negative)239、偽陽性: FP (False-Positive)18(故障していないのにしていると予測)、偽陰性: FN (False-Negative)118(実際は故障しているのに故障していないと予測)\n",
    "#https://pythondatascience.plavox.info/scikit-learn/%E5%88%86%E9%A1%9E%E7%B5%90%E6%9E%9C%E3%81%AE%E3%83%A2%E3%83%87%E3%83%AB%E8%A9%95%E4%BE%A1\n",
    "#FN (False-Negative)118を少なくしたい　つまり実際は故障だが、故障しないと判断してしまっているものを"
   ]
  },
  {
   "cell_type": "code",
   "execution_count": 13,
   "metadata": {},
   "outputs": [
    {
     "name": "stdout",
     "output_type": "stream",
     "text": [
      "              precision    recall  f1-score   support\n",
      "\n",
      "           1       0.81      0.77      0.79       450\n",
      "           0       0.63      0.69      0.66       257\n",
      "\n",
      "    accuracy                           0.74       707\n",
      "   macro avg       0.72      0.73      0.73       707\n",
      "weighted avg       0.75      0.74      0.74       707\n",
      "\n"
     ]
    }
   ],
   "source": [
    "#混合行列まとめて表示\n",
    "cr = classification_report(test_data_RUL['result'],test_data_R_time_step_0_5_pred['pred_test2_time_step_flag'],labels=[1, 0] )\n",
    "print(cr)"
   ]
  },
  {
   "cell_type": "markdown",
   "metadata": {},
   "source": [
    "# labelsを付けた時の計算が上記のまとめて表示の1の方　labelsをつけなかったときの計算が下の方"
   ]
  },
  {
   "cell_type": "markdown",
   "metadata": {},
   "source": [
    "# 閾値0.4"
   ]
  },
  {
   "cell_type": "markdown",
   "metadata": {},
   "source": [
    "# Rで作成した予測付きのtestデータを読み込む"
   ]
  },
  {
   "cell_type": "code",
   "execution_count": 14,
   "metadata": {},
   "outputs": [],
   "source": [
    "test_data_R_time_step_0_4 = pd.read_csv('Desktop/インテグ課題/NASA/test_data/test_data_R_time_step_0.4.csv')"
   ]
  },
  {
   "cell_type": "code",
   "execution_count": 15,
   "metadata": {},
   "outputs": [
    {
     "data": {
      "text/html": [
       "<div>\n",
       "<style scoped>\n",
       "    .dataframe tbody tr th:only-of-type {\n",
       "        vertical-align: middle;\n",
       "    }\n",
       "\n",
       "    .dataframe tbody tr th {\n",
       "        vertical-align: top;\n",
       "    }\n",
       "\n",
       "    .dataframe thead th {\n",
       "        text-align: right;\n",
       "    }\n",
       "</style>\n",
       "<table border=\"1\" class=\"dataframe\">\n",
       "  <thead>\n",
       "    <tr style=\"text-align: right;\">\n",
       "      <th></th>\n",
       "      <th>Unnamed: 0</th>\n",
       "      <th>engine_no</th>\n",
       "      <th>time_in_cycles</th>\n",
       "      <th>op_setting_1</th>\n",
       "      <th>op_setting_2</th>\n",
       "      <th>op_setting_3</th>\n",
       "      <th>sensor_1</th>\n",
       "      <th>sensor_2</th>\n",
       "      <th>sensor_3</th>\n",
       "      <th>sensor_4</th>\n",
       "      <th>...</th>\n",
       "      <th>sensor_16</th>\n",
       "      <th>sensor_17</th>\n",
       "      <th>sensor_18</th>\n",
       "      <th>sensor_19</th>\n",
       "      <th>sensor_20</th>\n",
       "      <th>sensor_21</th>\n",
       "      <th>stop</th>\n",
       "      <th>pred_test_time_step</th>\n",
       "      <th>pred_test2_time_step</th>\n",
       "      <th>pred_test2_time_step_flag</th>\n",
       "    </tr>\n",
       "  </thead>\n",
       "  <tbody>\n",
       "    <tr>\n",
       "      <th>0</th>\n",
       "      <td>1</td>\n",
       "      <td>0</td>\n",
       "      <td>1</td>\n",
       "      <td>42.0034</td>\n",
       "      <td>0.8400</td>\n",
       "      <td>100</td>\n",
       "      <td>445.00</td>\n",
       "      <td>549.36</td>\n",
       "      <td>1342.05</td>\n",
       "      <td>1124.56</td>\n",
       "      <td>...</td>\n",
       "      <td>0.02</td>\n",
       "      <td>329</td>\n",
       "      <td>2212</td>\n",
       "      <td>100.0</td>\n",
       "      <td>10.69</td>\n",
       "      <td>6.3956</td>\n",
       "      <td>2</td>\n",
       "      <td>-0.541003</td>\n",
       "      <td>0.367954</td>\n",
       "      <td>0</td>\n",
       "    </tr>\n",
       "    <tr>\n",
       "      <th>1</th>\n",
       "      <td>2</td>\n",
       "      <td>0</td>\n",
       "      <td>2</td>\n",
       "      <td>42.0017</td>\n",
       "      <td>0.8400</td>\n",
       "      <td>100</td>\n",
       "      <td>445.00</td>\n",
       "      <td>548.83</td>\n",
       "      <td>1351.93</td>\n",
       "      <td>1116.28</td>\n",
       "      <td>...</td>\n",
       "      <td>0.02</td>\n",
       "      <td>331</td>\n",
       "      <td>2212</td>\n",
       "      <td>100.0</td>\n",
       "      <td>10.55</td>\n",
       "      <td>6.3775</td>\n",
       "      <td>3</td>\n",
       "      <td>-0.534184</td>\n",
       "      <td>0.369542</td>\n",
       "      <td>0</td>\n",
       "    </tr>\n",
       "    <tr>\n",
       "      <th>2</th>\n",
       "      <td>3</td>\n",
       "      <td>0</td>\n",
       "      <td>3</td>\n",
       "      <td>0.0028</td>\n",
       "      <td>0.0019</td>\n",
       "      <td>100</td>\n",
       "      <td>518.67</td>\n",
       "      <td>642.35</td>\n",
       "      <td>1583.74</td>\n",
       "      <td>1400.44</td>\n",
       "      <td>...</td>\n",
       "      <td>0.03</td>\n",
       "      <td>392</td>\n",
       "      <td>2388</td>\n",
       "      <td>100.0</td>\n",
       "      <td>38.85</td>\n",
       "      <td>23.3483</td>\n",
       "      <td>4</td>\n",
       "      <td>-0.359101</td>\n",
       "      <td>0.411177</td>\n",
       "      <td>1</td>\n",
       "    </tr>\n",
       "    <tr>\n",
       "      <th>3</th>\n",
       "      <td>4</td>\n",
       "      <td>0</td>\n",
       "      <td>4</td>\n",
       "      <td>42.0047</td>\n",
       "      <td>0.8400</td>\n",
       "      <td>100</td>\n",
       "      <td>445.00</td>\n",
       "      <td>549.69</td>\n",
       "      <td>1354.36</td>\n",
       "      <td>1125.55</td>\n",
       "      <td>...</td>\n",
       "      <td>0.02</td>\n",
       "      <td>330</td>\n",
       "      <td>2212</td>\n",
       "      <td>100.0</td>\n",
       "      <td>10.56</td>\n",
       "      <td>6.4871</td>\n",
       "      <td>5</td>\n",
       "      <td>-0.314766</td>\n",
       "      <td>0.421952</td>\n",
       "      <td>1</td>\n",
       "    </tr>\n",
       "    <tr>\n",
       "      <th>4</th>\n",
       "      <td>5</td>\n",
       "      <td>0</td>\n",
       "      <td>5</td>\n",
       "      <td>10.0058</td>\n",
       "      <td>0.2506</td>\n",
       "      <td>100</td>\n",
       "      <td>489.05</td>\n",
       "      <td>604.72</td>\n",
       "      <td>1496.65</td>\n",
       "      <td>1310.52</td>\n",
       "      <td>...</td>\n",
       "      <td>0.03</td>\n",
       "      <td>370</td>\n",
       "      <td>2319</td>\n",
       "      <td>100.0</td>\n",
       "      <td>28.78</td>\n",
       "      <td>17.1987</td>\n",
       "      <td>6</td>\n",
       "      <td>-0.321387</td>\n",
       "      <td>0.420338</td>\n",
       "      <td>1</td>\n",
       "    </tr>\n",
       "  </tbody>\n",
       "</table>\n",
       "<p>5 rows × 31 columns</p>\n",
       "</div>"
      ],
      "text/plain": [
       "   Unnamed: 0  engine_no  time_in_cycles  op_setting_1  op_setting_2  \\\n",
       "0           1          0               1       42.0034        0.8400   \n",
       "1           2          0               2       42.0017        0.8400   \n",
       "2           3          0               3        0.0028        0.0019   \n",
       "3           4          0               4       42.0047        0.8400   \n",
       "4           5          0               5       10.0058        0.2506   \n",
       "\n",
       "   op_setting_3  sensor_1  sensor_2  sensor_3  sensor_4  ...  sensor_16  \\\n",
       "0           100    445.00    549.36   1342.05   1124.56  ...       0.02   \n",
       "1           100    445.00    548.83   1351.93   1116.28  ...       0.02   \n",
       "2           100    518.67    642.35   1583.74   1400.44  ...       0.03   \n",
       "3           100    445.00    549.69   1354.36   1125.55  ...       0.02   \n",
       "4           100    489.05    604.72   1496.65   1310.52  ...       0.03   \n",
       "\n",
       "   sensor_17  sensor_18  sensor_19  sensor_20  sensor_21  stop  \\\n",
       "0        329       2212      100.0      10.69     6.3956     2   \n",
       "1        331       2212      100.0      10.55     6.3775     3   \n",
       "2        392       2388      100.0      38.85    23.3483     4   \n",
       "3        330       2212      100.0      10.56     6.4871     5   \n",
       "4        370       2319      100.0      28.78    17.1987     6   \n",
       "\n",
       "   pred_test_time_step  pred_test2_time_step  pred_test2_time_step_flag  \n",
       "0            -0.541003              0.367954                          0  \n",
       "1            -0.534184              0.369542                          0  \n",
       "2            -0.359101              0.411177                          1  \n",
       "3            -0.314766              0.421952                          1  \n",
       "4            -0.321387              0.420338                          1  \n",
       "\n",
       "[5 rows x 31 columns]"
      ]
     },
     "execution_count": 15,
     "metadata": {},
     "output_type": "execute_result"
    }
   ],
   "source": [
    "test_data_R_time_step_0_4.head()"
   ]
  },
  {
   "cell_type": "code",
   "execution_count": 16,
   "metadata": {},
   "outputs": [],
   "source": [
    "#結果表の作成 \n",
    "test_data_R_time_step_0_4_pred = test_data_R_time_step_0_4.sort_values(['engine_no', 'time_in_cycles'])\n",
    "\n",
    "#test_data_Rの各engineの最後のサイクルの行のみを表示　列は'engine_no', 'pred_test2_flag'のみ\n",
    "test_data_R_time_step_0_4_pred = test_data_R_time_step_0_4_pred.groupby('engine_no').last().reset_index()[['engine_no', 'pred_test2_time_step_flag']]\n",
    "\n"
   ]
  },
  {
   "cell_type": "code",
   "execution_count": 17,
   "metadata": {},
   "outputs": [
    {
     "data": {
      "text/html": [
       "<div>\n",
       "<style scoped>\n",
       "    .dataframe tbody tr th:only-of-type {\n",
       "        vertical-align: middle;\n",
       "    }\n",
       "\n",
       "    .dataframe tbody tr th {\n",
       "        vertical-align: top;\n",
       "    }\n",
       "\n",
       "    .dataframe thead th {\n",
       "        text-align: right;\n",
       "    }\n",
       "</style>\n",
       "<table border=\"1\" class=\"dataframe\">\n",
       "  <thead>\n",
       "    <tr style=\"text-align: right;\">\n",
       "      <th></th>\n",
       "      <th>engine_no</th>\n",
       "      <th>pred_test2_time_step_flag</th>\n",
       "    </tr>\n",
       "  </thead>\n",
       "  <tbody>\n",
       "    <tr>\n",
       "      <th>0</th>\n",
       "      <td>0</td>\n",
       "      <td>1</td>\n",
       "    </tr>\n",
       "    <tr>\n",
       "      <th>1</th>\n",
       "      <td>1</td>\n",
       "      <td>1</td>\n",
       "    </tr>\n",
       "    <tr>\n",
       "      <th>2</th>\n",
       "      <td>2</td>\n",
       "      <td>0</td>\n",
       "    </tr>\n",
       "    <tr>\n",
       "      <th>3</th>\n",
       "      <td>3</td>\n",
       "      <td>1</td>\n",
       "    </tr>\n",
       "    <tr>\n",
       "      <th>4</th>\n",
       "      <td>4</td>\n",
       "      <td>1</td>\n",
       "    </tr>\n",
       "  </tbody>\n",
       "</table>\n",
       "</div>"
      ],
      "text/plain": [
       "   engine_no  pred_test2_time_step_flag\n",
       "0          0                          1\n",
       "1          1                          1\n",
       "2          2                          0\n",
       "3          3                          1\n",
       "4          4                          1"
      ]
     },
     "execution_count": 17,
     "metadata": {},
     "output_type": "execute_result"
    }
   ],
   "source": [
    "test_data_R_time_step_0_4_pred.head()"
   ]
  },
  {
   "cell_type": "markdown",
   "metadata": {},
   "source": [
    "# 100以内に故障するを1,しないを0としている 故障することを当てたいから、故障する1をpositiveと定義する。"
   ]
  },
  {
   "cell_type": "code",
   "execution_count": 18,
   "metadata": {},
   "outputs": [],
   "source": [
    "#混合行列\n",
    "#1 = Positive,0 = Negativeとする　なぜならば、再現率などがpositiveで計算されるので、故障するをpositiveにする\n",
    "#labels指定をしないと、左から0,1表記になるので、TPが右下になってしまう。\n",
    "cm = confusion_matrix(test_data_RUL['result'],test_data_R_time_step_0_4_pred['pred_test2_time_step_flag'],labels=[1, 0] )"
   ]
  },
  {
   "cell_type": "code",
   "execution_count": 19,
   "metadata": {},
   "outputs": [
    {
     "data": {
      "text/plain": [
       "array([[419,  31],\n",
       "       [162,  95]], dtype=int64)"
      ]
     },
     "execution_count": 19,
     "metadata": {},
     "output_type": "execute_result"
    }
   ],
   "source": [
    "cm"
   ]
  },
  {
   "cell_type": "markdown",
   "metadata": {},
   "source": [
    "# 列が予測の1と0行が実際の1と0つまり、真陽性 : TP (True-Positive)332、真陰性: TN (True-Negative)239、偽陽性: FP (False-Positive)18(故障していないのにしていると予測)、偽陰性: FN (False-Negative)118(実際は故障しているのに故障していないと予測)\n",
    "#https://pythondatascience.plavox.info/scikit-learn/%E5%88%86%E9%A1%9E%E7%B5%90%E6%9E%9C%E3%81%AE%E3%83%A2%E3%83%87%E3%83%AB%E8%A9%95%E4%BE%A1\n",
    "#FN (False-Negative)118を少なくしたい　つまり実際は故障だが、故障しないと判断してしまっているものを"
   ]
  },
  {
   "cell_type": "code",
   "execution_count": 20,
   "metadata": {},
   "outputs": [
    {
     "name": "stdout",
     "output_type": "stream",
     "text": [
      "              precision    recall  f1-score   support\n",
      "\n",
      "           1       0.72      0.93      0.81       450\n",
      "           0       0.75      0.37      0.50       257\n",
      "\n",
      "    accuracy                           0.73       707\n",
      "   macro avg       0.74      0.65      0.65       707\n",
      "weighted avg       0.73      0.73      0.70       707\n",
      "\n"
     ]
    }
   ],
   "source": [
    "#混合行列まとめて表示\n",
    "cr = classification_report(test_data_RUL['result'],test_data_R_time_step_0_4_pred['pred_test2_time_step_flag'],labels=[1, 0] )\n",
    "print(cr)"
   ]
  },
  {
   "cell_type": "markdown",
   "metadata": {},
   "source": [
    "# labelsを付けた時の計算が上記のまとめて表示の1の方　labelsをつけなかったときの計算が下の方"
   ]
  },
  {
   "cell_type": "markdown",
   "metadata": {},
   "source": [
    "# 閾値0.6"
   ]
  },
  {
   "cell_type": "markdown",
   "metadata": {},
   "source": [
    "# Rで作成した予測付きのtestデータを読み込む"
   ]
  },
  {
   "cell_type": "code",
   "execution_count": 21,
   "metadata": {},
   "outputs": [],
   "source": [
    "test_data_R_time_step_0_6 = pd.read_csv('Desktop/インテグ課題/NASA/test_data/test_data_R_time_step_0.6.csv')"
   ]
  },
  {
   "cell_type": "code",
   "execution_count": 22,
   "metadata": {},
   "outputs": [
    {
     "data": {
      "text/html": [
       "<div>\n",
       "<style scoped>\n",
       "    .dataframe tbody tr th:only-of-type {\n",
       "        vertical-align: middle;\n",
       "    }\n",
       "\n",
       "    .dataframe tbody tr th {\n",
       "        vertical-align: top;\n",
       "    }\n",
       "\n",
       "    .dataframe thead th {\n",
       "        text-align: right;\n",
       "    }\n",
       "</style>\n",
       "<table border=\"1\" class=\"dataframe\">\n",
       "  <thead>\n",
       "    <tr style=\"text-align: right;\">\n",
       "      <th></th>\n",
       "      <th>Unnamed: 0</th>\n",
       "      <th>engine_no</th>\n",
       "      <th>time_in_cycles</th>\n",
       "      <th>op_setting_1</th>\n",
       "      <th>op_setting_2</th>\n",
       "      <th>op_setting_3</th>\n",
       "      <th>sensor_1</th>\n",
       "      <th>sensor_2</th>\n",
       "      <th>sensor_3</th>\n",
       "      <th>sensor_4</th>\n",
       "      <th>...</th>\n",
       "      <th>sensor_16</th>\n",
       "      <th>sensor_17</th>\n",
       "      <th>sensor_18</th>\n",
       "      <th>sensor_19</th>\n",
       "      <th>sensor_20</th>\n",
       "      <th>sensor_21</th>\n",
       "      <th>stop</th>\n",
       "      <th>pred_test_time_step</th>\n",
       "      <th>pred_test2_time_step</th>\n",
       "      <th>pred_test2_time_step_flag</th>\n",
       "    </tr>\n",
       "  </thead>\n",
       "  <tbody>\n",
       "    <tr>\n",
       "      <th>0</th>\n",
       "      <td>1</td>\n",
       "      <td>0</td>\n",
       "      <td>1</td>\n",
       "      <td>42.0034</td>\n",
       "      <td>0.8400</td>\n",
       "      <td>100</td>\n",
       "      <td>445.00</td>\n",
       "      <td>549.36</td>\n",
       "      <td>1342.05</td>\n",
       "      <td>1124.56</td>\n",
       "      <td>...</td>\n",
       "      <td>0.02</td>\n",
       "      <td>329</td>\n",
       "      <td>2212</td>\n",
       "      <td>100.0</td>\n",
       "      <td>10.69</td>\n",
       "      <td>6.3956</td>\n",
       "      <td>2</td>\n",
       "      <td>-0.541003</td>\n",
       "      <td>0.367954</td>\n",
       "      <td>0</td>\n",
       "    </tr>\n",
       "    <tr>\n",
       "      <th>1</th>\n",
       "      <td>2</td>\n",
       "      <td>0</td>\n",
       "      <td>2</td>\n",
       "      <td>42.0017</td>\n",
       "      <td>0.8400</td>\n",
       "      <td>100</td>\n",
       "      <td>445.00</td>\n",
       "      <td>548.83</td>\n",
       "      <td>1351.93</td>\n",
       "      <td>1116.28</td>\n",
       "      <td>...</td>\n",
       "      <td>0.02</td>\n",
       "      <td>331</td>\n",
       "      <td>2212</td>\n",
       "      <td>100.0</td>\n",
       "      <td>10.55</td>\n",
       "      <td>6.3775</td>\n",
       "      <td>3</td>\n",
       "      <td>-0.534184</td>\n",
       "      <td>0.369542</td>\n",
       "      <td>0</td>\n",
       "    </tr>\n",
       "    <tr>\n",
       "      <th>2</th>\n",
       "      <td>3</td>\n",
       "      <td>0</td>\n",
       "      <td>3</td>\n",
       "      <td>0.0028</td>\n",
       "      <td>0.0019</td>\n",
       "      <td>100</td>\n",
       "      <td>518.67</td>\n",
       "      <td>642.35</td>\n",
       "      <td>1583.74</td>\n",
       "      <td>1400.44</td>\n",
       "      <td>...</td>\n",
       "      <td>0.03</td>\n",
       "      <td>392</td>\n",
       "      <td>2388</td>\n",
       "      <td>100.0</td>\n",
       "      <td>38.85</td>\n",
       "      <td>23.3483</td>\n",
       "      <td>4</td>\n",
       "      <td>-0.359101</td>\n",
       "      <td>0.411177</td>\n",
       "      <td>0</td>\n",
       "    </tr>\n",
       "    <tr>\n",
       "      <th>3</th>\n",
       "      <td>4</td>\n",
       "      <td>0</td>\n",
       "      <td>4</td>\n",
       "      <td>42.0047</td>\n",
       "      <td>0.8400</td>\n",
       "      <td>100</td>\n",
       "      <td>445.00</td>\n",
       "      <td>549.69</td>\n",
       "      <td>1354.36</td>\n",
       "      <td>1125.55</td>\n",
       "      <td>...</td>\n",
       "      <td>0.02</td>\n",
       "      <td>330</td>\n",
       "      <td>2212</td>\n",
       "      <td>100.0</td>\n",
       "      <td>10.56</td>\n",
       "      <td>6.4871</td>\n",
       "      <td>5</td>\n",
       "      <td>-0.314766</td>\n",
       "      <td>0.421952</td>\n",
       "      <td>0</td>\n",
       "    </tr>\n",
       "    <tr>\n",
       "      <th>4</th>\n",
       "      <td>5</td>\n",
       "      <td>0</td>\n",
       "      <td>5</td>\n",
       "      <td>10.0058</td>\n",
       "      <td>0.2506</td>\n",
       "      <td>100</td>\n",
       "      <td>489.05</td>\n",
       "      <td>604.72</td>\n",
       "      <td>1496.65</td>\n",
       "      <td>1310.52</td>\n",
       "      <td>...</td>\n",
       "      <td>0.03</td>\n",
       "      <td>370</td>\n",
       "      <td>2319</td>\n",
       "      <td>100.0</td>\n",
       "      <td>28.78</td>\n",
       "      <td>17.1987</td>\n",
       "      <td>6</td>\n",
       "      <td>-0.321387</td>\n",
       "      <td>0.420338</td>\n",
       "      <td>0</td>\n",
       "    </tr>\n",
       "  </tbody>\n",
       "</table>\n",
       "<p>5 rows × 31 columns</p>\n",
       "</div>"
      ],
      "text/plain": [
       "   Unnamed: 0  engine_no  time_in_cycles  op_setting_1  op_setting_2  \\\n",
       "0           1          0               1       42.0034        0.8400   \n",
       "1           2          0               2       42.0017        0.8400   \n",
       "2           3          0               3        0.0028        0.0019   \n",
       "3           4          0               4       42.0047        0.8400   \n",
       "4           5          0               5       10.0058        0.2506   \n",
       "\n",
       "   op_setting_3  sensor_1  sensor_2  sensor_3  sensor_4  ...  sensor_16  \\\n",
       "0           100    445.00    549.36   1342.05   1124.56  ...       0.02   \n",
       "1           100    445.00    548.83   1351.93   1116.28  ...       0.02   \n",
       "2           100    518.67    642.35   1583.74   1400.44  ...       0.03   \n",
       "3           100    445.00    549.69   1354.36   1125.55  ...       0.02   \n",
       "4           100    489.05    604.72   1496.65   1310.52  ...       0.03   \n",
       "\n",
       "   sensor_17  sensor_18  sensor_19  sensor_20  sensor_21  stop  \\\n",
       "0        329       2212      100.0      10.69     6.3956     2   \n",
       "1        331       2212      100.0      10.55     6.3775     3   \n",
       "2        392       2388      100.0      38.85    23.3483     4   \n",
       "3        330       2212      100.0      10.56     6.4871     5   \n",
       "4        370       2319      100.0      28.78    17.1987     6   \n",
       "\n",
       "   pred_test_time_step  pred_test2_time_step  pred_test2_time_step_flag  \n",
       "0            -0.541003              0.367954                          0  \n",
       "1            -0.534184              0.369542                          0  \n",
       "2            -0.359101              0.411177                          0  \n",
       "3            -0.314766              0.421952                          0  \n",
       "4            -0.321387              0.420338                          0  \n",
       "\n",
       "[5 rows x 31 columns]"
      ]
     },
     "execution_count": 22,
     "metadata": {},
     "output_type": "execute_result"
    }
   ],
   "source": [
    "test_data_R_time_step_0_6.head()"
   ]
  },
  {
   "cell_type": "code",
   "execution_count": 23,
   "metadata": {},
   "outputs": [],
   "source": [
    "#結果表の作成 \n",
    "test_data_R_time_step_0_6_pred = test_data_R_time_step_0_6.sort_values(['engine_no', 'time_in_cycles'])\n",
    "\n",
    "#test_data_Rの各engineの最後のサイクルの行のみを表示　列は'engine_no', 'pred_test2_flag'のみ\n",
    "test_data_R_time_step_0_6_pred = test_data_R_time_step_0_6_pred.groupby('engine_no').last().reset_index()[['engine_no', 'pred_test2_time_step_flag']]\n",
    "\n"
   ]
  },
  {
   "cell_type": "code",
   "execution_count": 24,
   "metadata": {},
   "outputs": [
    {
     "data": {
      "text/html": [
       "<div>\n",
       "<style scoped>\n",
       "    .dataframe tbody tr th:only-of-type {\n",
       "        vertical-align: middle;\n",
       "    }\n",
       "\n",
       "    .dataframe tbody tr th {\n",
       "        vertical-align: top;\n",
       "    }\n",
       "\n",
       "    .dataframe thead th {\n",
       "        text-align: right;\n",
       "    }\n",
       "</style>\n",
       "<table border=\"1\" class=\"dataframe\">\n",
       "  <thead>\n",
       "    <tr style=\"text-align: right;\">\n",
       "      <th></th>\n",
       "      <th>engine_no</th>\n",
       "      <th>pred_test2_time_step_flag</th>\n",
       "    </tr>\n",
       "  </thead>\n",
       "  <tbody>\n",
       "    <tr>\n",
       "      <th>0</th>\n",
       "      <td>0</td>\n",
       "      <td>1</td>\n",
       "    </tr>\n",
       "    <tr>\n",
       "      <th>1</th>\n",
       "      <td>1</td>\n",
       "      <td>1</td>\n",
       "    </tr>\n",
       "    <tr>\n",
       "      <th>2</th>\n",
       "      <td>2</td>\n",
       "      <td>0</td>\n",
       "    </tr>\n",
       "    <tr>\n",
       "      <th>3</th>\n",
       "      <td>3</td>\n",
       "      <td>0</td>\n",
       "    </tr>\n",
       "    <tr>\n",
       "      <th>4</th>\n",
       "      <td>4</td>\n",
       "      <td>1</td>\n",
       "    </tr>\n",
       "  </tbody>\n",
       "</table>\n",
       "</div>"
      ],
      "text/plain": [
       "   engine_no  pred_test2_time_step_flag\n",
       "0          0                          1\n",
       "1          1                          1\n",
       "2          2                          0\n",
       "3          3                          0\n",
       "4          4                          1"
      ]
     },
     "execution_count": 24,
     "metadata": {},
     "output_type": "execute_result"
    }
   ],
   "source": [
    "test_data_R_time_step_0_6_pred.head()"
   ]
  },
  {
   "cell_type": "markdown",
   "metadata": {},
   "source": [
    "# 100以内に故障するを1,しないを0としている 故障することを当てたいから、故障する1をpositiveと定義する。"
   ]
  },
  {
   "cell_type": "code",
   "execution_count": 25,
   "metadata": {},
   "outputs": [],
   "source": [
    "#混合行列\n",
    "#1 = Positive,0 = Negativeとする　なぜならば、再現率などがpositiveで計算されるので、故障するをpositiveにする\n",
    "#labels指定をしないと、左から0,1表記になるので、TPが右下になってしまう。\n",
    "cm = confusion_matrix(test_data_RUL['result'],test_data_R_time_step_0_6_pred['pred_test2_time_step_flag'],labels=[1, 0] )"
   ]
  },
  {
   "cell_type": "code",
   "execution_count": 26,
   "metadata": {},
   "outputs": [
    {
     "data": {
      "text/plain": [
       "array([[243, 207],\n",
       "       [  9, 248]], dtype=int64)"
      ]
     },
     "execution_count": 26,
     "metadata": {},
     "output_type": "execute_result"
    }
   ],
   "source": [
    "cm"
   ]
  },
  {
   "cell_type": "markdown",
   "metadata": {},
   "source": [
    "# 列が予測の1と0行が実際の1と0つまり、真陽性 : TP (True-Positive)332、真陰性: TN (True-Negative)239、偽陽性: FP (False-Positive)18(故障していないのにしていると予測)、偽陰性: FN (False-Negative)118(実際は故障しているのに故障していないと予測)\n",
    "#https://pythondatascience.plavox.info/scikit-learn/%E5%88%86%E9%A1%9E%E7%B5%90%E6%9E%9C%E3%81%AE%E3%83%A2%E3%83%87%E3%83%AB%E8%A9%95%E4%BE%A1\n",
    "#FN (False-Negative)118を少なくしたい　つまり実際は故障だが、故障しないと判断してしまっているものを"
   ]
  },
  {
   "cell_type": "code",
   "execution_count": 29,
   "metadata": {},
   "outputs": [
    {
     "name": "stdout",
     "output_type": "stream",
     "text": [
      "              precision    recall  f1-score   support\n",
      "\n",
      "           1       0.96      0.54      0.69       450\n",
      "           0       0.55      0.96      0.70       257\n",
      "\n",
      "    accuracy                           0.69       707\n",
      "   macro avg       0.75      0.75      0.69       707\n",
      "weighted avg       0.81      0.69      0.69       707\n",
      "\n"
     ]
    }
   ],
   "source": [
    "#混合行列まとめて表示\n",
    "cr = classification_report(test_data_RUL['result'],test_data_R_time_step_0_6_pred['pred_test2_time_step_flag'],labels=[1, 0] )\n",
    "print(cr)"
   ]
  },
  {
   "cell_type": "markdown",
   "metadata": {},
   "source": [
    "# labelsを付けた時の計算が上記のまとめて表示の1の方　labelsをつけなかったときの計算が下の方"
   ]
  }
 ],
 "metadata": {
  "kernelspec": {
   "display_name": "Python 3",
   "language": "python",
   "name": "python3"
  },
  "language_info": {
   "codemirror_mode": {
    "name": "ipython",
    "version": 3
   },
   "file_extension": ".py",
   "mimetype": "text/x-python",
   "name": "python",
   "nbconvert_exporter": "python",
   "pygments_lexer": "ipython3",
   "version": "3.7.3"
  }
 },
 "nbformat": 4,
 "nbformat_minor": 2
}

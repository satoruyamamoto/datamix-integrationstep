{
 "cells": [
  {
   "cell_type": "code",
   "execution_count": 80,
   "metadata": {},
   "outputs": [],
   "source": [
    "%matplotlib inline\n",
    "import matplotlib\n",
    "import matplotlib.pyplot as plt\n",
    "import numpy as np\n",
    "import pandas as pd\n",
    "from sklearn.linear_model import LinearRegression\n",
    "from sklearn.tree import DecisionTreeRegressor\n",
    "from sklearn.ensemble import RandomForestRegressor\n",
    "from sklearn.model_selection import GridSearchCV\n",
    "from sklearn.model_selection import train_test_split\n",
    "from sklearn.metrics import mean_squared_error\n",
    "\n",
    "from sklearn.metrics import confusion_matrix, accuracy_score,precision_score,recall_score, f1_score,classification_report\n",
    "from random import randint, shuffle\n",
    "import os\n",
    "import seaborn as sns\n",
    "\n",
    "\n"
   ]
  },
  {
   "cell_type": "code",
   "execution_count": 81,
   "metadata": {},
   "outputs": [],
   "source": [
    "# cluster0のtrain_dataとtest_dataを読み込み\n",
    "train_data_cluster0 = pd.read_csv('Desktop/インテグ課題/NASA/train_data/train_data_cluster0.csv')\n",
    "test_data_cluster0 = pd.read_csv('Desktop/インテグ課題/NASA/test_data/test_data_cluster0.csv')"
   ]
  },
  {
   "cell_type": "markdown",
   "metadata": {},
   "source": [
    "# test_dataのRUL（答え）をclusterごとに分けて、他必要な処理を行ったファイルを読み込む"
   ]
  },
  {
   "cell_type": "code",
   "execution_count": 82,
   "metadata": {},
   "outputs": [],
   "source": [
    "test_data_RUL_cluster0 = pd.read_csv('Desktop/インテグ課題/NASA/test_data/test_data_RUL_cluster0.csv')"
   ]
  },
  {
   "cell_type": "markdown",
   "metadata": {},
   "source": [
    "# cluster0"
   ]
  },
  {
   "cell_type": "code",
   "execution_count": 83,
   "metadata": {},
   "outputs": [],
   "source": [
    "#重複した行を削除\n",
    "list_engine_no_train_data_cluster0 = list(train_data_cluster0['engine_no'].drop_duplicates())"
   ]
  },
  {
   "cell_type": "code",
   "execution_count": 84,
   "metadata": {},
   "outputs": [
    {
     "data": {
      "text/plain": [
       "[0,\n",
       " 1,\n",
       " 2,\n",
       " 3,\n",
       " 4,\n",
       " 6,\n",
       " 8,\n",
       " 10,\n",
       " 11,\n",
       " 12,\n",
       " 14,\n",
       " 15,\n",
       " 17,\n",
       " 18,\n",
       " 20,\n",
       " 23,\n",
       " 24,\n",
       " 26,\n",
       " 27,\n",
       " 28,\n",
       " 29,\n",
       " 31,\n",
       " 32,\n",
       " 33,\n",
       " 35,\n",
       " 36,\n",
       " 37,\n",
       " 38,\n",
       " 39,\n",
       " 40,\n",
       " 41,\n",
       " 42,\n",
       " 43,\n",
       " 44,\n",
       " 45,\n",
       " 46,\n",
       " 47,\n",
       " 48,\n",
       " 49,\n",
       " 50,\n",
       " 51,\n",
       " 52,\n",
       " 55,\n",
       " 58,\n",
       " 60,\n",
       " 61,\n",
       " 62,\n",
       " 63,\n",
       " 64,\n",
       " 65,\n",
       " 66,\n",
       " 67,\n",
       " 68,\n",
       " 73,\n",
       " 75,\n",
       " 76,\n",
       " 77,\n",
       " 79,\n",
       " 80,\n",
       " 81,\n",
       " 83,\n",
       " 85,\n",
       " 88,\n",
       " 89,\n",
       " 92,\n",
       " 94,\n",
       " 95,\n",
       " 96,\n",
       " 97,\n",
       " 98,\n",
       " 99,\n",
       " 100,\n",
       " 102,\n",
       " 103,\n",
       " 104,\n",
       " 105,\n",
       " 107,\n",
       " 108,\n",
       " 109,\n",
       " 110,\n",
       " 111,\n",
       " 112,\n",
       " 113,\n",
       " 114,\n",
       " 115,\n",
       " 116,\n",
       " 117,\n",
       " 119,\n",
       " 120,\n",
       " 121,\n",
       " 123,\n",
       " 125,\n",
       " 126,\n",
       " 127,\n",
       " 128,\n",
       " 129,\n",
       " 131,\n",
       " 132,\n",
       " 133,\n",
       " 134,\n",
       " 136,\n",
       " 137,\n",
       " 140,\n",
       " 142,\n",
       " 143,\n",
       " 144,\n",
       " 145,\n",
       " 147,\n",
       " 148,\n",
       " 151,\n",
       " 152,\n",
       " 153,\n",
       " 155,\n",
       " 157,\n",
       " 159,\n",
       " 161,\n",
       " 162,\n",
       " 163,\n",
       " 164,\n",
       " 165,\n",
       " 166,\n",
       " 168,\n",
       " 169,\n",
       " 170,\n",
       " 171,\n",
       " 172,\n",
       " 173,\n",
       " 174,\n",
       " 175,\n",
       " 176,\n",
       " 177,\n",
       " 179,\n",
       " 180,\n",
       " 181,\n",
       " 182,\n",
       " 184,\n",
       " 186,\n",
       " 187,\n",
       " 188,\n",
       " 189,\n",
       " 190,\n",
       " 191,\n",
       " 192,\n",
       " 194,\n",
       " 195,\n",
       " 197,\n",
       " 199,\n",
       " 200,\n",
       " 202,\n",
       " 203,\n",
       " 204,\n",
       " 206,\n",
       " 208,\n",
       " 209,\n",
       " 210,\n",
       " 211,\n",
       " 212,\n",
       " 213,\n",
       " 217,\n",
       " 218,\n",
       " 219,\n",
       " 220,\n",
       " 221,\n",
       " 222,\n",
       " 223,\n",
       " 224,\n",
       " 225,\n",
       " 226,\n",
       " 227,\n",
       " 228,\n",
       " 229,\n",
       " 232,\n",
       " 235,\n",
       " 237,\n",
       " 239,\n",
       " 240,\n",
       " 241,\n",
       " 242,\n",
       " 243,\n",
       " 245,\n",
       " 246,\n",
       " 249,\n",
       " 250,\n",
       " 251,\n",
       " 253,\n",
       " 255,\n",
       " 256,\n",
       " 257,\n",
       " 258,\n",
       " 260,\n",
       " 261,\n",
       " 265,\n",
       " 266,\n",
       " 267,\n",
       " 268,\n",
       " 269,\n",
       " 270,\n",
       " 271,\n",
       " 272,\n",
       " 273,\n",
       " 275,\n",
       " 276,\n",
       " 277,\n",
       " 278,\n",
       " 279,\n",
       " 280,\n",
       " 281,\n",
       " 283,\n",
       " 284,\n",
       " 285,\n",
       " 286,\n",
       " 287,\n",
       " 289,\n",
       " 290,\n",
       " 291,\n",
       " 292,\n",
       " 294,\n",
       " 296,\n",
       " 297,\n",
       " 298,\n",
       " 299,\n",
       " 300,\n",
       " 301,\n",
       " 305,\n",
       " 306,\n",
       " 307,\n",
       " 308,\n",
       " 309,\n",
       " 312,\n",
       " 313,\n",
       " 315,\n",
       " 316,\n",
       " 317,\n",
       " 318,\n",
       " 319,\n",
       " 321,\n",
       " 322,\n",
       " 324,\n",
       " 325,\n",
       " 328,\n",
       " 329,\n",
       " 330,\n",
       " 331,\n",
       " 333,\n",
       " 335,\n",
       " 337,\n",
       " 339,\n",
       " 340,\n",
       " 341,\n",
       " 342,\n",
       " 343,\n",
       " 344,\n",
       " 345,\n",
       " 346,\n",
       " 348,\n",
       " 349,\n",
       " 350,\n",
       " 351,\n",
       " 354,\n",
       " 355,\n",
       " 356,\n",
       " 359,\n",
       " 361,\n",
       " 362,\n",
       " 364,\n",
       " 366,\n",
       " 367,\n",
       " 368,\n",
       " 369,\n",
       " 370,\n",
       " 372,\n",
       " 374,\n",
       " 377,\n",
       " 379,\n",
       " 380,\n",
       " 381,\n",
       " 383,\n",
       " 384,\n",
       " 386,\n",
       " 387,\n",
       " 388,\n",
       " 391,\n",
       " 392,\n",
       " 396,\n",
       " 399,\n",
       " 400,\n",
       " 401,\n",
       " 402,\n",
       " 403,\n",
       " 406,\n",
       " 407,\n",
       " 408,\n",
       " 409,\n",
       " 411,\n",
       " 412,\n",
       " 413,\n",
       " 414,\n",
       " 417,\n",
       " 419,\n",
       " 420,\n",
       " 422,\n",
       " 424,\n",
       " 427,\n",
       " 428,\n",
       " 430,\n",
       " 431,\n",
       " 432,\n",
       " 433,\n",
       " 434,\n",
       " 435,\n",
       " 436,\n",
       " 437,\n",
       " 439,\n",
       " 440,\n",
       " 441,\n",
       " 442,\n",
       " 443,\n",
       " 446,\n",
       " 447,\n",
       " 448,\n",
       " 449,\n",
       " 450,\n",
       " 451,\n",
       " 452,\n",
       " 454,\n",
       " 455,\n",
       " 456,\n",
       " 458,\n",
       " 461,\n",
       " 462,\n",
       " 464,\n",
       " 465,\n",
       " 466,\n",
       " 467,\n",
       " 469,\n",
       " 470,\n",
       " 471,\n",
       " 472,\n",
       " 474,\n",
       " 476,\n",
       " 479,\n",
       " 480,\n",
       " 483,\n",
       " 485,\n",
       " 486,\n",
       " 487,\n",
       " 488,\n",
       " 490,\n",
       " 491,\n",
       " 492,\n",
       " 493,\n",
       " 494,\n",
       " 495,\n",
       " 497,\n",
       " 498,\n",
       " 499,\n",
       " 500,\n",
       " 501,\n",
       " 503,\n",
       " 504,\n",
       " 505,\n",
       " 506,\n",
       " 508,\n",
       " 509,\n",
       " 510,\n",
       " 511,\n",
       " 512,\n",
       " 514,\n",
       " 515,\n",
       " 516,\n",
       " 517,\n",
       " 518,\n",
       " 520,\n",
       " 522,\n",
       " 523,\n",
       " 524,\n",
       " 525,\n",
       " 526,\n",
       " 527,\n",
       " 530,\n",
       " 531,\n",
       " 532,\n",
       " 534,\n",
       " 535,\n",
       " 537,\n",
       " 538,\n",
       " 540,\n",
       " 542,\n",
       " 543,\n",
       " 544,\n",
       " 546,\n",
       " 547,\n",
       " 548,\n",
       " 549,\n",
       " 550,\n",
       " 551,\n",
       " 552,\n",
       " 553,\n",
       " 554,\n",
       " 555,\n",
       " 556,\n",
       " 558,\n",
       " 559,\n",
       " 560,\n",
       " 561,\n",
       " 562,\n",
       " 563,\n",
       " 564,\n",
       " 565,\n",
       " 566,\n",
       " 567,\n",
       " 568,\n",
       " 569,\n",
       " 570,\n",
       " 571,\n",
       " 572,\n",
       " 574,\n",
       " 576,\n",
       " 578,\n",
       " 579,\n",
       " 580,\n",
       " 582,\n",
       " 583,\n",
       " 584,\n",
       " 585,\n",
       " 587,\n",
       " 589,\n",
       " 590,\n",
       " 591,\n",
       " 592,\n",
       " 593,\n",
       " 594,\n",
       " 595,\n",
       " 596,\n",
       " 597,\n",
       " 599,\n",
       " 602,\n",
       " 603,\n",
       " 604,\n",
       " 605,\n",
       " 607,\n",
       " 608,\n",
       " 609,\n",
       " 610,\n",
       " 612,\n",
       " 614,\n",
       " 615,\n",
       " 616,\n",
       " 618,\n",
       " 619,\n",
       " 620,\n",
       " 622,\n",
       " 627,\n",
       " 628,\n",
       " 629,\n",
       " 630,\n",
       " 631,\n",
       " 632,\n",
       " 636,\n",
       " 637,\n",
       " 638,\n",
       " 640,\n",
       " 641,\n",
       " 642,\n",
       " 646,\n",
       " 648,\n",
       " 649,\n",
       " 650,\n",
       " 651,\n",
       " 652,\n",
       " 653,\n",
       " 655,\n",
       " 657,\n",
       " 658,\n",
       " 659,\n",
       " 660,\n",
       " 662,\n",
       " 663,\n",
       " 666,\n",
       " 667,\n",
       " 668,\n",
       " 669,\n",
       " 670,\n",
       " 675,\n",
       " 676,\n",
       " 677,\n",
       " 678,\n",
       " 681,\n",
       " 682,\n",
       " 684,\n",
       " 685,\n",
       " 686,\n",
       " 687,\n",
       " 689,\n",
       " 690,\n",
       " 691,\n",
       " 692,\n",
       " 693,\n",
       " 694,\n",
       " 695,\n",
       " 696,\n",
       " 698,\n",
       " 699,\n",
       " 700,\n",
       " 701,\n",
       " 702,\n",
       " 704,\n",
       " 707,\n",
       " 708]"
      ]
     },
     "execution_count": 84,
     "metadata": {},
     "output_type": "execute_result"
    }
   ],
   "source": [
    "list_engine_no_train_data_cluster0"
   ]
  },
  {
   "cell_type": "code",
   "execution_count": 85,
   "metadata": {},
   "outputs": [],
   "source": [
    "# 特徴量を抽出　上記の欠損値以外を抽出\n",
    "metadata_columns = ['engine_no', 'time_in_cycles']\n",
    "selected_features = [x for x in test_data_cluster0.columns if x not in metadata_columns]"
   ]
  },
  {
   "cell_type": "markdown",
   "metadata": {},
   "source": [
    "#  特徴量選択をやり直す際はここから行う"
   ]
  },
  {
   "cell_type": "code",
   "execution_count": 86,
   "metadata": {},
   "outputs": [
    {
     "data": {
      "text/plain": [
       "['op_setting_1',\n",
       " 'op_setting_2',\n",
       " 'op_setting_3',\n",
       " 'sensor_1',\n",
       " 'sensor_2',\n",
       " 'sensor_3',\n",
       " 'sensor_4',\n",
       " 'sensor_5',\n",
       " 'sensor_6',\n",
       " 'sensor_7',\n",
       " 'sensor_8',\n",
       " 'sensor_9',\n",
       " 'sensor_10',\n",
       " 'sensor_11',\n",
       " 'sensor_12',\n",
       " 'sensor_13',\n",
       " 'sensor_14',\n",
       " 'sensor_15',\n",
       " 'sensor_16',\n",
       " 'sensor_17',\n",
       " 'sensor_18',\n",
       " 'sensor_19',\n",
       " 'sensor_20',\n",
       " 'sensor_21']"
      ]
     },
     "execution_count": 86,
     "metadata": {},
     "output_type": "execute_result"
    }
   ],
   "source": [
    "selected_features"
   ]
  },
  {
   "cell_type": "markdown",
   "metadata": {},
   "source": [
    "#  ここで特徴量を入れていくので、特徴量選択をし直した後はここからやり直す"
   ]
  },
  {
   "cell_type": "code",
   "execution_count": 87,
   "metadata": {},
   "outputs": [],
   "source": [
    "#大元のtrainをx(selected_features)とy(RUL)に分ける\n",
    "X_train_all_cluster0, y_train_all_cluster0 = train_data_cluster0[selected_features], train_data_cluster0['RUL']"
   ]
  },
  {
   "cell_type": "code",
   "execution_count": 88,
   "metadata": {},
   "outputs": [],
   "source": [
    "#大元のtestの特徴量からselected_featuresだけのX_testにする\n",
    "X_test_cluster0 = test_data_cluster0[selected_features]"
   ]
  },
  {
   "cell_type": "markdown",
   "metadata": {},
   "source": [
    "## ランダムフォレスト　欠損値の列のみ除く"
   ]
  },
  {
   "cell_type": "code",
   "execution_count": 89,
   "metadata": {},
   "outputs": [
    {
     "name": "stderr",
     "output_type": "stream",
     "text": [
      "C:\\Users\\81907\\Anaconda3\\lib\\site-packages\\sklearn\\ensemble\\forest.py:245: FutureWarning: The default value of n_estimators will change from 10 in version 0.20 to 100 in 0.22.\n",
      "  \"10 in version 0.20 to 100 in 0.22.\", FutureWarning)\n"
     ]
    },
    {
     "data": {
      "text/plain": [
       "RandomForestRegressor(bootstrap=True, criterion='mse', max_depth=None,\n",
       "                      max_features='auto', max_leaf_nodes=None,\n",
       "                      min_impurity_decrease=0.0, min_impurity_split=None,\n",
       "                      min_samples_leaf=1, min_samples_split=2,\n",
       "                      min_weight_fraction_leaf=0.0, n_estimators=10,\n",
       "                      n_jobs=None, oob_score=False, random_state=1234,\n",
       "                      verbose=0, warm_start=False)"
      ]
     },
     "execution_count": 89,
     "metadata": {},
     "output_type": "execute_result"
    }
   ],
   "source": [
    "#ランダムフォレスト\n",
    "rf_cluster0 = RandomForestRegressor(random_state=1234)\n",
    "rf_cluster0.fit(X_train_all_cluster0, y_train_all_cluster0)\n",
    "\n",
    "\n",
    "# FutureWarningは問題ありません"
   ]
  },
  {
   "cell_type": "markdown",
   "metadata": {},
   "source": [
    "# 注意　最後はcluster1と結合するので、列名はpred_rfで統一する"
   ]
  },
  {
   "cell_type": "code",
   "execution_count": 90,
   "metadata": {},
   "outputs": [],
   "source": [
    "# 予測する\n",
    "test_data_cluster0['pred_rf'] = rf_cluster0.predict(X_test_cluster0)"
   ]
  },
  {
   "cell_type": "code",
   "execution_count": 91,
   "metadata": {
    "scrolled": true
   },
   "outputs": [
    {
     "data": {
      "text/html": [
       "<div>\n",
       "<style scoped>\n",
       "    .dataframe tbody tr th:only-of-type {\n",
       "        vertical-align: middle;\n",
       "    }\n",
       "\n",
       "    .dataframe tbody tr th {\n",
       "        vertical-align: top;\n",
       "    }\n",
       "\n",
       "    .dataframe thead th {\n",
       "        text-align: right;\n",
       "    }\n",
       "</style>\n",
       "<table border=\"1\" class=\"dataframe\">\n",
       "  <thead>\n",
       "    <tr style=\"text-align: right;\">\n",
       "      <th></th>\n",
       "      <th>engine_no</th>\n",
       "      <th>time_in_cycles</th>\n",
       "      <th>op_setting_1</th>\n",
       "      <th>op_setting_2</th>\n",
       "      <th>op_setting_3</th>\n",
       "      <th>sensor_1</th>\n",
       "      <th>sensor_2</th>\n",
       "      <th>sensor_3</th>\n",
       "      <th>sensor_4</th>\n",
       "      <th>sensor_5</th>\n",
       "      <th>...</th>\n",
       "      <th>sensor_13</th>\n",
       "      <th>sensor_14</th>\n",
       "      <th>sensor_15</th>\n",
       "      <th>sensor_16</th>\n",
       "      <th>sensor_17</th>\n",
       "      <th>sensor_18</th>\n",
       "      <th>sensor_19</th>\n",
       "      <th>sensor_20</th>\n",
       "      <th>sensor_21</th>\n",
       "      <th>pred_rf</th>\n",
       "    </tr>\n",
       "  </thead>\n",
       "  <tbody>\n",
       "    <tr>\n",
       "      <th>0</th>\n",
       "      <td>0</td>\n",
       "      <td>1</td>\n",
       "      <td>42.0034</td>\n",
       "      <td>0.8400</td>\n",
       "      <td>100.0</td>\n",
       "      <td>445.00</td>\n",
       "      <td>549.36</td>\n",
       "      <td>1342.05</td>\n",
       "      <td>1124.56</td>\n",
       "      <td>3.91</td>\n",
       "      <td>...</td>\n",
       "      <td>2387.90</td>\n",
       "      <td>8077.78</td>\n",
       "      <td>9.3092</td>\n",
       "      <td>0.02</td>\n",
       "      <td>329</td>\n",
       "      <td>2212</td>\n",
       "      <td>100.0</td>\n",
       "      <td>10.69</td>\n",
       "      <td>6.3956</td>\n",
       "      <td>193.2</td>\n",
       "    </tr>\n",
       "    <tr>\n",
       "      <th>1</th>\n",
       "      <td>0</td>\n",
       "      <td>2</td>\n",
       "      <td>42.0017</td>\n",
       "      <td>0.8400</td>\n",
       "      <td>100.0</td>\n",
       "      <td>445.00</td>\n",
       "      <td>548.83</td>\n",
       "      <td>1351.93</td>\n",
       "      <td>1116.28</td>\n",
       "      <td>3.91</td>\n",
       "      <td>...</td>\n",
       "      <td>2387.89</td>\n",
       "      <td>8077.82</td>\n",
       "      <td>9.3450</td>\n",
       "      <td>0.02</td>\n",
       "      <td>331</td>\n",
       "      <td>2212</td>\n",
       "      <td>100.0</td>\n",
       "      <td>10.55</td>\n",
       "      <td>6.3775</td>\n",
       "      <td>188.2</td>\n",
       "    </tr>\n",
       "    <tr>\n",
       "      <th>2</th>\n",
       "      <td>0</td>\n",
       "      <td>3</td>\n",
       "      <td>0.0028</td>\n",
       "      <td>0.0019</td>\n",
       "      <td>100.0</td>\n",
       "      <td>518.67</td>\n",
       "      <td>642.35</td>\n",
       "      <td>1583.74</td>\n",
       "      <td>1400.44</td>\n",
       "      <td>14.62</td>\n",
       "      <td>...</td>\n",
       "      <td>2388.04</td>\n",
       "      <td>8129.19</td>\n",
       "      <td>8.3840</td>\n",
       "      <td>0.03</td>\n",
       "      <td>392</td>\n",
       "      <td>2388</td>\n",
       "      <td>100.0</td>\n",
       "      <td>38.85</td>\n",
       "      <td>23.3483</td>\n",
       "      <td>171.4</td>\n",
       "    </tr>\n",
       "    <tr>\n",
       "      <th>3</th>\n",
       "      <td>0</td>\n",
       "      <td>4</td>\n",
       "      <td>42.0047</td>\n",
       "      <td>0.8400</td>\n",
       "      <td>100.0</td>\n",
       "      <td>445.00</td>\n",
       "      <td>549.69</td>\n",
       "      <td>1354.36</td>\n",
       "      <td>1125.55</td>\n",
       "      <td>3.91</td>\n",
       "      <td>...</td>\n",
       "      <td>2387.82</td>\n",
       "      <td>8082.04</td>\n",
       "      <td>9.3852</td>\n",
       "      <td>0.02</td>\n",
       "      <td>330</td>\n",
       "      <td>2212</td>\n",
       "      <td>100.0</td>\n",
       "      <td>10.56</td>\n",
       "      <td>6.4871</td>\n",
       "      <td>156.5</td>\n",
       "    </tr>\n",
       "    <tr>\n",
       "      <th>4</th>\n",
       "      <td>0</td>\n",
       "      <td>5</td>\n",
       "      <td>10.0058</td>\n",
       "      <td>0.2506</td>\n",
       "      <td>100.0</td>\n",
       "      <td>489.05</td>\n",
       "      <td>604.72</td>\n",
       "      <td>1496.65</td>\n",
       "      <td>1310.52</td>\n",
       "      <td>10.52</td>\n",
       "      <td>...</td>\n",
       "      <td>2388.10</td>\n",
       "      <td>8121.73</td>\n",
       "      <td>8.6074</td>\n",
       "      <td>0.03</td>\n",
       "      <td>370</td>\n",
       "      <td>2319</td>\n",
       "      <td>100.0</td>\n",
       "      <td>28.78</td>\n",
       "      <td>17.1987</td>\n",
       "      <td>159.9</td>\n",
       "    </tr>\n",
       "  </tbody>\n",
       "</table>\n",
       "<p>5 rows × 27 columns</p>\n",
       "</div>"
      ],
      "text/plain": [
       "   engine_no  time_in_cycles  op_setting_1  op_setting_2  op_setting_3  \\\n",
       "0          0               1       42.0034        0.8400         100.0   \n",
       "1          0               2       42.0017        0.8400         100.0   \n",
       "2          0               3        0.0028        0.0019         100.0   \n",
       "3          0               4       42.0047        0.8400         100.0   \n",
       "4          0               5       10.0058        0.2506         100.0   \n",
       "\n",
       "   sensor_1  sensor_2  sensor_3  sensor_4  sensor_5  ...  sensor_13  \\\n",
       "0    445.00    549.36   1342.05   1124.56      3.91  ...    2387.90   \n",
       "1    445.00    548.83   1351.93   1116.28      3.91  ...    2387.89   \n",
       "2    518.67    642.35   1583.74   1400.44     14.62  ...    2388.04   \n",
       "3    445.00    549.69   1354.36   1125.55      3.91  ...    2387.82   \n",
       "4    489.05    604.72   1496.65   1310.52     10.52  ...    2388.10   \n",
       "\n",
       "   sensor_14  sensor_15  sensor_16  sensor_17  sensor_18  sensor_19  \\\n",
       "0    8077.78     9.3092       0.02        329       2212      100.0   \n",
       "1    8077.82     9.3450       0.02        331       2212      100.0   \n",
       "2    8129.19     8.3840       0.03        392       2388      100.0   \n",
       "3    8082.04     9.3852       0.02        330       2212      100.0   \n",
       "4    8121.73     8.6074       0.03        370       2319      100.0   \n",
       "\n",
       "   sensor_20  sensor_21  pred_rf  \n",
       "0      10.69     6.3956    193.2  \n",
       "1      10.55     6.3775    188.2  \n",
       "2      38.85    23.3483    171.4  \n",
       "3      10.56     6.4871    156.5  \n",
       "4      28.78    17.1987    159.9  \n",
       "\n",
       "[5 rows x 27 columns]"
      ]
     },
     "execution_count": 91,
     "metadata": {},
     "output_type": "execute_result"
    }
   ],
   "source": [
    "test_data_cluster0.head()"
   ]
  },
  {
   "cell_type": "markdown",
   "metadata": {},
   "source": [
    "# 注意　最後は結合するので、列名はpred_rfで統一する"
   ]
  },
  {
   "cell_type": "code",
   "execution_count": 92,
   "metadata": {},
   "outputs": [],
   "source": [
    "#結果表の作成 \n",
    "train_data_cluster0 = train_data_cluster0.sort_values(['engine_no', 'time_in_cycles'])\n",
    "test_data_cluster0 = test_data_cluster0.sort_values(['engine_no', 'time_in_cycles'])\n",
    "\n",
    "#test_dataの各engineの最後のサイクルの行のみを表示　列は'engine_no', 'pred_rf'のみ\n",
    "result_cluster0 = test_data_cluster0.groupby('engine_no').last().reset_index()[['engine_no', 'pred_rf']]\n",
    "\n"
   ]
  },
  {
   "cell_type": "code",
   "execution_count": 93,
   "metadata": {},
   "outputs": [
    {
     "data": {
      "text/html": [
       "<div>\n",
       "<style scoped>\n",
       "    .dataframe tbody tr th:only-of-type {\n",
       "        vertical-align: middle;\n",
       "    }\n",
       "\n",
       "    .dataframe tbody tr th {\n",
       "        vertical-align: top;\n",
       "    }\n",
       "\n",
       "    .dataframe thead th {\n",
       "        text-align: right;\n",
       "    }\n",
       "</style>\n",
       "<table border=\"1\" class=\"dataframe\">\n",
       "  <thead>\n",
       "    <tr style=\"text-align: right;\">\n",
       "      <th></th>\n",
       "      <th>engine_no</th>\n",
       "      <th>pred_rf</th>\n",
       "    </tr>\n",
       "  </thead>\n",
       "  <tbody>\n",
       "    <tr>\n",
       "      <th>0</th>\n",
       "      <td>0</td>\n",
       "      <td>35.7</td>\n",
       "    </tr>\n",
       "    <tr>\n",
       "      <th>1</th>\n",
       "      <td>1</td>\n",
       "      <td>30.1</td>\n",
       "    </tr>\n",
       "    <tr>\n",
       "      <th>2</th>\n",
       "      <td>2</td>\n",
       "      <td>146.4</td>\n",
       "    </tr>\n",
       "    <tr>\n",
       "      <th>3</th>\n",
       "      <td>3</td>\n",
       "      <td>119.6</td>\n",
       "    </tr>\n",
       "    <tr>\n",
       "      <th>4</th>\n",
       "      <td>4</td>\n",
       "      <td>8.7</td>\n",
       "    </tr>\n",
       "  </tbody>\n",
       "</table>\n",
       "</div>"
      ],
      "text/plain": [
       "   engine_no  pred_rf\n",
       "0          0     35.7\n",
       "1          1     30.1\n",
       "2          2    146.4\n",
       "3          3    119.6\n",
       "4          4      8.7"
      ]
     },
     "execution_count": 93,
     "metadata": {},
     "output_type": "execute_result"
    }
   ],
   "source": [
    "result_cluster0.head()"
   ]
  },
  {
   "cell_type": "code",
   "execution_count": 94,
   "metadata": {},
   "outputs": [],
   "source": [
    "# pred_rf<100の時、つまり予測した残りの寿命サイクルが100より小さければ1 それ以外で0とする\n",
    "result_cluster0['result'] = result_cluster0['pred_rf'].map(lambda x: 0 if x > 100 else 1)\n",
    "\n",
    "#lambda:無名関数（匿名関数）は文字通り名前のない関数で、一度きりの使い捨ての関数として使います。無名関数を使うと処理を簡潔に書けたり、グローバル・スコープの関数（オブジェクト）を生成せずに済むといったメリットがあります。\n",
    "#組み込み関数map()と無名関数lambda（ラムダ式）とをあわせて使うと、リストの要素すべてを２倍する、（文字列要素を）一括置換する、といったようにリスト要素すべてに変更を加えたオブジェクトを取得することができます。"
   ]
  },
  {
   "cell_type": "code",
   "execution_count": 95,
   "metadata": {
    "scrolled": true
   },
   "outputs": [
    {
     "data": {
      "text/html": [
       "<div>\n",
       "<style scoped>\n",
       "    .dataframe tbody tr th:only-of-type {\n",
       "        vertical-align: middle;\n",
       "    }\n",
       "\n",
       "    .dataframe tbody tr th {\n",
       "        vertical-align: top;\n",
       "    }\n",
       "\n",
       "    .dataframe thead th {\n",
       "        text-align: right;\n",
       "    }\n",
       "</style>\n",
       "<table border=\"1\" class=\"dataframe\">\n",
       "  <thead>\n",
       "    <tr style=\"text-align: right;\">\n",
       "      <th></th>\n",
       "      <th>engine_no</th>\n",
       "      <th>pred_rf</th>\n",
       "      <th>result</th>\n",
       "    </tr>\n",
       "  </thead>\n",
       "  <tbody>\n",
       "    <tr>\n",
       "      <th>0</th>\n",
       "      <td>0</td>\n",
       "      <td>35.7</td>\n",
       "      <td>1</td>\n",
       "    </tr>\n",
       "    <tr>\n",
       "      <th>1</th>\n",
       "      <td>1</td>\n",
       "      <td>30.1</td>\n",
       "      <td>1</td>\n",
       "    </tr>\n",
       "    <tr>\n",
       "      <th>2</th>\n",
       "      <td>2</td>\n",
       "      <td>146.4</td>\n",
       "      <td>0</td>\n",
       "    </tr>\n",
       "    <tr>\n",
       "      <th>3</th>\n",
       "      <td>3</td>\n",
       "      <td>119.6</td>\n",
       "      <td>0</td>\n",
       "    </tr>\n",
       "    <tr>\n",
       "      <th>4</th>\n",
       "      <td>4</td>\n",
       "      <td>8.7</td>\n",
       "      <td>1</td>\n",
       "    </tr>\n",
       "  </tbody>\n",
       "</table>\n",
       "</div>"
      ],
      "text/plain": [
       "   engine_no  pred_rf  result\n",
       "0          0     35.7       1\n",
       "1          1     30.1       1\n",
       "2          2    146.4       0\n",
       "3          3    119.6       0\n",
       "4          4      8.7       1"
      ]
     },
     "execution_count": 95,
     "metadata": {},
     "output_type": "execute_result"
    }
   ],
   "source": [
    "result_cluster0.head()"
   ]
  },
  {
   "cell_type": "code",
   "execution_count": 96,
   "metadata": {},
   "outputs": [],
   "source": [
    "#csvで結果の保存\n",
    "result_cluster0[['engine_no', 'result']].to_csv('Desktop/インテグ課題/NASA/cluster0_submission1.csv', index=False)"
   ]
  },
  {
   "cell_type": "markdown",
   "metadata": {},
   "source": [
    "# 上記で読み込んだtest_data_RUL_cluster0を使っていく"
   ]
  },
  {
   "cell_type": "code",
   "execution_count": 97,
   "metadata": {},
   "outputs": [
    {
     "data": {
      "text/html": [
       "<div>\n",
       "<style scoped>\n",
       "    .dataframe tbody tr th:only-of-type {\n",
       "        vertical-align: middle;\n",
       "    }\n",
       "\n",
       "    .dataframe tbody tr th {\n",
       "        vertical-align: top;\n",
       "    }\n",
       "\n",
       "    .dataframe thead th {\n",
       "        text-align: right;\n",
       "    }\n",
       "</style>\n",
       "<table border=\"1\" class=\"dataframe\">\n",
       "  <thead>\n",
       "    <tr style=\"text-align: right;\">\n",
       "      <th></th>\n",
       "      <th>engine_no</th>\n",
       "      <th>RUL</th>\n",
       "      <th>result</th>\n",
       "    </tr>\n",
       "  </thead>\n",
       "  <tbody>\n",
       "    <tr>\n",
       "      <th>0</th>\n",
       "      <td>0</td>\n",
       "      <td>22</td>\n",
       "      <td>1</td>\n",
       "    </tr>\n",
       "    <tr>\n",
       "      <th>1</th>\n",
       "      <td>1</td>\n",
       "      <td>12</td>\n",
       "      <td>1</td>\n",
       "    </tr>\n",
       "    <tr>\n",
       "      <th>2</th>\n",
       "      <td>2</td>\n",
       "      <td>108</td>\n",
       "      <td>0</td>\n",
       "    </tr>\n",
       "    <tr>\n",
       "      <th>3</th>\n",
       "      <td>3</td>\n",
       "      <td>88</td>\n",
       "      <td>1</td>\n",
       "    </tr>\n",
       "    <tr>\n",
       "      <th>4</th>\n",
       "      <td>4</td>\n",
       "      <td>10</td>\n",
       "      <td>1</td>\n",
       "    </tr>\n",
       "  </tbody>\n",
       "</table>\n",
       "</div>"
      ],
      "text/plain": [
       "   engine_no  RUL  result\n",
       "0          0   22       1\n",
       "1          1   12       1\n",
       "2          2  108       0\n",
       "3          3   88       1\n",
       "4          4   10       1"
      ]
     },
     "execution_count": 97,
     "metadata": {},
     "output_type": "execute_result"
    }
   ],
   "source": [
    "test_data_RUL_cluster0.head()"
   ]
  },
  {
   "cell_type": "markdown",
   "metadata": {},
   "source": [
    "# train_allで学習しtestデータで出した予測値と、実際の答えで混合行列を作成"
   ]
  },
  {
   "cell_type": "code",
   "execution_count": 98,
   "metadata": {},
   "outputs": [
    {
     "name": "stdout",
     "output_type": "stream",
     "text": [
      "248\n",
      "259\n"
     ]
    }
   ],
   "source": [
    "print((result_cluster0['result'] == 1).sum())\n",
    "print((result_cluster0['result'] == 0).sum())"
   ]
  },
  {
   "cell_type": "code",
   "execution_count": 99,
   "metadata": {},
   "outputs": [
    {
     "name": "stdout",
     "output_type": "stream",
     "text": [
      "315\n",
      "192\n"
     ]
    }
   ],
   "source": [
    "print((test_data_RUL_cluster0['result'] == 1).sum())\n",
    "print((test_data_RUL_cluster0['result'] == 0).sum())"
   ]
  },
  {
   "cell_type": "markdown",
   "metadata": {},
   "source": [
    "# 100以内に故障するを1,しないを0としている 故障することを当てたいから、故障する1をpositiveと定義する。"
   ]
  },
  {
   "cell_type": "code",
   "execution_count": 100,
   "metadata": {},
   "outputs": [],
   "source": [
    "#混合行列\n",
    "#1 = Positive,0 = Negativeとする　なぜならば、再現率などがpositiveで計算されるので、故障するをpositiveにする\n",
    "#labels指定をしないと、左から0,1表記になるので、TPが右下になってしまう。\n",
    "cm = confusion_matrix(test_data_RUL_cluster0['result'],result_cluster0['result'],labels=[1, 0] )"
   ]
  },
  {
   "cell_type": "code",
   "execution_count": 101,
   "metadata": {},
   "outputs": [
    {
     "data": {
      "text/plain": [
       "array([[233,  82],\n",
       "       [ 15, 177]], dtype=int64)"
      ]
     },
     "execution_count": 101,
     "metadata": {},
     "output_type": "execute_result"
    }
   ],
   "source": [
    "cm"
   ]
  },
  {
   "cell_type": "markdown",
   "metadata": {},
   "source": [
    "# 列が予測の1と0行が実際の1と0つまり、真陽性 : TP (True-Positive)233、真陰性: TN (True-Negative)177、偽陽性: FP (False-Positive)15(故障していないのにしていると予測)、偽陰性: FN (False-Negative)82(実際は故障しているのに故障していないと予測)\n",
    "#https://pythondatascience.plavox.info/scikit-learn/%E5%88%86%E9%A1%9E%E7%B5%90%E6%9E%9C%E3%81%AE%E3%83%A2%E3%83%87%E3%83%AB%E8%A9%95%E4%BE%A1\n",
    "#FN (False-Negative)82を少なくしたい　つまり実際は故障だが、故障しないと判断してしまっているものを"
   ]
  },
  {
   "cell_type": "code",
   "execution_count": 102,
   "metadata": {},
   "outputs": [
    {
     "name": "stdout",
     "output_type": "stream",
     "text": [
      "              precision    recall  f1-score   support\n",
      "\n",
      "           1       0.94      0.74      0.83       315\n",
      "           0       0.68      0.92      0.78       192\n",
      "\n",
      "    accuracy                           0.81       507\n",
      "   macro avg       0.81      0.83      0.81       507\n",
      "weighted avg       0.84      0.81      0.81       507\n",
      "\n"
     ]
    }
   ],
   "source": [
    "#混合行列まとめて表示\n",
    "cr = classification_report(test_data_RUL_cluster0['result'],result_cluster0['result'],labels=[1, 0] )\n",
    "print(cr)"
   ]
  },
  {
   "cell_type": "markdown",
   "metadata": {},
   "source": [
    "# labelsを付けた時の計算が上記のまとめて表示の1の方　labelsをつけなかったときの計算が下の方"
   ]
  },
  {
   "cell_type": "markdown",
   "metadata": {},
   "source": [
    "# #再現率を上げたい　実際の故障のうち故障と予測できたもの"
   ]
  },
  {
   "cell_type": "code",
   "execution_count": 103,
   "metadata": {},
   "outputs": [
    {
     "data": {
      "text/html": [
       "<div>\n",
       "<style scoped>\n",
       "    .dataframe tbody tr th:only-of-type {\n",
       "        vertical-align: middle;\n",
       "    }\n",
       "\n",
       "    .dataframe tbody tr th {\n",
       "        vertical-align: top;\n",
       "    }\n",
       "\n",
       "    .dataframe thead th {\n",
       "        text-align: right;\n",
       "    }\n",
       "</style>\n",
       "<table border=\"1\" class=\"dataframe\">\n",
       "  <thead>\n",
       "    <tr style=\"text-align: right;\">\n",
       "      <th></th>\n",
       "      <th>importance</th>\n",
       "    </tr>\n",
       "  </thead>\n",
       "  <tbody>\n",
       "    <tr>\n",
       "      <th>sensor_13</th>\n",
       "      <td>2.374569e-01</td>\n",
       "    </tr>\n",
       "    <tr>\n",
       "      <th>sensor_11</th>\n",
       "      <td>1.715681e-01</td>\n",
       "    </tr>\n",
       "    <tr>\n",
       "      <th>sensor_15</th>\n",
       "      <td>1.257676e-01</td>\n",
       "    </tr>\n",
       "    <tr>\n",
       "      <th>sensor_4</th>\n",
       "      <td>6.510816e-02</td>\n",
       "    </tr>\n",
       "    <tr>\n",
       "      <th>sensor_9</th>\n",
       "      <td>5.033194e-02</td>\n",
       "    </tr>\n",
       "    <tr>\n",
       "      <th>sensor_6</th>\n",
       "      <td>4.836183e-02</td>\n",
       "    </tr>\n",
       "    <tr>\n",
       "      <th>sensor_2</th>\n",
       "      <td>3.851407e-02</td>\n",
       "    </tr>\n",
       "    <tr>\n",
       "      <th>sensor_14</th>\n",
       "      <td>3.773236e-02</td>\n",
       "    </tr>\n",
       "    <tr>\n",
       "      <th>sensor_7</th>\n",
       "      <td>3.539853e-02</td>\n",
       "    </tr>\n",
       "    <tr>\n",
       "      <th>sensor_12</th>\n",
       "      <td>3.210314e-02</td>\n",
       "    </tr>\n",
       "    <tr>\n",
       "      <th>sensor_3</th>\n",
       "      <td>3.082632e-02</td>\n",
       "    </tr>\n",
       "    <tr>\n",
       "      <th>sensor_21</th>\n",
       "      <td>2.830074e-02</td>\n",
       "    </tr>\n",
       "    <tr>\n",
       "      <th>sensor_8</th>\n",
       "      <td>2.759210e-02</td>\n",
       "    </tr>\n",
       "    <tr>\n",
       "      <th>op_setting_1</th>\n",
       "      <td>2.415671e-02</td>\n",
       "    </tr>\n",
       "    <tr>\n",
       "      <th>sensor_20</th>\n",
       "      <td>2.348431e-02</td>\n",
       "    </tr>\n",
       "    <tr>\n",
       "      <th>op_setting_2</th>\n",
       "      <td>1.206900e-02</td>\n",
       "    </tr>\n",
       "    <tr>\n",
       "      <th>sensor_17</th>\n",
       "      <td>9.883894e-03</td>\n",
       "    </tr>\n",
       "    <tr>\n",
       "      <th>sensor_10</th>\n",
       "      <td>1.049026e-03</td>\n",
       "    </tr>\n",
       "    <tr>\n",
       "      <th>sensor_16</th>\n",
       "      <td>2.710828e-04</td>\n",
       "    </tr>\n",
       "    <tr>\n",
       "      <th>sensor_1</th>\n",
       "      <td>1.296134e-05</td>\n",
       "    </tr>\n",
       "    <tr>\n",
       "      <th>sensor_18</th>\n",
       "      <td>6.439914e-06</td>\n",
       "    </tr>\n",
       "    <tr>\n",
       "      <th>sensor_5</th>\n",
       "      <td>4.552048e-06</td>\n",
       "    </tr>\n",
       "    <tr>\n",
       "      <th>sensor_19</th>\n",
       "      <td>2.486474e-07</td>\n",
       "    </tr>\n",
       "    <tr>\n",
       "      <th>op_setting_3</th>\n",
       "      <td>1.300208e-08</td>\n",
       "    </tr>\n",
       "  </tbody>\n",
       "</table>\n",
       "</div>"
      ],
      "text/plain": [
       "                importance\n",
       "sensor_13     2.374569e-01\n",
       "sensor_11     1.715681e-01\n",
       "sensor_15     1.257676e-01\n",
       "sensor_4      6.510816e-02\n",
       "sensor_9      5.033194e-02\n",
       "sensor_6      4.836183e-02\n",
       "sensor_2      3.851407e-02\n",
       "sensor_14     3.773236e-02\n",
       "sensor_7      3.539853e-02\n",
       "sensor_12     3.210314e-02\n",
       "sensor_3      3.082632e-02\n",
       "sensor_21     2.830074e-02\n",
       "sensor_8      2.759210e-02\n",
       "op_setting_1  2.415671e-02\n",
       "sensor_20     2.348431e-02\n",
       "op_setting_2  1.206900e-02\n",
       "sensor_17     9.883894e-03\n",
       "sensor_10     1.049026e-03\n",
       "sensor_16     2.710828e-04\n",
       "sensor_1      1.296134e-05\n",
       "sensor_18     6.439914e-06\n",
       "sensor_5      4.552048e-06\n",
       "sensor_19     2.486474e-07\n",
       "op_setting_3  1.300208e-08"
      ]
     },
     "execution_count": 103,
     "metadata": {},
     "output_type": "execute_result"
    }
   ],
   "source": [
    "#特徴量の重要度を算出\n",
    "feature_importances_cluster0 = rf_cluster0.feature_importances_\n",
    "\n",
    "\n",
    "feature_importance_cluster0 = \\\n",
    "    pd.DataFrame(rf_cluster0.feature_importances_, columns=[\"importance\"], index=selected_features)\n",
    "feature_importance_cluster0.sort_values(\"importance\", ascending=False)\n",
    "\n",
    "#全部足すと100% 縦軸で\n",
    "#これでは重要度はわかるが、回帰のように上がる下がるなど関係性はわからない"
   ]
  },
  {
   "cell_type": "code",
   "execution_count": 104,
   "metadata": {},
   "outputs": [
    {
     "data": {
      "text/plain": [
       "<matplotlib.axes._subplots.AxesSubplot at 0x144c7be9748>"
      ]
     },
     "execution_count": 104,
     "metadata": {},
     "output_type": "execute_result"
    },
    {
     "data": {
      "image/png": "[encoded data removed]",
      "text/plain": [
       "<Figure size 432x288 with 1 Axes>"
      ]
     },
     "metadata": {
      "needs_background": "light"
     },
     "output_type": "display_data"
    }
   ],
   "source": [
    "feature_importance_cluster0.sort_values(\"importance\", ascending=False).plot(kind=\"bar\")"
   ]
  },
  {
   "cell_type": "markdown",
   "metadata": {},
   "source": [
    "##特徴量は\\\n",
    "sensor_10\t1.049026e-03\\\n",
    "sensor_16\t2.710828e-04\\\n",
    "sensor_1\t1.296134e-05\\\n",
    "sensor_18\t6.439914e-06\\\n",
    "sensor_5\t4.552048e-06\\\n",
    "sensor_19\t2.486474e-07\\\n",
    "op_setting_3\t1.300208e-08\\\n",
    "はほとんど意味がないと推測できる"
   ]
  },
  {
   "cell_type": "markdown",
   "metadata": {},
   "source": [
    "# ランダムフォレスト　最初の欠損値に加え、上記の特徴量を削る"
   ]
  },
  {
   "cell_type": "code",
   "execution_count": 105,
   "metadata": {},
   "outputs": [
    {
     "data": {
      "text/plain": [
       "['op_setting_1',\n",
       " 'op_setting_2',\n",
       " 'op_setting_3',\n",
       " 'sensor_1',\n",
       " 'sensor_2',\n",
       " 'sensor_3',\n",
       " 'sensor_4',\n",
       " 'sensor_5',\n",
       " 'sensor_6',\n",
       " 'sensor_7',\n",
       " 'sensor_8',\n",
       " 'sensor_9',\n",
       " 'sensor_10',\n",
       " 'sensor_11',\n",
       " 'sensor_12',\n",
       " 'sensor_13',\n",
       " 'sensor_14',\n",
       " 'sensor_15',\n",
       " 'sensor_16',\n",
       " 'sensor_17',\n",
       " 'sensor_18',\n",
       " 'sensor_19',\n",
       " 'sensor_20',\n",
       " 'sensor_21']"
      ]
     },
     "execution_count": 105,
     "metadata": {},
     "output_type": "execute_result"
    }
   ],
   "source": [
    "selected_features"
   ]
  },
  {
   "cell_type": "code",
   "execution_count": 106,
   "metadata": {},
   "outputs": [],
   "source": [
    "serected_features_importance_cluster0 = selected_features\n",
    "serected_features_importance_cluster0.remove('sensor_10')"
   ]
  },
  {
   "cell_type": "code",
   "execution_count": 107,
   "metadata": {},
   "outputs": [],
   "source": [
    "serected_features_importance_cluster0.remove('sensor_16')"
   ]
  },
  {
   "cell_type": "code",
   "execution_count": 108,
   "metadata": {},
   "outputs": [],
   "source": [
    "serected_features_importance_cluster0.remove('sensor_1')"
   ]
  },
  {
   "cell_type": "code",
   "execution_count": 109,
   "metadata": {},
   "outputs": [],
   "source": [
    "serected_features_importance_cluster0.remove('sensor_18')"
   ]
  },
  {
   "cell_type": "code",
   "execution_count": 110,
   "metadata": {},
   "outputs": [],
   "source": [
    "serected_features_importance_cluster0.remove('sensor_5')"
   ]
  },
  {
   "cell_type": "code",
   "execution_count": 111,
   "metadata": {},
   "outputs": [],
   "source": [
    "serected_features_importance_cluster0.remove('sensor_19')"
   ]
  },
  {
   "cell_type": "code",
   "execution_count": 112,
   "metadata": {},
   "outputs": [],
   "source": [
    "serected_features_importance_cluster0.remove('op_setting_3')"
   ]
  },
  {
   "cell_type": "code",
   "execution_count": 113,
   "metadata": {},
   "outputs": [
    {
     "data": {
      "text/plain": [
       "['op_setting_1',\n",
       " 'op_setting_2',\n",
       " 'sensor_2',\n",
       " 'sensor_3',\n",
       " 'sensor_4',\n",
       " 'sensor_6',\n",
       " 'sensor_7',\n",
       " 'sensor_8',\n",
       " 'sensor_9',\n",
       " 'sensor_11',\n",
       " 'sensor_12',\n",
       " 'sensor_13',\n",
       " 'sensor_14',\n",
       " 'sensor_15',\n",
       " 'sensor_17',\n",
       " 'sensor_20',\n",
       " 'sensor_21']"
      ]
     },
     "execution_count": 113,
     "metadata": {},
     "output_type": "execute_result"
    }
   ],
   "source": [
    "serected_features_importance_cluster0"
   ]
  },
  {
   "cell_type": "code",
   "execution_count": 114,
   "metadata": {},
   "outputs": [],
   "source": [
    "#大元のtrainをx(selected_features)とy(RUL)に分ける\n",
    "X_train_all_cluster0_rf_fe_im, y_train_all_cluster0_rf_fe_im = train_data_cluster0[serected_features_importance_cluster0], train_data_cluster0['RUL']"
   ]
  },
  {
   "cell_type": "code",
   "execution_count": 115,
   "metadata": {},
   "outputs": [],
   "source": [
    "#大元のtestの特徴量からselected_featuresだけのX_test_rf_fe_imにする\n",
    "X_test_cluster0_rf_fe_im = test_data_cluster0[serected_features_importance_cluster0]"
   ]
  },
  {
   "cell_type": "code",
   "execution_count": 116,
   "metadata": {},
   "outputs": [
    {
     "name": "stderr",
     "output_type": "stream",
     "text": [
      "C:\\Users\\81907\\Anaconda3\\lib\\site-packages\\sklearn\\ensemble\\forest.py:245: FutureWarning: The default value of n_estimators will change from 10 in version 0.20 to 100 in 0.22.\n",
      "  \"10 in version 0.20 to 100 in 0.22.\", FutureWarning)\n"
     ]
    },
    {
     "data": {
      "text/plain": [
       "RandomForestRegressor(bootstrap=True, criterion='mse', max_depth=None,\n",
       "                      max_features='auto', max_leaf_nodes=None,\n",
       "                      min_impurity_decrease=0.0, min_impurity_split=None,\n",
       "                      min_samples_leaf=1, min_samples_split=2,\n",
       "                      min_weight_fraction_leaf=0.0, n_estimators=10,\n",
       "                      n_jobs=None, oob_score=False, random_state=1234,\n",
       "                      verbose=0, warm_start=False)"
      ]
     },
     "execution_count": 116,
     "metadata": {},
     "output_type": "execute_result"
    }
   ],
   "source": [
    "#ランダムフォレスト\n",
    "rf_cluster0_fe_im = RandomForestRegressor(random_state=1234)\n",
    "rf_cluster0_fe_im.fit(X_train_all_cluster0_rf_fe_im, y_train_all_cluster0_rf_fe_im)\n",
    "\n",
    "\n",
    "# FutureWarningは問題ありません"
   ]
  },
  {
   "cell_type": "markdown",
   "metadata": {},
   "source": [
    "# 注意　最後は結合するので、列名はpred_rf_fe_imで統一する \n"
   ]
  },
  {
   "cell_type": "code",
   "execution_count": 117,
   "metadata": {},
   "outputs": [],
   "source": [
    "#予測する\n",
    "train_data_cluster0['pred_rf_fe_im'] = rf_cluster0_fe_im.predict(X_train_all_cluster0_rf_fe_im)\n",
    "test_data_cluster0['pred_rf_fe_im'] = rf_cluster0_fe_im.predict(X_test_cluster0_rf_fe_im)"
   ]
  },
  {
   "cell_type": "code",
   "execution_count": 118,
   "metadata": {},
   "outputs": [
    {
     "data": {
      "text/html": [
       "<div>\n",
       "<style scoped>\n",
       "    .dataframe tbody tr th:only-of-type {\n",
       "        vertical-align: middle;\n",
       "    }\n",
       "\n",
       "    .dataframe tbody tr th {\n",
       "        vertical-align: top;\n",
       "    }\n",
       "\n",
       "    .dataframe thead th {\n",
       "        text-align: right;\n",
       "    }\n",
       "</style>\n",
       "<table border=\"1\" class=\"dataframe\">\n",
       "  <thead>\n",
       "    <tr style=\"text-align: right;\">\n",
       "      <th></th>\n",
       "      <th>engine_no</th>\n",
       "      <th>time_in_cycles</th>\n",
       "      <th>op_setting_1</th>\n",
       "      <th>op_setting_2</th>\n",
       "      <th>op_setting_3</th>\n",
       "      <th>sensor_1</th>\n",
       "      <th>sensor_2</th>\n",
       "      <th>sensor_3</th>\n",
       "      <th>sensor_4</th>\n",
       "      <th>sensor_5</th>\n",
       "      <th>...</th>\n",
       "      <th>sensor_14</th>\n",
       "      <th>sensor_15</th>\n",
       "      <th>sensor_16</th>\n",
       "      <th>sensor_17</th>\n",
       "      <th>sensor_18</th>\n",
       "      <th>sensor_19</th>\n",
       "      <th>sensor_20</th>\n",
       "      <th>sensor_21</th>\n",
       "      <th>RUL</th>\n",
       "      <th>pred_rf_fe_im</th>\n",
       "    </tr>\n",
       "  </thead>\n",
       "  <tbody>\n",
       "    <tr>\n",
       "      <th>0</th>\n",
       "      <td>0</td>\n",
       "      <td>1</td>\n",
       "      <td>25.0074</td>\n",
       "      <td>0.6200</td>\n",
       "      <td>60.0</td>\n",
       "      <td>462.54</td>\n",
       "      <td>536.84</td>\n",
       "      <td>1256.52</td>\n",
       "      <td>1043.97</td>\n",
       "      <td>7.05</td>\n",
       "      <td>...</td>\n",
       "      <td>7875.47</td>\n",
       "      <td>10.8850</td>\n",
       "      <td>0.02</td>\n",
       "      <td>306</td>\n",
       "      <td>1915</td>\n",
       "      <td>84.93</td>\n",
       "      <td>14.35</td>\n",
       "      <td>8.4712</td>\n",
       "      <td>339</td>\n",
       "      <td>231.5</td>\n",
       "    </tr>\n",
       "    <tr>\n",
       "      <th>1</th>\n",
       "      <td>0</td>\n",
       "      <td>2</td>\n",
       "      <td>35.0072</td>\n",
       "      <td>0.8413</td>\n",
       "      <td>100.0</td>\n",
       "      <td>449.44</td>\n",
       "      <td>555.44</td>\n",
       "      <td>1364.42</td>\n",
       "      <td>1128.75</td>\n",
       "      <td>5.48</td>\n",
       "      <td>...</td>\n",
       "      <td>8073.12</td>\n",
       "      <td>9.2527</td>\n",
       "      <td>0.02</td>\n",
       "      <td>334</td>\n",
       "      <td>2223</td>\n",
       "      <td>100.00</td>\n",
       "      <td>14.88</td>\n",
       "      <td>8.9928</td>\n",
       "      <td>338</td>\n",
       "      <td>338.0</td>\n",
       "    </tr>\n",
       "    <tr>\n",
       "      <th>2</th>\n",
       "      <td>0</td>\n",
       "      <td>3</td>\n",
       "      <td>25.0053</td>\n",
       "      <td>0.6215</td>\n",
       "      <td>60.0</td>\n",
       "      <td>462.54</td>\n",
       "      <td>536.42</td>\n",
       "      <td>1265.94</td>\n",
       "      <td>1047.23</td>\n",
       "      <td>7.05</td>\n",
       "      <td>...</td>\n",
       "      <td>7884.88</td>\n",
       "      <td>10.9054</td>\n",
       "      <td>0.02</td>\n",
       "      <td>307</td>\n",
       "      <td>1915</td>\n",
       "      <td>84.93</td>\n",
       "      <td>14.21</td>\n",
       "      <td>8.5107</td>\n",
       "      <td>337</td>\n",
       "      <td>291.8</td>\n",
       "    </tr>\n",
       "    <tr>\n",
       "      <th>3</th>\n",
       "      <td>0</td>\n",
       "      <td>4</td>\n",
       "      <td>42.0045</td>\n",
       "      <td>0.8407</td>\n",
       "      <td>100.0</td>\n",
       "      <td>445.00</td>\n",
       "      <td>549.41</td>\n",
       "      <td>1355.52</td>\n",
       "      <td>1115.81</td>\n",
       "      <td>3.91</td>\n",
       "      <td>...</td>\n",
       "      <td>8093.08</td>\n",
       "      <td>9.3434</td>\n",
       "      <td>0.02</td>\n",
       "      <td>331</td>\n",
       "      <td>2212</td>\n",
       "      <td>100.00</td>\n",
       "      <td>10.63</td>\n",
       "      <td>6.4578</td>\n",
       "      <td>336</td>\n",
       "      <td>301.1</td>\n",
       "    </tr>\n",
       "    <tr>\n",
       "      <th>4</th>\n",
       "      <td>0</td>\n",
       "      <td>5</td>\n",
       "      <td>35.0046</td>\n",
       "      <td>0.8400</td>\n",
       "      <td>100.0</td>\n",
       "      <td>449.44</td>\n",
       "      <td>555.21</td>\n",
       "      <td>1361.04</td>\n",
       "      <td>1123.63</td>\n",
       "      <td>5.48</td>\n",
       "      <td>...</td>\n",
       "      <td>8078.18</td>\n",
       "      <td>9.3287</td>\n",
       "      <td>0.02</td>\n",
       "      <td>334</td>\n",
       "      <td>2223</td>\n",
       "      <td>100.00</td>\n",
       "      <td>14.95</td>\n",
       "      <td>9.0279</td>\n",
       "      <td>335</td>\n",
       "      <td>264.4</td>\n",
       "    </tr>\n",
       "  </tbody>\n",
       "</table>\n",
       "<p>5 rows × 28 columns</p>\n",
       "</div>"
      ],
      "text/plain": [
       "   engine_no  time_in_cycles  op_setting_1  op_setting_2  op_setting_3  \\\n",
       "0          0               1       25.0074        0.6200          60.0   \n",
       "1          0               2       35.0072        0.8413         100.0   \n",
       "2          0               3       25.0053        0.6215          60.0   \n",
       "3          0               4       42.0045        0.8407         100.0   \n",
       "4          0               5       35.0046        0.8400         100.0   \n",
       "\n",
       "   sensor_1  sensor_2  sensor_3  sensor_4  sensor_5  ...  sensor_14  \\\n",
       "0    462.54    536.84   1256.52   1043.97      7.05  ...    7875.47   \n",
       "1    449.44    555.44   1364.42   1128.75      5.48  ...    8073.12   \n",
       "2    462.54    536.42   1265.94   1047.23      7.05  ...    7884.88   \n",
       "3    445.00    549.41   1355.52   1115.81      3.91  ...    8093.08   \n",
       "4    449.44    555.21   1361.04   1123.63      5.48  ...    8078.18   \n",
       "\n",
       "   sensor_15  sensor_16  sensor_17  sensor_18  sensor_19  sensor_20  \\\n",
       "0    10.8850       0.02        306       1915      84.93      14.35   \n",
       "1     9.2527       0.02        334       2223     100.00      14.88   \n",
       "2    10.9054       0.02        307       1915      84.93      14.21   \n",
       "3     9.3434       0.02        331       2212     100.00      10.63   \n",
       "4     9.3287       0.02        334       2223     100.00      14.95   \n",
       "\n",
       "   sensor_21  RUL  pred_rf_fe_im  \n",
       "0     8.4712  339          231.5  \n",
       "1     8.9928  338          338.0  \n",
       "2     8.5107  337          291.8  \n",
       "3     6.4578  336          301.1  \n",
       "4     9.0279  335          264.4  \n",
       "\n",
       "[5 rows x 28 columns]"
      ]
     },
     "execution_count": 118,
     "metadata": {},
     "output_type": "execute_result"
    }
   ],
   "source": [
    "train_data_cluster0.head()"
   ]
  },
  {
   "cell_type": "code",
   "execution_count": 119,
   "metadata": {},
   "outputs": [
    {
     "data": {
      "text/html": [
       "<div>\n",
       "<style scoped>\n",
       "    .dataframe tbody tr th:only-of-type {\n",
       "        vertical-align: middle;\n",
       "    }\n",
       "\n",
       "    .dataframe tbody tr th {\n",
       "        vertical-align: top;\n",
       "    }\n",
       "\n",
       "    .dataframe thead th {\n",
       "        text-align: right;\n",
       "    }\n",
       "</style>\n",
       "<table border=\"1\" class=\"dataframe\">\n",
       "  <thead>\n",
       "    <tr style=\"text-align: right;\">\n",
       "      <th></th>\n",
       "      <th>engine_no</th>\n",
       "      <th>time_in_cycles</th>\n",
       "      <th>op_setting_1</th>\n",
       "      <th>op_setting_2</th>\n",
       "      <th>op_setting_3</th>\n",
       "      <th>sensor_1</th>\n",
       "      <th>sensor_2</th>\n",
       "      <th>sensor_3</th>\n",
       "      <th>sensor_4</th>\n",
       "      <th>sensor_5</th>\n",
       "      <th>...</th>\n",
       "      <th>sensor_14</th>\n",
       "      <th>sensor_15</th>\n",
       "      <th>sensor_16</th>\n",
       "      <th>sensor_17</th>\n",
       "      <th>sensor_18</th>\n",
       "      <th>sensor_19</th>\n",
       "      <th>sensor_20</th>\n",
       "      <th>sensor_21</th>\n",
       "      <th>pred_rf</th>\n",
       "      <th>pred_rf_fe_im</th>\n",
       "    </tr>\n",
       "  </thead>\n",
       "  <tbody>\n",
       "    <tr>\n",
       "      <th>0</th>\n",
       "      <td>0</td>\n",
       "      <td>1</td>\n",
       "      <td>42.0034</td>\n",
       "      <td>0.8400</td>\n",
       "      <td>100.0</td>\n",
       "      <td>445.00</td>\n",
       "      <td>549.36</td>\n",
       "      <td>1342.05</td>\n",
       "      <td>1124.56</td>\n",
       "      <td>3.91</td>\n",
       "      <td>...</td>\n",
       "      <td>8077.78</td>\n",
       "      <td>9.3092</td>\n",
       "      <td>0.02</td>\n",
       "      <td>329</td>\n",
       "      <td>2212</td>\n",
       "      <td>100.0</td>\n",
       "      <td>10.69</td>\n",
       "      <td>6.3956</td>\n",
       "      <td>193.2</td>\n",
       "      <td>182.0</td>\n",
       "    </tr>\n",
       "    <tr>\n",
       "      <th>1</th>\n",
       "      <td>0</td>\n",
       "      <td>2</td>\n",
       "      <td>42.0017</td>\n",
       "      <td>0.8400</td>\n",
       "      <td>100.0</td>\n",
       "      <td>445.00</td>\n",
       "      <td>548.83</td>\n",
       "      <td>1351.93</td>\n",
       "      <td>1116.28</td>\n",
       "      <td>3.91</td>\n",
       "      <td>...</td>\n",
       "      <td>8077.82</td>\n",
       "      <td>9.3450</td>\n",
       "      <td>0.02</td>\n",
       "      <td>331</td>\n",
       "      <td>2212</td>\n",
       "      <td>100.0</td>\n",
       "      <td>10.55</td>\n",
       "      <td>6.3775</td>\n",
       "      <td>188.2</td>\n",
       "      <td>169.8</td>\n",
       "    </tr>\n",
       "    <tr>\n",
       "      <th>2</th>\n",
       "      <td>0</td>\n",
       "      <td>3</td>\n",
       "      <td>0.0028</td>\n",
       "      <td>0.0019</td>\n",
       "      <td>100.0</td>\n",
       "      <td>518.67</td>\n",
       "      <td>642.35</td>\n",
       "      <td>1583.74</td>\n",
       "      <td>1400.44</td>\n",
       "      <td>14.62</td>\n",
       "      <td>...</td>\n",
       "      <td>8129.19</td>\n",
       "      <td>8.3840</td>\n",
       "      <td>0.03</td>\n",
       "      <td>392</td>\n",
       "      <td>2388</td>\n",
       "      <td>100.0</td>\n",
       "      <td>38.85</td>\n",
       "      <td>23.3483</td>\n",
       "      <td>171.4</td>\n",
       "      <td>159.3</td>\n",
       "    </tr>\n",
       "    <tr>\n",
       "      <th>3</th>\n",
       "      <td>0</td>\n",
       "      <td>4</td>\n",
       "      <td>42.0047</td>\n",
       "      <td>0.8400</td>\n",
       "      <td>100.0</td>\n",
       "      <td>445.00</td>\n",
       "      <td>549.69</td>\n",
       "      <td>1354.36</td>\n",
       "      <td>1125.55</td>\n",
       "      <td>3.91</td>\n",
       "      <td>...</td>\n",
       "      <td>8082.04</td>\n",
       "      <td>9.3852</td>\n",
       "      <td>0.02</td>\n",
       "      <td>330</td>\n",
       "      <td>2212</td>\n",
       "      <td>100.0</td>\n",
       "      <td>10.56</td>\n",
       "      <td>6.4871</td>\n",
       "      <td>156.5</td>\n",
       "      <td>157.4</td>\n",
       "    </tr>\n",
       "    <tr>\n",
       "      <th>4</th>\n",
       "      <td>0</td>\n",
       "      <td>5</td>\n",
       "      <td>10.0058</td>\n",
       "      <td>0.2506</td>\n",
       "      <td>100.0</td>\n",
       "      <td>489.05</td>\n",
       "      <td>604.72</td>\n",
       "      <td>1496.65</td>\n",
       "      <td>1310.52</td>\n",
       "      <td>10.52</td>\n",
       "      <td>...</td>\n",
       "      <td>8121.73</td>\n",
       "      <td>8.6074</td>\n",
       "      <td>0.03</td>\n",
       "      <td>370</td>\n",
       "      <td>2319</td>\n",
       "      <td>100.0</td>\n",
       "      <td>28.78</td>\n",
       "      <td>17.1987</td>\n",
       "      <td>159.9</td>\n",
       "      <td>160.7</td>\n",
       "    </tr>\n",
       "  </tbody>\n",
       "</table>\n",
       "<p>5 rows × 28 columns</p>\n",
       "</div>"
      ],
      "text/plain": [
       "   engine_no  time_in_cycles  op_setting_1  op_setting_2  op_setting_3  \\\n",
       "0          0               1       42.0034        0.8400         100.0   \n",
       "1          0               2       42.0017        0.8400         100.0   \n",
       "2          0               3        0.0028        0.0019         100.0   \n",
       "3          0               4       42.0047        0.8400         100.0   \n",
       "4          0               5       10.0058        0.2506         100.0   \n",
       "\n",
       "   sensor_1  sensor_2  sensor_3  sensor_4  sensor_5  ...  sensor_14  \\\n",
       "0    445.00    549.36   1342.05   1124.56      3.91  ...    8077.78   \n",
       "1    445.00    548.83   1351.93   1116.28      3.91  ...    8077.82   \n",
       "2    518.67    642.35   1583.74   1400.44     14.62  ...    8129.19   \n",
       "3    445.00    549.69   1354.36   1125.55      3.91  ...    8082.04   \n",
       "4    489.05    604.72   1496.65   1310.52     10.52  ...    8121.73   \n",
       "\n",
       "   sensor_15  sensor_16  sensor_17  sensor_18  sensor_19  sensor_20  \\\n",
       "0     9.3092       0.02        329       2212      100.0      10.69   \n",
       "1     9.3450       0.02        331       2212      100.0      10.55   \n",
       "2     8.3840       0.03        392       2388      100.0      38.85   \n",
       "3     9.3852       0.02        330       2212      100.0      10.56   \n",
       "4     8.6074       0.03        370       2319      100.0      28.78   \n",
       "\n",
       "   sensor_21  pred_rf  pred_rf_fe_im  \n",
       "0     6.3956    193.2          182.0  \n",
       "1     6.3775    188.2          169.8  \n",
       "2    23.3483    171.4          159.3  \n",
       "3     6.4871    156.5          157.4  \n",
       "4    17.1987    159.9          160.7  \n",
       "\n",
       "[5 rows x 28 columns]"
      ]
     },
     "execution_count": 119,
     "metadata": {},
     "output_type": "execute_result"
    }
   ],
   "source": [
    "test_data_cluster0.head()"
   ]
  },
  {
   "cell_type": "code",
   "execution_count": 120,
   "metadata": {},
   "outputs": [],
   "source": [
    "#結果表の作成 \n",
    "train_data_cluster0 = train_data_cluster0.sort_values(['engine_no', 'time_in_cycles'])\n",
    "test_data_cluster0 = test_data_cluster0.sort_values(['engine_no', 'time_in_cycles'])\n",
    "\n",
    "#test_dataの各engineの最後のサイクルの行のみを表示　列は'engine_no', 'pred_rf'のみ\n",
    "result_cluster0_rf_fe_im = test_data_cluster0.groupby('engine_no').last().reset_index()[['engine_no', 'pred_rf_fe_im']]\n",
    "\n"
   ]
  },
  {
   "cell_type": "code",
   "execution_count": 121,
   "metadata": {},
   "outputs": [
    {
     "data": {
      "text/html": [
       "<div>\n",
       "<style scoped>\n",
       "    .dataframe tbody tr th:only-of-type {\n",
       "        vertical-align: middle;\n",
       "    }\n",
       "\n",
       "    .dataframe tbody tr th {\n",
       "        vertical-align: top;\n",
       "    }\n",
       "\n",
       "    .dataframe thead th {\n",
       "        text-align: right;\n",
       "    }\n",
       "</style>\n",
       "<table border=\"1\" class=\"dataframe\">\n",
       "  <thead>\n",
       "    <tr style=\"text-align: right;\">\n",
       "      <th></th>\n",
       "      <th>engine_no</th>\n",
       "      <th>pred_rf_fe_im</th>\n",
       "    </tr>\n",
       "  </thead>\n",
       "  <tbody>\n",
       "    <tr>\n",
       "      <th>0</th>\n",
       "      <td>0</td>\n",
       "      <td>32.2</td>\n",
       "    </tr>\n",
       "    <tr>\n",
       "      <th>1</th>\n",
       "      <td>1</td>\n",
       "      <td>31.1</td>\n",
       "    </tr>\n",
       "    <tr>\n",
       "      <th>2</th>\n",
       "      <td>2</td>\n",
       "      <td>148.4</td>\n",
       "    </tr>\n",
       "    <tr>\n",
       "      <th>3</th>\n",
       "      <td>3</td>\n",
       "      <td>132.7</td>\n",
       "    </tr>\n",
       "    <tr>\n",
       "      <th>4</th>\n",
       "      <td>4</td>\n",
       "      <td>8.3</td>\n",
       "    </tr>\n",
       "  </tbody>\n",
       "</table>\n",
       "</div>"
      ],
      "text/plain": [
       "   engine_no  pred_rf_fe_im\n",
       "0          0           32.2\n",
       "1          1           31.1\n",
       "2          2          148.4\n",
       "3          3          132.7\n",
       "4          4            8.3"
      ]
     },
     "execution_count": 121,
     "metadata": {},
     "output_type": "execute_result"
    }
   ],
   "source": [
    "result_cluster0_rf_fe_im.head()"
   ]
  },
  {
   "cell_type": "code",
   "execution_count": 122,
   "metadata": {},
   "outputs": [],
   "source": [
    "# pred_rf<100の時、つまり予測した残りの寿命サイクルが100より小さければ1 それ以外で0とする\n",
    "result_cluster0_rf_fe_im['result'] = result_cluster0_rf_fe_im['pred_rf_fe_im'].map(lambda x: 0 if x > 100 else 1)"
   ]
  },
  {
   "cell_type": "code",
   "execution_count": 123,
   "metadata": {
    "scrolled": true
   },
   "outputs": [
    {
     "data": {
      "text/html": [
       "<div>\n",
       "<style scoped>\n",
       "    .dataframe tbody tr th:only-of-type {\n",
       "        vertical-align: middle;\n",
       "    }\n",
       "\n",
       "    .dataframe tbody tr th {\n",
       "        vertical-align: top;\n",
       "    }\n",
       "\n",
       "    .dataframe thead th {\n",
       "        text-align: right;\n",
       "    }\n",
       "</style>\n",
       "<table border=\"1\" class=\"dataframe\">\n",
       "  <thead>\n",
       "    <tr style=\"text-align: right;\">\n",
       "      <th></th>\n",
       "      <th>engine_no</th>\n",
       "      <th>pred_rf_fe_im</th>\n",
       "      <th>result</th>\n",
       "    </tr>\n",
       "  </thead>\n",
       "  <tbody>\n",
       "    <tr>\n",
       "      <th>0</th>\n",
       "      <td>0</td>\n",
       "      <td>32.2</td>\n",
       "      <td>1</td>\n",
       "    </tr>\n",
       "    <tr>\n",
       "      <th>1</th>\n",
       "      <td>1</td>\n",
       "      <td>31.1</td>\n",
       "      <td>1</td>\n",
       "    </tr>\n",
       "    <tr>\n",
       "      <th>2</th>\n",
       "      <td>2</td>\n",
       "      <td>148.4</td>\n",
       "      <td>0</td>\n",
       "    </tr>\n",
       "    <tr>\n",
       "      <th>3</th>\n",
       "      <td>3</td>\n",
       "      <td>132.7</td>\n",
       "      <td>0</td>\n",
       "    </tr>\n",
       "    <tr>\n",
       "      <th>4</th>\n",
       "      <td>4</td>\n",
       "      <td>8.3</td>\n",
       "      <td>1</td>\n",
       "    </tr>\n",
       "  </tbody>\n",
       "</table>\n",
       "</div>"
      ],
      "text/plain": [
       "   engine_no  pred_rf_fe_im  result\n",
       "0          0           32.2       1\n",
       "1          1           31.1       1\n",
       "2          2          148.4       0\n",
       "3          3          132.7       0\n",
       "4          4            8.3       1"
      ]
     },
     "execution_count": 123,
     "metadata": {},
     "output_type": "execute_result"
    }
   ],
   "source": [
    "result_cluster0_rf_fe_im.head()\n",
    "# result_cluster0_rf_fe_im = result_cluster0_rf_fe_im.drop(\"resul_cluster0t\", axis=1)"
   ]
  },
  {
   "cell_type": "code",
   "execution_count": 124,
   "metadata": {},
   "outputs": [],
   "source": [
    "#csvで結果の保存\n",
    "result_cluster0_rf_fe_im[['engine_no', 'result']].to_csv('Desktop/インテグ課題/NASA/cluster0_submission2.csv', index=False)"
   ]
  },
  {
   "cell_type": "markdown",
   "metadata": {},
   "source": [
    "# 上記で読み込んだtest_data_RUL_cluster0を使っていく"
   ]
  },
  {
   "cell_type": "code",
   "execution_count": 125,
   "metadata": {},
   "outputs": [
    {
     "data": {
      "text/html": [
       "<div>\n",
       "<style scoped>\n",
       "    .dataframe tbody tr th:only-of-type {\n",
       "        vertical-align: middle;\n",
       "    }\n",
       "\n",
       "    .dataframe tbody tr th {\n",
       "        vertical-align: top;\n",
       "    }\n",
       "\n",
       "    .dataframe thead th {\n",
       "        text-align: right;\n",
       "    }\n",
       "</style>\n",
       "<table border=\"1\" class=\"dataframe\">\n",
       "  <thead>\n",
       "    <tr style=\"text-align: right;\">\n",
       "      <th></th>\n",
       "      <th>engine_no</th>\n",
       "      <th>RUL</th>\n",
       "      <th>result</th>\n",
       "    </tr>\n",
       "  </thead>\n",
       "  <tbody>\n",
       "    <tr>\n",
       "      <th>0</th>\n",
       "      <td>0</td>\n",
       "      <td>22</td>\n",
       "      <td>1</td>\n",
       "    </tr>\n",
       "    <tr>\n",
       "      <th>1</th>\n",
       "      <td>1</td>\n",
       "      <td>12</td>\n",
       "      <td>1</td>\n",
       "    </tr>\n",
       "    <tr>\n",
       "      <th>2</th>\n",
       "      <td>2</td>\n",
       "      <td>108</td>\n",
       "      <td>0</td>\n",
       "    </tr>\n",
       "    <tr>\n",
       "      <th>3</th>\n",
       "      <td>3</td>\n",
       "      <td>88</td>\n",
       "      <td>1</td>\n",
       "    </tr>\n",
       "    <tr>\n",
       "      <th>4</th>\n",
       "      <td>4</td>\n",
       "      <td>10</td>\n",
       "      <td>1</td>\n",
       "    </tr>\n",
       "  </tbody>\n",
       "</table>\n",
       "</div>"
      ],
      "text/plain": [
       "   engine_no  RUL  result\n",
       "0          0   22       1\n",
       "1          1   12       1\n",
       "2          2  108       0\n",
       "3          3   88       1\n",
       "4          4   10       1"
      ]
     },
     "execution_count": 125,
     "metadata": {},
     "output_type": "execute_result"
    }
   ],
   "source": [
    "test_data_RUL_cluster0.head()"
   ]
  },
  {
   "cell_type": "markdown",
   "metadata": {},
   "source": [
    "# train_allで学習しtestデータで出した予測値と、実際の答えで混合行列を作成"
   ]
  },
  {
   "cell_type": "code",
   "execution_count": 126,
   "metadata": {},
   "outputs": [
    {
     "name": "stdout",
     "output_type": "stream",
     "text": [
      "252\n",
      "255\n"
     ]
    }
   ],
   "source": [
    "print((result_cluster0_rf_fe_im['result'] == 1).sum())\n",
    "print((result_cluster0_rf_fe_im['result'] == 0).sum())"
   ]
  },
  {
   "cell_type": "code",
   "execution_count": 127,
   "metadata": {},
   "outputs": [
    {
     "name": "stdout",
     "output_type": "stream",
     "text": [
      "315\n",
      "192\n"
     ]
    }
   ],
   "source": [
    "print((test_data_RUL_cluster0['result'] == 1).sum())\n",
    "print((test_data_RUL_cluster0['result'] == 0).sum())"
   ]
  },
  {
   "cell_type": "markdown",
   "metadata": {},
   "source": [
    "# 100以内に故障するを1,しないを0としている 故障することを当てたいから、故障する1をpositiveと定義する。"
   ]
  },
  {
   "cell_type": "code",
   "execution_count": 128,
   "metadata": {},
   "outputs": [],
   "source": [
    "#混合行列\n",
    "#1 = Positive,0 = Negativeとする　なぜならば、再現率などがpositiveで計算されるので、故障するをpositiveにする\n",
    "#labels指定をしないと、左から0,1表記になるので、TPが右下になってしまう。\n",
    "cm = confusion_matrix(test_data_RUL_cluster0['result'],result_cluster0_rf_fe_im['result'],labels=[1, 0] )"
   ]
  },
  {
   "cell_type": "code",
   "execution_count": 129,
   "metadata": {},
   "outputs": [
    {
     "data": {
      "text/plain": [
       "array([[236,  79],\n",
       "       [ 16, 176]], dtype=int64)"
      ]
     },
     "execution_count": 129,
     "metadata": {},
     "output_type": "execute_result"
    }
   ],
   "source": [
    "cm"
   ]
  },
  {
   "cell_type": "markdown",
   "metadata": {},
   "source": [
    "# 列が予測の1と0行が実際の1と0つまり、真陽性 : TP (True-Positive)233、真陰性: TN (True-Negative)177、偽陽性: FP (False-Positive)15(故障していないのにしていると予測)、偽陰性: FN (False-Negative)82(実際は故障しているのに故障していないと予測)\n",
    "#https://pythondatascience.plavox.info/scikit-learn/%E5%88%86%E9%A1%9E%E7%B5%90%E6%9E%9C%E3%81%AE%E3%83%A2%E3%83%87%E3%83%AB%E8%A9%95%E4%BE%A1\n",
    "#FN (False-Negative)82を少なくしたい　つまり実際は故障だが、故障しないと判断してしまっているものを"
   ]
  },
  {
   "cell_type": "code",
   "execution_count": 130,
   "metadata": {},
   "outputs": [
    {
     "name": "stdout",
     "output_type": "stream",
     "text": [
      "              precision    recall  f1-score   support\n",
      "\n",
      "           1       0.94      0.75      0.83       315\n",
      "           0       0.69      0.92      0.79       192\n",
      "\n",
      "    accuracy                           0.81       507\n",
      "   macro avg       0.81      0.83      0.81       507\n",
      "weighted avg       0.84      0.81      0.82       507\n",
      "\n"
     ]
    }
   ],
   "source": [
    "#混合行列まとめて表示\n",
    "cr = classification_report(test_data_RUL_cluster0['result'],result_cluster0_rf_fe_im['result'],labels=[1, 0] )\n",
    "print(cr)"
   ]
  },
  {
   "cell_type": "markdown",
   "metadata": {},
   "source": [
    "# #再現率を上げたい　実際の故障のうち故障と予測できたもの"
   ]
  },
  {
   "cell_type": "code",
   "execution_count": 131,
   "metadata": {},
   "outputs": [
    {
     "data": {
      "text/html": [
       "<div>\n",
       "<style scoped>\n",
       "    .dataframe tbody tr th:only-of-type {\n",
       "        vertical-align: middle;\n",
       "    }\n",
       "\n",
       "    .dataframe tbody tr th {\n",
       "        vertical-align: top;\n",
       "    }\n",
       "\n",
       "    .dataframe thead th {\n",
       "        text-align: right;\n",
       "    }\n",
       "</style>\n",
       "<table border=\"1\" class=\"dataframe\">\n",
       "  <thead>\n",
       "    <tr style=\"text-align: right;\">\n",
       "      <th></th>\n",
       "      <th>importance</th>\n",
       "    </tr>\n",
       "  </thead>\n",
       "  <tbody>\n",
       "    <tr>\n",
       "      <th>sensor_13</th>\n",
       "      <td>0.237428</td>\n",
       "    </tr>\n",
       "    <tr>\n",
       "      <th>sensor_11</th>\n",
       "      <td>0.171746</td>\n",
       "    </tr>\n",
       "    <tr>\n",
       "      <th>sensor_15</th>\n",
       "      <td>0.125945</td>\n",
       "    </tr>\n",
       "    <tr>\n",
       "      <th>sensor_4</th>\n",
       "      <td>0.065252</td>\n",
       "    </tr>\n",
       "    <tr>\n",
       "      <th>sensor_9</th>\n",
       "      <td>0.050291</td>\n",
       "    </tr>\n",
       "    <tr>\n",
       "      <th>sensor_6</th>\n",
       "      <td>0.048245</td>\n",
       "    </tr>\n",
       "    <tr>\n",
       "      <th>sensor_2</th>\n",
       "      <td>0.038257</td>\n",
       "    </tr>\n",
       "    <tr>\n",
       "      <th>sensor_14</th>\n",
       "      <td>0.038118</td>\n",
       "    </tr>\n",
       "    <tr>\n",
       "      <th>sensor_7</th>\n",
       "      <td>0.035593</td>\n",
       "    </tr>\n",
       "    <tr>\n",
       "      <th>sensor_12</th>\n",
       "      <td>0.032435</td>\n",
       "    </tr>\n",
       "    <tr>\n",
       "      <th>sensor_3</th>\n",
       "      <td>0.031069</td>\n",
       "    </tr>\n",
       "    <tr>\n",
       "      <th>sensor_21</th>\n",
       "      <td>0.028274</td>\n",
       "    </tr>\n",
       "    <tr>\n",
       "      <th>sensor_8</th>\n",
       "      <td>0.027564</td>\n",
       "    </tr>\n",
       "    <tr>\n",
       "      <th>op_setting_1</th>\n",
       "      <td>0.024116</td>\n",
       "    </tr>\n",
       "    <tr>\n",
       "      <th>sensor_20</th>\n",
       "      <td>0.023815</td>\n",
       "    </tr>\n",
       "    <tr>\n",
       "      <th>op_setting_2</th>\n",
       "      <td>0.012026</td>\n",
       "    </tr>\n",
       "    <tr>\n",
       "      <th>sensor_17</th>\n",
       "      <td>0.009826</td>\n",
       "    </tr>\n",
       "  </tbody>\n",
       "</table>\n",
       "</div>"
      ],
      "text/plain": [
       "              importance\n",
       "sensor_13       0.237428\n",
       "sensor_11       0.171746\n",
       "sensor_15       0.125945\n",
       "sensor_4        0.065252\n",
       "sensor_9        0.050291\n",
       "sensor_6        0.048245\n",
       "sensor_2        0.038257\n",
       "sensor_14       0.038118\n",
       "sensor_7        0.035593\n",
       "sensor_12       0.032435\n",
       "sensor_3        0.031069\n",
       "sensor_21       0.028274\n",
       "sensor_8        0.027564\n",
       "op_setting_1    0.024116\n",
       "sensor_20       0.023815\n",
       "op_setting_2    0.012026\n",
       "sensor_17       0.009826"
      ]
     },
     "execution_count": 131,
     "metadata": {},
     "output_type": "execute_result"
    }
   ],
   "source": [
    "#特徴量の重要度を算出\n",
    "feature_importances_cluster0_rf_fe_im = rf_cluster0_fe_im.feature_importances_\n",
    "\n",
    "\n",
    "feature_importance_cluster0_rf_fe_im = \\\n",
    "    pd.DataFrame(rf_cluster0_fe_im.feature_importances_, columns=[\"importance\"], index=selected_features)\n",
    "feature_importance_cluster0_rf_fe_im.sort_values(\"importance\", ascending=False)\n",
    "\n",
    "#全部足すと100% 縦軸で\n",
    "#これでは重要度はわかるが、回帰のように上がる下がるなど関係性はわからない"
   ]
  },
  {
   "cell_type": "code",
   "execution_count": 132,
   "metadata": {},
   "outputs": [
    {
     "data": {
      "text/plain": [
       "<matplotlib.axes._subplots.AxesSubplot at 0x14495eb0eb8>"
      ]
     },
     "execution_count": 132,
     "metadata": {},
     "output_type": "execute_result"
    },
    {
     "data": {
      "image/png": "[encoded data removed]",
      "text/plain": [
       "<Figure size 432x288 with 1 Axes>"
      ]
     },
     "metadata": {
      "needs_background": "light"
     },
     "output_type": "display_data"
    }
   ],
   "source": [
    "feature_importance_cluster0_rf_fe_im.sort_values(\"importance\", ascending=False).plot(kind=\"bar\")"
   ]
  },
  {
   "cell_type": "code",
   "execution_count": 133,
   "metadata": {},
   "outputs": [
    {
     "data": {
      "text/plain": [
       "20"
      ]
     },
     "execution_count": 133,
     "metadata": {},
     "output_type": "execute_result"
    }
   ],
   "source": [
    "#メモリを軽くする\n",
    "import gc\n",
    " \n",
    "del result_cluster0\n",
    "del rf_cluster0\n",
    "del rf_cluster0_fe_im\n",
    "gc.collect()"
   ]
  },
  {
   "cell_type": "markdown",
   "metadata": {},
   "source": [
    "# クロスバリデーションによるハイパーパラメータのチューニング 上記のfeature importanceで行う"
   ]
  },
  {
   "cell_type": "code",
   "execution_count": 134,
   "metadata": {},
   "outputs": [],
   "source": [
    "#クロスバリデーションによるハイパーパラメータのチューニング\n",
    "rf_cluster0_gscv_fe_im = RandomForestRegressor(random_state=1234)"
   ]
  },
  {
   "cell_type": "code",
   "execution_count": 135,
   "metadata": {},
   "outputs": [],
   "source": [
    "params = {'n_estimators': [100, 150, 200], 'max_depth': [50, 100, 150]}"
   ]
  },
  {
   "cell_type": "code",
   "execution_count": 136,
   "metadata": {},
   "outputs": [],
   "source": [
    "## 注意: scikit-learnのバージョンが、0.18以降の場合は、scoring='neg_mean_squared_error'とします\n",
    "rf_cluster0_gscv_fe_im = GridSearchCV(rf_cluster0_gscv_fe_im, param_grid=params, verbose=1,\n",
    "                    cv=3, scoring='neg_mean_squared_error')\n",
    "\n",
    "# #注意: scikit-learnのバージョンが、0.17の場合は、scoring='mean_squared_error'とします\n",
    "# import sklearn\n",
    "# sklearn.__version__\n",
    "# gscv = GridSearchCV(rf, param_grid=params, verbose=1,\n",
    "#                     cv=3, scoring='mean_squared_error')"
   ]
  },
  {
   "cell_type": "code",
   "execution_count": 137,
   "metadata": {},
   "outputs": [
    {
     "name": "stdout",
     "output_type": "stream",
     "text": [
      "Fitting 3 folds for each of 9 candidates, totalling 27 fits\n"
     ]
    },
    {
     "name": "stderr",
     "output_type": "stream",
     "text": [
      "[Parallel(n_jobs=1)]: Using backend SequentialBackend with 1 concurrent workers.\n",
      "[Parallel(n_jobs=1)]: Done  27 out of  27 | elapsed: 234.3min finished\n"
     ]
    },
    {
     "data": {
      "text/plain": [
       "GridSearchCV(cv=3, error_score='raise-deprecating',\n",
       "             estimator=RandomForestRegressor(bootstrap=True, criterion='mse',\n",
       "                                             max_depth=None,\n",
       "                                             max_features='auto',\n",
       "                                             max_leaf_nodes=None,\n",
       "                                             min_impurity_decrease=0.0,\n",
       "                                             min_impurity_split=None,\n",
       "                                             min_samples_leaf=1,\n",
       "                                             min_samples_split=2,\n",
       "                                             min_weight_fraction_leaf=0.0,\n",
       "                                             n_estimators='warn', n_jobs=None,\n",
       "                                             oob_score=False, random_state=1234,\n",
       "                                             verbose=0, warm_start=False),\n",
       "             iid='warn', n_jobs=None,\n",
       "             param_grid={'max_depth': [50, 100, 150],\n",
       "                         'n_estimators': [100, 150, 200]},\n",
       "             pre_dispatch='2*n_jobs', refit=True, return_train_score=False,\n",
       "             scoring='neg_mean_squared_error', verbose=1)"
      ]
     },
     "execution_count": 137,
     "metadata": {},
     "output_type": "execute_result"
    }
   ],
   "source": [
    "rf_cluster0_gscv_fe_im.fit(X_train_all_cluster0_rf_fe_im, y_train_all_cluster0_rf_fe_im)"
   ]
  },
  {
   "cell_type": "code",
   "execution_count": 138,
   "metadata": {},
   "outputs": [
    {
     "data": {
      "text/plain": [
       "{'max_depth': 50, 'n_estimators': 200}"
      ]
     },
     "execution_count": 138,
     "metadata": {},
     "output_type": "execute_result"
    }
   ],
   "source": [
    "rf_cluster0_gscv_fe_im.best_params_"
   ]
  },
  {
   "cell_type": "code",
   "execution_count": 139,
   "metadata": {},
   "outputs": [
    {
     "data": {
      "text/plain": [
       "RandomForestRegressor(bootstrap=True, criterion='mse', max_depth=50,\n",
       "                      max_features='auto', max_leaf_nodes=None,\n",
       "                      min_impurity_decrease=0.0, min_impurity_split=None,\n",
       "                      min_samples_leaf=1, min_samples_split=2,\n",
       "                      min_weight_fraction_leaf=0.0, n_estimators=200,\n",
       "                      n_jobs=None, oob_score=False, random_state=1234,\n",
       "                      verbose=0, warm_start=False)"
      ]
     },
     "execution_count": 139,
     "metadata": {},
     "output_type": "execute_result"
    }
   ],
   "source": [
    "#train_all_fe_imデータで学習しなおす\n",
    "rf_cluster0_gscv_fe_im_tu_all = RandomForestRegressor(n_estimators=200, max_depth=50, random_state=1234)\n",
    "rf_cluster0_gscv_fe_im_tu_all.fit(X_train_all_cluster0_rf_fe_im, y_train_all_cluster0_rf_fe_im)"
   ]
  },
  {
   "cell_type": "code",
   "execution_count": 140,
   "metadata": {},
   "outputs": [],
   "source": [
    "#上記のrf_gscv_fe_im_tu_allで学習したモデルでtest_fe_imデータを予測する\n",
    "train_data_cluster0['pred_rf_gscv_fe_im_tu_all'] = rf_cluster0_gscv_fe_im_tu_all.predict(X_train_all_cluster0_rf_fe_im)\n",
    "test_data_cluster0['pred_rf_gscv_fe_im_tu_all'] = rf_cluster0_gscv_fe_im_tu_all.predict(X_test_cluster0_rf_fe_im)"
   ]
  },
  {
   "cell_type": "code",
   "execution_count": 141,
   "metadata": {},
   "outputs": [
    {
     "data": {
      "text/html": [
       "<div>\n",
       "<style scoped>\n",
       "    .dataframe tbody tr th:only-of-type {\n",
       "        vertical-align: middle;\n",
       "    }\n",
       "\n",
       "    .dataframe tbody tr th {\n",
       "        vertical-align: top;\n",
       "    }\n",
       "\n",
       "    .dataframe thead th {\n",
       "        text-align: right;\n",
       "    }\n",
       "</style>\n",
       "<table border=\"1\" class=\"dataframe\">\n",
       "  <thead>\n",
       "    <tr style=\"text-align: right;\">\n",
       "      <th></th>\n",
       "      <th>engine_no</th>\n",
       "      <th>time_in_cycles</th>\n",
       "      <th>op_setting_1</th>\n",
       "      <th>op_setting_2</th>\n",
       "      <th>op_setting_3</th>\n",
       "      <th>sensor_1</th>\n",
       "      <th>sensor_2</th>\n",
       "      <th>sensor_3</th>\n",
       "      <th>sensor_4</th>\n",
       "      <th>sensor_5</th>\n",
       "      <th>...</th>\n",
       "      <th>sensor_15</th>\n",
       "      <th>sensor_16</th>\n",
       "      <th>sensor_17</th>\n",
       "      <th>sensor_18</th>\n",
       "      <th>sensor_19</th>\n",
       "      <th>sensor_20</th>\n",
       "      <th>sensor_21</th>\n",
       "      <th>RUL</th>\n",
       "      <th>pred_rf_fe_im</th>\n",
       "      <th>pred_rf_gscv_fe_im_tu_all</th>\n",
       "    </tr>\n",
       "  </thead>\n",
       "  <tbody>\n",
       "    <tr>\n",
       "      <th>0</th>\n",
       "      <td>0</td>\n",
       "      <td>1</td>\n",
       "      <td>25.0074</td>\n",
       "      <td>0.6200</td>\n",
       "      <td>60.0</td>\n",
       "      <td>462.54</td>\n",
       "      <td>536.84</td>\n",
       "      <td>1256.52</td>\n",
       "      <td>1043.97</td>\n",
       "      <td>7.05</td>\n",
       "      <td>...</td>\n",
       "      <td>10.8850</td>\n",
       "      <td>0.02</td>\n",
       "      <td>306</td>\n",
       "      <td>1915</td>\n",
       "      <td>84.93</td>\n",
       "      <td>14.35</td>\n",
       "      <td>8.4712</td>\n",
       "      <td>339</td>\n",
       "      <td>231.5</td>\n",
       "      <td>267.035</td>\n",
       "    </tr>\n",
       "    <tr>\n",
       "      <th>1</th>\n",
       "      <td>0</td>\n",
       "      <td>2</td>\n",
       "      <td>35.0072</td>\n",
       "      <td>0.8413</td>\n",
       "      <td>100.0</td>\n",
       "      <td>449.44</td>\n",
       "      <td>555.44</td>\n",
       "      <td>1364.42</td>\n",
       "      <td>1128.75</td>\n",
       "      <td>5.48</td>\n",
       "      <td>...</td>\n",
       "      <td>9.2527</td>\n",
       "      <td>0.02</td>\n",
       "      <td>334</td>\n",
       "      <td>2223</td>\n",
       "      <td>100.00</td>\n",
       "      <td>14.88</td>\n",
       "      <td>8.9928</td>\n",
       "      <td>338</td>\n",
       "      <td>338.0</td>\n",
       "      <td>291.060</td>\n",
       "    </tr>\n",
       "    <tr>\n",
       "      <th>2</th>\n",
       "      <td>0</td>\n",
       "      <td>3</td>\n",
       "      <td>25.0053</td>\n",
       "      <td>0.6215</td>\n",
       "      <td>60.0</td>\n",
       "      <td>462.54</td>\n",
       "      <td>536.42</td>\n",
       "      <td>1265.94</td>\n",
       "      <td>1047.23</td>\n",
       "      <td>7.05</td>\n",
       "      <td>...</td>\n",
       "      <td>10.9054</td>\n",
       "      <td>0.02</td>\n",
       "      <td>307</td>\n",
       "      <td>1915</td>\n",
       "      <td>84.93</td>\n",
       "      <td>14.21</td>\n",
       "      <td>8.5107</td>\n",
       "      <td>337</td>\n",
       "      <td>291.8</td>\n",
       "      <td>260.865</td>\n",
       "    </tr>\n",
       "    <tr>\n",
       "      <th>3</th>\n",
       "      <td>0</td>\n",
       "      <td>4</td>\n",
       "      <td>42.0045</td>\n",
       "      <td>0.8407</td>\n",
       "      <td>100.0</td>\n",
       "      <td>445.00</td>\n",
       "      <td>549.41</td>\n",
       "      <td>1355.52</td>\n",
       "      <td>1115.81</td>\n",
       "      <td>3.91</td>\n",
       "      <td>...</td>\n",
       "      <td>9.3434</td>\n",
       "      <td>0.02</td>\n",
       "      <td>331</td>\n",
       "      <td>2212</td>\n",
       "      <td>100.00</td>\n",
       "      <td>10.63</td>\n",
       "      <td>6.4578</td>\n",
       "      <td>336</td>\n",
       "      <td>301.1</td>\n",
       "      <td>286.525</td>\n",
       "    </tr>\n",
       "    <tr>\n",
       "      <th>4</th>\n",
       "      <td>0</td>\n",
       "      <td>5</td>\n",
       "      <td>35.0046</td>\n",
       "      <td>0.8400</td>\n",
       "      <td>100.0</td>\n",
       "      <td>449.44</td>\n",
       "      <td>555.21</td>\n",
       "      <td>1361.04</td>\n",
       "      <td>1123.63</td>\n",
       "      <td>5.48</td>\n",
       "      <td>...</td>\n",
       "      <td>9.3287</td>\n",
       "      <td>0.02</td>\n",
       "      <td>334</td>\n",
       "      <td>2223</td>\n",
       "      <td>100.00</td>\n",
       "      <td>14.95</td>\n",
       "      <td>9.0279</td>\n",
       "      <td>335</td>\n",
       "      <td>264.4</td>\n",
       "      <td>270.795</td>\n",
       "    </tr>\n",
       "  </tbody>\n",
       "</table>\n",
       "<p>5 rows × 29 columns</p>\n",
       "</div>"
      ],
      "text/plain": [
       "   engine_no  time_in_cycles  op_setting_1  op_setting_2  op_setting_3  \\\n",
       "0          0               1       25.0074        0.6200          60.0   \n",
       "1          0               2       35.0072        0.8413         100.0   \n",
       "2          0               3       25.0053        0.6215          60.0   \n",
       "3          0               4       42.0045        0.8407         100.0   \n",
       "4          0               5       35.0046        0.8400         100.0   \n",
       "\n",
       "   sensor_1  sensor_2  sensor_3  sensor_4  sensor_5  ...  sensor_15  \\\n",
       "0    462.54    536.84   1256.52   1043.97      7.05  ...    10.8850   \n",
       "1    449.44    555.44   1364.42   1128.75      5.48  ...     9.2527   \n",
       "2    462.54    536.42   1265.94   1047.23      7.05  ...    10.9054   \n",
       "3    445.00    549.41   1355.52   1115.81      3.91  ...     9.3434   \n",
       "4    449.44    555.21   1361.04   1123.63      5.48  ...     9.3287   \n",
       "\n",
       "   sensor_16  sensor_17  sensor_18  sensor_19  sensor_20  sensor_21  RUL  \\\n",
       "0       0.02        306       1915      84.93      14.35     8.4712  339   \n",
       "1       0.02        334       2223     100.00      14.88     8.9928  338   \n",
       "2       0.02        307       1915      84.93      14.21     8.5107  337   \n",
       "3       0.02        331       2212     100.00      10.63     6.4578  336   \n",
       "4       0.02        334       2223     100.00      14.95     9.0279  335   \n",
       "\n",
       "   pred_rf_fe_im  pred_rf_gscv_fe_im_tu_all  \n",
       "0          231.5                    267.035  \n",
       "1          338.0                    291.060  \n",
       "2          291.8                    260.865  \n",
       "3          301.1                    286.525  \n",
       "4          264.4                    270.795  \n",
       "\n",
       "[5 rows x 29 columns]"
      ]
     },
     "execution_count": 141,
     "metadata": {},
     "output_type": "execute_result"
    }
   ],
   "source": [
    "train_data_cluster0.head()"
   ]
  },
  {
   "cell_type": "code",
   "execution_count": 142,
   "metadata": {},
   "outputs": [
    {
     "data": {
      "text/html": [
       "<div>\n",
       "<style scoped>\n",
       "    .dataframe tbody tr th:only-of-type {\n",
       "        vertical-align: middle;\n",
       "    }\n",
       "\n",
       "    .dataframe tbody tr th {\n",
       "        vertical-align: top;\n",
       "    }\n",
       "\n",
       "    .dataframe thead th {\n",
       "        text-align: right;\n",
       "    }\n",
       "</style>\n",
       "<table border=\"1\" class=\"dataframe\">\n",
       "  <thead>\n",
       "    <tr style=\"text-align: right;\">\n",
       "      <th></th>\n",
       "      <th>engine_no</th>\n",
       "      <th>time_in_cycles</th>\n",
       "      <th>op_setting_1</th>\n",
       "      <th>op_setting_2</th>\n",
       "      <th>op_setting_3</th>\n",
       "      <th>sensor_1</th>\n",
       "      <th>sensor_2</th>\n",
       "      <th>sensor_3</th>\n",
       "      <th>sensor_4</th>\n",
       "      <th>sensor_5</th>\n",
       "      <th>...</th>\n",
       "      <th>sensor_15</th>\n",
       "      <th>sensor_16</th>\n",
       "      <th>sensor_17</th>\n",
       "      <th>sensor_18</th>\n",
       "      <th>sensor_19</th>\n",
       "      <th>sensor_20</th>\n",
       "      <th>sensor_21</th>\n",
       "      <th>pred_rf</th>\n",
       "      <th>pred_rf_fe_im</th>\n",
       "      <th>pred_rf_gscv_fe_im_tu_all</th>\n",
       "    </tr>\n",
       "  </thead>\n",
       "  <tbody>\n",
       "    <tr>\n",
       "      <th>0</th>\n",
       "      <td>0</td>\n",
       "      <td>1</td>\n",
       "      <td>42.0034</td>\n",
       "      <td>0.8400</td>\n",
       "      <td>100.0</td>\n",
       "      <td>445.00</td>\n",
       "      <td>549.36</td>\n",
       "      <td>1342.05</td>\n",
       "      <td>1124.56</td>\n",
       "      <td>3.91</td>\n",
       "      <td>...</td>\n",
       "      <td>9.3092</td>\n",
       "      <td>0.02</td>\n",
       "      <td>329</td>\n",
       "      <td>2212</td>\n",
       "      <td>100.0</td>\n",
       "      <td>10.69</td>\n",
       "      <td>6.3956</td>\n",
       "      <td>193.2</td>\n",
       "      <td>182.0</td>\n",
       "      <td>190.055</td>\n",
       "    </tr>\n",
       "    <tr>\n",
       "      <th>1</th>\n",
       "      <td>0</td>\n",
       "      <td>2</td>\n",
       "      <td>42.0017</td>\n",
       "      <td>0.8400</td>\n",
       "      <td>100.0</td>\n",
       "      <td>445.00</td>\n",
       "      <td>548.83</td>\n",
       "      <td>1351.93</td>\n",
       "      <td>1116.28</td>\n",
       "      <td>3.91</td>\n",
       "      <td>...</td>\n",
       "      <td>9.3450</td>\n",
       "      <td>0.02</td>\n",
       "      <td>331</td>\n",
       "      <td>2212</td>\n",
       "      <td>100.0</td>\n",
       "      <td>10.55</td>\n",
       "      <td>6.3775</td>\n",
       "      <td>188.2</td>\n",
       "      <td>169.8</td>\n",
       "      <td>172.300</td>\n",
       "    </tr>\n",
       "    <tr>\n",
       "      <th>2</th>\n",
       "      <td>0</td>\n",
       "      <td>3</td>\n",
       "      <td>0.0028</td>\n",
       "      <td>0.0019</td>\n",
       "      <td>100.0</td>\n",
       "      <td>518.67</td>\n",
       "      <td>642.35</td>\n",
       "      <td>1583.74</td>\n",
       "      <td>1400.44</td>\n",
       "      <td>14.62</td>\n",
       "      <td>...</td>\n",
       "      <td>8.3840</td>\n",
       "      <td>0.03</td>\n",
       "      <td>392</td>\n",
       "      <td>2388</td>\n",
       "      <td>100.0</td>\n",
       "      <td>38.85</td>\n",
       "      <td>23.3483</td>\n",
       "      <td>171.4</td>\n",
       "      <td>159.3</td>\n",
       "      <td>167.590</td>\n",
       "    </tr>\n",
       "    <tr>\n",
       "      <th>3</th>\n",
       "      <td>0</td>\n",
       "      <td>4</td>\n",
       "      <td>42.0047</td>\n",
       "      <td>0.8400</td>\n",
       "      <td>100.0</td>\n",
       "      <td>445.00</td>\n",
       "      <td>549.69</td>\n",
       "      <td>1354.36</td>\n",
       "      <td>1125.55</td>\n",
       "      <td>3.91</td>\n",
       "      <td>...</td>\n",
       "      <td>9.3852</td>\n",
       "      <td>0.02</td>\n",
       "      <td>330</td>\n",
       "      <td>2212</td>\n",
       "      <td>100.0</td>\n",
       "      <td>10.56</td>\n",
       "      <td>6.4871</td>\n",
       "      <td>156.5</td>\n",
       "      <td>157.4</td>\n",
       "      <td>153.850</td>\n",
       "    </tr>\n",
       "    <tr>\n",
       "      <th>4</th>\n",
       "      <td>0</td>\n",
       "      <td>5</td>\n",
       "      <td>10.0058</td>\n",
       "      <td>0.2506</td>\n",
       "      <td>100.0</td>\n",
       "      <td>489.05</td>\n",
       "      <td>604.72</td>\n",
       "      <td>1496.65</td>\n",
       "      <td>1310.52</td>\n",
       "      <td>10.52</td>\n",
       "      <td>...</td>\n",
       "      <td>8.6074</td>\n",
       "      <td>0.03</td>\n",
       "      <td>370</td>\n",
       "      <td>2319</td>\n",
       "      <td>100.0</td>\n",
       "      <td>28.78</td>\n",
       "      <td>17.1987</td>\n",
       "      <td>159.9</td>\n",
       "      <td>160.7</td>\n",
       "      <td>157.270</td>\n",
       "    </tr>\n",
       "  </tbody>\n",
       "</table>\n",
       "<p>5 rows × 29 columns</p>\n",
       "</div>"
      ],
      "text/plain": [
       "   engine_no  time_in_cycles  op_setting_1  op_setting_2  op_setting_3  \\\n",
       "0          0               1       42.0034        0.8400         100.0   \n",
       "1          0               2       42.0017        0.8400         100.0   \n",
       "2          0               3        0.0028        0.0019         100.0   \n",
       "3          0               4       42.0047        0.8400         100.0   \n",
       "4          0               5       10.0058        0.2506         100.0   \n",
       "\n",
       "   sensor_1  sensor_2  sensor_3  sensor_4  sensor_5  ...  sensor_15  \\\n",
       "0    445.00    549.36   1342.05   1124.56      3.91  ...     9.3092   \n",
       "1    445.00    548.83   1351.93   1116.28      3.91  ...     9.3450   \n",
       "2    518.67    642.35   1583.74   1400.44     14.62  ...     8.3840   \n",
       "3    445.00    549.69   1354.36   1125.55      3.91  ...     9.3852   \n",
       "4    489.05    604.72   1496.65   1310.52     10.52  ...     8.6074   \n",
       "\n",
       "   sensor_16  sensor_17  sensor_18  sensor_19  sensor_20  sensor_21  pred_rf  \\\n",
       "0       0.02        329       2212      100.0      10.69     6.3956    193.2   \n",
       "1       0.02        331       2212      100.0      10.55     6.3775    188.2   \n",
       "2       0.03        392       2388      100.0      38.85    23.3483    171.4   \n",
       "3       0.02        330       2212      100.0      10.56     6.4871    156.5   \n",
       "4       0.03        370       2319      100.0      28.78    17.1987    159.9   \n",
       "\n",
       "   pred_rf_fe_im  pred_rf_gscv_fe_im_tu_all  \n",
       "0          182.0                    190.055  \n",
       "1          169.8                    172.300  \n",
       "2          159.3                    167.590  \n",
       "3          157.4                    153.850  \n",
       "4          160.7                    157.270  \n",
       "\n",
       "[5 rows x 29 columns]"
      ]
     },
     "execution_count": 142,
     "metadata": {},
     "output_type": "execute_result"
    }
   ],
   "source": [
    "test_data_cluster0.head()"
   ]
  },
  {
   "cell_type": "code",
   "execution_count": 143,
   "metadata": {},
   "outputs": [],
   "source": [
    "#結果表の作成 \n",
    "train_data_cluster0 = train_data_cluster0.sort_values(['engine_no', 'time_in_cycles'])\n",
    "test_data_cluster0 = test_data_cluster0.sort_values(['engine_no', 'time_in_cycles'])\n",
    "\n",
    "#test_dataの各engineの最後のサイクルの行のみを表示　列は'engine_no', 'pred_rf_gscv_all'のみ\n",
    "result_cluster0_rf_gscv_fe_im_tu = test_data_cluster0.groupby('engine_no').last().reset_index()[['engine_no', 'pred_rf_gscv_fe_im_tu_all']]\n",
    "\n"
   ]
  },
  {
   "cell_type": "code",
   "execution_count": 144,
   "metadata": {},
   "outputs": [
    {
     "data": {
      "text/html": [
       "<div>\n",
       "<style scoped>\n",
       "    .dataframe tbody tr th:only-of-type {\n",
       "        vertical-align: middle;\n",
       "    }\n",
       "\n",
       "    .dataframe tbody tr th {\n",
       "        vertical-align: top;\n",
       "    }\n",
       "\n",
       "    .dataframe thead th {\n",
       "        text-align: right;\n",
       "    }\n",
       "</style>\n",
       "<table border=\"1\" class=\"dataframe\">\n",
       "  <thead>\n",
       "    <tr style=\"text-align: right;\">\n",
       "      <th></th>\n",
       "      <th>engine_no</th>\n",
       "      <th>pred_rf_gscv_fe_im_tu_all</th>\n",
       "    </tr>\n",
       "  </thead>\n",
       "  <tbody>\n",
       "    <tr>\n",
       "      <th>0</th>\n",
       "      <td>0</td>\n",
       "      <td>28.605</td>\n",
       "    </tr>\n",
       "    <tr>\n",
       "      <th>1</th>\n",
       "      <td>1</td>\n",
       "      <td>29.490</td>\n",
       "    </tr>\n",
       "    <tr>\n",
       "      <th>2</th>\n",
       "      <td>2</td>\n",
       "      <td>169.705</td>\n",
       "    </tr>\n",
       "    <tr>\n",
       "      <th>3</th>\n",
       "      <td>3</td>\n",
       "      <td>120.165</td>\n",
       "    </tr>\n",
       "    <tr>\n",
       "      <th>4</th>\n",
       "      <td>4</td>\n",
       "      <td>9.340</td>\n",
       "    </tr>\n",
       "  </tbody>\n",
       "</table>\n",
       "</div>"
      ],
      "text/plain": [
       "   engine_no  pred_rf_gscv_fe_im_tu_all\n",
       "0          0                     28.605\n",
       "1          1                     29.490\n",
       "2          2                    169.705\n",
       "3          3                    120.165\n",
       "4          4                      9.340"
      ]
     },
     "execution_count": 144,
     "metadata": {},
     "output_type": "execute_result"
    }
   ],
   "source": [
    "result_cluster0_rf_gscv_fe_im_tu.head()"
   ]
  },
  {
   "cell_type": "code",
   "execution_count": 145,
   "metadata": {},
   "outputs": [],
   "source": [
    "# pred_rf_gscv_all<100の時、つまり予測した残りの寿命サイクルが100より小さければ1 それ以外で0とする\n",
    "result_cluster0_rf_gscv_fe_im_tu['result'] = result_cluster0_rf_gscv_fe_im_tu['pred_rf_gscv_fe_im_tu_all']\\\n",
    ".map(lambda x: 0 if x > 100 else 1)"
   ]
  },
  {
   "cell_type": "code",
   "execution_count": 146,
   "metadata": {},
   "outputs": [
    {
     "data": {
      "text/html": [
       "<div>\n",
       "<style scoped>\n",
       "    .dataframe tbody tr th:only-of-type {\n",
       "        vertical-align: middle;\n",
       "    }\n",
       "\n",
       "    .dataframe tbody tr th {\n",
       "        vertical-align: top;\n",
       "    }\n",
       "\n",
       "    .dataframe thead th {\n",
       "        text-align: right;\n",
       "    }\n",
       "</style>\n",
       "<table border=\"1\" class=\"dataframe\">\n",
       "  <thead>\n",
       "    <tr style=\"text-align: right;\">\n",
       "      <th></th>\n",
       "      <th>engine_no</th>\n",
       "      <th>pred_rf_gscv_fe_im_tu_all</th>\n",
       "      <th>result</th>\n",
       "    </tr>\n",
       "  </thead>\n",
       "  <tbody>\n",
       "    <tr>\n",
       "      <th>0</th>\n",
       "      <td>0</td>\n",
       "      <td>28.605</td>\n",
       "      <td>1</td>\n",
       "    </tr>\n",
       "    <tr>\n",
       "      <th>1</th>\n",
       "      <td>1</td>\n",
       "      <td>29.490</td>\n",
       "      <td>1</td>\n",
       "    </tr>\n",
       "    <tr>\n",
       "      <th>2</th>\n",
       "      <td>2</td>\n",
       "      <td>169.705</td>\n",
       "      <td>0</td>\n",
       "    </tr>\n",
       "    <tr>\n",
       "      <th>3</th>\n",
       "      <td>3</td>\n",
       "      <td>120.165</td>\n",
       "      <td>0</td>\n",
       "    </tr>\n",
       "    <tr>\n",
       "      <th>4</th>\n",
       "      <td>4</td>\n",
       "      <td>9.340</td>\n",
       "      <td>1</td>\n",
       "    </tr>\n",
       "  </tbody>\n",
       "</table>\n",
       "</div>"
      ],
      "text/plain": [
       "   engine_no  pred_rf_gscv_fe_im_tu_all  result\n",
       "0          0                     28.605       1\n",
       "1          1                     29.490       1\n",
       "2          2                    169.705       0\n",
       "3          3                    120.165       0\n",
       "4          4                      9.340       1"
      ]
     },
     "execution_count": 146,
     "metadata": {},
     "output_type": "execute_result"
    }
   ],
   "source": [
    "result_cluster0_rf_gscv_fe_im_tu.head()"
   ]
  },
  {
   "cell_type": "code",
   "execution_count": 147,
   "metadata": {},
   "outputs": [],
   "source": [
    "#csvで結果の保存\n",
    "result_cluster0_rf_gscv_fe_im_tu[['engine_no', 'result']].to_csv('Desktop/インテグ課題/NASA/cluster0_submission3.csv', index=False)"
   ]
  },
  {
   "cell_type": "markdown",
   "metadata": {},
   "source": [
    "# 上記で読み込んだtest_data_RUL_cluster0を使用する"
   ]
  },
  {
   "cell_type": "code",
   "execution_count": 71,
   "metadata": {},
   "outputs": [
    {
     "data": {
      "text/html": [
       "<div>\n",
       "<style scoped>\n",
       "    .dataframe tbody tr th:only-of-type {\n",
       "        vertical-align: middle;\n",
       "    }\n",
       "\n",
       "    .dataframe tbody tr th {\n",
       "        vertical-align: top;\n",
       "    }\n",
       "\n",
       "    .dataframe thead th {\n",
       "        text-align: right;\n",
       "    }\n",
       "</style>\n",
       "<table border=\"1\" class=\"dataframe\">\n",
       "  <thead>\n",
       "    <tr style=\"text-align: right;\">\n",
       "      <th></th>\n",
       "      <th>engine_no</th>\n",
       "      <th>RUL</th>\n",
       "      <th>result</th>\n",
       "    </tr>\n",
       "  </thead>\n",
       "  <tbody>\n",
       "    <tr>\n",
       "      <th>0</th>\n",
       "      <td>0</td>\n",
       "      <td>22</td>\n",
       "      <td>1</td>\n",
       "    </tr>\n",
       "    <tr>\n",
       "      <th>1</th>\n",
       "      <td>1</td>\n",
       "      <td>12</td>\n",
       "      <td>1</td>\n",
       "    </tr>\n",
       "    <tr>\n",
       "      <th>2</th>\n",
       "      <td>2</td>\n",
       "      <td>108</td>\n",
       "      <td>0</td>\n",
       "    </tr>\n",
       "    <tr>\n",
       "      <th>3</th>\n",
       "      <td>3</td>\n",
       "      <td>88</td>\n",
       "      <td>1</td>\n",
       "    </tr>\n",
       "    <tr>\n",
       "      <th>4</th>\n",
       "      <td>4</td>\n",
       "      <td>10</td>\n",
       "      <td>1</td>\n",
       "    </tr>\n",
       "  </tbody>\n",
       "</table>\n",
       "</div>"
      ],
      "text/plain": [
       "   engine_no  RUL  result\n",
       "0          0   22       1\n",
       "1          1   12       1\n",
       "2          2  108       0\n",
       "3          3   88       1\n",
       "4          4   10       1"
      ]
     },
     "execution_count": 71,
     "metadata": {},
     "output_type": "execute_result"
    }
   ],
   "source": [
    "test_data_RUL_cluster0.head()"
   ]
  },
  {
   "cell_type": "markdown",
   "metadata": {},
   "source": [
    "# train_allで学習しtestデータで出した予測値と、実際の答えで混合行列を作成"
   ]
  },
  {
   "cell_type": "code",
   "execution_count": 72,
   "metadata": {},
   "outputs": [
    {
     "name": "stdout",
     "output_type": "stream",
     "text": [
      "249\n",
      "258\n"
     ]
    }
   ],
   "source": [
    "print((result_cluster0_rf_gscv_fe_im_tu['result'] == 1).sum())\n",
    "print((result_cluster0_rf_gscv_fe_im_tu['result'] == 0).sum())"
   ]
  },
  {
   "cell_type": "code",
   "execution_count": 73,
   "metadata": {},
   "outputs": [
    {
     "name": "stdout",
     "output_type": "stream",
     "text": [
      "315\n",
      "192\n"
     ]
    }
   ],
   "source": [
    "print((test_data_RUL_cluster0['result'] == 1).sum())\n",
    "print((test_data_RUL_cluster0['result'] == 0).sum())"
   ]
  },
  {
   "cell_type": "markdown",
   "metadata": {},
   "source": [
    "# 100以内に故障するを1,しないを0としている 故障することを当てたいから、故障する1をpositiveと定義する。"
   ]
  },
  {
   "cell_type": "code",
   "execution_count": 74,
   "metadata": {},
   "outputs": [],
   "source": [
    "#混合行列\n",
    "#1 = Positive,0 = Negativeとする　なぜならば、再現率などがpositiveで計算されるので、故障するをpositiveにする\n",
    "#labels指定をしないと、左から0,1表記になるので、TPが右下になってしまう。\n",
    "cm = confusion_matrix(test_data_RUL_cluster0['result'],result_cluster0_rf_gscv_fe_im_tu['result'],labels=[1, 0] )"
   ]
  },
  {
   "cell_type": "code",
   "execution_count": 75,
   "metadata": {},
   "outputs": [
    {
     "data": {
      "text/plain": [
       "array([[235,  80],\n",
       "       [ 14, 178]], dtype=int64)"
      ]
     },
     "execution_count": 75,
     "metadata": {},
     "output_type": "execute_result"
    }
   ],
   "source": [
    "cm"
   ]
  },
  {
   "cell_type": "markdown",
   "metadata": {},
   "source": [
    "# 列が予測の1と0行が実際の1と0つまり、真陽性 : TP (True-Positive)233、真陰性: TN (True-Negative)177、偽陽性: FP (False-Positive)15(故障していないのにしていると予測)、偽陰性: FN (False-Negative)82(実際は故障しているのに故障していないと予測)\n",
    "#https://pythondatascience.plavox.info/scikit-learn/%E5%88%86%E9%A1%9E%E7%B5%90%E6%9E%9C%E3%81%AE%E3%83%A2%E3%83%87%E3%83%AB%E8%A9%95%E4%BE%A1\n",
    "#FN (False-Negative)82を少なくしたい　つまり実際は故障だが、故障しないと判断してしまっているものを"
   ]
  },
  {
   "cell_type": "code",
   "execution_count": 76,
   "metadata": {},
   "outputs": [
    {
     "name": "stdout",
     "output_type": "stream",
     "text": [
      "              precision    recall  f1-score   support\n",
      "\n",
      "           1       0.94      0.75      0.83       315\n",
      "           0       0.69      0.93      0.79       192\n",
      "\n",
      "    accuracy                           0.81       507\n",
      "   macro avg       0.82      0.84      0.81       507\n",
      "weighted avg       0.85      0.81      0.82       507\n",
      "\n"
     ]
    }
   ],
   "source": [
    "#混合行列まとめて表示\n",
    "cr = classification_report(test_data_RUL_cluster0['result'],result_cluster0_rf_gscv_fe_im_tu['result'],labels=[1, 0] )\n",
    "print(cr)"
   ]
  },
  {
   "cell_type": "markdown",
   "metadata": {},
   "source": [
    "# labelsを付けた時の計算が上記のまとめて表示の1の方　labelsをつけなかったときの計算が下の方"
   ]
  },
  {
   "cell_type": "markdown",
   "metadata": {},
   "source": [
    "# #再現率を上げたい　実際の故障のうち故障と予測できたもの"
   ]
  },
  {
   "cell_type": "code",
   "execution_count": 77,
   "metadata": {},
   "outputs": [
    {
     "data": {
      "text/html": [
       "<div>\n",
       "<style scoped>\n",
       "    .dataframe tbody tr th:only-of-type {\n",
       "        vertical-align: middle;\n",
       "    }\n",
       "\n",
       "    .dataframe tbody tr th {\n",
       "        vertical-align: top;\n",
       "    }\n",
       "\n",
       "    .dataframe thead th {\n",
       "        text-align: right;\n",
       "    }\n",
       "</style>\n",
       "<table border=\"1\" class=\"dataframe\">\n",
       "  <thead>\n",
       "    <tr style=\"text-align: right;\">\n",
       "      <th></th>\n",
       "      <th>importance</th>\n",
       "    </tr>\n",
       "  </thead>\n",
       "  <tbody>\n",
       "    <tr>\n",
       "      <th>sensor_13</th>\n",
       "      <td>0.235974</td>\n",
       "    </tr>\n",
       "    <tr>\n",
       "      <th>sensor_11</th>\n",
       "      <td>0.177544</td>\n",
       "    </tr>\n",
       "    <tr>\n",
       "      <th>sensor_15</th>\n",
       "      <td>0.126637</td>\n",
       "    </tr>\n",
       "    <tr>\n",
       "      <th>sensor_4</th>\n",
       "      <td>0.065290</td>\n",
       "    </tr>\n",
       "    <tr>\n",
       "      <th>sensor_9</th>\n",
       "      <td>0.049040</td>\n",
       "    </tr>\n",
       "    <tr>\n",
       "      <th>sensor_6</th>\n",
       "      <td>0.044336</td>\n",
       "    </tr>\n",
       "    <tr>\n",
       "      <th>sensor_14</th>\n",
       "      <td>0.038726</td>\n",
       "    </tr>\n",
       "    <tr>\n",
       "      <th>sensor_2</th>\n",
       "      <td>0.035838</td>\n",
       "    </tr>\n",
       "    <tr>\n",
       "      <th>sensor_7</th>\n",
       "      <td>0.034764</td>\n",
       "    </tr>\n",
       "    <tr>\n",
       "      <th>sensor_12</th>\n",
       "      <td>0.034251</td>\n",
       "    </tr>\n",
       "    <tr>\n",
       "      <th>sensor_3</th>\n",
       "      <td>0.031052</td>\n",
       "    </tr>\n",
       "    <tr>\n",
       "      <th>sensor_21</th>\n",
       "      <td>0.028554</td>\n",
       "    </tr>\n",
       "    <tr>\n",
       "      <th>sensor_8</th>\n",
       "      <td>0.028077</td>\n",
       "    </tr>\n",
       "    <tr>\n",
       "      <th>op_setting_1</th>\n",
       "      <td>0.024183</td>\n",
       "    </tr>\n",
       "    <tr>\n",
       "      <th>sensor_20</th>\n",
       "      <td>0.023326</td>\n",
       "    </tr>\n",
       "    <tr>\n",
       "      <th>op_setting_2</th>\n",
       "      <td>0.012261</td>\n",
       "    </tr>\n",
       "    <tr>\n",
       "      <th>sensor_17</th>\n",
       "      <td>0.010148</td>\n",
       "    </tr>\n",
       "  </tbody>\n",
       "</table>\n",
       "</div>"
      ],
      "text/plain": [
       "              importance\n",
       "sensor_13       0.235974\n",
       "sensor_11       0.177544\n",
       "sensor_15       0.126637\n",
       "sensor_4        0.065290\n",
       "sensor_9        0.049040\n",
       "sensor_6        0.044336\n",
       "sensor_14       0.038726\n",
       "sensor_2        0.035838\n",
       "sensor_7        0.034764\n",
       "sensor_12       0.034251\n",
       "sensor_3        0.031052\n",
       "sensor_21       0.028554\n",
       "sensor_8        0.028077\n",
       "op_setting_1    0.024183\n",
       "sensor_20       0.023326\n",
       "op_setting_2    0.012261\n",
       "sensor_17       0.010148"
      ]
     },
     "execution_count": 77,
     "metadata": {},
     "output_type": "execute_result"
    }
   ],
   "source": [
    "#特徴量の重要度を算出\n",
    "feature_importances_cluster0_rf_gscv_fe_im_tu = rf_cluster0_gscv_fe_im_tu_all.feature_importances_\n",
    "\n",
    "\n",
    "feature_importances_cluster0_rf_gscv_fe_im_tu = \\\n",
    "    pd.DataFrame(rf_cluster0_gscv_fe_im_tu_all.feature_importances_, columns=[\"importance\"], index=selected_features)\n",
    "feature_importances_cluster0_rf_gscv_fe_im_tu.sort_values(\"importance\", ascending=False)\n",
    "\n",
    "#全部足すと100% 縦軸で\n",
    "#これでは重要度はわかるが、回帰のように上がる下がるなど関係性はわからない"
   ]
  },
  {
   "cell_type": "code",
   "execution_count": 78,
   "metadata": {},
   "outputs": [
    {
     "data": {
      "text/plain": [
       "<matplotlib.axes._subplots.AxesSubplot at 0x1448a6b4668>"
      ]
     },
     "execution_count": 78,
     "metadata": {},
     "output_type": "execute_result"
    },
    {
     "data": {
      "image/png": "[encoded data removed]",
      "text/plain": [
       "<Figure size 432x288 with 1 Axes>"
      ]
     },
     "metadata": {
      "needs_background": "light"
     },
     "output_type": "display_data"
    }
   ],
   "source": [
    "feature_importances_cluster0_rf_gscv_fe_im_tu.sort_values(\"importance\", ascending=False).plot(kind=\"bar\")"
   ]
  },
  {
   "cell_type": "markdown",
   "metadata": {},
   "source": [
    "# 結果をtrain_data_cluster0_pred、test_data_cluster0_predとして出力する"
   ]
  },
  {
   "cell_type": "code",
   "execution_count": 79,
   "metadata": {},
   "outputs": [],
   "source": [
    "# cluster0のデータの予測結果追加を出力\n",
    "train_data_cluster0.to_csv('Desktop/インテグ課題/NASA/train_data/train_data_cluster0_pred.csv', index=False)\n",
    "test_data_cluster0.to_csv('Desktop/インテグ課題/NASA/test_data/test_data_cluster0_pred.csv', index=False)"
   ]
  },
  {
   "cell_type": "code",
   "execution_count": 392,
   "metadata": {},
   "outputs": [],
   "source": [
    "# cluster0の分けたデータの予測結果追加を読み込み\n",
    "train_data_cluster0_pred = pd.read_csv('Desktop/インテグ課題/NASA/train_data/train_data_cluster0_pred.csv')\n",
    "test_data_cluster0_pred = pd.read_csv('Desktop/インテグ課題/NASA/test_data/test_data_cluster0_pred.csv')"
   ]
  }
 ],
 "metadata": {
  "kernelspec": {
   "display_name": "Python 3",
   "language": "python",
   "name": "python3"
  },
  "language_info": {
   "codemirror_mode": {
    "name": "ipython",
    "version": 3
   },
   "file_extension": ".py",
   "mimetype": "text/x-python",
   "name": "python",
   "nbconvert_exporter": "python",
   "pygments_lexer": "ipython3",
   "version": "3.7.3"
  }
 },
 "nbformat": 4,
 "nbformat_minor": 2
}

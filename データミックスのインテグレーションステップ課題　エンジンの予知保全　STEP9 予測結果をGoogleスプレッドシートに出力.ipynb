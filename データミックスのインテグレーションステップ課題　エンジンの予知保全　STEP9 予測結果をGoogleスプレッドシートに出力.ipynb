{
 "cells": [
  {
   "cell_type": "markdown",
   "metadata": {},
   "source": [
    "# 予測精度の最も良いランダムフォレストの予測結果を、Googleスプレッドシートに出力する"
   ]
  },
  {
   "cell_type": "code",
   "execution_count": 1,
   "metadata": {},
   "outputs": [],
   "source": [
    "%matplotlib inline\n",
    "import matplotlib\n",
    "import matplotlib.pyplot as plt\n",
    "import numpy as np\n",
    "import pandas as pd\n",
    "from sklearn.linear_model import LinearRegression\n",
    "from sklearn.tree import DecisionTreeRegressor\n",
    "from sklearn.ensemble import RandomForestRegressor\n",
    "from sklearn.model_selection import GridSearchCV\n",
    "from sklearn.model_selection import train_test_split\n",
    "from sklearn.metrics import mean_squared_error\n",
    "\n",
    "from sklearn.metrics import confusion_matrix, accuracy_score,precision_score,recall_score, f1_score,classification_report\n",
    "from random import randint, shuffle\n",
    "import os\n",
    "import seaborn as sns\n",
    "\n",
    "\n"
   ]
  },
  {
   "cell_type": "code",
   "execution_count": 2,
   "metadata": {},
   "outputs": [],
   "source": [
    "# 予測した結果を読み込む\n",
    "randomforest_result = pd.read_csv('Desktop/インテグ課題/NASA/submission3.csv')"
   ]
  },
  {
   "cell_type": "code",
   "execution_count": 3,
   "metadata": {},
   "outputs": [
    {
     "data": {
      "text/html": [
       "<div>\n",
       "<style scoped>\n",
       "    .dataframe tbody tr th:only-of-type {\n",
       "        vertical-align: middle;\n",
       "    }\n",
       "\n",
       "    .dataframe tbody tr th {\n",
       "        vertical-align: top;\n",
       "    }\n",
       "\n",
       "    .dataframe thead th {\n",
       "        text-align: right;\n",
       "    }\n",
       "</style>\n",
       "<table border=\"1\" class=\"dataframe\">\n",
       "  <thead>\n",
       "    <tr style=\"text-align: right;\">\n",
       "      <th></th>\n",
       "      <th>engine_no</th>\n",
       "      <th>result</th>\n",
       "    </tr>\n",
       "  </thead>\n",
       "  <tbody>\n",
       "    <tr>\n",
       "      <th>0</th>\n",
       "      <td>0</td>\n",
       "      <td>1</td>\n",
       "    </tr>\n",
       "    <tr>\n",
       "      <th>1</th>\n",
       "      <td>1</td>\n",
       "      <td>1</td>\n",
       "    </tr>\n",
       "    <tr>\n",
       "      <th>2</th>\n",
       "      <td>2</td>\n",
       "      <td>0</td>\n",
       "    </tr>\n",
       "    <tr>\n",
       "      <th>3</th>\n",
       "      <td>3</td>\n",
       "      <td>0</td>\n",
       "    </tr>\n",
       "    <tr>\n",
       "      <th>4</th>\n",
       "      <td>4</td>\n",
       "      <td>1</td>\n",
       "    </tr>\n",
       "  </tbody>\n",
       "</table>\n",
       "</div>"
      ],
      "text/plain": [
       "   engine_no  result\n",
       "0          0       1\n",
       "1          1       1\n",
       "2          2       0\n",
       "3          3       0\n",
       "4          4       1"
      ]
     },
     "execution_count": 3,
     "metadata": {},
     "output_type": "execute_result"
    }
   ],
   "source": [
    "randomforest_result.head()"
   ]
  },
  {
   "cell_type": "code",
   "execution_count": 4,
   "metadata": {},
   "outputs": [],
   "source": [
    "#result=1のみ取り出す\n",
    "google_sp = randomforest_result[randomforest_result['result'] == 1]"
   ]
  },
  {
   "cell_type": "code",
   "execution_count": 5,
   "metadata": {},
   "outputs": [
    {
     "data": {
      "text/html": [
       "<div>\n",
       "<style scoped>\n",
       "    .dataframe tbody tr th:only-of-type {\n",
       "        vertical-align: middle;\n",
       "    }\n",
       "\n",
       "    .dataframe tbody tr th {\n",
       "        vertical-align: top;\n",
       "    }\n",
       "\n",
       "    .dataframe thead th {\n",
       "        text-align: right;\n",
       "    }\n",
       "</style>\n",
       "<table border=\"1\" class=\"dataframe\">\n",
       "  <thead>\n",
       "    <tr style=\"text-align: right;\">\n",
       "      <th></th>\n",
       "      <th>engine_no</th>\n",
       "      <th>result</th>\n",
       "    </tr>\n",
       "  </thead>\n",
       "  <tbody>\n",
       "    <tr>\n",
       "      <th>0</th>\n",
       "      <td>0</td>\n",
       "      <td>1</td>\n",
       "    </tr>\n",
       "    <tr>\n",
       "      <th>1</th>\n",
       "      <td>1</td>\n",
       "      <td>1</td>\n",
       "    </tr>\n",
       "    <tr>\n",
       "      <th>4</th>\n",
       "      <td>4</td>\n",
       "      <td>1</td>\n",
       "    </tr>\n",
       "    <tr>\n",
       "      <th>7</th>\n",
       "      <td>7</td>\n",
       "      <td>1</td>\n",
       "    </tr>\n",
       "    <tr>\n",
       "      <th>8</th>\n",
       "      <td>8</td>\n",
       "      <td>1</td>\n",
       "    </tr>\n",
       "  </tbody>\n",
       "</table>\n",
       "</div>"
      ],
      "text/plain": [
       "   engine_no  result\n",
       "0          0       1\n",
       "1          1       1\n",
       "4          4       1\n",
       "7          7       1\n",
       "8          8       1"
      ]
     },
     "execution_count": 5,
     "metadata": {},
     "output_type": "execute_result"
    }
   ],
   "source": [
    "google_sp.head()"
   ]
  },
  {
   "cell_type": "code",
   "execution_count": 6,
   "metadata": {},
   "outputs": [
    {
     "data": {
      "text/plain": [
       "342"
      ]
     },
     "execution_count": 6,
     "metadata": {},
     "output_type": "execute_result"
    }
   ],
   "source": [
    "google_sp.shape[0]"
   ]
  },
  {
   "cell_type": "code",
   "execution_count": 135,
   "metadata": {},
   "outputs": [],
   "source": [
    "import gspread\n",
    "from oauth2client.service_account import ServiceAccountCredentials\n",
    " \n",
    "scope = ['スプレッドシートのURL']\n",
    " \n",
    "# ダウンロードしたjsonファイル名を記入\n",
    "json_file = 'ダウンロードしたjsonファイル名'\n",
    "# スプレッドシートIDを記入\n",
    "sheet_id = 'スプレッドシートID'\n",
    "# スプレッドシートのシート名を記入\n",
    "sheet_name = 'スプレッドシートのシート名'\n",
    " \n",
    "credentials = ServiceAccountCredentials.from_json_keyfile_name(json_file, scope)\n",
    "gc = gspread.authorize(credentials)\n",
    "sp = gc.open_by_key(sheet_id)\n",
    "wks = sp.worksheet(sheet_name)\n",
    " \n"
   ]
  },
  {
   "cell_type": "code",
   "execution_count": 136,
   "metadata": {},
   "outputs": [
    {
     "name": "stdout",
     "output_type": "stream",
     "text": [
      "engine_no    int64\n",
      "result       int64\n",
      "dtype: object\n"
     ]
    }
   ],
   "source": [
    "#型を確認\n",
    "print(google_sp.dtypes)"
   ]
  },
  {
   "cell_type": "code",
   "execution_count": 137,
   "metadata": {},
   "outputs": [],
   "source": [
    "#jsonに出力できるタイプに変更\n",
    "google_sp=google_sp.astype(({\"engine_no\": object}))\n",
    "google_sp=google_sp.astype(({\"result\": object}))"
   ]
  },
  {
   "cell_type": "code",
   "execution_count": 138,
   "metadata": {},
   "outputs": [],
   "source": [
    "import pandas as pd\n",
    "import gspread\n",
    "import json\n",
    "from oauth2client.service_account import ServiceAccountCredentials \n",
    "\n",
    "# 2つのAPIを記述しないとリフレッシュトークンを3600秒毎に発行し続けなければならない\n",
    "scope = ['API','API']\n",
    "\n",
    "# 認証情報設定\n",
    "# ダウンロードしたjsonファイル名をクレデンシャル変数に設定（秘密鍵、Pythonファイルから読み込みしやすい位置に置く）\n",
    "credentials = ServiceAccountCredentials.from_json_keyfile_name('秘密鍵のJSON', scope)\n",
    "\n",
    "# OAuth2の資格情報を使用してGoogle APIにログインします。\n",
    "gc = gspread.authorize(credentials)\n",
    "\n",
    "#共有設定したスプレッドシートキーを変数[SPREADSHEET_KEY]に格納する。\n",
    "SPREADSHEET_KEY = 'スプレッドシートキー'\n",
    "\n",
    "#共有設定したスプレッドシートのワークシート1を開く\n",
    "worksheet = gc.open_by_key(SPREADSHEET_KEY).sheet1"
   ]
  },
  {
   "cell_type": "markdown",
   "metadata": {},
   "source": [
    "# 行と列が可変長のDataFrameを書き出す"
   ]
  },
  {
   "cell_type": "code",
   "execution_count": 140,
   "metadata": {},
   "outputs": [],
   "source": [
    "# 数字からアルファベットを返す関数\n",
    "# 例：26→Z、27→AA、10000→NTP\n",
    "def toAlpha(num):\n",
    "    if num<=26:\n",
    "        return chr(64+num)\n",
    "    elif num%26==0:\n",
    "        return toAlpha(num//26-1)+chr(90)\n",
    "    else:\n",
    "        return toAlpha(num//26)+chr(64+num%26)\n"
   ]
  },
  {
   "cell_type": "code",
   "execution_count": 141,
   "metadata": {},
   "outputs": [
    {
     "data": {
      "text/plain": [
       "{'spreadsheetId': '1aoWPywCi8tdFMVK2ytNxg00arlJa7WU3yn1IVJcye38',\n",
       " 'updatedRange': \"'予測結果'!A1:B357\",\n",
       " 'updatedRows': 357,\n",
       " 'updatedColumns': 2,\n",
       " 'updatedCells': 714}"
      ]
     },
     "execution_count": 141,
     "metadata": {},
     "output_type": "execute_result"
    }
   ],
   "source": [
    "# ヘッダーと中身をスプレッドシートに書き出す\n",
    "cell_list = worksheet.range('A1:'+toAlpha(col_lastnum)+str(row_lastnum+1))\n",
    "for cell in cell_list:\n",
    "    if cell.row == 1:\n",
    "        val = google_sp.columns[cell.col-1]\n",
    "    else:\n",
    "        val = google_sp.iloc[cell.row-2][cell.col-1]\n",
    "    cell.value = val\n",
    "worksheet.update_cells(cell_list)"
   ]
  },
  {
   "cell_type": "code",
   "execution_count": 142,
   "metadata": {},
   "outputs": [],
   "source": [
    "#参考サイト\n",
    "#https://tanuhack.com/gspread-dataframe/"
   ]
  }
 ],
 "metadata": {
  "kernelspec": {
   "display_name": "Python 3",
   "language": "python",
   "name": "python3"
  },
  "language_info": {
   "codemirror_mode": {
    "name": "ipython",
    "version": 3
   },
   "file_extension": ".py",
   "mimetype": "text/x-python",
   "name": "python",
   "nbconvert_exporter": "python",
   "pygments_lexer": "ipython3",
   "version": "3.7.3"
  }
 },
 "nbformat": 4,
 "nbformat_minor": 2
}
